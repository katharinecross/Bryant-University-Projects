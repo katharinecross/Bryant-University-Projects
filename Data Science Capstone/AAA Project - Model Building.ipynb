{
 "cells": [
  {
   "cell_type": "markdown",
   "id": "e5f28e98",
   "metadata": {},
   "source": [
    "# AAA Project -  Model Building (LR, SVM, MLP)\n",
    "### Katharine Cross"
   ]
  },
  {
   "cell_type": "code",
   "execution_count": 85,
   "id": "c58e22ac",
   "metadata": {},
   "outputs": [],
   "source": [
    "# Initial Imports \n",
    "\n",
    "import pandas as pd\n",
    "import seaborn as sns\n",
    "import numpy as np\n",
    "from numpy import median\n",
    "import matplotlib.pyplot as plt\n",
    "import joblib\n",
    "from sklearn.ensemble import RandomForestClassifier\n",
    "from sklearn.model_selection import GridSearchCV\n",
    "%matplotlib inline\n",
    "from sklearn.preprocessing import StandardScaler\n",
    "from sklearn.linear_model import LinearRegression\n",
    "from sklearn.linear_model import LogisticRegression\n",
    "from sklearn.model_selection import GridSearchCV\n",
    "from sklearn.ensemble import GradientBoostingClassifier\n",
    "import warnings\n",
    "warnings.filterwarnings('ignore', category=FutureWarning)\n",
    "warnings.filterwarnings('ignore', category=DeprecationWarning)\n",
    "from sklearn.svm import SVC\n",
    "from sklearn.neural_network import MLPClassifier\n",
    "from sklearn.metrics import accuracy_score, precision_score, recall_score\n",
    "from time import time\n",
    "%matplotlib inline"
   ]
  },
  {
   "cell_type": "code",
   "execution_count": 5,
   "id": "8256fbb9",
   "metadata": {},
   "outputs": [
    {
     "data": {
      "text/plain": [
       "LogisticRegression()"
      ]
     },
     "execution_count": 5,
     "metadata": {},
     "output_type": "execute_result"
    }
   ],
   "source": [
    "LogisticRegression()"
   ]
  },
  {
   "cell_type": "markdown",
   "id": "c9c9051d",
   "metadata": {},
   "source": [
    "### Step #1: Logistic Regression with Reduced Features"
   ]
  },
  {
   "cell_type": "code",
   "execution_count": 7,
   "id": "8c803417",
   "metadata": {},
   "outputs": [
    {
     "data": {
      "text/html": [
       "<div>\n",
       "<style scoped>\n",
       "    .dataframe tbody tr th:only-of-type {\n",
       "        vertical-align: middle;\n",
       "    }\n",
       "\n",
       "    .dataframe tbody tr th {\n",
       "        vertical-align: top;\n",
       "    }\n",
       "\n",
       "    .dataframe thead th {\n",
       "        text-align: right;\n",
       "    }\n",
       "</style>\n",
       "<table border=\"1\" class=\"dataframe\">\n",
       "  <thead>\n",
       "    <tr style=\"text-align: right;\">\n",
       "      <th></th>\n",
       "      <th>Average_Member_yrcost</th>\n",
       "      <th>age</th>\n",
       "      <th>count_clicks_or_opens</th>\n",
       "      <th>credit_ranges</th>\n",
       "      <th>member_tenure_years</th>\n",
       "      <th>numofoffers</th>\n",
       "      <th>children_No</th>\n",
       "      <th>children_Unknown</th>\n",
       "      <th>children_Yes</th>\n",
       "      <th>dwelling_type_Multi Family Dwelling/Apartment</th>\n",
       "      <th>...</th>\n",
       "      <th>occupation_group_Blue Collar</th>\n",
       "      <th>occupation_group_Management</th>\n",
       "      <th>occupation_group_Office Administration</th>\n",
       "      <th>occupation_group_Other</th>\n",
       "      <th>occupation_group_Professional</th>\n",
       "      <th>occupation_group_Retired</th>\n",
       "      <th>occupation_group_Sales</th>\n",
       "      <th>occupation_group_Technical</th>\n",
       "      <th>member_type_Associate</th>\n",
       "      <th>member_type_Primary</th>\n",
       "    </tr>\n",
       "  </thead>\n",
       "  <tbody>\n",
       "    <tr>\n",
       "      <th>0</th>\n",
       "      <td>2.070463</td>\n",
       "      <td>-0.140228</td>\n",
       "      <td>0.933098</td>\n",
       "      <td>-0.819378</td>\n",
       "      <td>0.255809</td>\n",
       "      <td>-0.954697</td>\n",
       "      <td>-0.493731</td>\n",
       "      <td>1.173376</td>\n",
       "      <td>-0.788333</td>\n",
       "      <td>-0.335266</td>\n",
       "      <td>...</td>\n",
       "      <td>-0.248957</td>\n",
       "      <td>-0.284569</td>\n",
       "      <td>-0.271847</td>\n",
       "      <td>0.974200</td>\n",
       "      <td>-0.361987</td>\n",
       "      <td>-0.34641</td>\n",
       "      <td>-0.187528</td>\n",
       "      <td>-0.169334</td>\n",
       "      <td>-0.442531</td>\n",
       "      <td>0.651397</td>\n",
       "    </tr>\n",
       "    <tr>\n",
       "      <th>1</th>\n",
       "      <td>-0.451257</td>\n",
       "      <td>-1.272421</td>\n",
       "      <td>1.007066</td>\n",
       "      <td>1.237428</td>\n",
       "      <td>-0.267665</td>\n",
       "      <td>-0.954697</td>\n",
       "      <td>-0.493731</td>\n",
       "      <td>-0.852242</td>\n",
       "      <td>1.268499</td>\n",
       "      <td>-0.335266</td>\n",
       "      <td>...</td>\n",
       "      <td>-0.248957</td>\n",
       "      <td>-0.284569</td>\n",
       "      <td>-0.271847</td>\n",
       "      <td>-1.026483</td>\n",
       "      <td>-0.361987</td>\n",
       "      <td>-0.34641</td>\n",
       "      <td>5.332532</td>\n",
       "      <td>-0.169334</td>\n",
       "      <td>-0.442531</td>\n",
       "      <td>-1.535163</td>\n",
       "    </tr>\n",
       "    <tr>\n",
       "      <th>2</th>\n",
       "      <td>-0.451257</td>\n",
       "      <td>-0.140228</td>\n",
       "      <td>0.156426</td>\n",
       "      <td>-0.819378</td>\n",
       "      <td>-0.965629</td>\n",
       "      <td>0.156857</td>\n",
       "      <td>-0.493731</td>\n",
       "      <td>1.173376</td>\n",
       "      <td>-0.788333</td>\n",
       "      <td>-0.335266</td>\n",
       "      <td>...</td>\n",
       "      <td>-0.248957</td>\n",
       "      <td>-0.284569</td>\n",
       "      <td>-0.271847</td>\n",
       "      <td>0.974200</td>\n",
       "      <td>-0.361987</td>\n",
       "      <td>-0.34641</td>\n",
       "      <td>-0.187528</td>\n",
       "      <td>-0.169334</td>\n",
       "      <td>-0.442531</td>\n",
       "      <td>0.651397</td>\n",
       "    </tr>\n",
       "    <tr>\n",
       "      <th>3</th>\n",
       "      <td>-0.451257</td>\n",
       "      <td>-0.140228</td>\n",
       "      <td>-0.379847</td>\n",
       "      <td>-0.819378</td>\n",
       "      <td>-0.267665</td>\n",
       "      <td>-0.954697</td>\n",
       "      <td>-0.493731</td>\n",
       "      <td>1.173376</td>\n",
       "      <td>-0.788333</td>\n",
       "      <td>-0.335266</td>\n",
       "      <td>...</td>\n",
       "      <td>-0.248957</td>\n",
       "      <td>-0.284569</td>\n",
       "      <td>-0.271847</td>\n",
       "      <td>0.974200</td>\n",
       "      <td>-0.361987</td>\n",
       "      <td>-0.34641</td>\n",
       "      <td>-0.187528</td>\n",
       "      <td>-0.169334</td>\n",
       "      <td>-0.442531</td>\n",
       "      <td>-1.535163</td>\n",
       "    </tr>\n",
       "    <tr>\n",
       "      <th>4</th>\n",
       "      <td>-0.451257</td>\n",
       "      <td>0.271478</td>\n",
       "      <td>-0.268894</td>\n",
       "      <td>1.237428</td>\n",
       "      <td>1.564492</td>\n",
       "      <td>-0.954697</td>\n",
       "      <td>-0.493731</td>\n",
       "      <td>-0.852242</td>\n",
       "      <td>1.268499</td>\n",
       "      <td>2.982709</td>\n",
       "      <td>...</td>\n",
       "      <td>-0.248957</td>\n",
       "      <td>-0.284569</td>\n",
       "      <td>-0.271847</td>\n",
       "      <td>0.974200</td>\n",
       "      <td>-0.361987</td>\n",
       "      <td>-0.34641</td>\n",
       "      <td>-0.187528</td>\n",
       "      <td>-0.169334</td>\n",
       "      <td>-0.442531</td>\n",
       "      <td>0.651397</td>\n",
       "    </tr>\n",
       "  </tbody>\n",
       "</table>\n",
       "<p>5 rows × 45 columns</p>\n",
       "</div>"
      ],
      "text/plain": [
       "   Average_Member_yrcost       age  count_clicks_or_opens  credit_ranges  \\\n",
       "0               2.070463 -0.140228               0.933098      -0.819378   \n",
       "1              -0.451257 -1.272421               1.007066       1.237428   \n",
       "2              -0.451257 -0.140228               0.156426      -0.819378   \n",
       "3              -0.451257 -0.140228              -0.379847      -0.819378   \n",
       "4              -0.451257  0.271478              -0.268894       1.237428   \n",
       "\n",
       "   member_tenure_years  numofoffers  children_No  children_Unknown  \\\n",
       "0             0.255809    -0.954697    -0.493731          1.173376   \n",
       "1            -0.267665    -0.954697    -0.493731         -0.852242   \n",
       "2            -0.965629     0.156857    -0.493731          1.173376   \n",
       "3            -0.267665    -0.954697    -0.493731          1.173376   \n",
       "4             1.564492    -0.954697    -0.493731         -0.852242   \n",
       "\n",
       "   children_Yes  dwelling_type_Multi Family Dwelling/Apartment  ...  \\\n",
       "0     -0.788333                                      -0.335266  ...   \n",
       "1      1.268499                                      -0.335266  ...   \n",
       "2     -0.788333                                      -0.335266  ...   \n",
       "3     -0.788333                                      -0.335266  ...   \n",
       "4      1.268499                                       2.982709  ...   \n",
       "\n",
       "   occupation_group_Blue Collar  occupation_group_Management  \\\n",
       "0                     -0.248957                    -0.284569   \n",
       "1                     -0.248957                    -0.284569   \n",
       "2                     -0.248957                    -0.284569   \n",
       "3                     -0.248957                    -0.284569   \n",
       "4                     -0.248957                    -0.284569   \n",
       "\n",
       "   occupation_group_Office Administration  occupation_group_Other  \\\n",
       "0                               -0.271847                0.974200   \n",
       "1                               -0.271847               -1.026483   \n",
       "2                               -0.271847                0.974200   \n",
       "3                               -0.271847                0.974200   \n",
       "4                               -0.271847                0.974200   \n",
       "\n",
       "   occupation_group_Professional  occupation_group_Retired  \\\n",
       "0                      -0.361987                  -0.34641   \n",
       "1                      -0.361987                  -0.34641   \n",
       "2                      -0.361987                  -0.34641   \n",
       "3                      -0.361987                  -0.34641   \n",
       "4                      -0.361987                  -0.34641   \n",
       "\n",
       "   occupation_group_Sales  occupation_group_Technical  member_type_Associate  \\\n",
       "0               -0.187528                   -0.169334              -0.442531   \n",
       "1                5.332532                   -0.169334              -0.442531   \n",
       "2               -0.187528                   -0.169334              -0.442531   \n",
       "3               -0.187528                   -0.169334              -0.442531   \n",
       "4               -0.187528                   -0.169334              -0.442531   \n",
       "\n",
       "   member_type_Primary  \n",
       "0             0.651397  \n",
       "1            -1.535163  \n",
       "2             0.651397  \n",
       "3            -1.535163  \n",
       "4             0.651397  \n",
       "\n",
       "[5 rows x 45 columns]"
      ]
     },
     "execution_count": 7,
     "metadata": {},
     "output_type": "execute_result"
    }
   ],
   "source": [
    "train_features_red = pd.read_csv('train_features_reduced.csv')\n",
    "train_labels = pd.read_csv('train_labels.csv')\n",
    "\n",
    "train_features_red.head()"
   ]
  },
  {
   "cell_type": "code",
   "execution_count": 11,
   "id": "d6b78cfb",
   "metadata": {},
   "outputs": [],
   "source": [
    "def print_results(results):\n",
    "    print('BEST PARAMS: {}\\n'.format(results.best_params_))\n",
    "\n",
    "    means = results.cv_results_['mean_test_score']\n",
    "    stds = results.cv_results_['std_test_score']\n",
    "    for mean, std, params in zip(means, stds, results.cv_results_['params']):\n",
    "        print('{} (+/-{}) for {}'.format(round(mean, 3), round(std * 2, 3), params))"
   ]
  },
  {
   "cell_type": "code",
   "execution_count": 12,
   "id": "0fd3dfd3",
   "metadata": {},
   "outputs": [
    {
     "name": "stdout",
     "output_type": "stream",
     "text": [
      "BEST PARAMS: {'C': 0.1}\n",
      "\n",
      "0.75 (+/-0.004) for {'C': 0.001}\n",
      "0.758 (+/-0.025) for {'C': 0.01}\n",
      "0.761 (+/-0.055) for {'C': 0.1}\n",
      "0.759 (+/-0.058) for {'C': 1}\n",
      "0.758 (+/-0.055) for {'C': 10}\n",
      "0.758 (+/-0.055) for {'C': 100}\n",
      "0.758 (+/-0.055) for {'C': 1000}\n"
     ]
    }
   ],
   "source": [
    "lr = LogisticRegression()\n",
    "parameters = {\n",
    "    'C': [0.001, 0.01, 0.1, 1, 10, 100, 1000]\n",
    "}\n",
    "\n",
    "cv = GridSearchCV(lr, parameters, cv=5)\n",
    "cv.fit(train_features_red, train_labels.values.ravel())\n",
    "\n",
    "print_results(cv)"
   ]
  },
  {
   "cell_type": "code",
   "execution_count": 13,
   "id": "466401b7",
   "metadata": {},
   "outputs": [
    {
     "data": {
      "text/plain": [
       "LogisticRegression(C=0.1)"
      ]
     },
     "execution_count": 13,
     "metadata": {},
     "output_type": "execute_result"
    }
   ],
   "source": [
    "cv.best_estimator_"
   ]
  },
  {
   "cell_type": "code",
   "execution_count": 17,
   "id": "57673d8b",
   "metadata": {},
   "outputs": [
    {
     "data": {
      "text/plain": [
       "['LR_model_red.pkl']"
      ]
     },
     "execution_count": 17,
     "metadata": {},
     "output_type": "execute_result"
    }
   ],
   "source": [
    "joblib.dump(cv.best_estimator_, 'LR_model_red.pkl')"
   ]
  },
  {
   "cell_type": "markdown",
   "id": "01b55a16",
   "metadata": {},
   "source": [
    "### Step #2: Logistic Regression with Categorical Features"
   ]
  },
  {
   "cell_type": "code",
   "execution_count": 18,
   "id": "4498e733",
   "metadata": {},
   "outputs": [
    {
     "data": {
      "text/html": [
       "<div>\n",
       "<style scoped>\n",
       "    .dataframe tbody tr th:only-of-type {\n",
       "        vertical-align: middle;\n",
       "    }\n",
       "\n",
       "    .dataframe tbody tr th {\n",
       "        vertical-align: top;\n",
       "    }\n",
       "\n",
       "    .dataframe thead th {\n",
       "        text-align: right;\n",
       "    }\n",
       "</style>\n",
       "<table border=\"1\" class=\"dataframe\">\n",
       "  <thead>\n",
       "    <tr style=\"text-align: right;\">\n",
       "      <th></th>\n",
       "      <th>children_No</th>\n",
       "      <th>children_Unknown</th>\n",
       "      <th>children_Yes</th>\n",
       "      <th>dwelling_type_Multi Family Dwelling/Apartment</th>\n",
       "      <th>dwelling_type_PO Box</th>\n",
       "      <th>dwelling_type_Single Family</th>\n",
       "      <th>dwelling_type_Unknown</th>\n",
       "      <th>education_Completed College</th>\n",
       "      <th>education_Graduate School</th>\n",
       "      <th>education_High School</th>\n",
       "      <th>...</th>\n",
       "      <th>occupation_group_Management</th>\n",
       "      <th>occupation_group_Office Administration</th>\n",
       "      <th>occupation_group_Other</th>\n",
       "      <th>occupation_group_Professional</th>\n",
       "      <th>occupation_group_Retired</th>\n",
       "      <th>occupation_group_Sales</th>\n",
       "      <th>occupation_group_Technical</th>\n",
       "      <th>member_type_Associate</th>\n",
       "      <th>member_type_Primary</th>\n",
       "      <th>member_type_Unknown</th>\n",
       "    </tr>\n",
       "  </thead>\n",
       "  <tbody>\n",
       "    <tr>\n",
       "      <th>0</th>\n",
       "      <td>-0.493731</td>\n",
       "      <td>1.173376</td>\n",
       "      <td>-0.788333</td>\n",
       "      <td>-0.335266</td>\n",
       "      <td>-0.139779</td>\n",
       "      <td>-0.921212</td>\n",
       "      <td>1.173376</td>\n",
       "      <td>-0.280976</td>\n",
       "      <td>-0.107022</td>\n",
       "      <td>-0.400959</td>\n",
       "      <td>...</td>\n",
       "      <td>-0.284569</td>\n",
       "      <td>-0.271847</td>\n",
       "      <td>0.974200</td>\n",
       "      <td>-0.361987</td>\n",
       "      <td>-0.34641</td>\n",
       "      <td>-0.187528</td>\n",
       "      <td>-0.169334</td>\n",
       "      <td>-0.442531</td>\n",
       "      <td>0.651397</td>\n",
       "      <td>-0.393611</td>\n",
       "    </tr>\n",
       "    <tr>\n",
       "      <th>1</th>\n",
       "      <td>-0.493731</td>\n",
       "      <td>-0.852242</td>\n",
       "      <td>1.268499</td>\n",
       "      <td>-0.335266</td>\n",
       "      <td>-0.139779</td>\n",
       "      <td>1.085527</td>\n",
       "      <td>-0.852242</td>\n",
       "      <td>-0.280976</td>\n",
       "      <td>-0.107022</td>\n",
       "      <td>-0.400959</td>\n",
       "      <td>...</td>\n",
       "      <td>-0.284569</td>\n",
       "      <td>-0.271847</td>\n",
       "      <td>-1.026483</td>\n",
       "      <td>-0.361987</td>\n",
       "      <td>-0.34641</td>\n",
       "      <td>5.332532</td>\n",
       "      <td>-0.169334</td>\n",
       "      <td>-0.442531</td>\n",
       "      <td>-1.535163</td>\n",
       "      <td>2.540580</td>\n",
       "    </tr>\n",
       "    <tr>\n",
       "      <th>2</th>\n",
       "      <td>-0.493731</td>\n",
       "      <td>1.173376</td>\n",
       "      <td>-0.788333</td>\n",
       "      <td>-0.335266</td>\n",
       "      <td>-0.139779</td>\n",
       "      <td>-0.921212</td>\n",
       "      <td>1.173376</td>\n",
       "      <td>-0.280976</td>\n",
       "      <td>-0.107022</td>\n",
       "      <td>-0.400959</td>\n",
       "      <td>...</td>\n",
       "      <td>-0.284569</td>\n",
       "      <td>-0.271847</td>\n",
       "      <td>0.974200</td>\n",
       "      <td>-0.361987</td>\n",
       "      <td>-0.34641</td>\n",
       "      <td>-0.187528</td>\n",
       "      <td>-0.169334</td>\n",
       "      <td>-0.442531</td>\n",
       "      <td>0.651397</td>\n",
       "      <td>-0.393611</td>\n",
       "    </tr>\n",
       "    <tr>\n",
       "      <th>3</th>\n",
       "      <td>-0.493731</td>\n",
       "      <td>1.173376</td>\n",
       "      <td>-0.788333</td>\n",
       "      <td>-0.335266</td>\n",
       "      <td>-0.139779</td>\n",
       "      <td>-0.921212</td>\n",
       "      <td>1.173376</td>\n",
       "      <td>-0.280976</td>\n",
       "      <td>-0.107022</td>\n",
       "      <td>-0.400959</td>\n",
       "      <td>...</td>\n",
       "      <td>-0.284569</td>\n",
       "      <td>-0.271847</td>\n",
       "      <td>0.974200</td>\n",
       "      <td>-0.361987</td>\n",
       "      <td>-0.34641</td>\n",
       "      <td>-0.187528</td>\n",
       "      <td>-0.169334</td>\n",
       "      <td>-0.442531</td>\n",
       "      <td>-1.535163</td>\n",
       "      <td>2.540580</td>\n",
       "    </tr>\n",
       "    <tr>\n",
       "      <th>4</th>\n",
       "      <td>-0.493731</td>\n",
       "      <td>-0.852242</td>\n",
       "      <td>1.268499</td>\n",
       "      <td>2.982709</td>\n",
       "      <td>-0.139779</td>\n",
       "      <td>-0.921212</td>\n",
       "      <td>-0.852242</td>\n",
       "      <td>3.559026</td>\n",
       "      <td>-0.107022</td>\n",
       "      <td>-0.400959</td>\n",
       "      <td>...</td>\n",
       "      <td>-0.284569</td>\n",
       "      <td>-0.271847</td>\n",
       "      <td>0.974200</td>\n",
       "      <td>-0.361987</td>\n",
       "      <td>-0.34641</td>\n",
       "      <td>-0.187528</td>\n",
       "      <td>-0.169334</td>\n",
       "      <td>-0.442531</td>\n",
       "      <td>0.651397</td>\n",
       "      <td>-0.393611</td>\n",
       "    </tr>\n",
       "  </tbody>\n",
       "</table>\n",
       "<p>5 rows × 80 columns</p>\n",
       "</div>"
      ],
      "text/plain": [
       "   children_No  children_Unknown  children_Yes  \\\n",
       "0    -0.493731          1.173376     -0.788333   \n",
       "1    -0.493731         -0.852242      1.268499   \n",
       "2    -0.493731          1.173376     -0.788333   \n",
       "3    -0.493731          1.173376     -0.788333   \n",
       "4    -0.493731         -0.852242      1.268499   \n",
       "\n",
       "   dwelling_type_Multi Family Dwelling/Apartment  dwelling_type_PO Box  \\\n",
       "0                                      -0.335266             -0.139779   \n",
       "1                                      -0.335266             -0.139779   \n",
       "2                                      -0.335266             -0.139779   \n",
       "3                                      -0.335266             -0.139779   \n",
       "4                                       2.982709             -0.139779   \n",
       "\n",
       "   dwelling_type_Single Family  dwelling_type_Unknown  \\\n",
       "0                    -0.921212               1.173376   \n",
       "1                     1.085527              -0.852242   \n",
       "2                    -0.921212               1.173376   \n",
       "3                    -0.921212               1.173376   \n",
       "4                    -0.921212              -0.852242   \n",
       "\n",
       "   education_Completed College  education_Graduate School  \\\n",
       "0                    -0.280976                  -0.107022   \n",
       "1                    -0.280976                  -0.107022   \n",
       "2                    -0.280976                  -0.107022   \n",
       "3                    -0.280976                  -0.107022   \n",
       "4                     3.559026                  -0.107022   \n",
       "\n",
       "   education_High School  ...  occupation_group_Management  \\\n",
       "0              -0.400959  ...                    -0.284569   \n",
       "1              -0.400959  ...                    -0.284569   \n",
       "2              -0.400959  ...                    -0.284569   \n",
       "3              -0.400959  ...                    -0.284569   \n",
       "4              -0.400959  ...                    -0.284569   \n",
       "\n",
       "   occupation_group_Office Administration  occupation_group_Other  \\\n",
       "0                               -0.271847                0.974200   \n",
       "1                               -0.271847               -1.026483   \n",
       "2                               -0.271847                0.974200   \n",
       "3                               -0.271847                0.974200   \n",
       "4                               -0.271847                0.974200   \n",
       "\n",
       "   occupation_group_Professional  occupation_group_Retired  \\\n",
       "0                      -0.361987                  -0.34641   \n",
       "1                      -0.361987                  -0.34641   \n",
       "2                      -0.361987                  -0.34641   \n",
       "3                      -0.361987                  -0.34641   \n",
       "4                      -0.361987                  -0.34641   \n",
       "\n",
       "   occupation_group_Sales  occupation_group_Technical  member_type_Associate  \\\n",
       "0               -0.187528                   -0.169334              -0.442531   \n",
       "1                5.332532                   -0.169334              -0.442531   \n",
       "2               -0.187528                   -0.169334              -0.442531   \n",
       "3               -0.187528                   -0.169334              -0.442531   \n",
       "4               -0.187528                   -0.169334              -0.442531   \n",
       "\n",
       "   member_type_Primary  member_type_Unknown  \n",
       "0             0.651397            -0.393611  \n",
       "1            -1.535163             2.540580  \n",
       "2             0.651397            -0.393611  \n",
       "3            -1.535163             2.540580  \n",
       "4             0.651397            -0.393611  \n",
       "\n",
       "[5 rows x 80 columns]"
      ]
     },
     "execution_count": 18,
     "metadata": {},
     "output_type": "execute_result"
    }
   ],
   "source": [
    "train_features_cat = pd.read_csv('train_features_cat.csv')\n",
    "train_labels = pd.read_csv('train_labels.csv')\n",
    "\n",
    "train_features_cat.head()"
   ]
  },
  {
   "cell_type": "code",
   "execution_count": 19,
   "id": "60b7ee60",
   "metadata": {},
   "outputs": [
    {
     "name": "stderr",
     "output_type": "stream",
     "text": [
      "C:\\Users\\student\\anaconda3\\lib\\site-packages\\sklearn\\linear_model\\_logistic.py:814: ConvergenceWarning: lbfgs failed to converge (status=1):\n",
      "STOP: TOTAL NO. of ITERATIONS REACHED LIMIT.\n",
      "\n",
      "Increase the number of iterations (max_iter) or scale the data as shown in:\n",
      "    https://scikit-learn.org/stable/modules/preprocessing.html\n",
      "Please also refer to the documentation for alternative solver options:\n",
      "    https://scikit-learn.org/stable/modules/linear_model.html#logistic-regression\n",
      "  n_iter_i = _check_optimize_result(\n"
     ]
    },
    {
     "name": "stdout",
     "output_type": "stream",
     "text": [
      "BEST PARAMS: {'C': 0.01}\n",
      "\n",
      "0.75 (+/-0.004) for {'C': 0.001}\n",
      "0.752 (+/-0.017) for {'C': 0.01}\n",
      "0.745 (+/-0.048) for {'C': 0.1}\n",
      "0.742 (+/-0.053) for {'C': 1}\n",
      "0.742 (+/-0.05) for {'C': 10}\n",
      "0.742 (+/-0.05) for {'C': 100}\n",
      "0.742 (+/-0.05) for {'C': 1000}\n"
     ]
    }
   ],
   "source": [
    "lr = LogisticRegression()\n",
    "parameters = {\n",
    "    'C': [0.001, 0.01, 0.1, 1, 10, 100, 1000]\n",
    "}\n",
    "\n",
    "cv = GridSearchCV(lr, parameters, cv=5)\n",
    "cv.fit(train_features_cat, train_labels.values.ravel())\n",
    "\n",
    "print_results(cv)"
   ]
  },
  {
   "cell_type": "code",
   "execution_count": 20,
   "id": "304a5235",
   "metadata": {},
   "outputs": [
    {
     "data": {
      "text/plain": [
       "LogisticRegression(C=0.01)"
      ]
     },
     "execution_count": 20,
     "metadata": {},
     "output_type": "execute_result"
    }
   ],
   "source": [
    "cv.best_estimator_"
   ]
  },
  {
   "cell_type": "code",
   "execution_count": 21,
   "id": "3bc2f184",
   "metadata": {},
   "outputs": [
    {
     "data": {
      "text/plain": [
       "['LR_model_cat.pkl']"
      ]
     },
     "execution_count": 21,
     "metadata": {},
     "output_type": "execute_result"
    }
   ],
   "source": [
    "joblib.dump(cv.best_estimator_, 'LR_model_cat.pkl')"
   ]
  },
  {
   "cell_type": "markdown",
   "id": "644e7786",
   "metadata": {},
   "source": [
    "### Step #3: Logistic Regression with Numerical Features"
   ]
  },
  {
   "cell_type": "code",
   "execution_count": 23,
   "id": "21b4c743",
   "metadata": {},
   "outputs": [
    {
     "data": {
      "text/html": [
       "<div>\n",
       "<style scoped>\n",
       "    .dataframe tbody tr th:only-of-type {\n",
       "        vertical-align: middle;\n",
       "    }\n",
       "\n",
       "    .dataframe tbody tr th {\n",
       "        vertical-align: top;\n",
       "    }\n",
       "\n",
       "    .dataframe thead th {\n",
       "        text-align: right;\n",
       "    }\n",
       "</style>\n",
       "<table border=\"1\" class=\"dataframe\">\n",
       "  <thead>\n",
       "    <tr style=\"text-align: right;\">\n",
       "      <th></th>\n",
       "      <th>Average_Member_yrcost</th>\n",
       "      <th>age</th>\n",
       "      <th>count_clicks_or_opens</th>\n",
       "      <th>credit_ranges</th>\n",
       "      <th>member_tenure_years</th>\n",
       "      <th>numofoffers</th>\n",
       "    </tr>\n",
       "  </thead>\n",
       "  <tbody>\n",
       "    <tr>\n",
       "      <th>0</th>\n",
       "      <td>2.070463</td>\n",
       "      <td>-0.140228</td>\n",
       "      <td>0.933098</td>\n",
       "      <td>-0.819378</td>\n",
       "      <td>0.255809</td>\n",
       "      <td>-0.954697</td>\n",
       "    </tr>\n",
       "    <tr>\n",
       "      <th>1</th>\n",
       "      <td>-0.451257</td>\n",
       "      <td>-1.272421</td>\n",
       "      <td>1.007066</td>\n",
       "      <td>1.237428</td>\n",
       "      <td>-0.267665</td>\n",
       "      <td>-0.954697</td>\n",
       "    </tr>\n",
       "    <tr>\n",
       "      <th>2</th>\n",
       "      <td>-0.451257</td>\n",
       "      <td>-0.140228</td>\n",
       "      <td>0.156426</td>\n",
       "      <td>-0.819378</td>\n",
       "      <td>-0.965629</td>\n",
       "      <td>0.156857</td>\n",
       "    </tr>\n",
       "    <tr>\n",
       "      <th>3</th>\n",
       "      <td>-0.451257</td>\n",
       "      <td>-0.140228</td>\n",
       "      <td>-0.379847</td>\n",
       "      <td>-0.819378</td>\n",
       "      <td>-0.267665</td>\n",
       "      <td>-0.954697</td>\n",
       "    </tr>\n",
       "    <tr>\n",
       "      <th>4</th>\n",
       "      <td>-0.451257</td>\n",
       "      <td>0.271478</td>\n",
       "      <td>-0.268894</td>\n",
       "      <td>1.237428</td>\n",
       "      <td>1.564492</td>\n",
       "      <td>-0.954697</td>\n",
       "    </tr>\n",
       "  </tbody>\n",
       "</table>\n",
       "</div>"
      ],
      "text/plain": [
       "   Average_Member_yrcost       age  count_clicks_or_opens  credit_ranges  \\\n",
       "0               2.070463 -0.140228               0.933098      -0.819378   \n",
       "1              -0.451257 -1.272421               1.007066       1.237428   \n",
       "2              -0.451257 -0.140228               0.156426      -0.819378   \n",
       "3              -0.451257 -0.140228              -0.379847      -0.819378   \n",
       "4              -0.451257  0.271478              -0.268894       1.237428   \n",
       "\n",
       "   member_tenure_years  numofoffers  \n",
       "0             0.255809    -0.954697  \n",
       "1            -0.267665    -0.954697  \n",
       "2            -0.965629     0.156857  \n",
       "3            -0.267665    -0.954697  \n",
       "4             1.564492    -0.954697  "
      ]
     },
     "execution_count": 23,
     "metadata": {},
     "output_type": "execute_result"
    }
   ],
   "source": [
    "train_features_num = pd.read_csv('train_features_num.csv')\n",
    "train_labels = pd.read_csv('train_labels.csv')\n",
    "\n",
    "train_features_num.head()"
   ]
  },
  {
   "cell_type": "code",
   "execution_count": 28,
   "id": "1199118e",
   "metadata": {},
   "outputs": [
    {
     "name": "stdout",
     "output_type": "stream",
     "text": [
      "BEST PARAMS: {'C': 1}\n",
      "\n",
      "0.75 (+/-0.004) for {'C': 0.001}\n",
      "0.752 (+/-0.01) for {'C': 0.01}\n",
      "0.754 (+/-0.028) for {'C': 0.1}\n",
      "0.757 (+/-0.026) for {'C': 1}\n",
      "0.756 (+/-0.029) for {'C': 10}\n",
      "0.756 (+/-0.029) for {'C': 100}\n",
      "0.756 (+/-0.029) for {'C': 1000}\n"
     ]
    }
   ],
   "source": [
    "lr = LogisticRegression()\n",
    "parameters = {\n",
    "    'C': [0.001, 0.01, 0.1, 1, 10, 100, 1000]\n",
    "}\n",
    "\n",
    "cv = GridSearchCV(lr, parameters, cv=5)\n",
    "cv.fit(train_features_num, train_labels.values.ravel())\n",
    "\n",
    "print_results(cv)"
   ]
  },
  {
   "cell_type": "code",
   "execution_count": 25,
   "id": "1602c7ce",
   "metadata": {},
   "outputs": [
    {
     "data": {
      "text/plain": [
       "LogisticRegression(C=1)"
      ]
     },
     "execution_count": 25,
     "metadata": {},
     "output_type": "execute_result"
    }
   ],
   "source": [
    "cv.best_estimator_"
   ]
  },
  {
   "cell_type": "code",
   "execution_count": 26,
   "id": "41aa9b1d",
   "metadata": {},
   "outputs": [
    {
     "data": {
      "text/plain": [
       "['LR_model_num.pkl']"
      ]
     },
     "execution_count": 26,
     "metadata": {},
     "output_type": "execute_result"
    }
   ],
   "source": [
    "joblib.dump(cv.best_estimator_, 'LR_model_num.pkl')"
   ]
  },
  {
   "cell_type": "markdown",
   "id": "8a2824c7",
   "metadata": {},
   "source": [
    "### Step #4: Logistic Regression with All Features"
   ]
  },
  {
   "cell_type": "code",
   "execution_count": 27,
   "id": "ab31165c",
   "metadata": {},
   "outputs": [
    {
     "data": {
      "text/html": [
       "<div>\n",
       "<style scoped>\n",
       "    .dataframe tbody tr th:only-of-type {\n",
       "        vertical-align: middle;\n",
       "    }\n",
       "\n",
       "    .dataframe tbody tr th {\n",
       "        vertical-align: top;\n",
       "    }\n",
       "\n",
       "    .dataframe thead th {\n",
       "        text-align: right;\n",
       "    }\n",
       "</style>\n",
       "<table border=\"1\" class=\"dataframe\">\n",
       "  <thead>\n",
       "    <tr style=\"text-align: right;\">\n",
       "      <th></th>\n",
       "      <th>Average_Member_yrcost</th>\n",
       "      <th>age</th>\n",
       "      <th>count_clicks_or_opens</th>\n",
       "      <th>credit_ranges</th>\n",
       "      <th>member_tenure_years</th>\n",
       "      <th>numofoffers</th>\n",
       "      <th>children_No</th>\n",
       "      <th>children_Unknown</th>\n",
       "      <th>children_Yes</th>\n",
       "      <th>dwelling_type_Multi Family Dwelling/Apartment</th>\n",
       "      <th>...</th>\n",
       "      <th>occupation_group_Management</th>\n",
       "      <th>occupation_group_Office Administration</th>\n",
       "      <th>occupation_group_Other</th>\n",
       "      <th>occupation_group_Professional</th>\n",
       "      <th>occupation_group_Retired</th>\n",
       "      <th>occupation_group_Sales</th>\n",
       "      <th>occupation_group_Technical</th>\n",
       "      <th>member_type_Associate</th>\n",
       "      <th>member_type_Primary</th>\n",
       "      <th>member_type_Unknown</th>\n",
       "    </tr>\n",
       "  </thead>\n",
       "  <tbody>\n",
       "    <tr>\n",
       "      <th>0</th>\n",
       "      <td>2.070463</td>\n",
       "      <td>-0.140228</td>\n",
       "      <td>0.933098</td>\n",
       "      <td>-0.819378</td>\n",
       "      <td>0.255809</td>\n",
       "      <td>-0.954697</td>\n",
       "      <td>-0.493731</td>\n",
       "      <td>1.173376</td>\n",
       "      <td>-0.788333</td>\n",
       "      <td>-0.335266</td>\n",
       "      <td>...</td>\n",
       "      <td>-0.284569</td>\n",
       "      <td>-0.271847</td>\n",
       "      <td>0.974200</td>\n",
       "      <td>-0.361987</td>\n",
       "      <td>-0.34641</td>\n",
       "      <td>-0.187528</td>\n",
       "      <td>-0.169334</td>\n",
       "      <td>-0.442531</td>\n",
       "      <td>0.651397</td>\n",
       "      <td>-0.393611</td>\n",
       "    </tr>\n",
       "    <tr>\n",
       "      <th>1</th>\n",
       "      <td>-0.451257</td>\n",
       "      <td>-1.272421</td>\n",
       "      <td>1.007066</td>\n",
       "      <td>1.237428</td>\n",
       "      <td>-0.267665</td>\n",
       "      <td>-0.954697</td>\n",
       "      <td>-0.493731</td>\n",
       "      <td>-0.852242</td>\n",
       "      <td>1.268499</td>\n",
       "      <td>-0.335266</td>\n",
       "      <td>...</td>\n",
       "      <td>-0.284569</td>\n",
       "      <td>-0.271847</td>\n",
       "      <td>-1.026483</td>\n",
       "      <td>-0.361987</td>\n",
       "      <td>-0.34641</td>\n",
       "      <td>5.332532</td>\n",
       "      <td>-0.169334</td>\n",
       "      <td>-0.442531</td>\n",
       "      <td>-1.535163</td>\n",
       "      <td>2.540580</td>\n",
       "    </tr>\n",
       "    <tr>\n",
       "      <th>2</th>\n",
       "      <td>-0.451257</td>\n",
       "      <td>-0.140228</td>\n",
       "      <td>0.156426</td>\n",
       "      <td>-0.819378</td>\n",
       "      <td>-0.965629</td>\n",
       "      <td>0.156857</td>\n",
       "      <td>-0.493731</td>\n",
       "      <td>1.173376</td>\n",
       "      <td>-0.788333</td>\n",
       "      <td>-0.335266</td>\n",
       "      <td>...</td>\n",
       "      <td>-0.284569</td>\n",
       "      <td>-0.271847</td>\n",
       "      <td>0.974200</td>\n",
       "      <td>-0.361987</td>\n",
       "      <td>-0.34641</td>\n",
       "      <td>-0.187528</td>\n",
       "      <td>-0.169334</td>\n",
       "      <td>-0.442531</td>\n",
       "      <td>0.651397</td>\n",
       "      <td>-0.393611</td>\n",
       "    </tr>\n",
       "    <tr>\n",
       "      <th>3</th>\n",
       "      <td>-0.451257</td>\n",
       "      <td>-0.140228</td>\n",
       "      <td>-0.379847</td>\n",
       "      <td>-0.819378</td>\n",
       "      <td>-0.267665</td>\n",
       "      <td>-0.954697</td>\n",
       "      <td>-0.493731</td>\n",
       "      <td>1.173376</td>\n",
       "      <td>-0.788333</td>\n",
       "      <td>-0.335266</td>\n",
       "      <td>...</td>\n",
       "      <td>-0.284569</td>\n",
       "      <td>-0.271847</td>\n",
       "      <td>0.974200</td>\n",
       "      <td>-0.361987</td>\n",
       "      <td>-0.34641</td>\n",
       "      <td>-0.187528</td>\n",
       "      <td>-0.169334</td>\n",
       "      <td>-0.442531</td>\n",
       "      <td>-1.535163</td>\n",
       "      <td>2.540580</td>\n",
       "    </tr>\n",
       "    <tr>\n",
       "      <th>4</th>\n",
       "      <td>-0.451257</td>\n",
       "      <td>0.271478</td>\n",
       "      <td>-0.268894</td>\n",
       "      <td>1.237428</td>\n",
       "      <td>1.564492</td>\n",
       "      <td>-0.954697</td>\n",
       "      <td>-0.493731</td>\n",
       "      <td>-0.852242</td>\n",
       "      <td>1.268499</td>\n",
       "      <td>2.982709</td>\n",
       "      <td>...</td>\n",
       "      <td>-0.284569</td>\n",
       "      <td>-0.271847</td>\n",
       "      <td>0.974200</td>\n",
       "      <td>-0.361987</td>\n",
       "      <td>-0.34641</td>\n",
       "      <td>-0.187528</td>\n",
       "      <td>-0.169334</td>\n",
       "      <td>-0.442531</td>\n",
       "      <td>0.651397</td>\n",
       "      <td>-0.393611</td>\n",
       "    </tr>\n",
       "  </tbody>\n",
       "</table>\n",
       "<p>5 rows × 86 columns</p>\n",
       "</div>"
      ],
      "text/plain": [
       "   Average_Member_yrcost       age  count_clicks_or_opens  credit_ranges  \\\n",
       "0               2.070463 -0.140228               0.933098      -0.819378   \n",
       "1              -0.451257 -1.272421               1.007066       1.237428   \n",
       "2              -0.451257 -0.140228               0.156426      -0.819378   \n",
       "3              -0.451257 -0.140228              -0.379847      -0.819378   \n",
       "4              -0.451257  0.271478              -0.268894       1.237428   \n",
       "\n",
       "   member_tenure_years  numofoffers  children_No  children_Unknown  \\\n",
       "0             0.255809    -0.954697    -0.493731          1.173376   \n",
       "1            -0.267665    -0.954697    -0.493731         -0.852242   \n",
       "2            -0.965629     0.156857    -0.493731          1.173376   \n",
       "3            -0.267665    -0.954697    -0.493731          1.173376   \n",
       "4             1.564492    -0.954697    -0.493731         -0.852242   \n",
       "\n",
       "   children_Yes  dwelling_type_Multi Family Dwelling/Apartment  ...  \\\n",
       "0     -0.788333                                      -0.335266  ...   \n",
       "1      1.268499                                      -0.335266  ...   \n",
       "2     -0.788333                                      -0.335266  ...   \n",
       "3     -0.788333                                      -0.335266  ...   \n",
       "4      1.268499                                       2.982709  ...   \n",
       "\n",
       "   occupation_group_Management  occupation_group_Office Administration  \\\n",
       "0                    -0.284569                               -0.271847   \n",
       "1                    -0.284569                               -0.271847   \n",
       "2                    -0.284569                               -0.271847   \n",
       "3                    -0.284569                               -0.271847   \n",
       "4                    -0.284569                               -0.271847   \n",
       "\n",
       "   occupation_group_Other  occupation_group_Professional  \\\n",
       "0                0.974200                      -0.361987   \n",
       "1               -1.026483                      -0.361987   \n",
       "2                0.974200                      -0.361987   \n",
       "3                0.974200                      -0.361987   \n",
       "4                0.974200                      -0.361987   \n",
       "\n",
       "   occupation_group_Retired  occupation_group_Sales  \\\n",
       "0                  -0.34641               -0.187528   \n",
       "1                  -0.34641                5.332532   \n",
       "2                  -0.34641               -0.187528   \n",
       "3                  -0.34641               -0.187528   \n",
       "4                  -0.34641               -0.187528   \n",
       "\n",
       "   occupation_group_Technical  member_type_Associate  member_type_Primary  \\\n",
       "0                   -0.169334              -0.442531             0.651397   \n",
       "1                   -0.169334              -0.442531            -1.535163   \n",
       "2                   -0.169334              -0.442531             0.651397   \n",
       "3                   -0.169334              -0.442531            -1.535163   \n",
       "4                   -0.169334              -0.442531             0.651397   \n",
       "\n",
       "   member_type_Unknown  \n",
       "0            -0.393611  \n",
       "1             2.540580  \n",
       "2            -0.393611  \n",
       "3             2.540580  \n",
       "4            -0.393611  \n",
       "\n",
       "[5 rows x 86 columns]"
      ]
     },
     "execution_count": 27,
     "metadata": {},
     "output_type": "execute_result"
    }
   ],
   "source": [
    "train_features_all = pd.read_csv('train_features_all.csv')\n",
    "train_labels = pd.read_csv('train_labels.csv')\n",
    "\n",
    "train_features_all.head()"
   ]
  },
  {
   "cell_type": "code",
   "execution_count": 29,
   "id": "9a107fdd",
   "metadata": {},
   "outputs": [
    {
     "name": "stderr",
     "output_type": "stream",
     "text": [
      "C:\\Users\\student\\anaconda3\\lib\\site-packages\\sklearn\\linear_model\\_logistic.py:814: ConvergenceWarning: lbfgs failed to converge (status=1):\n",
      "STOP: TOTAL NO. of ITERATIONS REACHED LIMIT.\n",
      "\n",
      "Increase the number of iterations (max_iter) or scale the data as shown in:\n",
      "    https://scikit-learn.org/stable/modules/preprocessing.html\n",
      "Please also refer to the documentation for alternative solver options:\n",
      "    https://scikit-learn.org/stable/modules/linear_model.html#logistic-regression\n",
      "  n_iter_i = _check_optimize_result(\n"
     ]
    },
    {
     "name": "stdout",
     "output_type": "stream",
     "text": [
      "BEST PARAMS: {'C': 0.01}\n",
      "\n",
      "0.75 (+/-0.004) for {'C': 0.001}\n",
      "0.762 (+/-0.01) for {'C': 0.01}\n",
      "0.759 (+/-0.036) for {'C': 0.1}\n",
      "0.754 (+/-0.058) for {'C': 1}\n",
      "0.755 (+/-0.06) for {'C': 10}\n",
      "0.755 (+/-0.06) for {'C': 100}\n",
      "0.755 (+/-0.06) for {'C': 1000}\n"
     ]
    }
   ],
   "source": [
    "lr = LogisticRegression()\n",
    "parameters = {\n",
    "    'C': [0.001, 0.01, 0.1, 1, 10, 100, 1000]\n",
    "}\n",
    "\n",
    "cv = GridSearchCV(lr, parameters, cv=5)\n",
    "cv.fit(train_features_all, train_labels.values.ravel())\n",
    "\n",
    "print_results(cv)"
   ]
  },
  {
   "cell_type": "code",
   "execution_count": 30,
   "id": "7de84702",
   "metadata": {},
   "outputs": [
    {
     "data": {
      "text/plain": [
       "LogisticRegression(C=0.01)"
      ]
     },
     "execution_count": 30,
     "metadata": {},
     "output_type": "execute_result"
    }
   ],
   "source": [
    "cv.best_estimator_"
   ]
  },
  {
   "cell_type": "code",
   "execution_count": 31,
   "id": "e64f3827",
   "metadata": {},
   "outputs": [
    {
     "data": {
      "text/plain": [
       "['LR_model_all.pkl']"
      ]
     },
     "execution_count": 31,
     "metadata": {},
     "output_type": "execute_result"
    }
   ],
   "source": [
    "joblib.dump(cv.best_estimator_, 'LR_model_all.pkl')"
   ]
  },
  {
   "cell_type": "markdown",
   "id": "526ff25f",
   "metadata": {},
   "source": [
    "### Step #5: Support Vector Machine with Reduced Features"
   ]
  },
  {
   "cell_type": "code",
   "execution_count": 34,
   "id": "041a16b4",
   "metadata": {},
   "outputs": [
    {
     "data": {
      "text/plain": [
       "SVC()"
      ]
     },
     "execution_count": 34,
     "metadata": {},
     "output_type": "execute_result"
    }
   ],
   "source": [
    "SVC()"
   ]
  },
  {
   "cell_type": "code",
   "execution_count": 35,
   "id": "4d4a1f8d",
   "metadata": {},
   "outputs": [
    {
     "name": "stdout",
     "output_type": "stream",
     "text": [
      "BEST PARAMS: {'C': 0.1, 'kernel': 'rbf'}\n",
      "\n",
      "0.747 (+/-0.007) for {'C': 0.1, 'kernel': 'linear'}\n",
      "0.75 (+/-0.004) for {'C': 0.1, 'kernel': 'rbf'}\n",
      "0.747 (+/-0.007) for {'C': 1, 'kernel': 'linear'}\n",
      "0.749 (+/-0.008) for {'C': 1, 'kernel': 'rbf'}\n",
      "0.747 (+/-0.007) for {'C': 10, 'kernel': 'linear'}\n",
      "0.699 (+/-0.076) for {'C': 10, 'kernel': 'rbf'}\n"
     ]
    }
   ],
   "source": [
    "svc = SVC()\n",
    "parameters = {\n",
    "    'kernel': ['linear', 'rbf'],\n",
    "    'C': [0.1, 1, 10]\n",
    "}\n",
    "\n",
    "cv = GridSearchCV(svc, parameters, cv=5)\n",
    "cv.fit(train_features_red, train_labels.values.ravel())\n",
    "\n",
    "print_results(cv)"
   ]
  },
  {
   "cell_type": "code",
   "execution_count": 36,
   "id": "73dfed13",
   "metadata": {},
   "outputs": [
    {
     "data": {
      "text/plain": [
       "SVC(C=0.1)"
      ]
     },
     "execution_count": 36,
     "metadata": {},
     "output_type": "execute_result"
    }
   ],
   "source": [
    "cv.best_estimator_"
   ]
  },
  {
   "cell_type": "code",
   "execution_count": 37,
   "id": "da78c7e4",
   "metadata": {},
   "outputs": [
    {
     "data": {
      "text/plain": [
       "['SVM_model_red.pkl']"
      ]
     },
     "execution_count": 37,
     "metadata": {},
     "output_type": "execute_result"
    }
   ],
   "source": [
    "joblib.dump(cv.best_estimator_, 'SVM_model_red.pkl')"
   ]
  },
  {
   "cell_type": "markdown",
   "id": "7f6b01cc",
   "metadata": {},
   "source": [
    "### Step #6: Support Vector Machine with Categorical Features"
   ]
  },
  {
   "cell_type": "code",
   "execution_count": 38,
   "id": "84d4e502",
   "metadata": {},
   "outputs": [
    {
     "name": "stdout",
     "output_type": "stream",
     "text": [
      "BEST PARAMS: {'C': 0.1, 'kernel': 'rbf'}\n",
      "\n",
      "0.746 (+/-0.017) for {'C': 0.1, 'kernel': 'linear'}\n",
      "0.75 (+/-0.004) for {'C': 0.1, 'kernel': 'rbf'}\n",
      "0.746 (+/-0.017) for {'C': 1, 'kernel': 'linear'}\n",
      "0.748 (+/-0.008) for {'C': 1, 'kernel': 'rbf'}\n",
      "0.746 (+/-0.017) for {'C': 10, 'kernel': 'linear'}\n",
      "0.697 (+/-0.048) for {'C': 10, 'kernel': 'rbf'}\n"
     ]
    }
   ],
   "source": [
    "svc = SVC()\n",
    "parameters = {\n",
    "    'kernel': ['linear', 'rbf'],\n",
    "    'C': [0.1, 1, 10]\n",
    "}\n",
    "\n",
    "cv = GridSearchCV(svc, parameters, cv=5)\n",
    "cv.fit(train_features_cat, train_labels.values.ravel())\n",
    "\n",
    "print_results(cv)"
   ]
  },
  {
   "cell_type": "code",
   "execution_count": 39,
   "id": "42448b27",
   "metadata": {},
   "outputs": [
    {
     "data": {
      "text/plain": [
       "SVC(C=0.1)"
      ]
     },
     "execution_count": 39,
     "metadata": {},
     "output_type": "execute_result"
    }
   ],
   "source": [
    "cv.best_estimator_"
   ]
  },
  {
   "cell_type": "code",
   "execution_count": 40,
   "id": "c12dc2e4",
   "metadata": {},
   "outputs": [
    {
     "data": {
      "text/plain": [
       "['SVM_model_cat.pkl']"
      ]
     },
     "execution_count": 40,
     "metadata": {},
     "output_type": "execute_result"
    }
   ],
   "source": [
    "joblib.dump(cv.best_estimator_, 'SVM_model_cat.pkl')"
   ]
  },
  {
   "cell_type": "markdown",
   "id": "dd8e8ae5",
   "metadata": {},
   "source": [
    "### Step #7: Support Vector Machine with Numerical Features"
   ]
  },
  {
   "cell_type": "code",
   "execution_count": 44,
   "id": "09727c63",
   "metadata": {},
   "outputs": [
    {
     "name": "stdout",
     "output_type": "stream",
     "text": [
      "BEST PARAMS: {'C': 10, 'kernel': 'rbf'}\n",
      "\n",
      "0.75 (+/-0.004) for {'C': 0.1, 'kernel': 'linear'}\n",
      "0.75 (+/-0.004) for {'C': 0.1, 'kernel': 'rbf'}\n",
      "0.75 (+/-0.004) for {'C': 1, 'kernel': 'linear'}\n",
      "0.75 (+/-0.009) for {'C': 1, 'kernel': 'rbf'}\n",
      "0.75 (+/-0.004) for {'C': 10, 'kernel': 'linear'}\n",
      "0.751 (+/-0.031) for {'C': 10, 'kernel': 'rbf'}\n"
     ]
    }
   ],
   "source": [
    "svc = SVC()\n",
    "parameters = {\n",
    "    'kernel': ['linear', 'rbf'],\n",
    "    'C': [0.1, 1, 10]\n",
    "}\n",
    "\n",
    "cv = GridSearchCV(svc, parameters, cv=5)\n",
    "cv.fit(train_features_num, train_labels.values.ravel())\n",
    "\n",
    "print_results(cv)"
   ]
  },
  {
   "cell_type": "code",
   "execution_count": 42,
   "id": "15a88c8e",
   "metadata": {},
   "outputs": [
    {
     "data": {
      "text/plain": [
       "SVC(C=10)"
      ]
     },
     "execution_count": 42,
     "metadata": {},
     "output_type": "execute_result"
    }
   ],
   "source": [
    "cv.best_estimator_"
   ]
  },
  {
   "cell_type": "code",
   "execution_count": 43,
   "id": "4bf16e4c",
   "metadata": {},
   "outputs": [
    {
     "data": {
      "text/plain": [
       "['SVM_model_num.pkl']"
      ]
     },
     "execution_count": 43,
     "metadata": {},
     "output_type": "execute_result"
    }
   ],
   "source": [
    "joblib.dump(cv.best_estimator_, 'SVM_model_num.pkl')"
   ]
  },
  {
   "cell_type": "markdown",
   "id": "6ea17ac1",
   "metadata": {},
   "source": [
    "### Step #8: Support Vector Machine with All Features"
   ]
  },
  {
   "cell_type": "code",
   "execution_count": 45,
   "id": "65751ca3",
   "metadata": {},
   "outputs": [
    {
     "name": "stdout",
     "output_type": "stream",
     "text": [
      "BEST PARAMS: {'C': 10, 'kernel': 'linear'}\n",
      "\n",
      "0.758 (+/-0.027) for {'C': 0.1, 'kernel': 'linear'}\n",
      "0.75 (+/-0.004) for {'C': 0.1, 'kernel': 'rbf'}\n",
      "0.76 (+/-0.029) for {'C': 1, 'kernel': 'linear'}\n",
      "0.75 (+/-0.006) for {'C': 1, 'kernel': 'rbf'}\n",
      "0.763 (+/-0.026) for {'C': 10, 'kernel': 'linear'}\n",
      "0.707 (+/-0.048) for {'C': 10, 'kernel': 'rbf'}\n"
     ]
    }
   ],
   "source": [
    "svc = SVC()\n",
    "parameters = {\n",
    "    'kernel': ['linear', 'rbf'],\n",
    "    'C': [0.1, 1, 10]\n",
    "}\n",
    "\n",
    "cv = GridSearchCV(svc, parameters, cv=5)\n",
    "cv.fit(train_features_all, train_labels.values.ravel())\n",
    "\n",
    "print_results(cv)"
   ]
  },
  {
   "cell_type": "code",
   "execution_count": 46,
   "id": "4cb4ede2",
   "metadata": {},
   "outputs": [
    {
     "data": {
      "text/plain": [
       "SVC(C=10, kernel='linear')"
      ]
     },
     "execution_count": 46,
     "metadata": {},
     "output_type": "execute_result"
    }
   ],
   "source": [
    "cv.best_estimator_"
   ]
  },
  {
   "cell_type": "code",
   "execution_count": 47,
   "id": "450be1df",
   "metadata": {},
   "outputs": [
    {
     "data": {
      "text/plain": [
       "['SVM_model_all.pkl']"
      ]
     },
     "execution_count": 47,
     "metadata": {},
     "output_type": "execute_result"
    }
   ],
   "source": [
    "joblib.dump(cv.best_estimator_, 'SVM_model_all.pkl')"
   ]
  },
  {
   "cell_type": "markdown",
   "id": "77ac802a",
   "metadata": {},
   "source": [
    "### Step #9: Multi-Layer Perceptron with Reduced Features"
   ]
  },
  {
   "cell_type": "code",
   "execution_count": 49,
   "id": "2c7dc7c2",
   "metadata": {},
   "outputs": [
    {
     "name": "stderr",
     "output_type": "stream",
     "text": [
      "C:\\Users\\student\\anaconda3\\lib\\site-packages\\sklearn\\neural_network\\_multilayer_perceptron.py:692: ConvergenceWarning: Stochastic Optimizer: Maximum iterations (200) reached and the optimization hasn't converged yet.\n",
      "  warnings.warn(\n",
      "C:\\Users\\student\\anaconda3\\lib\\site-packages\\sklearn\\neural_network\\_multilayer_perceptron.py:692: ConvergenceWarning: Stochastic Optimizer: Maximum iterations (200) reached and the optimization hasn't converged yet.\n",
      "  warnings.warn(\n",
      "C:\\Users\\student\\anaconda3\\lib\\site-packages\\sklearn\\neural_network\\_multilayer_perceptron.py:692: ConvergenceWarning: Stochastic Optimizer: Maximum iterations (200) reached and the optimization hasn't converged yet.\n",
      "  warnings.warn(\n",
      "C:\\Users\\student\\anaconda3\\lib\\site-packages\\sklearn\\neural_network\\_multilayer_perceptron.py:692: ConvergenceWarning: Stochastic Optimizer: Maximum iterations (200) reached and the optimization hasn't converged yet.\n",
      "  warnings.warn(\n",
      "C:\\Users\\student\\anaconda3\\lib\\site-packages\\sklearn\\neural_network\\_multilayer_perceptron.py:692: ConvergenceWarning: Stochastic Optimizer: Maximum iterations (200) reached and the optimization hasn't converged yet.\n",
      "  warnings.warn(\n",
      "C:\\Users\\student\\anaconda3\\lib\\site-packages\\sklearn\\neural_network\\_multilayer_perceptron.py:692: ConvergenceWarning: Stochastic Optimizer: Maximum iterations (200) reached and the optimization hasn't converged yet.\n",
      "  warnings.warn(\n",
      "C:\\Users\\student\\anaconda3\\lib\\site-packages\\sklearn\\neural_network\\_multilayer_perceptron.py:692: ConvergenceWarning: Stochastic Optimizer: Maximum iterations (200) reached and the optimization hasn't converged yet.\n",
      "  warnings.warn(\n",
      "C:\\Users\\student\\anaconda3\\lib\\site-packages\\sklearn\\neural_network\\_multilayer_perceptron.py:692: ConvergenceWarning: Stochastic Optimizer: Maximum iterations (200) reached and the optimization hasn't converged yet.\n",
      "  warnings.warn(\n",
      "C:\\Users\\student\\anaconda3\\lib\\site-packages\\sklearn\\neural_network\\_multilayer_perceptron.py:692: ConvergenceWarning: Stochastic Optimizer: Maximum iterations (200) reached and the optimization hasn't converged yet.\n",
      "  warnings.warn(\n",
      "C:\\Users\\student\\anaconda3\\lib\\site-packages\\sklearn\\neural_network\\_multilayer_perceptron.py:692: ConvergenceWarning: Stochastic Optimizer: Maximum iterations (200) reached and the optimization hasn't converged yet.\n",
      "  warnings.warn(\n",
      "C:\\Users\\student\\anaconda3\\lib\\site-packages\\sklearn\\neural_network\\_multilayer_perceptron.py:692: ConvergenceWarning: Stochastic Optimizer: Maximum iterations (200) reached and the optimization hasn't converged yet.\n",
      "  warnings.warn(\n",
      "C:\\Users\\student\\anaconda3\\lib\\site-packages\\sklearn\\neural_network\\_multilayer_perceptron.py:692: ConvergenceWarning: Stochastic Optimizer: Maximum iterations (200) reached and the optimization hasn't converged yet.\n",
      "  warnings.warn(\n",
      "C:\\Users\\student\\anaconda3\\lib\\site-packages\\sklearn\\neural_network\\_multilayer_perceptron.py:692: ConvergenceWarning: Stochastic Optimizer: Maximum iterations (200) reached and the optimization hasn't converged yet.\n",
      "  warnings.warn(\n",
      "C:\\Users\\student\\anaconda3\\lib\\site-packages\\sklearn\\neural_network\\_multilayer_perceptron.py:692: ConvergenceWarning: Stochastic Optimizer: Maximum iterations (200) reached and the optimization hasn't converged yet.\n",
      "  warnings.warn(\n",
      "C:\\Users\\student\\anaconda3\\lib\\site-packages\\sklearn\\neural_network\\_multilayer_perceptron.py:692: ConvergenceWarning: Stochastic Optimizer: Maximum iterations (200) reached and the optimization hasn't converged yet.\n",
      "  warnings.warn(\n",
      "C:\\Users\\student\\anaconda3\\lib\\site-packages\\sklearn\\neural_network\\_multilayer_perceptron.py:692: ConvergenceWarning: Stochastic Optimizer: Maximum iterations (200) reached and the optimization hasn't converged yet.\n",
      "  warnings.warn(\n",
      "C:\\Users\\student\\anaconda3\\lib\\site-packages\\sklearn\\neural_network\\_multilayer_perceptron.py:692: ConvergenceWarning: Stochastic Optimizer: Maximum iterations (200) reached and the optimization hasn't converged yet.\n",
      "  warnings.warn(\n",
      "C:\\Users\\student\\anaconda3\\lib\\site-packages\\sklearn\\neural_network\\_multilayer_perceptron.py:692: ConvergenceWarning: Stochastic Optimizer: Maximum iterations (200) reached and the optimization hasn't converged yet.\n",
      "  warnings.warn(\n",
      "C:\\Users\\student\\anaconda3\\lib\\site-packages\\sklearn\\neural_network\\_multilayer_perceptron.py:692: ConvergenceWarning: Stochastic Optimizer: Maximum iterations (200) reached and the optimization hasn't converged yet.\n",
      "  warnings.warn(\n",
      "C:\\Users\\student\\anaconda3\\lib\\site-packages\\sklearn\\neural_network\\_multilayer_perceptron.py:692: ConvergenceWarning: Stochastic Optimizer: Maximum iterations (200) reached and the optimization hasn't converged yet.\n",
      "  warnings.warn(\n",
      "C:\\Users\\student\\anaconda3\\lib\\site-packages\\sklearn\\neural_network\\_multilayer_perceptron.py:692: ConvergenceWarning: Stochastic Optimizer: Maximum iterations (200) reached and the optimization hasn't converged yet.\n",
      "  warnings.warn(\n",
      "C:\\Users\\student\\anaconda3\\lib\\site-packages\\sklearn\\neural_network\\_multilayer_perceptron.py:692: ConvergenceWarning: Stochastic Optimizer: Maximum iterations (200) reached and the optimization hasn't converged yet.\n",
      "  warnings.warn(\n",
      "C:\\Users\\student\\anaconda3\\lib\\site-packages\\sklearn\\neural_network\\_multilayer_perceptron.py:692: ConvergenceWarning: Stochastic Optimizer: Maximum iterations (200) reached and the optimization hasn't converged yet.\n",
      "  warnings.warn(\n",
      "C:\\Users\\student\\anaconda3\\lib\\site-packages\\sklearn\\neural_network\\_multilayer_perceptron.py:692: ConvergenceWarning: Stochastic Optimizer: Maximum iterations (200) reached and the optimization hasn't converged yet.\n",
      "  warnings.warn(\n",
      "C:\\Users\\student\\anaconda3\\lib\\site-packages\\sklearn\\neural_network\\_multilayer_perceptron.py:692: ConvergenceWarning: Stochastic Optimizer: Maximum iterations (200) reached and the optimization hasn't converged yet.\n",
      "  warnings.warn(\n",
      "C:\\Users\\student\\anaconda3\\lib\\site-packages\\sklearn\\neural_network\\_multilayer_perceptron.py:692: ConvergenceWarning: Stochastic Optimizer: Maximum iterations (200) reached and the optimization hasn't converged yet.\n",
      "  warnings.warn(\n",
      "C:\\Users\\student\\anaconda3\\lib\\site-packages\\sklearn\\neural_network\\_multilayer_perceptron.py:692: ConvergenceWarning: Stochastic Optimizer: Maximum iterations (200) reached and the optimization hasn't converged yet.\n",
      "  warnings.warn(\n",
      "C:\\Users\\student\\anaconda3\\lib\\site-packages\\sklearn\\neural_network\\_multilayer_perceptron.py:692: ConvergenceWarning: Stochastic Optimizer: Maximum iterations (200) reached and the optimization hasn't converged yet.\n",
      "  warnings.warn(\n",
      "C:\\Users\\student\\anaconda3\\lib\\site-packages\\sklearn\\neural_network\\_multilayer_perceptron.py:692: ConvergenceWarning: Stochastic Optimizer: Maximum iterations (200) reached and the optimization hasn't converged yet.\n",
      "  warnings.warn(\n",
      "C:\\Users\\student\\anaconda3\\lib\\site-packages\\sklearn\\neural_network\\_multilayer_perceptron.py:692: ConvergenceWarning: Stochastic Optimizer: Maximum iterations (200) reached and the optimization hasn't converged yet.\n",
      "  warnings.warn(\n",
      "C:\\Users\\student\\anaconda3\\lib\\site-packages\\sklearn\\neural_network\\_multilayer_perceptron.py:692: ConvergenceWarning: Stochastic Optimizer: Maximum iterations (200) reached and the optimization hasn't converged yet.\n",
      "  warnings.warn(\n",
      "C:\\Users\\student\\anaconda3\\lib\\site-packages\\sklearn\\neural_network\\_multilayer_perceptron.py:692: ConvergenceWarning: Stochastic Optimizer: Maximum iterations (200) reached and the optimization hasn't converged yet.\n",
      "  warnings.warn(\n",
      "C:\\Users\\student\\anaconda3\\lib\\site-packages\\sklearn\\neural_network\\_multilayer_perceptron.py:692: ConvergenceWarning: Stochastic Optimizer: Maximum iterations (200) reached and the optimization hasn't converged yet.\n",
      "  warnings.warn(\n",
      "C:\\Users\\student\\anaconda3\\lib\\site-packages\\sklearn\\neural_network\\_multilayer_perceptron.py:692: ConvergenceWarning: Stochastic Optimizer: Maximum iterations (200) reached and the optimization hasn't converged yet.\n",
      "  warnings.warn(\n",
      "C:\\Users\\student\\anaconda3\\lib\\site-packages\\sklearn\\neural_network\\_multilayer_perceptron.py:692: ConvergenceWarning: Stochastic Optimizer: Maximum iterations (200) reached and the optimization hasn't converged yet.\n",
      "  warnings.warn(\n",
      "C:\\Users\\student\\anaconda3\\lib\\site-packages\\sklearn\\neural_network\\_multilayer_perceptron.py:692: ConvergenceWarning: Stochastic Optimizer: Maximum iterations (200) reached and the optimization hasn't converged yet.\n",
      "  warnings.warn(\n"
     ]
    },
    {
     "name": "stderr",
     "output_type": "stream",
     "text": [
      "C:\\Users\\student\\anaconda3\\lib\\site-packages\\sklearn\\neural_network\\_multilayer_perceptron.py:692: ConvergenceWarning: Stochastic Optimizer: Maximum iterations (200) reached and the optimization hasn't converged yet.\n",
      "  warnings.warn(\n",
      "C:\\Users\\student\\anaconda3\\lib\\site-packages\\sklearn\\neural_network\\_multilayer_perceptron.py:692: ConvergenceWarning: Stochastic Optimizer: Maximum iterations (200) reached and the optimization hasn't converged yet.\n",
      "  warnings.warn(\n",
      "C:\\Users\\student\\anaconda3\\lib\\site-packages\\sklearn\\neural_network\\_multilayer_perceptron.py:692: ConvergenceWarning: Stochastic Optimizer: Maximum iterations (200) reached and the optimization hasn't converged yet.\n",
      "  warnings.warn(\n",
      "C:\\Users\\student\\anaconda3\\lib\\site-packages\\sklearn\\neural_network\\_multilayer_perceptron.py:692: ConvergenceWarning: Stochastic Optimizer: Maximum iterations (200) reached and the optimization hasn't converged yet.\n",
      "  warnings.warn(\n",
      "C:\\Users\\student\\anaconda3\\lib\\site-packages\\sklearn\\neural_network\\_multilayer_perceptron.py:692: ConvergenceWarning: Stochastic Optimizer: Maximum iterations (200) reached and the optimization hasn't converged yet.\n",
      "  warnings.warn(\n",
      "C:\\Users\\student\\anaconda3\\lib\\site-packages\\sklearn\\neural_network\\_multilayer_perceptron.py:692: ConvergenceWarning: Stochastic Optimizer: Maximum iterations (200) reached and the optimization hasn't converged yet.\n",
      "  warnings.warn(\n",
      "C:\\Users\\student\\anaconda3\\lib\\site-packages\\sklearn\\neural_network\\_multilayer_perceptron.py:692: ConvergenceWarning: Stochastic Optimizer: Maximum iterations (200) reached and the optimization hasn't converged yet.\n",
      "  warnings.warn(\n",
      "C:\\Users\\student\\anaconda3\\lib\\site-packages\\sklearn\\neural_network\\_multilayer_perceptron.py:692: ConvergenceWarning: Stochastic Optimizer: Maximum iterations (200) reached and the optimization hasn't converged yet.\n",
      "  warnings.warn(\n",
      "C:\\Users\\student\\anaconda3\\lib\\site-packages\\sklearn\\neural_network\\_multilayer_perceptron.py:692: ConvergenceWarning: Stochastic Optimizer: Maximum iterations (200) reached and the optimization hasn't converged yet.\n",
      "  warnings.warn(\n",
      "C:\\Users\\student\\anaconda3\\lib\\site-packages\\sklearn\\neural_network\\_multilayer_perceptron.py:692: ConvergenceWarning: Stochastic Optimizer: Maximum iterations (200) reached and the optimization hasn't converged yet.\n",
      "  warnings.warn(\n",
      "C:\\Users\\student\\anaconda3\\lib\\site-packages\\sklearn\\neural_network\\_multilayer_perceptron.py:692: ConvergenceWarning: Stochastic Optimizer: Maximum iterations (200) reached and the optimization hasn't converged yet.\n",
      "  warnings.warn(\n",
      "C:\\Users\\student\\anaconda3\\lib\\site-packages\\sklearn\\neural_network\\_multilayer_perceptron.py:692: ConvergenceWarning: Stochastic Optimizer: Maximum iterations (200) reached and the optimization hasn't converged yet.\n",
      "  warnings.warn(\n",
      "C:\\Users\\student\\anaconda3\\lib\\site-packages\\sklearn\\neural_network\\_multilayer_perceptron.py:692: ConvergenceWarning: Stochastic Optimizer: Maximum iterations (200) reached and the optimization hasn't converged yet.\n",
      "  warnings.warn(\n",
      "C:\\Users\\student\\anaconda3\\lib\\site-packages\\sklearn\\neural_network\\_multilayer_perceptron.py:692: ConvergenceWarning: Stochastic Optimizer: Maximum iterations (200) reached and the optimization hasn't converged yet.\n",
      "  warnings.warn(\n",
      "C:\\Users\\student\\anaconda3\\lib\\site-packages\\sklearn\\neural_network\\_multilayer_perceptron.py:692: ConvergenceWarning: Stochastic Optimizer: Maximum iterations (200) reached and the optimization hasn't converged yet.\n",
      "  warnings.warn(\n",
      "C:\\Users\\student\\anaconda3\\lib\\site-packages\\sklearn\\neural_network\\_multilayer_perceptron.py:692: ConvergenceWarning: Stochastic Optimizer: Maximum iterations (200) reached and the optimization hasn't converged yet.\n",
      "  warnings.warn(\n",
      "C:\\Users\\student\\anaconda3\\lib\\site-packages\\sklearn\\neural_network\\_multilayer_perceptron.py:692: ConvergenceWarning: Stochastic Optimizer: Maximum iterations (200) reached and the optimization hasn't converged yet.\n",
      "  warnings.warn(\n",
      "C:\\Users\\student\\anaconda3\\lib\\site-packages\\sklearn\\neural_network\\_multilayer_perceptron.py:692: ConvergenceWarning: Stochastic Optimizer: Maximum iterations (200) reached and the optimization hasn't converged yet.\n",
      "  warnings.warn(\n",
      "C:\\Users\\student\\anaconda3\\lib\\site-packages\\sklearn\\neural_network\\_multilayer_perceptron.py:692: ConvergenceWarning: Stochastic Optimizer: Maximum iterations (200) reached and the optimization hasn't converged yet.\n",
      "  warnings.warn(\n",
      "C:\\Users\\student\\anaconda3\\lib\\site-packages\\sklearn\\neural_network\\_multilayer_perceptron.py:692: ConvergenceWarning: Stochastic Optimizer: Maximum iterations (200) reached and the optimization hasn't converged yet.\n",
      "  warnings.warn(\n",
      "C:\\Users\\student\\anaconda3\\lib\\site-packages\\sklearn\\neural_network\\_multilayer_perceptron.py:692: ConvergenceWarning: Stochastic Optimizer: Maximum iterations (200) reached and the optimization hasn't converged yet.\n",
      "  warnings.warn(\n",
      "C:\\Users\\student\\anaconda3\\lib\\site-packages\\sklearn\\neural_network\\_multilayer_perceptron.py:692: ConvergenceWarning: Stochastic Optimizer: Maximum iterations (200) reached and the optimization hasn't converged yet.\n",
      "  warnings.warn(\n",
      "C:\\Users\\student\\anaconda3\\lib\\site-packages\\sklearn\\neural_network\\_multilayer_perceptron.py:692: ConvergenceWarning: Stochastic Optimizer: Maximum iterations (200) reached and the optimization hasn't converged yet.\n",
      "  warnings.warn(\n",
      "C:\\Users\\student\\anaconda3\\lib\\site-packages\\sklearn\\neural_network\\_multilayer_perceptron.py:692: ConvergenceWarning: Stochastic Optimizer: Maximum iterations (200) reached and the optimization hasn't converged yet.\n",
      "  warnings.warn(\n",
      "C:\\Users\\student\\anaconda3\\lib\\site-packages\\sklearn\\neural_network\\_multilayer_perceptron.py:692: ConvergenceWarning: Stochastic Optimizer: Maximum iterations (200) reached and the optimization hasn't converged yet.\n",
      "  warnings.warn(\n",
      "C:\\Users\\student\\anaconda3\\lib\\site-packages\\sklearn\\neural_network\\_multilayer_perceptron.py:692: ConvergenceWarning: Stochastic Optimizer: Maximum iterations (200) reached and the optimization hasn't converged yet.\n",
      "  warnings.warn(\n",
      "C:\\Users\\student\\anaconda3\\lib\\site-packages\\sklearn\\neural_network\\_multilayer_perceptron.py:692: ConvergenceWarning: Stochastic Optimizer: Maximum iterations (200) reached and the optimization hasn't converged yet.\n",
      "  warnings.warn(\n",
      "C:\\Users\\student\\anaconda3\\lib\\site-packages\\sklearn\\neural_network\\_multilayer_perceptron.py:692: ConvergenceWarning: Stochastic Optimizer: Maximum iterations (200) reached and the optimization hasn't converged yet.\n",
      "  warnings.warn(\n",
      "C:\\Users\\student\\anaconda3\\lib\\site-packages\\sklearn\\neural_network\\_multilayer_perceptron.py:692: ConvergenceWarning: Stochastic Optimizer: Maximum iterations (200) reached and the optimization hasn't converged yet.\n",
      "  warnings.warn(\n",
      "C:\\Users\\student\\anaconda3\\lib\\site-packages\\sklearn\\neural_network\\_multilayer_perceptron.py:692: ConvergenceWarning: Stochastic Optimizer: Maximum iterations (200) reached and the optimization hasn't converged yet.\n",
      "  warnings.warn(\n",
      "C:\\Users\\student\\anaconda3\\lib\\site-packages\\sklearn\\neural_network\\_multilayer_perceptron.py:692: ConvergenceWarning: Stochastic Optimizer: Maximum iterations (200) reached and the optimization hasn't converged yet.\n",
      "  warnings.warn(\n",
      "C:\\Users\\student\\anaconda3\\lib\\site-packages\\sklearn\\neural_network\\_multilayer_perceptron.py:692: ConvergenceWarning: Stochastic Optimizer: Maximum iterations (200) reached and the optimization hasn't converged yet.\n",
      "  warnings.warn(\n",
      "C:\\Users\\student\\anaconda3\\lib\\site-packages\\sklearn\\neural_network\\_multilayer_perceptron.py:692: ConvergenceWarning: Stochastic Optimizer: Maximum iterations (200) reached and the optimization hasn't converged yet.\n",
      "  warnings.warn(\n",
      "C:\\Users\\student\\anaconda3\\lib\\site-packages\\sklearn\\neural_network\\_multilayer_perceptron.py:692: ConvergenceWarning: Stochastic Optimizer: Maximum iterations (200) reached and the optimization hasn't converged yet.\n",
      "  warnings.warn(\n",
      "C:\\Users\\student\\anaconda3\\lib\\site-packages\\sklearn\\neural_network\\_multilayer_perceptron.py:692: ConvergenceWarning: Stochastic Optimizer: Maximum iterations (200) reached and the optimization hasn't converged yet.\n",
      "  warnings.warn(\n",
      "C:\\Users\\student\\anaconda3\\lib\\site-packages\\sklearn\\neural_network\\_multilayer_perceptron.py:692: ConvergenceWarning: Stochastic Optimizer: Maximum iterations (200) reached and the optimization hasn't converged yet.\n",
      "  warnings.warn(\n"
     ]
    },
    {
     "name": "stderr",
     "output_type": "stream",
     "text": [
      "C:\\Users\\student\\anaconda3\\lib\\site-packages\\sklearn\\neural_network\\_multilayer_perceptron.py:692: ConvergenceWarning: Stochastic Optimizer: Maximum iterations (200) reached and the optimization hasn't converged yet.\n",
      "  warnings.warn(\n",
      "C:\\Users\\student\\anaconda3\\lib\\site-packages\\sklearn\\neural_network\\_multilayer_perceptron.py:692: ConvergenceWarning: Stochastic Optimizer: Maximum iterations (200) reached and the optimization hasn't converged yet.\n",
      "  warnings.warn(\n",
      "C:\\Users\\student\\anaconda3\\lib\\site-packages\\sklearn\\neural_network\\_multilayer_perceptron.py:692: ConvergenceWarning: Stochastic Optimizer: Maximum iterations (200) reached and the optimization hasn't converged yet.\n",
      "  warnings.warn(\n",
      "C:\\Users\\student\\anaconda3\\lib\\site-packages\\sklearn\\neural_network\\_multilayer_perceptron.py:692: ConvergenceWarning: Stochastic Optimizer: Maximum iterations (200) reached and the optimization hasn't converged yet.\n",
      "  warnings.warn(\n",
      "C:\\Users\\student\\anaconda3\\lib\\site-packages\\sklearn\\neural_network\\_multilayer_perceptron.py:692: ConvergenceWarning: Stochastic Optimizer: Maximum iterations (200) reached and the optimization hasn't converged yet.\n",
      "  warnings.warn(\n",
      "C:\\Users\\student\\anaconda3\\lib\\site-packages\\sklearn\\neural_network\\_multilayer_perceptron.py:692: ConvergenceWarning: Stochastic Optimizer: Maximum iterations (200) reached and the optimization hasn't converged yet.\n",
      "  warnings.warn(\n",
      "C:\\Users\\student\\anaconda3\\lib\\site-packages\\sklearn\\neural_network\\_multilayer_perceptron.py:692: ConvergenceWarning: Stochastic Optimizer: Maximum iterations (200) reached and the optimization hasn't converged yet.\n",
      "  warnings.warn(\n",
      "C:\\Users\\student\\anaconda3\\lib\\site-packages\\sklearn\\neural_network\\_multilayer_perceptron.py:692: ConvergenceWarning: Stochastic Optimizer: Maximum iterations (200) reached and the optimization hasn't converged yet.\n",
      "  warnings.warn(\n",
      "C:\\Users\\student\\anaconda3\\lib\\site-packages\\sklearn\\neural_network\\_multilayer_perceptron.py:692: ConvergenceWarning: Stochastic Optimizer: Maximum iterations (200) reached and the optimization hasn't converged yet.\n",
      "  warnings.warn(\n",
      "C:\\Users\\student\\anaconda3\\lib\\site-packages\\sklearn\\neural_network\\_multilayer_perceptron.py:692: ConvergenceWarning: Stochastic Optimizer: Maximum iterations (200) reached and the optimization hasn't converged yet.\n",
      "  warnings.warn(\n",
      "C:\\Users\\student\\anaconda3\\lib\\site-packages\\sklearn\\neural_network\\_multilayer_perceptron.py:692: ConvergenceWarning: Stochastic Optimizer: Maximum iterations (200) reached and the optimization hasn't converged yet.\n",
      "  warnings.warn(\n",
      "C:\\Users\\student\\anaconda3\\lib\\site-packages\\sklearn\\neural_network\\_multilayer_perceptron.py:692: ConvergenceWarning: Stochastic Optimizer: Maximum iterations (200) reached and the optimization hasn't converged yet.\n",
      "  warnings.warn(\n",
      "C:\\Users\\student\\anaconda3\\lib\\site-packages\\sklearn\\neural_network\\_multilayer_perceptron.py:692: ConvergenceWarning: Stochastic Optimizer: Maximum iterations (200) reached and the optimization hasn't converged yet.\n",
      "  warnings.warn(\n",
      "C:\\Users\\student\\anaconda3\\lib\\site-packages\\sklearn\\neural_network\\_multilayer_perceptron.py:692: ConvergenceWarning: Stochastic Optimizer: Maximum iterations (200) reached and the optimization hasn't converged yet.\n",
      "  warnings.warn(\n",
      "C:\\Users\\student\\anaconda3\\lib\\site-packages\\sklearn\\neural_network\\_multilayer_perceptron.py:692: ConvergenceWarning: Stochastic Optimizer: Maximum iterations (200) reached and the optimization hasn't converged yet.\n",
      "  warnings.warn(\n",
      "C:\\Users\\student\\anaconda3\\lib\\site-packages\\sklearn\\neural_network\\_multilayer_perceptron.py:692: ConvergenceWarning: Stochastic Optimizer: Maximum iterations (200) reached and the optimization hasn't converged yet.\n",
      "  warnings.warn(\n",
      "C:\\Users\\student\\anaconda3\\lib\\site-packages\\sklearn\\neural_network\\_multilayer_perceptron.py:692: ConvergenceWarning: Stochastic Optimizer: Maximum iterations (200) reached and the optimization hasn't converged yet.\n",
      "  warnings.warn(\n",
      "C:\\Users\\student\\anaconda3\\lib\\site-packages\\sklearn\\neural_network\\_multilayer_perceptron.py:692: ConvergenceWarning: Stochastic Optimizer: Maximum iterations (200) reached and the optimization hasn't converged yet.\n",
      "  warnings.warn(\n",
      "C:\\Users\\student\\anaconda3\\lib\\site-packages\\sklearn\\neural_network\\_multilayer_perceptron.py:692: ConvergenceWarning: Stochastic Optimizer: Maximum iterations (200) reached and the optimization hasn't converged yet.\n",
      "  warnings.warn(\n",
      "C:\\Users\\student\\anaconda3\\lib\\site-packages\\sklearn\\neural_network\\_multilayer_perceptron.py:692: ConvergenceWarning: Stochastic Optimizer: Maximum iterations (200) reached and the optimization hasn't converged yet.\n",
      "  warnings.warn(\n",
      "C:\\Users\\student\\anaconda3\\lib\\site-packages\\sklearn\\neural_network\\_multilayer_perceptron.py:692: ConvergenceWarning: Stochastic Optimizer: Maximum iterations (200) reached and the optimization hasn't converged yet.\n",
      "  warnings.warn(\n",
      "C:\\Users\\student\\anaconda3\\lib\\site-packages\\sklearn\\neural_network\\_multilayer_perceptron.py:692: ConvergenceWarning: Stochastic Optimizer: Maximum iterations (200) reached and the optimization hasn't converged yet.\n",
      "  warnings.warn(\n",
      "C:\\Users\\student\\anaconda3\\lib\\site-packages\\sklearn\\neural_network\\_multilayer_perceptron.py:692: ConvergenceWarning: Stochastic Optimizer: Maximum iterations (200) reached and the optimization hasn't converged yet.\n",
      "  warnings.warn(\n",
      "C:\\Users\\student\\anaconda3\\lib\\site-packages\\sklearn\\neural_network\\_multilayer_perceptron.py:692: ConvergenceWarning: Stochastic Optimizer: Maximum iterations (200) reached and the optimization hasn't converged yet.\n",
      "  warnings.warn(\n",
      "C:\\Users\\student\\anaconda3\\lib\\site-packages\\sklearn\\neural_network\\_multilayer_perceptron.py:692: ConvergenceWarning: Stochastic Optimizer: Maximum iterations (200) reached and the optimization hasn't converged yet.\n",
      "  warnings.warn(\n",
      "C:\\Users\\student\\anaconda3\\lib\\site-packages\\sklearn\\neural_network\\_multilayer_perceptron.py:692: ConvergenceWarning: Stochastic Optimizer: Maximum iterations (200) reached and the optimization hasn't converged yet.\n",
      "  warnings.warn(\n",
      "C:\\Users\\student\\anaconda3\\lib\\site-packages\\sklearn\\neural_network\\_multilayer_perceptron.py:692: ConvergenceWarning: Stochastic Optimizer: Maximum iterations (200) reached and the optimization hasn't converged yet.\n",
      "  warnings.warn(\n",
      "C:\\Users\\student\\anaconda3\\lib\\site-packages\\sklearn\\neural_network\\_multilayer_perceptron.py:692: ConvergenceWarning: Stochastic Optimizer: Maximum iterations (200) reached and the optimization hasn't converged yet.\n",
      "  warnings.warn(\n",
      "C:\\Users\\student\\anaconda3\\lib\\site-packages\\sklearn\\neural_network\\_multilayer_perceptron.py:692: ConvergenceWarning: Stochastic Optimizer: Maximum iterations (200) reached and the optimization hasn't converged yet.\n",
      "  warnings.warn(\n",
      "C:\\Users\\student\\anaconda3\\lib\\site-packages\\sklearn\\neural_network\\_multilayer_perceptron.py:692: ConvergenceWarning: Stochastic Optimizer: Maximum iterations (200) reached and the optimization hasn't converged yet.\n",
      "  warnings.warn(\n",
      "C:\\Users\\student\\anaconda3\\lib\\site-packages\\sklearn\\neural_network\\_multilayer_perceptron.py:692: ConvergenceWarning: Stochastic Optimizer: Maximum iterations (200) reached and the optimization hasn't converged yet.\n",
      "  warnings.warn(\n",
      "C:\\Users\\student\\anaconda3\\lib\\site-packages\\sklearn\\neural_network\\_multilayer_perceptron.py:692: ConvergenceWarning: Stochastic Optimizer: Maximum iterations (200) reached and the optimization hasn't converged yet.\n",
      "  warnings.warn(\n",
      "C:\\Users\\student\\anaconda3\\lib\\site-packages\\sklearn\\neural_network\\_multilayer_perceptron.py:692: ConvergenceWarning: Stochastic Optimizer: Maximum iterations (200) reached and the optimization hasn't converged yet.\n",
      "  warnings.warn(\n",
      "C:\\Users\\student\\anaconda3\\lib\\site-packages\\sklearn\\neural_network\\_multilayer_perceptron.py:692: ConvergenceWarning: Stochastic Optimizer: Maximum iterations (200) reached and the optimization hasn't converged yet.\n",
      "  warnings.warn(\n",
      "C:\\Users\\student\\anaconda3\\lib\\site-packages\\sklearn\\neural_network\\_multilayer_perceptron.py:692: ConvergenceWarning: Stochastic Optimizer: Maximum iterations (200) reached and the optimization hasn't converged yet.\n",
      "  warnings.warn(\n",
      "C:\\Users\\student\\anaconda3\\lib\\site-packages\\sklearn\\neural_network\\_multilayer_perceptron.py:692: ConvergenceWarning: Stochastic Optimizer: Maximum iterations (200) reached and the optimization hasn't converged yet.\n",
      "  warnings.warn(\n"
     ]
    },
    {
     "name": "stderr",
     "output_type": "stream",
     "text": [
      "C:\\Users\\student\\anaconda3\\lib\\site-packages\\sklearn\\neural_network\\_multilayer_perceptron.py:692: ConvergenceWarning: Stochastic Optimizer: Maximum iterations (200) reached and the optimization hasn't converged yet.\n",
      "  warnings.warn(\n",
      "C:\\Users\\student\\anaconda3\\lib\\site-packages\\sklearn\\neural_network\\_multilayer_perceptron.py:692: ConvergenceWarning: Stochastic Optimizer: Maximum iterations (200) reached and the optimization hasn't converged yet.\n",
      "  warnings.warn(\n",
      "C:\\Users\\student\\anaconda3\\lib\\site-packages\\sklearn\\neural_network\\_multilayer_perceptron.py:692: ConvergenceWarning: Stochastic Optimizer: Maximum iterations (200) reached and the optimization hasn't converged yet.\n",
      "  warnings.warn(\n",
      "C:\\Users\\student\\anaconda3\\lib\\site-packages\\sklearn\\neural_network\\_multilayer_perceptron.py:692: ConvergenceWarning: Stochastic Optimizer: Maximum iterations (200) reached and the optimization hasn't converged yet.\n",
      "  warnings.warn(\n",
      "C:\\Users\\student\\anaconda3\\lib\\site-packages\\sklearn\\neural_network\\_multilayer_perceptron.py:692: ConvergenceWarning: Stochastic Optimizer: Maximum iterations (200) reached and the optimization hasn't converged yet.\n",
      "  warnings.warn(\n",
      "C:\\Users\\student\\anaconda3\\lib\\site-packages\\sklearn\\neural_network\\_multilayer_perceptron.py:692: ConvergenceWarning: Stochastic Optimizer: Maximum iterations (200) reached and the optimization hasn't converged yet.\n",
      "  warnings.warn(\n",
      "C:\\Users\\student\\anaconda3\\lib\\site-packages\\sklearn\\neural_network\\_multilayer_perceptron.py:692: ConvergenceWarning: Stochastic Optimizer: Maximum iterations (200) reached and the optimization hasn't converged yet.\n",
      "  warnings.warn(\n",
      "C:\\Users\\student\\anaconda3\\lib\\site-packages\\sklearn\\neural_network\\_multilayer_perceptron.py:692: ConvergenceWarning: Stochastic Optimizer: Maximum iterations (200) reached and the optimization hasn't converged yet.\n",
      "  warnings.warn(\n",
      "C:\\Users\\student\\anaconda3\\lib\\site-packages\\sklearn\\neural_network\\_multilayer_perceptron.py:692: ConvergenceWarning: Stochastic Optimizer: Maximum iterations (200) reached and the optimization hasn't converged yet.\n",
      "  warnings.warn(\n",
      "C:\\Users\\student\\anaconda3\\lib\\site-packages\\sklearn\\neural_network\\_multilayer_perceptron.py:692: ConvergenceWarning: Stochastic Optimizer: Maximum iterations (200) reached and the optimization hasn't converged yet.\n",
      "  warnings.warn(\n",
      "C:\\Users\\student\\anaconda3\\lib\\site-packages\\sklearn\\neural_network\\_multilayer_perceptron.py:692: ConvergenceWarning: Stochastic Optimizer: Maximum iterations (200) reached and the optimization hasn't converged yet.\n",
      "  warnings.warn(\n",
      "C:\\Users\\student\\anaconda3\\lib\\site-packages\\sklearn\\neural_network\\_multilayer_perceptron.py:692: ConvergenceWarning: Stochastic Optimizer: Maximum iterations (200) reached and the optimization hasn't converged yet.\n",
      "  warnings.warn(\n",
      "C:\\Users\\student\\anaconda3\\lib\\site-packages\\sklearn\\neural_network\\_multilayer_perceptron.py:692: ConvergenceWarning: Stochastic Optimizer: Maximum iterations (200) reached and the optimization hasn't converged yet.\n",
      "  warnings.warn(\n",
      "C:\\Users\\student\\anaconda3\\lib\\site-packages\\sklearn\\neural_network\\_multilayer_perceptron.py:692: ConvergenceWarning: Stochastic Optimizer: Maximum iterations (200) reached and the optimization hasn't converged yet.\n",
      "  warnings.warn(\n",
      "C:\\Users\\student\\anaconda3\\lib\\site-packages\\sklearn\\neural_network\\_multilayer_perceptron.py:692: ConvergenceWarning: Stochastic Optimizer: Maximum iterations (200) reached and the optimization hasn't converged yet.\n",
      "  warnings.warn(\n",
      "C:\\Users\\student\\anaconda3\\lib\\site-packages\\sklearn\\neural_network\\_multilayer_perceptron.py:692: ConvergenceWarning: Stochastic Optimizer: Maximum iterations (200) reached and the optimization hasn't converged yet.\n",
      "  warnings.warn(\n",
      "C:\\Users\\student\\anaconda3\\lib\\site-packages\\sklearn\\neural_network\\_multilayer_perceptron.py:692: ConvergenceWarning: Stochastic Optimizer: Maximum iterations (200) reached and the optimization hasn't converged yet.\n",
      "  warnings.warn(\n",
      "C:\\Users\\student\\anaconda3\\lib\\site-packages\\sklearn\\neural_network\\_multilayer_perceptron.py:692: ConvergenceWarning: Stochastic Optimizer: Maximum iterations (200) reached and the optimization hasn't converged yet.\n",
      "  warnings.warn(\n",
      "C:\\Users\\student\\anaconda3\\lib\\site-packages\\sklearn\\neural_network\\_multilayer_perceptron.py:692: ConvergenceWarning: Stochastic Optimizer: Maximum iterations (200) reached and the optimization hasn't converged yet.\n",
      "  warnings.warn(\n",
      "C:\\Users\\student\\anaconda3\\lib\\site-packages\\sklearn\\neural_network\\_multilayer_perceptron.py:692: ConvergenceWarning: Stochastic Optimizer: Maximum iterations (200) reached and the optimization hasn't converged yet.\n",
      "  warnings.warn(\n",
      "C:\\Users\\student\\anaconda3\\lib\\site-packages\\sklearn\\neural_network\\_multilayer_perceptron.py:692: ConvergenceWarning: Stochastic Optimizer: Maximum iterations (200) reached and the optimization hasn't converged yet.\n",
      "  warnings.warn(\n",
      "C:\\Users\\student\\anaconda3\\lib\\site-packages\\sklearn\\neural_network\\_multilayer_perceptron.py:692: ConvergenceWarning: Stochastic Optimizer: Maximum iterations (200) reached and the optimization hasn't converged yet.\n",
      "  warnings.warn(\n",
      "C:\\Users\\student\\anaconda3\\lib\\site-packages\\sklearn\\neural_network\\_multilayer_perceptron.py:692: ConvergenceWarning: Stochastic Optimizer: Maximum iterations (200) reached and the optimization hasn't converged yet.\n",
      "  warnings.warn(\n",
      "C:\\Users\\student\\anaconda3\\lib\\site-packages\\sklearn\\neural_network\\_multilayer_perceptron.py:692: ConvergenceWarning: Stochastic Optimizer: Maximum iterations (200) reached and the optimization hasn't converged yet.\n",
      "  warnings.warn(\n",
      "C:\\Users\\student\\anaconda3\\lib\\site-packages\\sklearn\\neural_network\\_multilayer_perceptron.py:692: ConvergenceWarning: Stochastic Optimizer: Maximum iterations (200) reached and the optimization hasn't converged yet.\n",
      "  warnings.warn(\n",
      "C:\\Users\\student\\anaconda3\\lib\\site-packages\\sklearn\\neural_network\\_multilayer_perceptron.py:692: ConvergenceWarning: Stochastic Optimizer: Maximum iterations (200) reached and the optimization hasn't converged yet.\n",
      "  warnings.warn(\n"
     ]
    },
    {
     "name": "stdout",
     "output_type": "stream",
     "text": [
      "BEST PARAMS: {'activation': 'logistic', 'hidden_layer_sizes': (10,), 'learning_rate': 'adaptive'}\n",
      "\n",
      "0.733 (+/-0.056) for {'activation': 'relu', 'hidden_layer_sizes': (10,), 'learning_rate': 'constant'}\n",
      "0.742 (+/-0.015) for {'activation': 'relu', 'hidden_layer_sizes': (10,), 'learning_rate': 'invscaling'}\n",
      "0.739 (+/-0.028) for {'activation': 'relu', 'hidden_layer_sizes': (10,), 'learning_rate': 'adaptive'}\n",
      "0.713 (+/-0.025) for {'activation': 'relu', 'hidden_layer_sizes': (50,), 'learning_rate': 'constant'}\n",
      "0.726 (+/-0.021) for {'activation': 'relu', 'hidden_layer_sizes': (50,), 'learning_rate': 'invscaling'}\n",
      "0.708 (+/-0.014) for {'activation': 'relu', 'hidden_layer_sizes': (50,), 'learning_rate': 'adaptive'}\n",
      "0.705 (+/-0.025) for {'activation': 'relu', 'hidden_layer_sizes': (100,), 'learning_rate': 'constant'}\n",
      "0.719 (+/-0.042) for {'activation': 'relu', 'hidden_layer_sizes': (100,), 'learning_rate': 'invscaling'}\n",
      "0.707 (+/-0.038) for {'activation': 'relu', 'hidden_layer_sizes': (100,), 'learning_rate': 'adaptive'}\n",
      "0.727 (+/-0.044) for {'activation': 'tanh', 'hidden_layer_sizes': (10,), 'learning_rate': 'constant'}\n",
      "0.727 (+/-0.027) for {'activation': 'tanh', 'hidden_layer_sizes': (10,), 'learning_rate': 'invscaling'}\n",
      "0.735 (+/-0.043) for {'activation': 'tanh', 'hidden_layer_sizes': (10,), 'learning_rate': 'adaptive'}\n",
      "0.716 (+/-0.06) for {'activation': 'tanh', 'hidden_layer_sizes': (50,), 'learning_rate': 'constant'}\n",
      "0.713 (+/-0.042) for {'activation': 'tanh', 'hidden_layer_sizes': (50,), 'learning_rate': 'invscaling'}\n",
      "0.706 (+/-0.045) for {'activation': 'tanh', 'hidden_layer_sizes': (50,), 'learning_rate': 'adaptive'}\n",
      "0.699 (+/-0.046) for {'activation': 'tanh', 'hidden_layer_sizes': (100,), 'learning_rate': 'constant'}\n",
      "0.704 (+/-0.044) for {'activation': 'tanh', 'hidden_layer_sizes': (100,), 'learning_rate': 'invscaling'}\n",
      "0.708 (+/-0.035) for {'activation': 'tanh', 'hidden_layer_sizes': (100,), 'learning_rate': 'adaptive'}\n",
      "0.76 (+/-0.054) for {'activation': 'logistic', 'hidden_layer_sizes': (10,), 'learning_rate': 'constant'}\n",
      "0.756 (+/-0.04) for {'activation': 'logistic', 'hidden_layer_sizes': (10,), 'learning_rate': 'invscaling'}\n",
      "0.764 (+/-0.025) for {'activation': 'logistic', 'hidden_layer_sizes': (10,), 'learning_rate': 'adaptive'}\n",
      "0.753 (+/-0.049) for {'activation': 'logistic', 'hidden_layer_sizes': (50,), 'learning_rate': 'constant'}\n",
      "0.755 (+/-0.051) for {'activation': 'logistic', 'hidden_layer_sizes': (50,), 'learning_rate': 'invscaling'}\n",
      "0.752 (+/-0.045) for {'activation': 'logistic', 'hidden_layer_sizes': (50,), 'learning_rate': 'adaptive'}\n",
      "0.753 (+/-0.049) for {'activation': 'logistic', 'hidden_layer_sizes': (100,), 'learning_rate': 'constant'}\n",
      "0.753 (+/-0.051) for {'activation': 'logistic', 'hidden_layer_sizes': (100,), 'learning_rate': 'invscaling'}\n",
      "0.753 (+/-0.053) for {'activation': 'logistic', 'hidden_layer_sizes': (100,), 'learning_rate': 'adaptive'}\n"
     ]
    },
    {
     "name": "stderr",
     "output_type": "stream",
     "text": [
      "C:\\Users\\student\\anaconda3\\lib\\site-packages\\sklearn\\neural_network\\_multilayer_perceptron.py:692: ConvergenceWarning: Stochastic Optimizer: Maximum iterations (200) reached and the optimization hasn't converged yet.\n",
      "  warnings.warn(\n"
     ]
    }
   ],
   "source": [
    "mlp = MLPClassifier()\n",
    "parameters = {\n",
    "    'hidden_layer_sizes': [(10,), (50,), (100,)],\n",
    "    'activation': ['relu', 'tanh', 'logistic'],\n",
    "    'learning_rate': ['constant', 'invscaling', 'adaptive']\n",
    "}\n",
    "\n",
    "cv = GridSearchCV(mlp, parameters, cv=5)\n",
    "cv.fit(train_features_red, train_labels.values.ravel())\n",
    "\n",
    "print_results(cv)"
   ]
  },
  {
   "cell_type": "code",
   "execution_count": 50,
   "id": "6b716972",
   "metadata": {},
   "outputs": [
    {
     "data": {
      "text/plain": [
       "MLPClassifier(activation='logistic', hidden_layer_sizes=(10,),\n",
       "              learning_rate='adaptive')"
      ]
     },
     "execution_count": 50,
     "metadata": {},
     "output_type": "execute_result"
    }
   ],
   "source": [
    "cv.best_estimator_"
   ]
  },
  {
   "cell_type": "code",
   "execution_count": 51,
   "id": "9daa8206",
   "metadata": {},
   "outputs": [
    {
     "data": {
      "text/plain": [
       "['MLP_model_red.pkl']"
      ]
     },
     "execution_count": 51,
     "metadata": {},
     "output_type": "execute_result"
    }
   ],
   "source": [
    "joblib.dump(cv.best_estimator_, 'MLP_model_red.pkl')"
   ]
  },
  {
   "cell_type": "markdown",
   "id": "0fa8eb54",
   "metadata": {},
   "source": [
    "### Step #10: Multi-Layer Perceptron with Categorical Features"
   ]
  },
  {
   "cell_type": "code",
   "execution_count": 52,
   "id": "bcf47ebe",
   "metadata": {},
   "outputs": [
    {
     "name": "stderr",
     "output_type": "stream",
     "text": [
      "C:\\Users\\student\\anaconda3\\lib\\site-packages\\sklearn\\neural_network\\_multilayer_perceptron.py:692: ConvergenceWarning: Stochastic Optimizer: Maximum iterations (200) reached and the optimization hasn't converged yet.\n",
      "  warnings.warn(\n",
      "C:\\Users\\student\\anaconda3\\lib\\site-packages\\sklearn\\neural_network\\_multilayer_perceptron.py:692: ConvergenceWarning: Stochastic Optimizer: Maximum iterations (200) reached and the optimization hasn't converged yet.\n",
      "  warnings.warn(\n",
      "C:\\Users\\student\\anaconda3\\lib\\site-packages\\sklearn\\neural_network\\_multilayer_perceptron.py:692: ConvergenceWarning: Stochastic Optimizer: Maximum iterations (200) reached and the optimization hasn't converged yet.\n",
      "  warnings.warn(\n",
      "C:\\Users\\student\\anaconda3\\lib\\site-packages\\sklearn\\neural_network\\_multilayer_perceptron.py:692: ConvergenceWarning: Stochastic Optimizer: Maximum iterations (200) reached and the optimization hasn't converged yet.\n",
      "  warnings.warn(\n",
      "C:\\Users\\student\\anaconda3\\lib\\site-packages\\sklearn\\neural_network\\_multilayer_perceptron.py:692: ConvergenceWarning: Stochastic Optimizer: Maximum iterations (200) reached and the optimization hasn't converged yet.\n",
      "  warnings.warn(\n",
      "C:\\Users\\student\\anaconda3\\lib\\site-packages\\sklearn\\neural_network\\_multilayer_perceptron.py:692: ConvergenceWarning: Stochastic Optimizer: Maximum iterations (200) reached and the optimization hasn't converged yet.\n",
      "  warnings.warn(\n",
      "C:\\Users\\student\\anaconda3\\lib\\site-packages\\sklearn\\neural_network\\_multilayer_perceptron.py:692: ConvergenceWarning: Stochastic Optimizer: Maximum iterations (200) reached and the optimization hasn't converged yet.\n",
      "  warnings.warn(\n",
      "C:\\Users\\student\\anaconda3\\lib\\site-packages\\sklearn\\neural_network\\_multilayer_perceptron.py:692: ConvergenceWarning: Stochastic Optimizer: Maximum iterations (200) reached and the optimization hasn't converged yet.\n",
      "  warnings.warn(\n",
      "C:\\Users\\student\\anaconda3\\lib\\site-packages\\sklearn\\neural_network\\_multilayer_perceptron.py:692: ConvergenceWarning: Stochastic Optimizer: Maximum iterations (200) reached and the optimization hasn't converged yet.\n",
      "  warnings.warn(\n",
      "C:\\Users\\student\\anaconda3\\lib\\site-packages\\sklearn\\neural_network\\_multilayer_perceptron.py:692: ConvergenceWarning: Stochastic Optimizer: Maximum iterations (200) reached and the optimization hasn't converged yet.\n",
      "  warnings.warn(\n",
      "C:\\Users\\student\\anaconda3\\lib\\site-packages\\sklearn\\neural_network\\_multilayer_perceptron.py:692: ConvergenceWarning: Stochastic Optimizer: Maximum iterations (200) reached and the optimization hasn't converged yet.\n",
      "  warnings.warn(\n",
      "C:\\Users\\student\\anaconda3\\lib\\site-packages\\sklearn\\neural_network\\_multilayer_perceptron.py:692: ConvergenceWarning: Stochastic Optimizer: Maximum iterations (200) reached and the optimization hasn't converged yet.\n",
      "  warnings.warn(\n",
      "C:\\Users\\student\\anaconda3\\lib\\site-packages\\sklearn\\neural_network\\_multilayer_perceptron.py:692: ConvergenceWarning: Stochastic Optimizer: Maximum iterations (200) reached and the optimization hasn't converged yet.\n",
      "  warnings.warn(\n",
      "C:\\Users\\student\\anaconda3\\lib\\site-packages\\sklearn\\neural_network\\_multilayer_perceptron.py:692: ConvergenceWarning: Stochastic Optimizer: Maximum iterations (200) reached and the optimization hasn't converged yet.\n",
      "  warnings.warn(\n",
      "C:\\Users\\student\\anaconda3\\lib\\site-packages\\sklearn\\neural_network\\_multilayer_perceptron.py:692: ConvergenceWarning: Stochastic Optimizer: Maximum iterations (200) reached and the optimization hasn't converged yet.\n",
      "  warnings.warn(\n",
      "C:\\Users\\student\\anaconda3\\lib\\site-packages\\sklearn\\neural_network\\_multilayer_perceptron.py:692: ConvergenceWarning: Stochastic Optimizer: Maximum iterations (200) reached and the optimization hasn't converged yet.\n",
      "  warnings.warn(\n",
      "C:\\Users\\student\\anaconda3\\lib\\site-packages\\sklearn\\neural_network\\_multilayer_perceptron.py:692: ConvergenceWarning: Stochastic Optimizer: Maximum iterations (200) reached and the optimization hasn't converged yet.\n",
      "  warnings.warn(\n",
      "C:\\Users\\student\\anaconda3\\lib\\site-packages\\sklearn\\neural_network\\_multilayer_perceptron.py:692: ConvergenceWarning: Stochastic Optimizer: Maximum iterations (200) reached and the optimization hasn't converged yet.\n",
      "  warnings.warn(\n",
      "C:\\Users\\student\\anaconda3\\lib\\site-packages\\sklearn\\neural_network\\_multilayer_perceptron.py:692: ConvergenceWarning: Stochastic Optimizer: Maximum iterations (200) reached and the optimization hasn't converged yet.\n",
      "  warnings.warn(\n",
      "C:\\Users\\student\\anaconda3\\lib\\site-packages\\sklearn\\neural_network\\_multilayer_perceptron.py:692: ConvergenceWarning: Stochastic Optimizer: Maximum iterations (200) reached and the optimization hasn't converged yet.\n",
      "  warnings.warn(\n",
      "C:\\Users\\student\\anaconda3\\lib\\site-packages\\sklearn\\neural_network\\_multilayer_perceptron.py:692: ConvergenceWarning: Stochastic Optimizer: Maximum iterations (200) reached and the optimization hasn't converged yet.\n",
      "  warnings.warn(\n",
      "C:\\Users\\student\\anaconda3\\lib\\site-packages\\sklearn\\neural_network\\_multilayer_perceptron.py:692: ConvergenceWarning: Stochastic Optimizer: Maximum iterations (200) reached and the optimization hasn't converged yet.\n",
      "  warnings.warn(\n",
      "C:\\Users\\student\\anaconda3\\lib\\site-packages\\sklearn\\neural_network\\_multilayer_perceptron.py:692: ConvergenceWarning: Stochastic Optimizer: Maximum iterations (200) reached and the optimization hasn't converged yet.\n",
      "  warnings.warn(\n",
      "C:\\Users\\student\\anaconda3\\lib\\site-packages\\sklearn\\neural_network\\_multilayer_perceptron.py:692: ConvergenceWarning: Stochastic Optimizer: Maximum iterations (200) reached and the optimization hasn't converged yet.\n",
      "  warnings.warn(\n",
      "C:\\Users\\student\\anaconda3\\lib\\site-packages\\sklearn\\neural_network\\_multilayer_perceptron.py:692: ConvergenceWarning: Stochastic Optimizer: Maximum iterations (200) reached and the optimization hasn't converged yet.\n",
      "  warnings.warn(\n",
      "C:\\Users\\student\\anaconda3\\lib\\site-packages\\sklearn\\neural_network\\_multilayer_perceptron.py:692: ConvergenceWarning: Stochastic Optimizer: Maximum iterations (200) reached and the optimization hasn't converged yet.\n",
      "  warnings.warn(\n",
      "C:\\Users\\student\\anaconda3\\lib\\site-packages\\sklearn\\neural_network\\_multilayer_perceptron.py:692: ConvergenceWarning: Stochastic Optimizer: Maximum iterations (200) reached and the optimization hasn't converged yet.\n",
      "  warnings.warn(\n",
      "C:\\Users\\student\\anaconda3\\lib\\site-packages\\sklearn\\neural_network\\_multilayer_perceptron.py:692: ConvergenceWarning: Stochastic Optimizer: Maximum iterations (200) reached and the optimization hasn't converged yet.\n",
      "  warnings.warn(\n",
      "C:\\Users\\student\\anaconda3\\lib\\site-packages\\sklearn\\neural_network\\_multilayer_perceptron.py:692: ConvergenceWarning: Stochastic Optimizer: Maximum iterations (200) reached and the optimization hasn't converged yet.\n",
      "  warnings.warn(\n",
      "C:\\Users\\student\\anaconda3\\lib\\site-packages\\sklearn\\neural_network\\_multilayer_perceptron.py:692: ConvergenceWarning: Stochastic Optimizer: Maximum iterations (200) reached and the optimization hasn't converged yet.\n",
      "  warnings.warn(\n",
      "C:\\Users\\student\\anaconda3\\lib\\site-packages\\sklearn\\neural_network\\_multilayer_perceptron.py:692: ConvergenceWarning: Stochastic Optimizer: Maximum iterations (200) reached and the optimization hasn't converged yet.\n",
      "  warnings.warn(\n",
      "C:\\Users\\student\\anaconda3\\lib\\site-packages\\sklearn\\neural_network\\_multilayer_perceptron.py:692: ConvergenceWarning: Stochastic Optimizer: Maximum iterations (200) reached and the optimization hasn't converged yet.\n",
      "  warnings.warn(\n",
      "C:\\Users\\student\\anaconda3\\lib\\site-packages\\sklearn\\neural_network\\_multilayer_perceptron.py:692: ConvergenceWarning: Stochastic Optimizer: Maximum iterations (200) reached and the optimization hasn't converged yet.\n",
      "  warnings.warn(\n",
      "C:\\Users\\student\\anaconda3\\lib\\site-packages\\sklearn\\neural_network\\_multilayer_perceptron.py:692: ConvergenceWarning: Stochastic Optimizer: Maximum iterations (200) reached and the optimization hasn't converged yet.\n",
      "  warnings.warn(\n",
      "C:\\Users\\student\\anaconda3\\lib\\site-packages\\sklearn\\neural_network\\_multilayer_perceptron.py:692: ConvergenceWarning: Stochastic Optimizer: Maximum iterations (200) reached and the optimization hasn't converged yet.\n",
      "  warnings.warn(\n",
      "C:\\Users\\student\\anaconda3\\lib\\site-packages\\sklearn\\neural_network\\_multilayer_perceptron.py:692: ConvergenceWarning: Stochastic Optimizer: Maximum iterations (200) reached and the optimization hasn't converged yet.\n",
      "  warnings.warn(\n"
     ]
    },
    {
     "name": "stderr",
     "output_type": "stream",
     "text": [
      "C:\\Users\\student\\anaconda3\\lib\\site-packages\\sklearn\\neural_network\\_multilayer_perceptron.py:692: ConvergenceWarning: Stochastic Optimizer: Maximum iterations (200) reached and the optimization hasn't converged yet.\n",
      "  warnings.warn(\n",
      "C:\\Users\\student\\anaconda3\\lib\\site-packages\\sklearn\\neural_network\\_multilayer_perceptron.py:692: ConvergenceWarning: Stochastic Optimizer: Maximum iterations (200) reached and the optimization hasn't converged yet.\n",
      "  warnings.warn(\n",
      "C:\\Users\\student\\anaconda3\\lib\\site-packages\\sklearn\\neural_network\\_multilayer_perceptron.py:692: ConvergenceWarning: Stochastic Optimizer: Maximum iterations (200) reached and the optimization hasn't converged yet.\n",
      "  warnings.warn(\n",
      "C:\\Users\\student\\anaconda3\\lib\\site-packages\\sklearn\\neural_network\\_multilayer_perceptron.py:692: ConvergenceWarning: Stochastic Optimizer: Maximum iterations (200) reached and the optimization hasn't converged yet.\n",
      "  warnings.warn(\n",
      "C:\\Users\\student\\anaconda3\\lib\\site-packages\\sklearn\\neural_network\\_multilayer_perceptron.py:692: ConvergenceWarning: Stochastic Optimizer: Maximum iterations (200) reached and the optimization hasn't converged yet.\n",
      "  warnings.warn(\n",
      "C:\\Users\\student\\anaconda3\\lib\\site-packages\\sklearn\\neural_network\\_multilayer_perceptron.py:692: ConvergenceWarning: Stochastic Optimizer: Maximum iterations (200) reached and the optimization hasn't converged yet.\n",
      "  warnings.warn(\n",
      "C:\\Users\\student\\anaconda3\\lib\\site-packages\\sklearn\\neural_network\\_multilayer_perceptron.py:692: ConvergenceWarning: Stochastic Optimizer: Maximum iterations (200) reached and the optimization hasn't converged yet.\n",
      "  warnings.warn(\n",
      "C:\\Users\\student\\anaconda3\\lib\\site-packages\\sklearn\\neural_network\\_multilayer_perceptron.py:692: ConvergenceWarning: Stochastic Optimizer: Maximum iterations (200) reached and the optimization hasn't converged yet.\n",
      "  warnings.warn(\n",
      "C:\\Users\\student\\anaconda3\\lib\\site-packages\\sklearn\\neural_network\\_multilayer_perceptron.py:692: ConvergenceWarning: Stochastic Optimizer: Maximum iterations (200) reached and the optimization hasn't converged yet.\n",
      "  warnings.warn(\n",
      "C:\\Users\\student\\anaconda3\\lib\\site-packages\\sklearn\\neural_network\\_multilayer_perceptron.py:692: ConvergenceWarning: Stochastic Optimizer: Maximum iterations (200) reached and the optimization hasn't converged yet.\n",
      "  warnings.warn(\n",
      "C:\\Users\\student\\anaconda3\\lib\\site-packages\\sklearn\\neural_network\\_multilayer_perceptron.py:692: ConvergenceWarning: Stochastic Optimizer: Maximum iterations (200) reached and the optimization hasn't converged yet.\n",
      "  warnings.warn(\n",
      "C:\\Users\\student\\anaconda3\\lib\\site-packages\\sklearn\\neural_network\\_multilayer_perceptron.py:692: ConvergenceWarning: Stochastic Optimizer: Maximum iterations (200) reached and the optimization hasn't converged yet.\n",
      "  warnings.warn(\n",
      "C:\\Users\\student\\anaconda3\\lib\\site-packages\\sklearn\\neural_network\\_multilayer_perceptron.py:692: ConvergenceWarning: Stochastic Optimizer: Maximum iterations (200) reached and the optimization hasn't converged yet.\n",
      "  warnings.warn(\n",
      "C:\\Users\\student\\anaconda3\\lib\\site-packages\\sklearn\\neural_network\\_multilayer_perceptron.py:692: ConvergenceWarning: Stochastic Optimizer: Maximum iterations (200) reached and the optimization hasn't converged yet.\n",
      "  warnings.warn(\n",
      "C:\\Users\\student\\anaconda3\\lib\\site-packages\\sklearn\\neural_network\\_multilayer_perceptron.py:692: ConvergenceWarning: Stochastic Optimizer: Maximum iterations (200) reached and the optimization hasn't converged yet.\n",
      "  warnings.warn(\n",
      "C:\\Users\\student\\anaconda3\\lib\\site-packages\\sklearn\\neural_network\\_multilayer_perceptron.py:692: ConvergenceWarning: Stochastic Optimizer: Maximum iterations (200) reached and the optimization hasn't converged yet.\n",
      "  warnings.warn(\n",
      "C:\\Users\\student\\anaconda3\\lib\\site-packages\\sklearn\\neural_network\\_multilayer_perceptron.py:692: ConvergenceWarning: Stochastic Optimizer: Maximum iterations (200) reached and the optimization hasn't converged yet.\n",
      "  warnings.warn(\n",
      "C:\\Users\\student\\anaconda3\\lib\\site-packages\\sklearn\\neural_network\\_multilayer_perceptron.py:692: ConvergenceWarning: Stochastic Optimizer: Maximum iterations (200) reached and the optimization hasn't converged yet.\n",
      "  warnings.warn(\n",
      "C:\\Users\\student\\anaconda3\\lib\\site-packages\\sklearn\\neural_network\\_multilayer_perceptron.py:692: ConvergenceWarning: Stochastic Optimizer: Maximum iterations (200) reached and the optimization hasn't converged yet.\n",
      "  warnings.warn(\n",
      "C:\\Users\\student\\anaconda3\\lib\\site-packages\\sklearn\\neural_network\\_multilayer_perceptron.py:692: ConvergenceWarning: Stochastic Optimizer: Maximum iterations (200) reached and the optimization hasn't converged yet.\n",
      "  warnings.warn(\n",
      "C:\\Users\\student\\anaconda3\\lib\\site-packages\\sklearn\\neural_network\\_multilayer_perceptron.py:692: ConvergenceWarning: Stochastic Optimizer: Maximum iterations (200) reached and the optimization hasn't converged yet.\n",
      "  warnings.warn(\n",
      "C:\\Users\\student\\anaconda3\\lib\\site-packages\\sklearn\\neural_network\\_multilayer_perceptron.py:692: ConvergenceWarning: Stochastic Optimizer: Maximum iterations (200) reached and the optimization hasn't converged yet.\n",
      "  warnings.warn(\n",
      "C:\\Users\\student\\anaconda3\\lib\\site-packages\\sklearn\\neural_network\\_multilayer_perceptron.py:692: ConvergenceWarning: Stochastic Optimizer: Maximum iterations (200) reached and the optimization hasn't converged yet.\n",
      "  warnings.warn(\n",
      "C:\\Users\\student\\anaconda3\\lib\\site-packages\\sklearn\\neural_network\\_multilayer_perceptron.py:692: ConvergenceWarning: Stochastic Optimizer: Maximum iterations (200) reached and the optimization hasn't converged yet.\n",
      "  warnings.warn(\n",
      "C:\\Users\\student\\anaconda3\\lib\\site-packages\\sklearn\\neural_network\\_multilayer_perceptron.py:692: ConvergenceWarning: Stochastic Optimizer: Maximum iterations (200) reached and the optimization hasn't converged yet.\n",
      "  warnings.warn(\n",
      "C:\\Users\\student\\anaconda3\\lib\\site-packages\\sklearn\\neural_network\\_multilayer_perceptron.py:692: ConvergenceWarning: Stochastic Optimizer: Maximum iterations (200) reached and the optimization hasn't converged yet.\n",
      "  warnings.warn(\n",
      "C:\\Users\\student\\anaconda3\\lib\\site-packages\\sklearn\\neural_network\\_multilayer_perceptron.py:692: ConvergenceWarning: Stochastic Optimizer: Maximum iterations (200) reached and the optimization hasn't converged yet.\n",
      "  warnings.warn(\n",
      "C:\\Users\\student\\anaconda3\\lib\\site-packages\\sklearn\\neural_network\\_multilayer_perceptron.py:692: ConvergenceWarning: Stochastic Optimizer: Maximum iterations (200) reached and the optimization hasn't converged yet.\n",
      "  warnings.warn(\n",
      "C:\\Users\\student\\anaconda3\\lib\\site-packages\\sklearn\\neural_network\\_multilayer_perceptron.py:692: ConvergenceWarning: Stochastic Optimizer: Maximum iterations (200) reached and the optimization hasn't converged yet.\n",
      "  warnings.warn(\n",
      "C:\\Users\\student\\anaconda3\\lib\\site-packages\\sklearn\\neural_network\\_multilayer_perceptron.py:692: ConvergenceWarning: Stochastic Optimizer: Maximum iterations (200) reached and the optimization hasn't converged yet.\n",
      "  warnings.warn(\n",
      "C:\\Users\\student\\anaconda3\\lib\\site-packages\\sklearn\\neural_network\\_multilayer_perceptron.py:692: ConvergenceWarning: Stochastic Optimizer: Maximum iterations (200) reached and the optimization hasn't converged yet.\n",
      "  warnings.warn(\n",
      "C:\\Users\\student\\anaconda3\\lib\\site-packages\\sklearn\\neural_network\\_multilayer_perceptron.py:692: ConvergenceWarning: Stochastic Optimizer: Maximum iterations (200) reached and the optimization hasn't converged yet.\n",
      "  warnings.warn(\n",
      "C:\\Users\\student\\anaconda3\\lib\\site-packages\\sklearn\\neural_network\\_multilayer_perceptron.py:692: ConvergenceWarning: Stochastic Optimizer: Maximum iterations (200) reached and the optimization hasn't converged yet.\n",
      "  warnings.warn(\n",
      "C:\\Users\\student\\anaconda3\\lib\\site-packages\\sklearn\\neural_network\\_multilayer_perceptron.py:692: ConvergenceWarning: Stochastic Optimizer: Maximum iterations (200) reached and the optimization hasn't converged yet.\n",
      "  warnings.warn(\n",
      "C:\\Users\\student\\anaconda3\\lib\\site-packages\\sklearn\\neural_network\\_multilayer_perceptron.py:692: ConvergenceWarning: Stochastic Optimizer: Maximum iterations (200) reached and the optimization hasn't converged yet.\n",
      "  warnings.warn(\n",
      "C:\\Users\\student\\anaconda3\\lib\\site-packages\\sklearn\\neural_network\\_multilayer_perceptron.py:692: ConvergenceWarning: Stochastic Optimizer: Maximum iterations (200) reached and the optimization hasn't converged yet.\n",
      "  warnings.warn(\n"
     ]
    },
    {
     "name": "stderr",
     "output_type": "stream",
     "text": [
      "C:\\Users\\student\\anaconda3\\lib\\site-packages\\sklearn\\neural_network\\_multilayer_perceptron.py:692: ConvergenceWarning: Stochastic Optimizer: Maximum iterations (200) reached and the optimization hasn't converged yet.\n",
      "  warnings.warn(\n",
      "C:\\Users\\student\\anaconda3\\lib\\site-packages\\sklearn\\neural_network\\_multilayer_perceptron.py:692: ConvergenceWarning: Stochastic Optimizer: Maximum iterations (200) reached and the optimization hasn't converged yet.\n",
      "  warnings.warn(\n",
      "C:\\Users\\student\\anaconda3\\lib\\site-packages\\sklearn\\neural_network\\_multilayer_perceptron.py:692: ConvergenceWarning: Stochastic Optimizer: Maximum iterations (200) reached and the optimization hasn't converged yet.\n",
      "  warnings.warn(\n",
      "C:\\Users\\student\\anaconda3\\lib\\site-packages\\sklearn\\neural_network\\_multilayer_perceptron.py:692: ConvergenceWarning: Stochastic Optimizer: Maximum iterations (200) reached and the optimization hasn't converged yet.\n",
      "  warnings.warn(\n",
      "C:\\Users\\student\\anaconda3\\lib\\site-packages\\sklearn\\neural_network\\_multilayer_perceptron.py:692: ConvergenceWarning: Stochastic Optimizer: Maximum iterations (200) reached and the optimization hasn't converged yet.\n",
      "  warnings.warn(\n",
      "C:\\Users\\student\\anaconda3\\lib\\site-packages\\sklearn\\neural_network\\_multilayer_perceptron.py:692: ConvergenceWarning: Stochastic Optimizer: Maximum iterations (200) reached and the optimization hasn't converged yet.\n",
      "  warnings.warn(\n",
      "C:\\Users\\student\\anaconda3\\lib\\site-packages\\sklearn\\neural_network\\_multilayer_perceptron.py:692: ConvergenceWarning: Stochastic Optimizer: Maximum iterations (200) reached and the optimization hasn't converged yet.\n",
      "  warnings.warn(\n",
      "C:\\Users\\student\\anaconda3\\lib\\site-packages\\sklearn\\neural_network\\_multilayer_perceptron.py:692: ConvergenceWarning: Stochastic Optimizer: Maximum iterations (200) reached and the optimization hasn't converged yet.\n",
      "  warnings.warn(\n",
      "C:\\Users\\student\\anaconda3\\lib\\site-packages\\sklearn\\neural_network\\_multilayer_perceptron.py:692: ConvergenceWarning: Stochastic Optimizer: Maximum iterations (200) reached and the optimization hasn't converged yet.\n",
      "  warnings.warn(\n",
      "C:\\Users\\student\\anaconda3\\lib\\site-packages\\sklearn\\neural_network\\_multilayer_perceptron.py:692: ConvergenceWarning: Stochastic Optimizer: Maximum iterations (200) reached and the optimization hasn't converged yet.\n",
      "  warnings.warn(\n",
      "C:\\Users\\student\\anaconda3\\lib\\site-packages\\sklearn\\neural_network\\_multilayer_perceptron.py:692: ConvergenceWarning: Stochastic Optimizer: Maximum iterations (200) reached and the optimization hasn't converged yet.\n",
      "  warnings.warn(\n",
      "C:\\Users\\student\\anaconda3\\lib\\site-packages\\sklearn\\neural_network\\_multilayer_perceptron.py:692: ConvergenceWarning: Stochastic Optimizer: Maximum iterations (200) reached and the optimization hasn't converged yet.\n",
      "  warnings.warn(\n",
      "C:\\Users\\student\\anaconda3\\lib\\site-packages\\sklearn\\neural_network\\_multilayer_perceptron.py:692: ConvergenceWarning: Stochastic Optimizer: Maximum iterations (200) reached and the optimization hasn't converged yet.\n",
      "  warnings.warn(\n",
      "C:\\Users\\student\\anaconda3\\lib\\site-packages\\sklearn\\neural_network\\_multilayer_perceptron.py:692: ConvergenceWarning: Stochastic Optimizer: Maximum iterations (200) reached and the optimization hasn't converged yet.\n",
      "  warnings.warn(\n",
      "C:\\Users\\student\\anaconda3\\lib\\site-packages\\sklearn\\neural_network\\_multilayer_perceptron.py:692: ConvergenceWarning: Stochastic Optimizer: Maximum iterations (200) reached and the optimization hasn't converged yet.\n",
      "  warnings.warn(\n",
      "C:\\Users\\student\\anaconda3\\lib\\site-packages\\sklearn\\neural_network\\_multilayer_perceptron.py:692: ConvergenceWarning: Stochastic Optimizer: Maximum iterations (200) reached and the optimization hasn't converged yet.\n",
      "  warnings.warn(\n",
      "C:\\Users\\student\\anaconda3\\lib\\site-packages\\sklearn\\neural_network\\_multilayer_perceptron.py:692: ConvergenceWarning: Stochastic Optimizer: Maximum iterations (200) reached and the optimization hasn't converged yet.\n",
      "  warnings.warn(\n",
      "C:\\Users\\student\\anaconda3\\lib\\site-packages\\sklearn\\neural_network\\_multilayer_perceptron.py:692: ConvergenceWarning: Stochastic Optimizer: Maximum iterations (200) reached and the optimization hasn't converged yet.\n",
      "  warnings.warn(\n",
      "C:\\Users\\student\\anaconda3\\lib\\site-packages\\sklearn\\neural_network\\_multilayer_perceptron.py:692: ConvergenceWarning: Stochastic Optimizer: Maximum iterations (200) reached and the optimization hasn't converged yet.\n",
      "  warnings.warn(\n",
      "C:\\Users\\student\\anaconda3\\lib\\site-packages\\sklearn\\neural_network\\_multilayer_perceptron.py:692: ConvergenceWarning: Stochastic Optimizer: Maximum iterations (200) reached and the optimization hasn't converged yet.\n",
      "  warnings.warn(\n",
      "C:\\Users\\student\\anaconda3\\lib\\site-packages\\sklearn\\neural_network\\_multilayer_perceptron.py:692: ConvergenceWarning: Stochastic Optimizer: Maximum iterations (200) reached and the optimization hasn't converged yet.\n",
      "  warnings.warn(\n",
      "C:\\Users\\student\\anaconda3\\lib\\site-packages\\sklearn\\neural_network\\_multilayer_perceptron.py:692: ConvergenceWarning: Stochastic Optimizer: Maximum iterations (200) reached and the optimization hasn't converged yet.\n",
      "  warnings.warn(\n",
      "C:\\Users\\student\\anaconda3\\lib\\site-packages\\sklearn\\neural_network\\_multilayer_perceptron.py:692: ConvergenceWarning: Stochastic Optimizer: Maximum iterations (200) reached and the optimization hasn't converged yet.\n",
      "  warnings.warn(\n",
      "C:\\Users\\student\\anaconda3\\lib\\site-packages\\sklearn\\neural_network\\_multilayer_perceptron.py:692: ConvergenceWarning: Stochastic Optimizer: Maximum iterations (200) reached and the optimization hasn't converged yet.\n",
      "  warnings.warn(\n",
      "C:\\Users\\student\\anaconda3\\lib\\site-packages\\sklearn\\neural_network\\_multilayer_perceptron.py:692: ConvergenceWarning: Stochastic Optimizer: Maximum iterations (200) reached and the optimization hasn't converged yet.\n",
      "  warnings.warn(\n",
      "C:\\Users\\student\\anaconda3\\lib\\site-packages\\sklearn\\neural_network\\_multilayer_perceptron.py:692: ConvergenceWarning: Stochastic Optimizer: Maximum iterations (200) reached and the optimization hasn't converged yet.\n",
      "  warnings.warn(\n",
      "C:\\Users\\student\\anaconda3\\lib\\site-packages\\sklearn\\neural_network\\_multilayer_perceptron.py:692: ConvergenceWarning: Stochastic Optimizer: Maximum iterations (200) reached and the optimization hasn't converged yet.\n",
      "  warnings.warn(\n",
      "C:\\Users\\student\\anaconda3\\lib\\site-packages\\sklearn\\neural_network\\_multilayer_perceptron.py:692: ConvergenceWarning: Stochastic Optimizer: Maximum iterations (200) reached and the optimization hasn't converged yet.\n",
      "  warnings.warn(\n",
      "C:\\Users\\student\\anaconda3\\lib\\site-packages\\sklearn\\neural_network\\_multilayer_perceptron.py:692: ConvergenceWarning: Stochastic Optimizer: Maximum iterations (200) reached and the optimization hasn't converged yet.\n",
      "  warnings.warn(\n",
      "C:\\Users\\student\\anaconda3\\lib\\site-packages\\sklearn\\neural_network\\_multilayer_perceptron.py:692: ConvergenceWarning: Stochastic Optimizer: Maximum iterations (200) reached and the optimization hasn't converged yet.\n",
      "  warnings.warn(\n",
      "C:\\Users\\student\\anaconda3\\lib\\site-packages\\sklearn\\neural_network\\_multilayer_perceptron.py:692: ConvergenceWarning: Stochastic Optimizer: Maximum iterations (200) reached and the optimization hasn't converged yet.\n",
      "  warnings.warn(\n",
      "C:\\Users\\student\\anaconda3\\lib\\site-packages\\sklearn\\neural_network\\_multilayer_perceptron.py:692: ConvergenceWarning: Stochastic Optimizer: Maximum iterations (200) reached and the optimization hasn't converged yet.\n",
      "  warnings.warn(\n",
      "C:\\Users\\student\\anaconda3\\lib\\site-packages\\sklearn\\neural_network\\_multilayer_perceptron.py:692: ConvergenceWarning: Stochastic Optimizer: Maximum iterations (200) reached and the optimization hasn't converged yet.\n",
      "  warnings.warn(\n",
      "C:\\Users\\student\\anaconda3\\lib\\site-packages\\sklearn\\neural_network\\_multilayer_perceptron.py:692: ConvergenceWarning: Stochastic Optimizer: Maximum iterations (200) reached and the optimization hasn't converged yet.\n",
      "  warnings.warn(\n",
      "C:\\Users\\student\\anaconda3\\lib\\site-packages\\sklearn\\neural_network\\_multilayer_perceptron.py:692: ConvergenceWarning: Stochastic Optimizer: Maximum iterations (200) reached and the optimization hasn't converged yet.\n",
      "  warnings.warn(\n",
      "C:\\Users\\student\\anaconda3\\lib\\site-packages\\sklearn\\neural_network\\_multilayer_perceptron.py:692: ConvergenceWarning: Stochastic Optimizer: Maximum iterations (200) reached and the optimization hasn't converged yet.\n",
      "  warnings.warn(\n"
     ]
    },
    {
     "name": "stderr",
     "output_type": "stream",
     "text": [
      "C:\\Users\\student\\anaconda3\\lib\\site-packages\\sklearn\\neural_network\\_multilayer_perceptron.py:692: ConvergenceWarning: Stochastic Optimizer: Maximum iterations (200) reached and the optimization hasn't converged yet.\n",
      "  warnings.warn(\n",
      "C:\\Users\\student\\anaconda3\\lib\\site-packages\\sklearn\\neural_network\\_multilayer_perceptron.py:692: ConvergenceWarning: Stochastic Optimizer: Maximum iterations (200) reached and the optimization hasn't converged yet.\n",
      "  warnings.warn(\n",
      "C:\\Users\\student\\anaconda3\\lib\\site-packages\\sklearn\\neural_network\\_multilayer_perceptron.py:692: ConvergenceWarning: Stochastic Optimizer: Maximum iterations (200) reached and the optimization hasn't converged yet.\n",
      "  warnings.warn(\n",
      "C:\\Users\\student\\anaconda3\\lib\\site-packages\\sklearn\\neural_network\\_multilayer_perceptron.py:692: ConvergenceWarning: Stochastic Optimizer: Maximum iterations (200) reached and the optimization hasn't converged yet.\n",
      "  warnings.warn(\n",
      "C:\\Users\\student\\anaconda3\\lib\\site-packages\\sklearn\\neural_network\\_multilayer_perceptron.py:692: ConvergenceWarning: Stochastic Optimizer: Maximum iterations (200) reached and the optimization hasn't converged yet.\n",
      "  warnings.warn(\n",
      "C:\\Users\\student\\anaconda3\\lib\\site-packages\\sklearn\\neural_network\\_multilayer_perceptron.py:692: ConvergenceWarning: Stochastic Optimizer: Maximum iterations (200) reached and the optimization hasn't converged yet.\n",
      "  warnings.warn(\n",
      "C:\\Users\\student\\anaconda3\\lib\\site-packages\\sklearn\\neural_network\\_multilayer_perceptron.py:692: ConvergenceWarning: Stochastic Optimizer: Maximum iterations (200) reached and the optimization hasn't converged yet.\n",
      "  warnings.warn(\n",
      "C:\\Users\\student\\anaconda3\\lib\\site-packages\\sklearn\\neural_network\\_multilayer_perceptron.py:692: ConvergenceWarning: Stochastic Optimizer: Maximum iterations (200) reached and the optimization hasn't converged yet.\n",
      "  warnings.warn(\n",
      "C:\\Users\\student\\anaconda3\\lib\\site-packages\\sklearn\\neural_network\\_multilayer_perceptron.py:692: ConvergenceWarning: Stochastic Optimizer: Maximum iterations (200) reached and the optimization hasn't converged yet.\n",
      "  warnings.warn(\n",
      "C:\\Users\\student\\anaconda3\\lib\\site-packages\\sklearn\\neural_network\\_multilayer_perceptron.py:692: ConvergenceWarning: Stochastic Optimizer: Maximum iterations (200) reached and the optimization hasn't converged yet.\n",
      "  warnings.warn(\n",
      "C:\\Users\\student\\anaconda3\\lib\\site-packages\\sklearn\\neural_network\\_multilayer_perceptron.py:692: ConvergenceWarning: Stochastic Optimizer: Maximum iterations (200) reached and the optimization hasn't converged yet.\n",
      "  warnings.warn(\n",
      "C:\\Users\\student\\anaconda3\\lib\\site-packages\\sklearn\\neural_network\\_multilayer_perceptron.py:692: ConvergenceWarning: Stochastic Optimizer: Maximum iterations (200) reached and the optimization hasn't converged yet.\n",
      "  warnings.warn(\n",
      "C:\\Users\\student\\anaconda3\\lib\\site-packages\\sklearn\\neural_network\\_multilayer_perceptron.py:692: ConvergenceWarning: Stochastic Optimizer: Maximum iterations (200) reached and the optimization hasn't converged yet.\n",
      "  warnings.warn(\n",
      "C:\\Users\\student\\anaconda3\\lib\\site-packages\\sklearn\\neural_network\\_multilayer_perceptron.py:692: ConvergenceWarning: Stochastic Optimizer: Maximum iterations (200) reached and the optimization hasn't converged yet.\n",
      "  warnings.warn(\n",
      "C:\\Users\\student\\anaconda3\\lib\\site-packages\\sklearn\\neural_network\\_multilayer_perceptron.py:692: ConvergenceWarning: Stochastic Optimizer: Maximum iterations (200) reached and the optimization hasn't converged yet.\n",
      "  warnings.warn(\n",
      "C:\\Users\\student\\anaconda3\\lib\\site-packages\\sklearn\\neural_network\\_multilayer_perceptron.py:692: ConvergenceWarning: Stochastic Optimizer: Maximum iterations (200) reached and the optimization hasn't converged yet.\n",
      "  warnings.warn(\n",
      "C:\\Users\\student\\anaconda3\\lib\\site-packages\\sklearn\\neural_network\\_multilayer_perceptron.py:692: ConvergenceWarning: Stochastic Optimizer: Maximum iterations (200) reached and the optimization hasn't converged yet.\n",
      "  warnings.warn(\n",
      "C:\\Users\\student\\anaconda3\\lib\\site-packages\\sklearn\\neural_network\\_multilayer_perceptron.py:692: ConvergenceWarning: Stochastic Optimizer: Maximum iterations (200) reached and the optimization hasn't converged yet.\n",
      "  warnings.warn(\n",
      "C:\\Users\\student\\anaconda3\\lib\\site-packages\\sklearn\\neural_network\\_multilayer_perceptron.py:692: ConvergenceWarning: Stochastic Optimizer: Maximum iterations (200) reached and the optimization hasn't converged yet.\n",
      "  warnings.warn(\n",
      "C:\\Users\\student\\anaconda3\\lib\\site-packages\\sklearn\\neural_network\\_multilayer_perceptron.py:692: ConvergenceWarning: Stochastic Optimizer: Maximum iterations (200) reached and the optimization hasn't converged yet.\n",
      "  warnings.warn(\n",
      "C:\\Users\\student\\anaconda3\\lib\\site-packages\\sklearn\\neural_network\\_multilayer_perceptron.py:692: ConvergenceWarning: Stochastic Optimizer: Maximum iterations (200) reached and the optimization hasn't converged yet.\n",
      "  warnings.warn(\n",
      "C:\\Users\\student\\anaconda3\\lib\\site-packages\\sklearn\\neural_network\\_multilayer_perceptron.py:692: ConvergenceWarning: Stochastic Optimizer: Maximum iterations (200) reached and the optimization hasn't converged yet.\n",
      "  warnings.warn(\n",
      "C:\\Users\\student\\anaconda3\\lib\\site-packages\\sklearn\\neural_network\\_multilayer_perceptron.py:692: ConvergenceWarning: Stochastic Optimizer: Maximum iterations (200) reached and the optimization hasn't converged yet.\n",
      "  warnings.warn(\n",
      "C:\\Users\\student\\anaconda3\\lib\\site-packages\\sklearn\\neural_network\\_multilayer_perceptron.py:692: ConvergenceWarning: Stochastic Optimizer: Maximum iterations (200) reached and the optimization hasn't converged yet.\n",
      "  warnings.warn(\n",
      "C:\\Users\\student\\anaconda3\\lib\\site-packages\\sklearn\\neural_network\\_multilayer_perceptron.py:692: ConvergenceWarning: Stochastic Optimizer: Maximum iterations (200) reached and the optimization hasn't converged yet.\n",
      "  warnings.warn(\n",
      "C:\\Users\\student\\anaconda3\\lib\\site-packages\\sklearn\\neural_network\\_multilayer_perceptron.py:692: ConvergenceWarning: Stochastic Optimizer: Maximum iterations (200) reached and the optimization hasn't converged yet.\n",
      "  warnings.warn(\n",
      "C:\\Users\\student\\anaconda3\\lib\\site-packages\\sklearn\\neural_network\\_multilayer_perceptron.py:692: ConvergenceWarning: Stochastic Optimizer: Maximum iterations (200) reached and the optimization hasn't converged yet.\n",
      "  warnings.warn(\n"
     ]
    },
    {
     "name": "stdout",
     "output_type": "stream",
     "text": [
      "BEST PARAMS: {'activation': 'logistic', 'hidden_layer_sizes': (10,), 'learning_rate': 'constant'}\n",
      "\n",
      "0.707 (+/-0.055) for {'activation': 'relu', 'hidden_layer_sizes': (10,), 'learning_rate': 'constant'}\n",
      "0.693 (+/-0.036) for {'activation': 'relu', 'hidden_layer_sizes': (10,), 'learning_rate': 'invscaling'}\n",
      "0.696 (+/-0.035) for {'activation': 'relu', 'hidden_layer_sizes': (10,), 'learning_rate': 'adaptive'}\n",
      "0.666 (+/-0.057) for {'activation': 'relu', 'hidden_layer_sizes': (50,), 'learning_rate': 'constant'}\n",
      "0.685 (+/-0.032) for {'activation': 'relu', 'hidden_layer_sizes': (50,), 'learning_rate': 'invscaling'}\n",
      "0.688 (+/-0.042) for {'activation': 'relu', 'hidden_layer_sizes': (50,), 'learning_rate': 'adaptive'}\n",
      "0.686 (+/-0.055) for {'activation': 'relu', 'hidden_layer_sizes': (100,), 'learning_rate': 'constant'}\n",
      "0.686 (+/-0.065) for {'activation': 'relu', 'hidden_layer_sizes': (100,), 'learning_rate': 'invscaling'}\n",
      "0.675 (+/-0.044) for {'activation': 'relu', 'hidden_layer_sizes': (100,), 'learning_rate': 'adaptive'}\n",
      "0.707 (+/-0.024) for {'activation': 'tanh', 'hidden_layer_sizes': (10,), 'learning_rate': 'constant'}\n",
      "0.703 (+/-0.033) for {'activation': 'tanh', 'hidden_layer_sizes': (10,), 'learning_rate': 'invscaling'}\n",
      "0.707 (+/-0.026) for {'activation': 'tanh', 'hidden_layer_sizes': (10,), 'learning_rate': 'adaptive'}\n",
      "0.694 (+/-0.049) for {'activation': 'tanh', 'hidden_layer_sizes': (50,), 'learning_rate': 'constant'}\n",
      "0.693 (+/-0.046) for {'activation': 'tanh', 'hidden_layer_sizes': (50,), 'learning_rate': 'invscaling'}\n",
      "0.696 (+/-0.082) for {'activation': 'tanh', 'hidden_layer_sizes': (50,), 'learning_rate': 'adaptive'}\n",
      "0.682 (+/-0.049) for {'activation': 'tanh', 'hidden_layer_sizes': (100,), 'learning_rate': 'constant'}\n",
      "0.693 (+/-0.066) for {'activation': 'tanh', 'hidden_layer_sizes': (100,), 'learning_rate': 'invscaling'}\n",
      "0.686 (+/-0.06) for {'activation': 'tanh', 'hidden_layer_sizes': (100,), 'learning_rate': 'adaptive'}\n",
      "0.747 (+/-0.042) for {'activation': 'logistic', 'hidden_layer_sizes': (10,), 'learning_rate': 'constant'}\n",
      "0.746 (+/-0.043) for {'activation': 'logistic', 'hidden_layer_sizes': (10,), 'learning_rate': 'invscaling'}\n",
      "0.743 (+/-0.037) for {'activation': 'logistic', 'hidden_layer_sizes': (10,), 'learning_rate': 'adaptive'}\n",
      "0.747 (+/-0.041) for {'activation': 'logistic', 'hidden_layer_sizes': (50,), 'learning_rate': 'constant'}\n",
      "0.742 (+/-0.049) for {'activation': 'logistic', 'hidden_layer_sizes': (50,), 'learning_rate': 'invscaling'}\n",
      "0.741 (+/-0.05) for {'activation': 'logistic', 'hidden_layer_sizes': (50,), 'learning_rate': 'adaptive'}\n",
      "0.742 (+/-0.044) for {'activation': 'logistic', 'hidden_layer_sizes': (100,), 'learning_rate': 'constant'}\n",
      "0.741 (+/-0.043) for {'activation': 'logistic', 'hidden_layer_sizes': (100,), 'learning_rate': 'invscaling'}\n",
      "0.746 (+/-0.043) for {'activation': 'logistic', 'hidden_layer_sizes': (100,), 'learning_rate': 'adaptive'}\n"
     ]
    },
    {
     "name": "stderr",
     "output_type": "stream",
     "text": [
      "C:\\Users\\student\\anaconda3\\lib\\site-packages\\sklearn\\neural_network\\_multilayer_perceptron.py:692: ConvergenceWarning: Stochastic Optimizer: Maximum iterations (200) reached and the optimization hasn't converged yet.\n",
      "  warnings.warn(\n"
     ]
    }
   ],
   "source": [
    "mlp = MLPClassifier()\n",
    "parameters = {\n",
    "    'hidden_layer_sizes': [(10,), (50,), (100,)],\n",
    "    'activation': ['relu', 'tanh', 'logistic'],\n",
    "    'learning_rate': ['constant', 'invscaling', 'adaptive']\n",
    "}\n",
    "\n",
    "cv = GridSearchCV(mlp, parameters, cv=5)\n",
    "cv.fit(train_features_cat, train_labels.values.ravel())\n",
    "\n",
    "print_results(cv)"
   ]
  },
  {
   "cell_type": "code",
   "execution_count": 54,
   "id": "787cb0f1",
   "metadata": {},
   "outputs": [
    {
     "data": {
      "text/plain": [
       "MLPClassifier(activation='logistic', hidden_layer_sizes=(10,))"
      ]
     },
     "execution_count": 54,
     "metadata": {},
     "output_type": "execute_result"
    }
   ],
   "source": [
    "cv.best_estimator_"
   ]
  },
  {
   "cell_type": "code",
   "execution_count": 55,
   "id": "9c87431c",
   "metadata": {},
   "outputs": [
    {
     "data": {
      "text/plain": [
       "['MLP_model_cat.pkl']"
      ]
     },
     "execution_count": 55,
     "metadata": {},
     "output_type": "execute_result"
    }
   ],
   "source": [
    "joblib.dump(cv.best_estimator_, 'MLP_model_cat.pkl')"
   ]
  },
  {
   "cell_type": "markdown",
   "id": "c45069db",
   "metadata": {},
   "source": [
    "### Step #11: Multi-Layer Perceptron with Numerical Features\n"
   ]
  },
  {
   "cell_type": "code",
   "execution_count": 56,
   "id": "bccf386f",
   "metadata": {},
   "outputs": [
    {
     "name": "stderr",
     "output_type": "stream",
     "text": [
      "C:\\Users\\student\\anaconda3\\lib\\site-packages\\sklearn\\neural_network\\_multilayer_perceptron.py:692: ConvergenceWarning: Stochastic Optimizer: Maximum iterations (200) reached and the optimization hasn't converged yet.\n",
      "  warnings.warn(\n",
      "C:\\Users\\student\\anaconda3\\lib\\site-packages\\sklearn\\neural_network\\_multilayer_perceptron.py:692: ConvergenceWarning: Stochastic Optimizer: Maximum iterations (200) reached and the optimization hasn't converged yet.\n",
      "  warnings.warn(\n",
      "C:\\Users\\student\\anaconda3\\lib\\site-packages\\sklearn\\neural_network\\_multilayer_perceptron.py:692: ConvergenceWarning: Stochastic Optimizer: Maximum iterations (200) reached and the optimization hasn't converged yet.\n",
      "  warnings.warn(\n",
      "C:\\Users\\student\\anaconda3\\lib\\site-packages\\sklearn\\neural_network\\_multilayer_perceptron.py:692: ConvergenceWarning: Stochastic Optimizer: Maximum iterations (200) reached and the optimization hasn't converged yet.\n",
      "  warnings.warn(\n",
      "C:\\Users\\student\\anaconda3\\lib\\site-packages\\sklearn\\neural_network\\_multilayer_perceptron.py:692: ConvergenceWarning: Stochastic Optimizer: Maximum iterations (200) reached and the optimization hasn't converged yet.\n",
      "  warnings.warn(\n",
      "C:\\Users\\student\\anaconda3\\lib\\site-packages\\sklearn\\neural_network\\_multilayer_perceptron.py:692: ConvergenceWarning: Stochastic Optimizer: Maximum iterations (200) reached and the optimization hasn't converged yet.\n",
      "  warnings.warn(\n",
      "C:\\Users\\student\\anaconda3\\lib\\site-packages\\sklearn\\neural_network\\_multilayer_perceptron.py:692: ConvergenceWarning: Stochastic Optimizer: Maximum iterations (200) reached and the optimization hasn't converged yet.\n",
      "  warnings.warn(\n",
      "C:\\Users\\student\\anaconda3\\lib\\site-packages\\sklearn\\neural_network\\_multilayer_perceptron.py:692: ConvergenceWarning: Stochastic Optimizer: Maximum iterations (200) reached and the optimization hasn't converged yet.\n",
      "  warnings.warn(\n",
      "C:\\Users\\student\\anaconda3\\lib\\site-packages\\sklearn\\neural_network\\_multilayer_perceptron.py:692: ConvergenceWarning: Stochastic Optimizer: Maximum iterations (200) reached and the optimization hasn't converged yet.\n",
      "  warnings.warn(\n",
      "C:\\Users\\student\\anaconda3\\lib\\site-packages\\sklearn\\neural_network\\_multilayer_perceptron.py:692: ConvergenceWarning: Stochastic Optimizer: Maximum iterations (200) reached and the optimization hasn't converged yet.\n",
      "  warnings.warn(\n",
      "C:\\Users\\student\\anaconda3\\lib\\site-packages\\sklearn\\neural_network\\_multilayer_perceptron.py:692: ConvergenceWarning: Stochastic Optimizer: Maximum iterations (200) reached and the optimization hasn't converged yet.\n",
      "  warnings.warn(\n",
      "C:\\Users\\student\\anaconda3\\lib\\site-packages\\sklearn\\neural_network\\_multilayer_perceptron.py:692: ConvergenceWarning: Stochastic Optimizer: Maximum iterations (200) reached and the optimization hasn't converged yet.\n",
      "  warnings.warn(\n",
      "C:\\Users\\student\\anaconda3\\lib\\site-packages\\sklearn\\neural_network\\_multilayer_perceptron.py:692: ConvergenceWarning: Stochastic Optimizer: Maximum iterations (200) reached and the optimization hasn't converged yet.\n",
      "  warnings.warn(\n",
      "C:\\Users\\student\\anaconda3\\lib\\site-packages\\sklearn\\neural_network\\_multilayer_perceptron.py:692: ConvergenceWarning: Stochastic Optimizer: Maximum iterations (200) reached and the optimization hasn't converged yet.\n",
      "  warnings.warn(\n",
      "C:\\Users\\student\\anaconda3\\lib\\site-packages\\sklearn\\neural_network\\_multilayer_perceptron.py:692: ConvergenceWarning: Stochastic Optimizer: Maximum iterations (200) reached and the optimization hasn't converged yet.\n",
      "  warnings.warn(\n",
      "C:\\Users\\student\\anaconda3\\lib\\site-packages\\sklearn\\neural_network\\_multilayer_perceptron.py:692: ConvergenceWarning: Stochastic Optimizer: Maximum iterations (200) reached and the optimization hasn't converged yet.\n",
      "  warnings.warn(\n",
      "C:\\Users\\student\\anaconda3\\lib\\site-packages\\sklearn\\neural_network\\_multilayer_perceptron.py:692: ConvergenceWarning: Stochastic Optimizer: Maximum iterations (200) reached and the optimization hasn't converged yet.\n",
      "  warnings.warn(\n",
      "C:\\Users\\student\\anaconda3\\lib\\site-packages\\sklearn\\neural_network\\_multilayer_perceptron.py:692: ConvergenceWarning: Stochastic Optimizer: Maximum iterations (200) reached and the optimization hasn't converged yet.\n",
      "  warnings.warn(\n",
      "C:\\Users\\student\\anaconda3\\lib\\site-packages\\sklearn\\neural_network\\_multilayer_perceptron.py:692: ConvergenceWarning: Stochastic Optimizer: Maximum iterations (200) reached and the optimization hasn't converged yet.\n",
      "  warnings.warn(\n",
      "C:\\Users\\student\\anaconda3\\lib\\site-packages\\sklearn\\neural_network\\_multilayer_perceptron.py:692: ConvergenceWarning: Stochastic Optimizer: Maximum iterations (200) reached and the optimization hasn't converged yet.\n",
      "  warnings.warn(\n",
      "C:\\Users\\student\\anaconda3\\lib\\site-packages\\sklearn\\neural_network\\_multilayer_perceptron.py:692: ConvergenceWarning: Stochastic Optimizer: Maximum iterations (200) reached and the optimization hasn't converged yet.\n",
      "  warnings.warn(\n",
      "C:\\Users\\student\\anaconda3\\lib\\site-packages\\sklearn\\neural_network\\_multilayer_perceptron.py:692: ConvergenceWarning: Stochastic Optimizer: Maximum iterations (200) reached and the optimization hasn't converged yet.\n",
      "  warnings.warn(\n",
      "C:\\Users\\student\\anaconda3\\lib\\site-packages\\sklearn\\neural_network\\_multilayer_perceptron.py:692: ConvergenceWarning: Stochastic Optimizer: Maximum iterations (200) reached and the optimization hasn't converged yet.\n",
      "  warnings.warn(\n",
      "C:\\Users\\student\\anaconda3\\lib\\site-packages\\sklearn\\neural_network\\_multilayer_perceptron.py:692: ConvergenceWarning: Stochastic Optimizer: Maximum iterations (200) reached and the optimization hasn't converged yet.\n",
      "  warnings.warn(\n",
      "C:\\Users\\student\\anaconda3\\lib\\site-packages\\sklearn\\neural_network\\_multilayer_perceptron.py:692: ConvergenceWarning: Stochastic Optimizer: Maximum iterations (200) reached and the optimization hasn't converged yet.\n",
      "  warnings.warn(\n",
      "C:\\Users\\student\\anaconda3\\lib\\site-packages\\sklearn\\neural_network\\_multilayer_perceptron.py:692: ConvergenceWarning: Stochastic Optimizer: Maximum iterations (200) reached and the optimization hasn't converged yet.\n",
      "  warnings.warn(\n",
      "C:\\Users\\student\\anaconda3\\lib\\site-packages\\sklearn\\neural_network\\_multilayer_perceptron.py:692: ConvergenceWarning: Stochastic Optimizer: Maximum iterations (200) reached and the optimization hasn't converged yet.\n",
      "  warnings.warn(\n",
      "C:\\Users\\student\\anaconda3\\lib\\site-packages\\sklearn\\neural_network\\_multilayer_perceptron.py:692: ConvergenceWarning: Stochastic Optimizer: Maximum iterations (200) reached and the optimization hasn't converged yet.\n",
      "  warnings.warn(\n",
      "C:\\Users\\student\\anaconda3\\lib\\site-packages\\sklearn\\neural_network\\_multilayer_perceptron.py:692: ConvergenceWarning: Stochastic Optimizer: Maximum iterations (200) reached and the optimization hasn't converged yet.\n",
      "  warnings.warn(\n",
      "C:\\Users\\student\\anaconda3\\lib\\site-packages\\sklearn\\neural_network\\_multilayer_perceptron.py:692: ConvergenceWarning: Stochastic Optimizer: Maximum iterations (200) reached and the optimization hasn't converged yet.\n",
      "  warnings.warn(\n",
      "C:\\Users\\student\\anaconda3\\lib\\site-packages\\sklearn\\neural_network\\_multilayer_perceptron.py:692: ConvergenceWarning: Stochastic Optimizer: Maximum iterations (200) reached and the optimization hasn't converged yet.\n",
      "  warnings.warn(\n",
      "C:\\Users\\student\\anaconda3\\lib\\site-packages\\sklearn\\neural_network\\_multilayer_perceptron.py:692: ConvergenceWarning: Stochastic Optimizer: Maximum iterations (200) reached and the optimization hasn't converged yet.\n",
      "  warnings.warn(\n",
      "C:\\Users\\student\\anaconda3\\lib\\site-packages\\sklearn\\neural_network\\_multilayer_perceptron.py:692: ConvergenceWarning: Stochastic Optimizer: Maximum iterations (200) reached and the optimization hasn't converged yet.\n",
      "  warnings.warn(\n",
      "C:\\Users\\student\\anaconda3\\lib\\site-packages\\sklearn\\neural_network\\_multilayer_perceptron.py:692: ConvergenceWarning: Stochastic Optimizer: Maximum iterations (200) reached and the optimization hasn't converged yet.\n",
      "  warnings.warn(\n",
      "C:\\Users\\student\\anaconda3\\lib\\site-packages\\sklearn\\neural_network\\_multilayer_perceptron.py:692: ConvergenceWarning: Stochastic Optimizer: Maximum iterations (200) reached and the optimization hasn't converged yet.\n",
      "  warnings.warn(\n",
      "C:\\Users\\student\\anaconda3\\lib\\site-packages\\sklearn\\neural_network\\_multilayer_perceptron.py:692: ConvergenceWarning: Stochastic Optimizer: Maximum iterations (200) reached and the optimization hasn't converged yet.\n",
      "  warnings.warn(\n"
     ]
    },
    {
     "name": "stderr",
     "output_type": "stream",
     "text": [
      "C:\\Users\\student\\anaconda3\\lib\\site-packages\\sklearn\\neural_network\\_multilayer_perceptron.py:692: ConvergenceWarning: Stochastic Optimizer: Maximum iterations (200) reached and the optimization hasn't converged yet.\n",
      "  warnings.warn(\n",
      "C:\\Users\\student\\anaconda3\\lib\\site-packages\\sklearn\\neural_network\\_multilayer_perceptron.py:692: ConvergenceWarning: Stochastic Optimizer: Maximum iterations (200) reached and the optimization hasn't converged yet.\n",
      "  warnings.warn(\n",
      "C:\\Users\\student\\anaconda3\\lib\\site-packages\\sklearn\\neural_network\\_multilayer_perceptron.py:692: ConvergenceWarning: Stochastic Optimizer: Maximum iterations (200) reached and the optimization hasn't converged yet.\n",
      "  warnings.warn(\n",
      "C:\\Users\\student\\anaconda3\\lib\\site-packages\\sklearn\\neural_network\\_multilayer_perceptron.py:692: ConvergenceWarning: Stochastic Optimizer: Maximum iterations (200) reached and the optimization hasn't converged yet.\n",
      "  warnings.warn(\n",
      "C:\\Users\\student\\anaconda3\\lib\\site-packages\\sklearn\\neural_network\\_multilayer_perceptron.py:692: ConvergenceWarning: Stochastic Optimizer: Maximum iterations (200) reached and the optimization hasn't converged yet.\n",
      "  warnings.warn(\n",
      "C:\\Users\\student\\anaconda3\\lib\\site-packages\\sklearn\\neural_network\\_multilayer_perceptron.py:692: ConvergenceWarning: Stochastic Optimizer: Maximum iterations (200) reached and the optimization hasn't converged yet.\n",
      "  warnings.warn(\n",
      "C:\\Users\\student\\anaconda3\\lib\\site-packages\\sklearn\\neural_network\\_multilayer_perceptron.py:692: ConvergenceWarning: Stochastic Optimizer: Maximum iterations (200) reached and the optimization hasn't converged yet.\n",
      "  warnings.warn(\n",
      "C:\\Users\\student\\anaconda3\\lib\\site-packages\\sklearn\\neural_network\\_multilayer_perceptron.py:692: ConvergenceWarning: Stochastic Optimizer: Maximum iterations (200) reached and the optimization hasn't converged yet.\n",
      "  warnings.warn(\n",
      "C:\\Users\\student\\anaconda3\\lib\\site-packages\\sklearn\\neural_network\\_multilayer_perceptron.py:692: ConvergenceWarning: Stochastic Optimizer: Maximum iterations (200) reached and the optimization hasn't converged yet.\n",
      "  warnings.warn(\n",
      "C:\\Users\\student\\anaconda3\\lib\\site-packages\\sklearn\\neural_network\\_multilayer_perceptron.py:692: ConvergenceWarning: Stochastic Optimizer: Maximum iterations (200) reached and the optimization hasn't converged yet.\n",
      "  warnings.warn(\n",
      "C:\\Users\\student\\anaconda3\\lib\\site-packages\\sklearn\\neural_network\\_multilayer_perceptron.py:692: ConvergenceWarning: Stochastic Optimizer: Maximum iterations (200) reached and the optimization hasn't converged yet.\n",
      "  warnings.warn(\n",
      "C:\\Users\\student\\anaconda3\\lib\\site-packages\\sklearn\\neural_network\\_multilayer_perceptron.py:692: ConvergenceWarning: Stochastic Optimizer: Maximum iterations (200) reached and the optimization hasn't converged yet.\n",
      "  warnings.warn(\n",
      "C:\\Users\\student\\anaconda3\\lib\\site-packages\\sklearn\\neural_network\\_multilayer_perceptron.py:692: ConvergenceWarning: Stochastic Optimizer: Maximum iterations (200) reached and the optimization hasn't converged yet.\n",
      "  warnings.warn(\n",
      "C:\\Users\\student\\anaconda3\\lib\\site-packages\\sklearn\\neural_network\\_multilayer_perceptron.py:692: ConvergenceWarning: Stochastic Optimizer: Maximum iterations (200) reached and the optimization hasn't converged yet.\n",
      "  warnings.warn(\n",
      "C:\\Users\\student\\anaconda3\\lib\\site-packages\\sklearn\\neural_network\\_multilayer_perceptron.py:692: ConvergenceWarning: Stochastic Optimizer: Maximum iterations (200) reached and the optimization hasn't converged yet.\n",
      "  warnings.warn(\n",
      "C:\\Users\\student\\anaconda3\\lib\\site-packages\\sklearn\\neural_network\\_multilayer_perceptron.py:692: ConvergenceWarning: Stochastic Optimizer: Maximum iterations (200) reached and the optimization hasn't converged yet.\n",
      "  warnings.warn(\n"
     ]
    },
    {
     "name": "stdout",
     "output_type": "stream",
     "text": [
      "BEST PARAMS: {'activation': 'tanh', 'hidden_layer_sizes': (10,), 'learning_rate': 'adaptive'}\n",
      "\n",
      "0.753 (+/-0.025) for {'activation': 'relu', 'hidden_layer_sizes': (10,), 'learning_rate': 'constant'}\n",
      "0.752 (+/-0.022) for {'activation': 'relu', 'hidden_layer_sizes': (10,), 'learning_rate': 'invscaling'}\n",
      "0.755 (+/-0.018) for {'activation': 'relu', 'hidden_layer_sizes': (10,), 'learning_rate': 'adaptive'}\n",
      "0.747 (+/-0.023) for {'activation': 'relu', 'hidden_layer_sizes': (50,), 'learning_rate': 'constant'}\n",
      "0.756 (+/-0.023) for {'activation': 'relu', 'hidden_layer_sizes': (50,), 'learning_rate': 'invscaling'}\n",
      "0.753 (+/-0.026) for {'activation': 'relu', 'hidden_layer_sizes': (50,), 'learning_rate': 'adaptive'}\n",
      "0.751 (+/-0.023) for {'activation': 'relu', 'hidden_layer_sizes': (100,), 'learning_rate': 'constant'}\n",
      "0.751 (+/-0.024) for {'activation': 'relu', 'hidden_layer_sizes': (100,), 'learning_rate': 'invscaling'}\n",
      "0.753 (+/-0.021) for {'activation': 'relu', 'hidden_layer_sizes': (100,), 'learning_rate': 'adaptive'}\n",
      "0.756 (+/-0.027) for {'activation': 'tanh', 'hidden_layer_sizes': (10,), 'learning_rate': 'constant'}\n",
      "0.757 (+/-0.027) for {'activation': 'tanh', 'hidden_layer_sizes': (10,), 'learning_rate': 'invscaling'}\n",
      "0.757 (+/-0.019) for {'activation': 'tanh', 'hidden_layer_sizes': (10,), 'learning_rate': 'adaptive'}\n",
      "0.754 (+/-0.022) for {'activation': 'tanh', 'hidden_layer_sizes': (50,), 'learning_rate': 'constant'}\n",
      "0.756 (+/-0.017) for {'activation': 'tanh', 'hidden_layer_sizes': (50,), 'learning_rate': 'invscaling'}\n",
      "0.756 (+/-0.031) for {'activation': 'tanh', 'hidden_layer_sizes': (50,), 'learning_rate': 'adaptive'}\n",
      "0.753 (+/-0.031) for {'activation': 'tanh', 'hidden_layer_sizes': (100,), 'learning_rate': 'constant'}\n",
      "0.753 (+/-0.02) for {'activation': 'tanh', 'hidden_layer_sizes': (100,), 'learning_rate': 'invscaling'}\n",
      "0.754 (+/-0.026) for {'activation': 'tanh', 'hidden_layer_sizes': (100,), 'learning_rate': 'adaptive'}\n",
      "0.748 (+/-0.01) for {'activation': 'logistic', 'hidden_layer_sizes': (10,), 'learning_rate': 'constant'}\n",
      "0.748 (+/-0.01) for {'activation': 'logistic', 'hidden_layer_sizes': (10,), 'learning_rate': 'invscaling'}\n",
      "0.748 (+/-0.011) for {'activation': 'logistic', 'hidden_layer_sizes': (10,), 'learning_rate': 'adaptive'}\n",
      "0.749 (+/-0.022) for {'activation': 'logistic', 'hidden_layer_sizes': (50,), 'learning_rate': 'constant'}\n",
      "0.751 (+/-0.019) for {'activation': 'logistic', 'hidden_layer_sizes': (50,), 'learning_rate': 'invscaling'}\n",
      "0.749 (+/-0.016) for {'activation': 'logistic', 'hidden_layer_sizes': (50,), 'learning_rate': 'adaptive'}\n",
      "0.753 (+/-0.029) for {'activation': 'logistic', 'hidden_layer_sizes': (100,), 'learning_rate': 'constant'}\n",
      "0.753 (+/-0.029) for {'activation': 'logistic', 'hidden_layer_sizes': (100,), 'learning_rate': 'invscaling'}\n",
      "0.754 (+/-0.028) for {'activation': 'logistic', 'hidden_layer_sizes': (100,), 'learning_rate': 'adaptive'}\n"
     ]
    }
   ],
   "source": [
    "mlp = MLPClassifier()\n",
    "parameters = {\n",
    "    'hidden_layer_sizes': [(10,), (50,), (100,)],\n",
    "    'activation': ['relu', 'tanh', 'logistic'],\n",
    "    'learning_rate': ['constant', 'invscaling', 'adaptive']\n",
    "}\n",
    "\n",
    "cv = GridSearchCV(mlp, parameters, cv=5)\n",
    "cv.fit(train_features_num, train_labels.values.ravel())\n",
    "\n",
    "print_results(cv)"
   ]
  },
  {
   "cell_type": "code",
   "execution_count": 58,
   "id": "c90e4437",
   "metadata": {},
   "outputs": [
    {
     "data": {
      "text/plain": [
       "MLPClassifier(activation='tanh', hidden_layer_sizes=(10,),\n",
       "              learning_rate='adaptive')"
      ]
     },
     "execution_count": 58,
     "metadata": {},
     "output_type": "execute_result"
    }
   ],
   "source": [
    "cv.best_estimator_"
   ]
  },
  {
   "cell_type": "code",
   "execution_count": 59,
   "id": "d999cbdd",
   "metadata": {},
   "outputs": [
    {
     "data": {
      "text/plain": [
       "['MLP_model_num.pkl']"
      ]
     },
     "execution_count": 59,
     "metadata": {},
     "output_type": "execute_result"
    }
   ],
   "source": [
    "joblib.dump(cv.best_estimator_, 'MLP_model_num.pkl')"
   ]
  },
  {
   "cell_type": "markdown",
   "id": "e87ae159",
   "metadata": {},
   "source": [
    "### Step #12: Multi-Layer Perceptron with All Features\n"
   ]
  },
  {
   "cell_type": "code",
   "execution_count": 60,
   "id": "c0fb5643",
   "metadata": {},
   "outputs": [
    {
     "name": "stderr",
     "output_type": "stream",
     "text": [
      "C:\\Users\\student\\anaconda3\\lib\\site-packages\\sklearn\\neural_network\\_multilayer_perceptron.py:692: ConvergenceWarning: Stochastic Optimizer: Maximum iterations (200) reached and the optimization hasn't converged yet.\n",
      "  warnings.warn(\n",
      "C:\\Users\\student\\anaconda3\\lib\\site-packages\\sklearn\\neural_network\\_multilayer_perceptron.py:692: ConvergenceWarning: Stochastic Optimizer: Maximum iterations (200) reached and the optimization hasn't converged yet.\n",
      "  warnings.warn(\n",
      "C:\\Users\\student\\anaconda3\\lib\\site-packages\\sklearn\\neural_network\\_multilayer_perceptron.py:692: ConvergenceWarning: Stochastic Optimizer: Maximum iterations (200) reached and the optimization hasn't converged yet.\n",
      "  warnings.warn(\n",
      "C:\\Users\\student\\anaconda3\\lib\\site-packages\\sklearn\\neural_network\\_multilayer_perceptron.py:692: ConvergenceWarning: Stochastic Optimizer: Maximum iterations (200) reached and the optimization hasn't converged yet.\n",
      "  warnings.warn(\n",
      "C:\\Users\\student\\anaconda3\\lib\\site-packages\\sklearn\\neural_network\\_multilayer_perceptron.py:692: ConvergenceWarning: Stochastic Optimizer: Maximum iterations (200) reached and the optimization hasn't converged yet.\n",
      "  warnings.warn(\n",
      "C:\\Users\\student\\anaconda3\\lib\\site-packages\\sklearn\\neural_network\\_multilayer_perceptron.py:692: ConvergenceWarning: Stochastic Optimizer: Maximum iterations (200) reached and the optimization hasn't converged yet.\n",
      "  warnings.warn(\n",
      "C:\\Users\\student\\anaconda3\\lib\\site-packages\\sklearn\\neural_network\\_multilayer_perceptron.py:692: ConvergenceWarning: Stochastic Optimizer: Maximum iterations (200) reached and the optimization hasn't converged yet.\n",
      "  warnings.warn(\n",
      "C:\\Users\\student\\anaconda3\\lib\\site-packages\\sklearn\\neural_network\\_multilayer_perceptron.py:692: ConvergenceWarning: Stochastic Optimizer: Maximum iterations (200) reached and the optimization hasn't converged yet.\n",
      "  warnings.warn(\n",
      "C:\\Users\\student\\anaconda3\\lib\\site-packages\\sklearn\\neural_network\\_multilayer_perceptron.py:692: ConvergenceWarning: Stochastic Optimizer: Maximum iterations (200) reached and the optimization hasn't converged yet.\n",
      "  warnings.warn(\n",
      "C:\\Users\\student\\anaconda3\\lib\\site-packages\\sklearn\\neural_network\\_multilayer_perceptron.py:692: ConvergenceWarning: Stochastic Optimizer: Maximum iterations (200) reached and the optimization hasn't converged yet.\n",
      "  warnings.warn(\n",
      "C:\\Users\\student\\anaconda3\\lib\\site-packages\\sklearn\\neural_network\\_multilayer_perceptron.py:692: ConvergenceWarning: Stochastic Optimizer: Maximum iterations (200) reached and the optimization hasn't converged yet.\n",
      "  warnings.warn(\n",
      "C:\\Users\\student\\anaconda3\\lib\\site-packages\\sklearn\\neural_network\\_multilayer_perceptron.py:692: ConvergenceWarning: Stochastic Optimizer: Maximum iterations (200) reached and the optimization hasn't converged yet.\n",
      "  warnings.warn(\n",
      "C:\\Users\\student\\anaconda3\\lib\\site-packages\\sklearn\\neural_network\\_multilayer_perceptron.py:692: ConvergenceWarning: Stochastic Optimizer: Maximum iterations (200) reached and the optimization hasn't converged yet.\n",
      "  warnings.warn(\n",
      "C:\\Users\\student\\anaconda3\\lib\\site-packages\\sklearn\\neural_network\\_multilayer_perceptron.py:692: ConvergenceWarning: Stochastic Optimizer: Maximum iterations (200) reached and the optimization hasn't converged yet.\n",
      "  warnings.warn(\n",
      "C:\\Users\\student\\anaconda3\\lib\\site-packages\\sklearn\\neural_network\\_multilayer_perceptron.py:692: ConvergenceWarning: Stochastic Optimizer: Maximum iterations (200) reached and the optimization hasn't converged yet.\n",
      "  warnings.warn(\n",
      "C:\\Users\\student\\anaconda3\\lib\\site-packages\\sklearn\\neural_network\\_multilayer_perceptron.py:692: ConvergenceWarning: Stochastic Optimizer: Maximum iterations (200) reached and the optimization hasn't converged yet.\n",
      "  warnings.warn(\n",
      "C:\\Users\\student\\anaconda3\\lib\\site-packages\\sklearn\\neural_network\\_multilayer_perceptron.py:692: ConvergenceWarning: Stochastic Optimizer: Maximum iterations (200) reached and the optimization hasn't converged yet.\n",
      "  warnings.warn(\n",
      "C:\\Users\\student\\anaconda3\\lib\\site-packages\\sklearn\\neural_network\\_multilayer_perceptron.py:692: ConvergenceWarning: Stochastic Optimizer: Maximum iterations (200) reached and the optimization hasn't converged yet.\n",
      "  warnings.warn(\n",
      "C:\\Users\\student\\anaconda3\\lib\\site-packages\\sklearn\\neural_network\\_multilayer_perceptron.py:692: ConvergenceWarning: Stochastic Optimizer: Maximum iterations (200) reached and the optimization hasn't converged yet.\n",
      "  warnings.warn(\n",
      "C:\\Users\\student\\anaconda3\\lib\\site-packages\\sklearn\\neural_network\\_multilayer_perceptron.py:692: ConvergenceWarning: Stochastic Optimizer: Maximum iterations (200) reached and the optimization hasn't converged yet.\n",
      "  warnings.warn(\n",
      "C:\\Users\\student\\anaconda3\\lib\\site-packages\\sklearn\\neural_network\\_multilayer_perceptron.py:692: ConvergenceWarning: Stochastic Optimizer: Maximum iterations (200) reached and the optimization hasn't converged yet.\n",
      "  warnings.warn(\n",
      "C:\\Users\\student\\anaconda3\\lib\\site-packages\\sklearn\\neural_network\\_multilayer_perceptron.py:692: ConvergenceWarning: Stochastic Optimizer: Maximum iterations (200) reached and the optimization hasn't converged yet.\n",
      "  warnings.warn(\n",
      "C:\\Users\\student\\anaconda3\\lib\\site-packages\\sklearn\\neural_network\\_multilayer_perceptron.py:692: ConvergenceWarning: Stochastic Optimizer: Maximum iterations (200) reached and the optimization hasn't converged yet.\n",
      "  warnings.warn(\n",
      "C:\\Users\\student\\anaconda3\\lib\\site-packages\\sklearn\\neural_network\\_multilayer_perceptron.py:692: ConvergenceWarning: Stochastic Optimizer: Maximum iterations (200) reached and the optimization hasn't converged yet.\n",
      "  warnings.warn(\n",
      "C:\\Users\\student\\anaconda3\\lib\\site-packages\\sklearn\\neural_network\\_multilayer_perceptron.py:692: ConvergenceWarning: Stochastic Optimizer: Maximum iterations (200) reached and the optimization hasn't converged yet.\n",
      "  warnings.warn(\n",
      "C:\\Users\\student\\anaconda3\\lib\\site-packages\\sklearn\\neural_network\\_multilayer_perceptron.py:692: ConvergenceWarning: Stochastic Optimizer: Maximum iterations (200) reached and the optimization hasn't converged yet.\n",
      "  warnings.warn(\n",
      "C:\\Users\\student\\anaconda3\\lib\\site-packages\\sklearn\\neural_network\\_multilayer_perceptron.py:692: ConvergenceWarning: Stochastic Optimizer: Maximum iterations (200) reached and the optimization hasn't converged yet.\n",
      "  warnings.warn(\n",
      "C:\\Users\\student\\anaconda3\\lib\\site-packages\\sklearn\\neural_network\\_multilayer_perceptron.py:692: ConvergenceWarning: Stochastic Optimizer: Maximum iterations (200) reached and the optimization hasn't converged yet.\n",
      "  warnings.warn(\n",
      "C:\\Users\\student\\anaconda3\\lib\\site-packages\\sklearn\\neural_network\\_multilayer_perceptron.py:692: ConvergenceWarning: Stochastic Optimizer: Maximum iterations (200) reached and the optimization hasn't converged yet.\n",
      "  warnings.warn(\n",
      "C:\\Users\\student\\anaconda3\\lib\\site-packages\\sklearn\\neural_network\\_multilayer_perceptron.py:692: ConvergenceWarning: Stochastic Optimizer: Maximum iterations (200) reached and the optimization hasn't converged yet.\n",
      "  warnings.warn(\n",
      "C:\\Users\\student\\anaconda3\\lib\\site-packages\\sklearn\\neural_network\\_multilayer_perceptron.py:692: ConvergenceWarning: Stochastic Optimizer: Maximum iterations (200) reached and the optimization hasn't converged yet.\n",
      "  warnings.warn(\n",
      "C:\\Users\\student\\anaconda3\\lib\\site-packages\\sklearn\\neural_network\\_multilayer_perceptron.py:692: ConvergenceWarning: Stochastic Optimizer: Maximum iterations (200) reached and the optimization hasn't converged yet.\n",
      "  warnings.warn(\n",
      "C:\\Users\\student\\anaconda3\\lib\\site-packages\\sklearn\\neural_network\\_multilayer_perceptron.py:692: ConvergenceWarning: Stochastic Optimizer: Maximum iterations (200) reached and the optimization hasn't converged yet.\n",
      "  warnings.warn(\n",
      "C:\\Users\\student\\anaconda3\\lib\\site-packages\\sklearn\\neural_network\\_multilayer_perceptron.py:692: ConvergenceWarning: Stochastic Optimizer: Maximum iterations (200) reached and the optimization hasn't converged yet.\n",
      "  warnings.warn(\n",
      "C:\\Users\\student\\anaconda3\\lib\\site-packages\\sklearn\\neural_network\\_multilayer_perceptron.py:692: ConvergenceWarning: Stochastic Optimizer: Maximum iterations (200) reached and the optimization hasn't converged yet.\n",
      "  warnings.warn(\n",
      "C:\\Users\\student\\anaconda3\\lib\\site-packages\\sklearn\\neural_network\\_multilayer_perceptron.py:692: ConvergenceWarning: Stochastic Optimizer: Maximum iterations (200) reached and the optimization hasn't converged yet.\n",
      "  warnings.warn(\n"
     ]
    },
    {
     "name": "stderr",
     "output_type": "stream",
     "text": [
      "C:\\Users\\student\\anaconda3\\lib\\site-packages\\sklearn\\neural_network\\_multilayer_perceptron.py:692: ConvergenceWarning: Stochastic Optimizer: Maximum iterations (200) reached and the optimization hasn't converged yet.\n",
      "  warnings.warn(\n",
      "C:\\Users\\student\\anaconda3\\lib\\site-packages\\sklearn\\neural_network\\_multilayer_perceptron.py:692: ConvergenceWarning: Stochastic Optimizer: Maximum iterations (200) reached and the optimization hasn't converged yet.\n",
      "  warnings.warn(\n",
      "C:\\Users\\student\\anaconda3\\lib\\site-packages\\sklearn\\neural_network\\_multilayer_perceptron.py:692: ConvergenceWarning: Stochastic Optimizer: Maximum iterations (200) reached and the optimization hasn't converged yet.\n",
      "  warnings.warn(\n",
      "C:\\Users\\student\\anaconda3\\lib\\site-packages\\sklearn\\neural_network\\_multilayer_perceptron.py:692: ConvergenceWarning: Stochastic Optimizer: Maximum iterations (200) reached and the optimization hasn't converged yet.\n",
      "  warnings.warn(\n",
      "C:\\Users\\student\\anaconda3\\lib\\site-packages\\sklearn\\neural_network\\_multilayer_perceptron.py:692: ConvergenceWarning: Stochastic Optimizer: Maximum iterations (200) reached and the optimization hasn't converged yet.\n",
      "  warnings.warn(\n",
      "C:\\Users\\student\\anaconda3\\lib\\site-packages\\sklearn\\neural_network\\_multilayer_perceptron.py:692: ConvergenceWarning: Stochastic Optimizer: Maximum iterations (200) reached and the optimization hasn't converged yet.\n",
      "  warnings.warn(\n",
      "C:\\Users\\student\\anaconda3\\lib\\site-packages\\sklearn\\neural_network\\_multilayer_perceptron.py:692: ConvergenceWarning: Stochastic Optimizer: Maximum iterations (200) reached and the optimization hasn't converged yet.\n",
      "  warnings.warn(\n",
      "C:\\Users\\student\\anaconda3\\lib\\site-packages\\sklearn\\neural_network\\_multilayer_perceptron.py:692: ConvergenceWarning: Stochastic Optimizer: Maximum iterations (200) reached and the optimization hasn't converged yet.\n",
      "  warnings.warn(\n",
      "C:\\Users\\student\\anaconda3\\lib\\site-packages\\sklearn\\neural_network\\_multilayer_perceptron.py:692: ConvergenceWarning: Stochastic Optimizer: Maximum iterations (200) reached and the optimization hasn't converged yet.\n",
      "  warnings.warn(\n",
      "C:\\Users\\student\\anaconda3\\lib\\site-packages\\sklearn\\neural_network\\_multilayer_perceptron.py:692: ConvergenceWarning: Stochastic Optimizer: Maximum iterations (200) reached and the optimization hasn't converged yet.\n",
      "  warnings.warn(\n",
      "C:\\Users\\student\\anaconda3\\lib\\site-packages\\sklearn\\neural_network\\_multilayer_perceptron.py:692: ConvergenceWarning: Stochastic Optimizer: Maximum iterations (200) reached and the optimization hasn't converged yet.\n",
      "  warnings.warn(\n",
      "C:\\Users\\student\\anaconda3\\lib\\site-packages\\sklearn\\neural_network\\_multilayer_perceptron.py:692: ConvergenceWarning: Stochastic Optimizer: Maximum iterations (200) reached and the optimization hasn't converged yet.\n",
      "  warnings.warn(\n",
      "C:\\Users\\student\\anaconda3\\lib\\site-packages\\sklearn\\neural_network\\_multilayer_perceptron.py:692: ConvergenceWarning: Stochastic Optimizer: Maximum iterations (200) reached and the optimization hasn't converged yet.\n",
      "  warnings.warn(\n",
      "C:\\Users\\student\\anaconda3\\lib\\site-packages\\sklearn\\neural_network\\_multilayer_perceptron.py:692: ConvergenceWarning: Stochastic Optimizer: Maximum iterations (200) reached and the optimization hasn't converged yet.\n",
      "  warnings.warn(\n",
      "C:\\Users\\student\\anaconda3\\lib\\site-packages\\sklearn\\neural_network\\_multilayer_perceptron.py:692: ConvergenceWarning: Stochastic Optimizer: Maximum iterations (200) reached and the optimization hasn't converged yet.\n",
      "  warnings.warn(\n",
      "C:\\Users\\student\\anaconda3\\lib\\site-packages\\sklearn\\neural_network\\_multilayer_perceptron.py:692: ConvergenceWarning: Stochastic Optimizer: Maximum iterations (200) reached and the optimization hasn't converged yet.\n",
      "  warnings.warn(\n",
      "C:\\Users\\student\\anaconda3\\lib\\site-packages\\sklearn\\neural_network\\_multilayer_perceptron.py:692: ConvergenceWarning: Stochastic Optimizer: Maximum iterations (200) reached and the optimization hasn't converged yet.\n",
      "  warnings.warn(\n",
      "C:\\Users\\student\\anaconda3\\lib\\site-packages\\sklearn\\neural_network\\_multilayer_perceptron.py:692: ConvergenceWarning: Stochastic Optimizer: Maximum iterations (200) reached and the optimization hasn't converged yet.\n",
      "  warnings.warn(\n",
      "C:\\Users\\student\\anaconda3\\lib\\site-packages\\sklearn\\neural_network\\_multilayer_perceptron.py:692: ConvergenceWarning: Stochastic Optimizer: Maximum iterations (200) reached and the optimization hasn't converged yet.\n",
      "  warnings.warn(\n",
      "C:\\Users\\student\\anaconda3\\lib\\site-packages\\sklearn\\neural_network\\_multilayer_perceptron.py:692: ConvergenceWarning: Stochastic Optimizer: Maximum iterations (200) reached and the optimization hasn't converged yet.\n",
      "  warnings.warn(\n",
      "C:\\Users\\student\\anaconda3\\lib\\site-packages\\sklearn\\neural_network\\_multilayer_perceptron.py:692: ConvergenceWarning: Stochastic Optimizer: Maximum iterations (200) reached and the optimization hasn't converged yet.\n",
      "  warnings.warn(\n",
      "C:\\Users\\student\\anaconda3\\lib\\site-packages\\sklearn\\neural_network\\_multilayer_perceptron.py:692: ConvergenceWarning: Stochastic Optimizer: Maximum iterations (200) reached and the optimization hasn't converged yet.\n",
      "  warnings.warn(\n",
      "C:\\Users\\student\\anaconda3\\lib\\site-packages\\sklearn\\neural_network\\_multilayer_perceptron.py:692: ConvergenceWarning: Stochastic Optimizer: Maximum iterations (200) reached and the optimization hasn't converged yet.\n",
      "  warnings.warn(\n",
      "C:\\Users\\student\\anaconda3\\lib\\site-packages\\sklearn\\neural_network\\_multilayer_perceptron.py:692: ConvergenceWarning: Stochastic Optimizer: Maximum iterations (200) reached and the optimization hasn't converged yet.\n",
      "  warnings.warn(\n",
      "C:\\Users\\student\\anaconda3\\lib\\site-packages\\sklearn\\neural_network\\_multilayer_perceptron.py:692: ConvergenceWarning: Stochastic Optimizer: Maximum iterations (200) reached and the optimization hasn't converged yet.\n",
      "  warnings.warn(\n",
      "C:\\Users\\student\\anaconda3\\lib\\site-packages\\sklearn\\neural_network\\_multilayer_perceptron.py:692: ConvergenceWarning: Stochastic Optimizer: Maximum iterations (200) reached and the optimization hasn't converged yet.\n",
      "  warnings.warn(\n",
      "C:\\Users\\student\\anaconda3\\lib\\site-packages\\sklearn\\neural_network\\_multilayer_perceptron.py:692: ConvergenceWarning: Stochastic Optimizer: Maximum iterations (200) reached and the optimization hasn't converged yet.\n",
      "  warnings.warn(\n",
      "C:\\Users\\student\\anaconda3\\lib\\site-packages\\sklearn\\neural_network\\_multilayer_perceptron.py:692: ConvergenceWarning: Stochastic Optimizer: Maximum iterations (200) reached and the optimization hasn't converged yet.\n",
      "  warnings.warn(\n",
      "C:\\Users\\student\\anaconda3\\lib\\site-packages\\sklearn\\neural_network\\_multilayer_perceptron.py:692: ConvergenceWarning: Stochastic Optimizer: Maximum iterations (200) reached and the optimization hasn't converged yet.\n",
      "  warnings.warn(\n",
      "C:\\Users\\student\\anaconda3\\lib\\site-packages\\sklearn\\neural_network\\_multilayer_perceptron.py:692: ConvergenceWarning: Stochastic Optimizer: Maximum iterations (200) reached and the optimization hasn't converged yet.\n",
      "  warnings.warn(\n",
      "C:\\Users\\student\\anaconda3\\lib\\site-packages\\sklearn\\neural_network\\_multilayer_perceptron.py:692: ConvergenceWarning: Stochastic Optimizer: Maximum iterations (200) reached and the optimization hasn't converged yet.\n",
      "  warnings.warn(\n",
      "C:\\Users\\student\\anaconda3\\lib\\site-packages\\sklearn\\neural_network\\_multilayer_perceptron.py:692: ConvergenceWarning: Stochastic Optimizer: Maximum iterations (200) reached and the optimization hasn't converged yet.\n",
      "  warnings.warn(\n",
      "C:\\Users\\student\\anaconda3\\lib\\site-packages\\sklearn\\neural_network\\_multilayer_perceptron.py:692: ConvergenceWarning: Stochastic Optimizer: Maximum iterations (200) reached and the optimization hasn't converged yet.\n",
      "  warnings.warn(\n",
      "C:\\Users\\student\\anaconda3\\lib\\site-packages\\sklearn\\neural_network\\_multilayer_perceptron.py:692: ConvergenceWarning: Stochastic Optimizer: Maximum iterations (200) reached and the optimization hasn't converged yet.\n",
      "  warnings.warn(\n",
      "C:\\Users\\student\\anaconda3\\lib\\site-packages\\sklearn\\neural_network\\_multilayer_perceptron.py:692: ConvergenceWarning: Stochastic Optimizer: Maximum iterations (200) reached and the optimization hasn't converged yet.\n",
      "  warnings.warn(\n",
      "C:\\Users\\student\\anaconda3\\lib\\site-packages\\sklearn\\neural_network\\_multilayer_perceptron.py:692: ConvergenceWarning: Stochastic Optimizer: Maximum iterations (200) reached and the optimization hasn't converged yet.\n",
      "  warnings.warn(\n"
     ]
    },
    {
     "name": "stderr",
     "output_type": "stream",
     "text": [
      "C:\\Users\\student\\anaconda3\\lib\\site-packages\\sklearn\\neural_network\\_multilayer_perceptron.py:692: ConvergenceWarning: Stochastic Optimizer: Maximum iterations (200) reached and the optimization hasn't converged yet.\n",
      "  warnings.warn(\n",
      "C:\\Users\\student\\anaconda3\\lib\\site-packages\\sklearn\\neural_network\\_multilayer_perceptron.py:692: ConvergenceWarning: Stochastic Optimizer: Maximum iterations (200) reached and the optimization hasn't converged yet.\n",
      "  warnings.warn(\n",
      "C:\\Users\\student\\anaconda3\\lib\\site-packages\\sklearn\\neural_network\\_multilayer_perceptron.py:692: ConvergenceWarning: Stochastic Optimizer: Maximum iterations (200) reached and the optimization hasn't converged yet.\n",
      "  warnings.warn(\n",
      "C:\\Users\\student\\anaconda3\\lib\\site-packages\\sklearn\\neural_network\\_multilayer_perceptron.py:692: ConvergenceWarning: Stochastic Optimizer: Maximum iterations (200) reached and the optimization hasn't converged yet.\n",
      "  warnings.warn(\n",
      "C:\\Users\\student\\anaconda3\\lib\\site-packages\\sklearn\\neural_network\\_multilayer_perceptron.py:692: ConvergenceWarning: Stochastic Optimizer: Maximum iterations (200) reached and the optimization hasn't converged yet.\n",
      "  warnings.warn(\n",
      "C:\\Users\\student\\anaconda3\\lib\\site-packages\\sklearn\\neural_network\\_multilayer_perceptron.py:692: ConvergenceWarning: Stochastic Optimizer: Maximum iterations (200) reached and the optimization hasn't converged yet.\n",
      "  warnings.warn(\n",
      "C:\\Users\\student\\anaconda3\\lib\\site-packages\\sklearn\\neural_network\\_multilayer_perceptron.py:692: ConvergenceWarning: Stochastic Optimizer: Maximum iterations (200) reached and the optimization hasn't converged yet.\n",
      "  warnings.warn(\n",
      "C:\\Users\\student\\anaconda3\\lib\\site-packages\\sklearn\\neural_network\\_multilayer_perceptron.py:692: ConvergenceWarning: Stochastic Optimizer: Maximum iterations (200) reached and the optimization hasn't converged yet.\n",
      "  warnings.warn(\n",
      "C:\\Users\\student\\anaconda3\\lib\\site-packages\\sklearn\\neural_network\\_multilayer_perceptron.py:692: ConvergenceWarning: Stochastic Optimizer: Maximum iterations (200) reached and the optimization hasn't converged yet.\n",
      "  warnings.warn(\n",
      "C:\\Users\\student\\anaconda3\\lib\\site-packages\\sklearn\\neural_network\\_multilayer_perceptron.py:692: ConvergenceWarning: Stochastic Optimizer: Maximum iterations (200) reached and the optimization hasn't converged yet.\n",
      "  warnings.warn(\n",
      "C:\\Users\\student\\anaconda3\\lib\\site-packages\\sklearn\\neural_network\\_multilayer_perceptron.py:692: ConvergenceWarning: Stochastic Optimizer: Maximum iterations (200) reached and the optimization hasn't converged yet.\n",
      "  warnings.warn(\n",
      "C:\\Users\\student\\anaconda3\\lib\\site-packages\\sklearn\\neural_network\\_multilayer_perceptron.py:692: ConvergenceWarning: Stochastic Optimizer: Maximum iterations (200) reached and the optimization hasn't converged yet.\n",
      "  warnings.warn(\n",
      "C:\\Users\\student\\anaconda3\\lib\\site-packages\\sklearn\\neural_network\\_multilayer_perceptron.py:692: ConvergenceWarning: Stochastic Optimizer: Maximum iterations (200) reached and the optimization hasn't converged yet.\n",
      "  warnings.warn(\n",
      "C:\\Users\\student\\anaconda3\\lib\\site-packages\\sklearn\\neural_network\\_multilayer_perceptron.py:692: ConvergenceWarning: Stochastic Optimizer: Maximum iterations (200) reached and the optimization hasn't converged yet.\n",
      "  warnings.warn(\n",
      "C:\\Users\\student\\anaconda3\\lib\\site-packages\\sklearn\\neural_network\\_multilayer_perceptron.py:692: ConvergenceWarning: Stochastic Optimizer: Maximum iterations (200) reached and the optimization hasn't converged yet.\n",
      "  warnings.warn(\n",
      "C:\\Users\\student\\anaconda3\\lib\\site-packages\\sklearn\\neural_network\\_multilayer_perceptron.py:692: ConvergenceWarning: Stochastic Optimizer: Maximum iterations (200) reached and the optimization hasn't converged yet.\n",
      "  warnings.warn(\n",
      "C:\\Users\\student\\anaconda3\\lib\\site-packages\\sklearn\\neural_network\\_multilayer_perceptron.py:692: ConvergenceWarning: Stochastic Optimizer: Maximum iterations (200) reached and the optimization hasn't converged yet.\n",
      "  warnings.warn(\n",
      "C:\\Users\\student\\anaconda3\\lib\\site-packages\\sklearn\\neural_network\\_multilayer_perceptron.py:692: ConvergenceWarning: Stochastic Optimizer: Maximum iterations (200) reached and the optimization hasn't converged yet.\n",
      "  warnings.warn(\n",
      "C:\\Users\\student\\anaconda3\\lib\\site-packages\\sklearn\\neural_network\\_multilayer_perceptron.py:692: ConvergenceWarning: Stochastic Optimizer: Maximum iterations (200) reached and the optimization hasn't converged yet.\n",
      "  warnings.warn(\n",
      "C:\\Users\\student\\anaconda3\\lib\\site-packages\\sklearn\\neural_network\\_multilayer_perceptron.py:692: ConvergenceWarning: Stochastic Optimizer: Maximum iterations (200) reached and the optimization hasn't converged yet.\n",
      "  warnings.warn(\n",
      "C:\\Users\\student\\anaconda3\\lib\\site-packages\\sklearn\\neural_network\\_multilayer_perceptron.py:692: ConvergenceWarning: Stochastic Optimizer: Maximum iterations (200) reached and the optimization hasn't converged yet.\n",
      "  warnings.warn(\n",
      "C:\\Users\\student\\anaconda3\\lib\\site-packages\\sklearn\\neural_network\\_multilayer_perceptron.py:692: ConvergenceWarning: Stochastic Optimizer: Maximum iterations (200) reached and the optimization hasn't converged yet.\n",
      "  warnings.warn(\n",
      "C:\\Users\\student\\anaconda3\\lib\\site-packages\\sklearn\\neural_network\\_multilayer_perceptron.py:692: ConvergenceWarning: Stochastic Optimizer: Maximum iterations (200) reached and the optimization hasn't converged yet.\n",
      "  warnings.warn(\n",
      "C:\\Users\\student\\anaconda3\\lib\\site-packages\\sklearn\\neural_network\\_multilayer_perceptron.py:692: ConvergenceWarning: Stochastic Optimizer: Maximum iterations (200) reached and the optimization hasn't converged yet.\n",
      "  warnings.warn(\n",
      "C:\\Users\\student\\anaconda3\\lib\\site-packages\\sklearn\\neural_network\\_multilayer_perceptron.py:692: ConvergenceWarning: Stochastic Optimizer: Maximum iterations (200) reached and the optimization hasn't converged yet.\n",
      "  warnings.warn(\n",
      "C:\\Users\\student\\anaconda3\\lib\\site-packages\\sklearn\\neural_network\\_multilayer_perceptron.py:692: ConvergenceWarning: Stochastic Optimizer: Maximum iterations (200) reached and the optimization hasn't converged yet.\n",
      "  warnings.warn(\n",
      "C:\\Users\\student\\anaconda3\\lib\\site-packages\\sklearn\\neural_network\\_multilayer_perceptron.py:692: ConvergenceWarning: Stochastic Optimizer: Maximum iterations (200) reached and the optimization hasn't converged yet.\n",
      "  warnings.warn(\n",
      "C:\\Users\\student\\anaconda3\\lib\\site-packages\\sklearn\\neural_network\\_multilayer_perceptron.py:692: ConvergenceWarning: Stochastic Optimizer: Maximum iterations (200) reached and the optimization hasn't converged yet.\n",
      "  warnings.warn(\n",
      "C:\\Users\\student\\anaconda3\\lib\\site-packages\\sklearn\\neural_network\\_multilayer_perceptron.py:692: ConvergenceWarning: Stochastic Optimizer: Maximum iterations (200) reached and the optimization hasn't converged yet.\n",
      "  warnings.warn(\n",
      "C:\\Users\\student\\anaconda3\\lib\\site-packages\\sklearn\\neural_network\\_multilayer_perceptron.py:692: ConvergenceWarning: Stochastic Optimizer: Maximum iterations (200) reached and the optimization hasn't converged yet.\n",
      "  warnings.warn(\n",
      "C:\\Users\\student\\anaconda3\\lib\\site-packages\\sklearn\\neural_network\\_multilayer_perceptron.py:692: ConvergenceWarning: Stochastic Optimizer: Maximum iterations (200) reached and the optimization hasn't converged yet.\n",
      "  warnings.warn(\n",
      "C:\\Users\\student\\anaconda3\\lib\\site-packages\\sklearn\\neural_network\\_multilayer_perceptron.py:692: ConvergenceWarning: Stochastic Optimizer: Maximum iterations (200) reached and the optimization hasn't converged yet.\n",
      "  warnings.warn(\n",
      "C:\\Users\\student\\anaconda3\\lib\\site-packages\\sklearn\\neural_network\\_multilayer_perceptron.py:692: ConvergenceWarning: Stochastic Optimizer: Maximum iterations (200) reached and the optimization hasn't converged yet.\n",
      "  warnings.warn(\n",
      "C:\\Users\\student\\anaconda3\\lib\\site-packages\\sklearn\\neural_network\\_multilayer_perceptron.py:692: ConvergenceWarning: Stochastic Optimizer: Maximum iterations (200) reached and the optimization hasn't converged yet.\n",
      "  warnings.warn(\n",
      "C:\\Users\\student\\anaconda3\\lib\\site-packages\\sklearn\\neural_network\\_multilayer_perceptron.py:692: ConvergenceWarning: Stochastic Optimizer: Maximum iterations (200) reached and the optimization hasn't converged yet.\n",
      "  warnings.warn(\n",
      "C:\\Users\\student\\anaconda3\\lib\\site-packages\\sklearn\\neural_network\\_multilayer_perceptron.py:692: ConvergenceWarning: Stochastic Optimizer: Maximum iterations (200) reached and the optimization hasn't converged yet.\n",
      "  warnings.warn(\n"
     ]
    },
    {
     "name": "stderr",
     "output_type": "stream",
     "text": [
      "C:\\Users\\student\\anaconda3\\lib\\site-packages\\sklearn\\neural_network\\_multilayer_perceptron.py:692: ConvergenceWarning: Stochastic Optimizer: Maximum iterations (200) reached and the optimization hasn't converged yet.\n",
      "  warnings.warn(\n",
      "C:\\Users\\student\\anaconda3\\lib\\site-packages\\sklearn\\neural_network\\_multilayer_perceptron.py:692: ConvergenceWarning: Stochastic Optimizer: Maximum iterations (200) reached and the optimization hasn't converged yet.\n",
      "  warnings.warn(\n",
      "C:\\Users\\student\\anaconda3\\lib\\site-packages\\sklearn\\neural_network\\_multilayer_perceptron.py:692: ConvergenceWarning: Stochastic Optimizer: Maximum iterations (200) reached and the optimization hasn't converged yet.\n",
      "  warnings.warn(\n",
      "C:\\Users\\student\\anaconda3\\lib\\site-packages\\sklearn\\neural_network\\_multilayer_perceptron.py:692: ConvergenceWarning: Stochastic Optimizer: Maximum iterations (200) reached and the optimization hasn't converged yet.\n",
      "  warnings.warn(\n",
      "C:\\Users\\student\\anaconda3\\lib\\site-packages\\sklearn\\neural_network\\_multilayer_perceptron.py:692: ConvergenceWarning: Stochastic Optimizer: Maximum iterations (200) reached and the optimization hasn't converged yet.\n",
      "  warnings.warn(\n",
      "C:\\Users\\student\\anaconda3\\lib\\site-packages\\sklearn\\neural_network\\_multilayer_perceptron.py:692: ConvergenceWarning: Stochastic Optimizer: Maximum iterations (200) reached and the optimization hasn't converged yet.\n",
      "  warnings.warn(\n",
      "C:\\Users\\student\\anaconda3\\lib\\site-packages\\sklearn\\neural_network\\_multilayer_perceptron.py:692: ConvergenceWarning: Stochastic Optimizer: Maximum iterations (200) reached and the optimization hasn't converged yet.\n",
      "  warnings.warn(\n",
      "C:\\Users\\student\\anaconda3\\lib\\site-packages\\sklearn\\neural_network\\_multilayer_perceptron.py:692: ConvergenceWarning: Stochastic Optimizer: Maximum iterations (200) reached and the optimization hasn't converged yet.\n",
      "  warnings.warn(\n",
      "C:\\Users\\student\\anaconda3\\lib\\site-packages\\sklearn\\neural_network\\_multilayer_perceptron.py:692: ConvergenceWarning: Stochastic Optimizer: Maximum iterations (200) reached and the optimization hasn't converged yet.\n",
      "  warnings.warn(\n",
      "C:\\Users\\student\\anaconda3\\lib\\site-packages\\sklearn\\neural_network\\_multilayer_perceptron.py:692: ConvergenceWarning: Stochastic Optimizer: Maximum iterations (200) reached and the optimization hasn't converged yet.\n",
      "  warnings.warn(\n",
      "C:\\Users\\student\\anaconda3\\lib\\site-packages\\sklearn\\neural_network\\_multilayer_perceptron.py:692: ConvergenceWarning: Stochastic Optimizer: Maximum iterations (200) reached and the optimization hasn't converged yet.\n",
      "  warnings.warn(\n",
      "C:\\Users\\student\\anaconda3\\lib\\site-packages\\sklearn\\neural_network\\_multilayer_perceptron.py:692: ConvergenceWarning: Stochastic Optimizer: Maximum iterations (200) reached and the optimization hasn't converged yet.\n",
      "  warnings.warn(\n",
      "C:\\Users\\student\\anaconda3\\lib\\site-packages\\sklearn\\neural_network\\_multilayer_perceptron.py:692: ConvergenceWarning: Stochastic Optimizer: Maximum iterations (200) reached and the optimization hasn't converged yet.\n",
      "  warnings.warn(\n",
      "C:\\Users\\student\\anaconda3\\lib\\site-packages\\sklearn\\neural_network\\_multilayer_perceptron.py:692: ConvergenceWarning: Stochastic Optimizer: Maximum iterations (200) reached and the optimization hasn't converged yet.\n",
      "  warnings.warn(\n",
      "C:\\Users\\student\\anaconda3\\lib\\site-packages\\sklearn\\neural_network\\_multilayer_perceptron.py:692: ConvergenceWarning: Stochastic Optimizer: Maximum iterations (200) reached and the optimization hasn't converged yet.\n",
      "  warnings.warn(\n",
      "C:\\Users\\student\\anaconda3\\lib\\site-packages\\sklearn\\neural_network\\_multilayer_perceptron.py:692: ConvergenceWarning: Stochastic Optimizer: Maximum iterations (200) reached and the optimization hasn't converged yet.\n",
      "  warnings.warn(\n",
      "C:\\Users\\student\\anaconda3\\lib\\site-packages\\sklearn\\neural_network\\_multilayer_perceptron.py:692: ConvergenceWarning: Stochastic Optimizer: Maximum iterations (200) reached and the optimization hasn't converged yet.\n",
      "  warnings.warn(\n",
      "C:\\Users\\student\\anaconda3\\lib\\site-packages\\sklearn\\neural_network\\_multilayer_perceptron.py:692: ConvergenceWarning: Stochastic Optimizer: Maximum iterations (200) reached and the optimization hasn't converged yet.\n",
      "  warnings.warn(\n",
      "C:\\Users\\student\\anaconda3\\lib\\site-packages\\sklearn\\neural_network\\_multilayer_perceptron.py:692: ConvergenceWarning: Stochastic Optimizer: Maximum iterations (200) reached and the optimization hasn't converged yet.\n",
      "  warnings.warn(\n",
      "C:\\Users\\student\\anaconda3\\lib\\site-packages\\sklearn\\neural_network\\_multilayer_perceptron.py:692: ConvergenceWarning: Stochastic Optimizer: Maximum iterations (200) reached and the optimization hasn't converged yet.\n",
      "  warnings.warn(\n",
      "C:\\Users\\student\\anaconda3\\lib\\site-packages\\sklearn\\neural_network\\_multilayer_perceptron.py:692: ConvergenceWarning: Stochastic Optimizer: Maximum iterations (200) reached and the optimization hasn't converged yet.\n",
      "  warnings.warn(\n",
      "C:\\Users\\student\\anaconda3\\lib\\site-packages\\sklearn\\neural_network\\_multilayer_perceptron.py:692: ConvergenceWarning: Stochastic Optimizer: Maximum iterations (200) reached and the optimization hasn't converged yet.\n",
      "  warnings.warn(\n",
      "C:\\Users\\student\\anaconda3\\lib\\site-packages\\sklearn\\neural_network\\_multilayer_perceptron.py:692: ConvergenceWarning: Stochastic Optimizer: Maximum iterations (200) reached and the optimization hasn't converged yet.\n",
      "  warnings.warn(\n",
      "C:\\Users\\student\\anaconda3\\lib\\site-packages\\sklearn\\neural_network\\_multilayer_perceptron.py:692: ConvergenceWarning: Stochastic Optimizer: Maximum iterations (200) reached and the optimization hasn't converged yet.\n",
      "  warnings.warn(\n",
      "C:\\Users\\student\\anaconda3\\lib\\site-packages\\sklearn\\neural_network\\_multilayer_perceptron.py:692: ConvergenceWarning: Stochastic Optimizer: Maximum iterations (200) reached and the optimization hasn't converged yet.\n",
      "  warnings.warn(\n",
      "C:\\Users\\student\\anaconda3\\lib\\site-packages\\sklearn\\neural_network\\_multilayer_perceptron.py:692: ConvergenceWarning: Stochastic Optimizer: Maximum iterations (200) reached and the optimization hasn't converged yet.\n",
      "  warnings.warn(\n",
      "C:\\Users\\student\\anaconda3\\lib\\site-packages\\sklearn\\neural_network\\_multilayer_perceptron.py:692: ConvergenceWarning: Stochastic Optimizer: Maximum iterations (200) reached and the optimization hasn't converged yet.\n",
      "  warnings.warn(\n"
     ]
    },
    {
     "name": "stdout",
     "output_type": "stream",
     "text": [
      "BEST PARAMS: {'activation': 'logistic', 'hidden_layer_sizes': (10,), 'learning_rate': 'adaptive'}\n",
      "\n",
      "0.724 (+/-0.047) for {'activation': 'relu', 'hidden_layer_sizes': (10,), 'learning_rate': 'constant'}\n",
      "0.72 (+/-0.062) for {'activation': 'relu', 'hidden_layer_sizes': (10,), 'learning_rate': 'invscaling'}\n",
      "0.721 (+/-0.03) for {'activation': 'relu', 'hidden_layer_sizes': (10,), 'learning_rate': 'adaptive'}\n",
      "0.711 (+/-0.064) for {'activation': 'relu', 'hidden_layer_sizes': (50,), 'learning_rate': 'constant'}\n",
      "0.707 (+/-0.079) for {'activation': 'relu', 'hidden_layer_sizes': (50,), 'learning_rate': 'invscaling'}\n",
      "0.712 (+/-0.054) for {'activation': 'relu', 'hidden_layer_sizes': (50,), 'learning_rate': 'adaptive'}\n",
      "0.713 (+/-0.06) for {'activation': 'relu', 'hidden_layer_sizes': (100,), 'learning_rate': 'constant'}\n",
      "0.716 (+/-0.046) for {'activation': 'relu', 'hidden_layer_sizes': (100,), 'learning_rate': 'invscaling'}\n",
      "0.716 (+/-0.049) for {'activation': 'relu', 'hidden_layer_sizes': (100,), 'learning_rate': 'adaptive'}\n",
      "0.734 (+/-0.017) for {'activation': 'tanh', 'hidden_layer_sizes': (10,), 'learning_rate': 'constant'}\n",
      "0.73 (+/-0.024) for {'activation': 'tanh', 'hidden_layer_sizes': (10,), 'learning_rate': 'invscaling'}\n",
      "0.728 (+/-0.034) for {'activation': 'tanh', 'hidden_layer_sizes': (10,), 'learning_rate': 'adaptive'}\n",
      "0.719 (+/-0.039) for {'activation': 'tanh', 'hidden_layer_sizes': (50,), 'learning_rate': 'constant'}\n",
      "0.723 (+/-0.052) for {'activation': 'tanh', 'hidden_layer_sizes': (50,), 'learning_rate': 'invscaling'}\n",
      "0.72 (+/-0.048) for {'activation': 'tanh', 'hidden_layer_sizes': (50,), 'learning_rate': 'adaptive'}\n",
      "0.714 (+/-0.047) for {'activation': 'tanh', 'hidden_layer_sizes': (100,), 'learning_rate': 'constant'}\n",
      "0.723 (+/-0.045) for {'activation': 'tanh', 'hidden_layer_sizes': (100,), 'learning_rate': 'invscaling'}\n",
      "0.718 (+/-0.048) for {'activation': 'tanh', 'hidden_layer_sizes': (100,), 'learning_rate': 'adaptive'}\n",
      "0.748 (+/-0.056) for {'activation': 'logistic', 'hidden_layer_sizes': (10,), 'learning_rate': 'constant'}\n",
      "0.759 (+/-0.047) for {'activation': 'logistic', 'hidden_layer_sizes': (10,), 'learning_rate': 'invscaling'}\n",
      "0.761 (+/-0.036) for {'activation': 'logistic', 'hidden_layer_sizes': (10,), 'learning_rate': 'adaptive'}\n",
      "0.75 (+/-0.067) for {'activation': 'logistic', 'hidden_layer_sizes': (50,), 'learning_rate': 'constant'}\n",
      "0.755 (+/-0.059) for {'activation': 'logistic', 'hidden_layer_sizes': (50,), 'learning_rate': 'invscaling'}\n",
      "0.748 (+/-0.061) for {'activation': 'logistic', 'hidden_layer_sizes': (50,), 'learning_rate': 'adaptive'}\n",
      "0.753 (+/-0.07) for {'activation': 'logistic', 'hidden_layer_sizes': (100,), 'learning_rate': 'constant'}\n",
      "0.751 (+/-0.06) for {'activation': 'logistic', 'hidden_layer_sizes': (100,), 'learning_rate': 'invscaling'}\n",
      "0.748 (+/-0.063) for {'activation': 'logistic', 'hidden_layer_sizes': (100,), 'learning_rate': 'adaptive'}\n"
     ]
    },
    {
     "name": "stderr",
     "output_type": "stream",
     "text": [
      "C:\\Users\\student\\anaconda3\\lib\\site-packages\\sklearn\\neural_network\\_multilayer_perceptron.py:692: ConvergenceWarning: Stochastic Optimizer: Maximum iterations (200) reached and the optimization hasn't converged yet.\n",
      "  warnings.warn(\n"
     ]
    }
   ],
   "source": [
    "mlp = MLPClassifier()\n",
    "parameters = {\n",
    "    'hidden_layer_sizes': [(10,), (50,), (100,)],\n",
    "    'activation': ['relu', 'tanh', 'logistic'],\n",
    "    'learning_rate': ['constant', 'invscaling', 'adaptive']\n",
    "}\n",
    "\n",
    "cv = GridSearchCV(mlp, parameters, cv=5)\n",
    "cv.fit(train_features_all, train_labels.values.ravel())\n",
    "\n",
    "print_results(cv)"
   ]
  },
  {
   "cell_type": "code",
   "execution_count": 63,
   "id": "d9954be3",
   "metadata": {},
   "outputs": [
    {
     "data": {
      "text/plain": [
       "MLPClassifier(activation='logistic', hidden_layer_sizes=(10,),\n",
       "              learning_rate='adaptive')"
      ]
     },
     "execution_count": 63,
     "metadata": {},
     "output_type": "execute_result"
    }
   ],
   "source": [
    "cv.best_estimator_"
   ]
  },
  {
   "cell_type": "code",
   "execution_count": 64,
   "id": "742c134b",
   "metadata": {},
   "outputs": [
    {
     "data": {
      "text/plain": [
       "['MLP_model_all.pkl']"
      ]
     },
     "execution_count": 64,
     "metadata": {},
     "output_type": "execute_result"
    }
   ],
   "source": [
    "joblib.dump(cv.best_estimator_, 'MLP_model_all.pkl')"
   ]
  },
  {
   "cell_type": "markdown",
   "id": "d2624d3f",
   "metadata": {},
   "source": [
    "### Step #13: Gradient Boosting with Reduced Features\n"
   ]
  },
  {
   "cell_type": "code",
   "execution_count": 65,
   "id": "442fa04e",
   "metadata": {},
   "outputs": [
    {
     "name": "stdout",
     "output_type": "stream",
     "text": [
      "BEST PARAMS: {'learning_rate': 0.01, 'max_depth': 3, 'n_estimators': 250}\n",
      "\n",
      "0.75 (+/-0.004) for {'learning_rate': 0.01, 'max_depth': 1, 'n_estimators': 5}\n",
      "0.75 (+/-0.004) for {'learning_rate': 0.01, 'max_depth': 1, 'n_estimators': 50}\n",
      "0.751 (+/-0.006) for {'learning_rate': 0.01, 'max_depth': 1, 'n_estimators': 250}\n",
      "0.754 (+/-0.008) for {'learning_rate': 0.01, 'max_depth': 1, 'n_estimators': 500}\n",
      "0.75 (+/-0.004) for {'learning_rate': 0.01, 'max_depth': 3, 'n_estimators': 5}\n",
      "0.75 (+/-0.004) for {'learning_rate': 0.01, 'max_depth': 3, 'n_estimators': 50}\n",
      "0.76 (+/-0.02) for {'learning_rate': 0.01, 'max_depth': 3, 'n_estimators': 250}\n",
      "0.753 (+/-0.022) for {'learning_rate': 0.01, 'max_depth': 3, 'n_estimators': 500}\n",
      "0.75 (+/-0.004) for {'learning_rate': 0.01, 'max_depth': 5, 'n_estimators': 5}\n",
      "0.744 (+/-0.006) for {'learning_rate': 0.01, 'max_depth': 5, 'n_estimators': 50}\n",
      "0.749 (+/-0.021) for {'learning_rate': 0.01, 'max_depth': 5, 'n_estimators': 250}\n",
      "0.751 (+/-0.022) for {'learning_rate': 0.01, 'max_depth': 5, 'n_estimators': 500}\n",
      "0.75 (+/-0.004) for {'learning_rate': 0.01, 'max_depth': 7, 'n_estimators': 5}\n",
      "0.747 (+/-0.012) for {'learning_rate': 0.01, 'max_depth': 7, 'n_estimators': 50}\n",
      "0.748 (+/-0.039) for {'learning_rate': 0.01, 'max_depth': 7, 'n_estimators': 250}\n",
      "0.737 (+/-0.041) for {'learning_rate': 0.01, 'max_depth': 7, 'n_estimators': 500}\n",
      "0.75 (+/-0.004) for {'learning_rate': 0.01, 'max_depth': 9, 'n_estimators': 5}\n",
      "0.741 (+/-0.018) for {'learning_rate': 0.01, 'max_depth': 9, 'n_estimators': 50}\n",
      "0.723 (+/-0.026) for {'learning_rate': 0.01, 'max_depth': 9, 'n_estimators': 250}\n",
      "0.728 (+/-0.027) for {'learning_rate': 0.01, 'max_depth': 9, 'n_estimators': 500}\n",
      "0.75 (+/-0.004) for {'learning_rate': 0.1, 'max_depth': 1, 'n_estimators': 5}\n",
      "0.757 (+/-0.01) for {'learning_rate': 0.1, 'max_depth': 1, 'n_estimators': 50}\n",
      "0.753 (+/-0.034) for {'learning_rate': 0.1, 'max_depth': 1, 'n_estimators': 250}\n",
      "0.744 (+/-0.034) for {'learning_rate': 0.1, 'max_depth': 1, 'n_estimators': 500}\n",
      "0.75 (+/-0.004) for {'learning_rate': 0.1, 'max_depth': 3, 'n_estimators': 5}\n",
      "0.747 (+/-0.026) for {'learning_rate': 0.1, 'max_depth': 3, 'n_estimators': 50}\n",
      "0.729 (+/-0.044) for {'learning_rate': 0.1, 'max_depth': 3, 'n_estimators': 250}\n",
      "0.722 (+/-0.063) for {'learning_rate': 0.1, 'max_depth': 3, 'n_estimators': 500}\n",
      "0.746 (+/-0.018) for {'learning_rate': 0.1, 'max_depth': 5, 'n_estimators': 5}\n",
      "0.746 (+/-0.023) for {'learning_rate': 0.1, 'max_depth': 5, 'n_estimators': 50}\n",
      "0.72 (+/-0.049) for {'learning_rate': 0.1, 'max_depth': 5, 'n_estimators': 250}\n",
      "0.708 (+/-0.05) for {'learning_rate': 0.1, 'max_depth': 5, 'n_estimators': 500}\n",
      "0.745 (+/-0.015) for {'learning_rate': 0.1, 'max_depth': 7, 'n_estimators': 5}\n",
      "0.733 (+/-0.042) for {'learning_rate': 0.1, 'max_depth': 7, 'n_estimators': 50}\n",
      "0.737 (+/-0.041) for {'learning_rate': 0.1, 'max_depth': 7, 'n_estimators': 250}\n",
      "0.736 (+/-0.056) for {'learning_rate': 0.1, 'max_depth': 7, 'n_estimators': 500}\n",
      "0.738 (+/-0.027) for {'learning_rate': 0.1, 'max_depth': 9, 'n_estimators': 5}\n",
      "0.732 (+/-0.044) for {'learning_rate': 0.1, 'max_depth': 9, 'n_estimators': 50}\n",
      "0.73 (+/-0.039) for {'learning_rate': 0.1, 'max_depth': 9, 'n_estimators': 250}\n",
      "0.735 (+/-0.048) for {'learning_rate': 0.1, 'max_depth': 9, 'n_estimators': 500}\n",
      "0.751 (+/-0.011) for {'learning_rate': 1, 'max_depth': 1, 'n_estimators': 5}\n",
      "0.744 (+/-0.029) for {'learning_rate': 1, 'max_depth': 1, 'n_estimators': 50}\n",
      "0.731 (+/-0.054) for {'learning_rate': 1, 'max_depth': 1, 'n_estimators': 250}\n",
      "0.722 (+/-0.036) for {'learning_rate': 1, 'max_depth': 1, 'n_estimators': 500}\n",
      "0.73 (+/-0.042) for {'learning_rate': 1, 'max_depth': 3, 'n_estimators': 5}\n",
      "0.714 (+/-0.035) for {'learning_rate': 1, 'max_depth': 3, 'n_estimators': 50}\n",
      "0.695 (+/-0.058) for {'learning_rate': 1, 'max_depth': 3, 'n_estimators': 250}\n",
      "0.69 (+/-0.036) for {'learning_rate': 1, 'max_depth': 3, 'n_estimators': 500}\n",
      "0.706 (+/-0.031) for {'learning_rate': 1, 'max_depth': 5, 'n_estimators': 5}\n",
      "0.69 (+/-0.062) for {'learning_rate': 1, 'max_depth': 5, 'n_estimators': 50}\n",
      "0.704 (+/-0.044) for {'learning_rate': 1, 'max_depth': 5, 'n_estimators': 250}\n",
      "0.711 (+/-0.066) for {'learning_rate': 1, 'max_depth': 5, 'n_estimators': 500}\n",
      "0.693 (+/-0.026) for {'learning_rate': 1, 'max_depth': 7, 'n_estimators': 5}\n",
      "0.717 (+/-0.038) for {'learning_rate': 1, 'max_depth': 7, 'n_estimators': 50}\n",
      "0.712 (+/-0.057) for {'learning_rate': 1, 'max_depth': 7, 'n_estimators': 250}\n",
      "0.726 (+/-0.04) for {'learning_rate': 1, 'max_depth': 7, 'n_estimators': 500}\n",
      "0.689 (+/-0.064) for {'learning_rate': 1, 'max_depth': 9, 'n_estimators': 5}\n",
      "0.736 (+/-0.011) for {'learning_rate': 1, 'max_depth': 9, 'n_estimators': 50}\n",
      "0.725 (+/-0.047) for {'learning_rate': 1, 'max_depth': 9, 'n_estimators': 250}\n",
      "0.727 (+/-0.034) for {'learning_rate': 1, 'max_depth': 9, 'n_estimators': 500}\n",
      "0.418 (+/-0.335) for {'learning_rate': 10, 'max_depth': 1, 'n_estimators': 5}\n",
      "0.418 (+/-0.335) for {'learning_rate': 10, 'max_depth': 1, 'n_estimators': 50}\n",
      "0.418 (+/-0.335) for {'learning_rate': 10, 'max_depth': 1, 'n_estimators': 250}\n",
      "0.418 (+/-0.335) for {'learning_rate': 10, 'max_depth': 1, 'n_estimators': 500}\n",
      "0.414 (+/-0.359) for {'learning_rate': 10, 'max_depth': 3, 'n_estimators': 5}\n",
      "0.414 (+/-0.359) for {'learning_rate': 10, 'max_depth': 3, 'n_estimators': 50}\n",
      "0.414 (+/-0.359) for {'learning_rate': 10, 'max_depth': 3, 'n_estimators': 250}\n",
      "0.414 (+/-0.359) for {'learning_rate': 10, 'max_depth': 3, 'n_estimators': 500}\n",
      "0.423 (+/-0.15) for {'learning_rate': 10, 'max_depth': 5, 'n_estimators': 5}\n",
      "0.425 (+/-0.205) for {'learning_rate': 10, 'max_depth': 5, 'n_estimators': 50}\n",
      "0.454 (+/-0.181) for {'learning_rate': 10, 'max_depth': 5, 'n_estimators': 250}\n",
      "0.416 (+/-0.208) for {'learning_rate': 10, 'max_depth': 5, 'n_estimators': 500}\n",
      "0.531 (+/-0.11) for {'learning_rate': 10, 'max_depth': 7, 'n_estimators': 5}\n",
      "0.521 (+/-0.121) for {'learning_rate': 10, 'max_depth': 7, 'n_estimators': 50}\n",
      "0.523 (+/-0.075) for {'learning_rate': 10, 'max_depth': 7, 'n_estimators': 250}\n",
      "0.544 (+/-0.109) for {'learning_rate': 10, 'max_depth': 7, 'n_estimators': 500}\n",
      "0.606 (+/-0.103) for {'learning_rate': 10, 'max_depth': 9, 'n_estimators': 5}\n",
      "0.576 (+/-0.138) for {'learning_rate': 10, 'max_depth': 9, 'n_estimators': 50}\n",
      "0.538 (+/-0.051) for {'learning_rate': 10, 'max_depth': 9, 'n_estimators': 250}\n",
      "0.549 (+/-0.097) for {'learning_rate': 10, 'max_depth': 9, 'n_estimators': 500}\n",
      "0.25 (+/-0.004) for {'learning_rate': 100, 'max_depth': 1, 'n_estimators': 5}\n",
      "0.25 (+/-0.004) for {'learning_rate': 100, 'max_depth': 1, 'n_estimators': 50}\n",
      "0.25 (+/-0.004) for {'learning_rate': 100, 'max_depth': 1, 'n_estimators': 250}\n",
      "0.25 (+/-0.004) for {'learning_rate': 100, 'max_depth': 1, 'n_estimators': 500}\n",
      "0.267 (+/-0.052) for {'learning_rate': 100, 'max_depth': 3, 'n_estimators': 5}\n",
      "0.267 (+/-0.052) for {'learning_rate': 100, 'max_depth': 3, 'n_estimators': 50}\n",
      "0.267 (+/-0.052) for {'learning_rate': 100, 'max_depth': 3, 'n_estimators': 250}\n",
      "0.267 (+/-0.052) for {'learning_rate': 100, 'max_depth': 3, 'n_estimators': 500}\n",
      "0.492 (+/-0.181) for {'learning_rate': 100, 'max_depth': 5, 'n_estimators': 5}\n",
      "0.495 (+/-0.184) for {'learning_rate': 100, 'max_depth': 5, 'n_estimators': 50}\n",
      "0.495 (+/-0.188) for {'learning_rate': 100, 'max_depth': 5, 'n_estimators': 250}\n",
      "0.495 (+/-0.195) for {'learning_rate': 100, 'max_depth': 5, 'n_estimators': 500}\n",
      "0.51 (+/-0.128) for {'learning_rate': 100, 'max_depth': 7, 'n_estimators': 5}\n",
      "0.526 (+/-0.093) for {'learning_rate': 100, 'max_depth': 7, 'n_estimators': 50}\n",
      "0.502 (+/-0.067) for {'learning_rate': 100, 'max_depth': 7, 'n_estimators': 250}\n",
      "0.547 (+/-0.078) for {'learning_rate': 100, 'max_depth': 7, 'n_estimators': 500}\n",
      "0.552 (+/-0.059) for {'learning_rate': 100, 'max_depth': 9, 'n_estimators': 5}\n",
      "0.557 (+/-0.053) for {'learning_rate': 100, 'max_depth': 9, 'n_estimators': 50}\n",
      "0.562 (+/-0.132) for {'learning_rate': 100, 'max_depth': 9, 'n_estimators': 250}\n",
      "0.561 (+/-0.064) for {'learning_rate': 100, 'max_depth': 9, 'n_estimators': 500}\n"
     ]
    }
   ],
   "source": [
    "gb = GradientBoostingClassifier()\n",
    "parameters = {\n",
    "    'n_estimators': [5, 50, 250, 500],\n",
    "    'max_depth': [1, 3, 5, 7, 9],\n",
    "    'learning_rate': [0.01, 0.1, 1, 10, 100]\n",
    "}\n",
    "\n",
    "cv = GridSearchCV(gb, parameters, cv=5)\n",
    "cv.fit(train_features_red, train_labels.values.ravel())\n",
    "\n",
    "print_results(cv)"
   ]
  },
  {
   "cell_type": "code",
   "execution_count": 66,
   "id": "ab8cd303",
   "metadata": {},
   "outputs": [
    {
     "data": {
      "text/plain": [
       "GradientBoostingClassifier(learning_rate=0.01, n_estimators=250)"
      ]
     },
     "execution_count": 66,
     "metadata": {},
     "output_type": "execute_result"
    }
   ],
   "source": [
    "cv.best_estimator_"
   ]
  },
  {
   "cell_type": "code",
   "execution_count": 67,
   "id": "bca00699",
   "metadata": {},
   "outputs": [
    {
     "data": {
      "text/plain": [
       "['GB_model_red.pkl']"
      ]
     },
     "execution_count": 67,
     "metadata": {},
     "output_type": "execute_result"
    }
   ],
   "source": [
    "joblib.dump(cv.best_estimator_, 'GB_model_red.pkl')"
   ]
  },
  {
   "cell_type": "markdown",
   "id": "f860ec23",
   "metadata": {},
   "source": [
    "### Step #14: Gradient Boosting with Categorical Features\n"
   ]
  },
  {
   "cell_type": "code",
   "execution_count": 68,
   "id": "7bbccd89",
   "metadata": {},
   "outputs": [
    {
     "name": "stdout",
     "output_type": "stream",
     "text": [
      "BEST PARAMS: {'learning_rate': 0.1, 'max_depth': 1, 'n_estimators': 250}\n",
      "\n",
      "0.75 (+/-0.004) for {'learning_rate': 0.01, 'max_depth': 1, 'n_estimators': 5}\n",
      "0.75 (+/-0.004) for {'learning_rate': 0.01, 'max_depth': 1, 'n_estimators': 50}\n",
      "0.75 (+/-0.004) for {'learning_rate': 0.01, 'max_depth': 1, 'n_estimators': 250}\n",
      "0.749 (+/-0.006) for {'learning_rate': 0.01, 'max_depth': 1, 'n_estimators': 500}\n",
      "0.75 (+/-0.004) for {'learning_rate': 0.01, 'max_depth': 3, 'n_estimators': 5}\n",
      "0.75 (+/-0.004) for {'learning_rate': 0.01, 'max_depth': 3, 'n_estimators': 50}\n",
      "0.747 (+/-0.011) for {'learning_rate': 0.01, 'max_depth': 3, 'n_estimators': 250}\n",
      "0.744 (+/-0.014) for {'learning_rate': 0.01, 'max_depth': 3, 'n_estimators': 500}\n",
      "0.75 (+/-0.004) for {'learning_rate': 0.01, 'max_depth': 5, 'n_estimators': 5}\n",
      "0.748 (+/-0.006) for {'learning_rate': 0.01, 'max_depth': 5, 'n_estimators': 50}\n",
      "0.733 (+/-0.02) for {'learning_rate': 0.01, 'max_depth': 5, 'n_estimators': 250}\n",
      "0.726 (+/-0.028) for {'learning_rate': 0.01, 'max_depth': 5, 'n_estimators': 500}\n",
      "0.75 (+/-0.004) for {'learning_rate': 0.01, 'max_depth': 7, 'n_estimators': 5}\n",
      "0.74 (+/-0.016) for {'learning_rate': 0.01, 'max_depth': 7, 'n_estimators': 50}\n",
      "0.714 (+/-0.023) for {'learning_rate': 0.01, 'max_depth': 7, 'n_estimators': 250}\n",
      "0.705 (+/-0.03) for {'learning_rate': 0.01, 'max_depth': 7, 'n_estimators': 500}\n",
      "0.75 (+/-0.004) for {'learning_rate': 0.01, 'max_depth': 9, 'n_estimators': 5}\n",
      "0.736 (+/-0.015) for {'learning_rate': 0.01, 'max_depth': 9, 'n_estimators': 50}\n",
      "0.711 (+/-0.025) for {'learning_rate': 0.01, 'max_depth': 9, 'n_estimators': 250}\n",
      "0.693 (+/-0.02) for {'learning_rate': 0.01, 'max_depth': 9, 'n_estimators': 500}\n",
      "0.75 (+/-0.004) for {'learning_rate': 0.1, 'max_depth': 1, 'n_estimators': 5}\n",
      "0.749 (+/-0.006) for {'learning_rate': 0.1, 'max_depth': 1, 'n_estimators': 50}\n",
      "0.751 (+/-0.018) for {'learning_rate': 0.1, 'max_depth': 1, 'n_estimators': 250}\n",
      "0.747 (+/-0.021) for {'learning_rate': 0.1, 'max_depth': 1, 'n_estimators': 500}\n",
      "0.75 (+/-0.004) for {'learning_rate': 0.1, 'max_depth': 3, 'n_estimators': 5}\n",
      "0.741 (+/-0.021) for {'learning_rate': 0.1, 'max_depth': 3, 'n_estimators': 50}\n",
      "0.706 (+/-0.044) for {'learning_rate': 0.1, 'max_depth': 3, 'n_estimators': 250}\n",
      "0.684 (+/-0.04) for {'learning_rate': 0.1, 'max_depth': 3, 'n_estimators': 500}\n",
      "0.748 (+/-0.003) for {'learning_rate': 0.1, 'max_depth': 5, 'n_estimators': 5}\n",
      "0.722 (+/-0.033) for {'learning_rate': 0.1, 'max_depth': 5, 'n_estimators': 50}\n",
      "0.686 (+/-0.048) for {'learning_rate': 0.1, 'max_depth': 5, 'n_estimators': 250}\n",
      "0.664 (+/-0.071) for {'learning_rate': 0.1, 'max_depth': 5, 'n_estimators': 500}\n",
      "0.742 (+/-0.018) for {'learning_rate': 0.1, 'max_depth': 7, 'n_estimators': 5}\n",
      "0.702 (+/-0.053) for {'learning_rate': 0.1, 'max_depth': 7, 'n_estimators': 50}\n",
      "0.675 (+/-0.049) for {'learning_rate': 0.1, 'max_depth': 7, 'n_estimators': 250}\n",
      "0.665 (+/-0.032) for {'learning_rate': 0.1, 'max_depth': 7, 'n_estimators': 500}\n",
      "0.733 (+/-0.03) for {'learning_rate': 0.1, 'max_depth': 9, 'n_estimators': 5}\n",
      "0.694 (+/-0.037) for {'learning_rate': 0.1, 'max_depth': 9, 'n_estimators': 50}\n",
      "0.667 (+/-0.053) for {'learning_rate': 0.1, 'max_depth': 9, 'n_estimators': 250}\n",
      "0.674 (+/-0.03) for {'learning_rate': 0.1, 'max_depth': 9, 'n_estimators': 500}\n",
      "0.742 (+/-0.021) for {'learning_rate': 1, 'max_depth': 1, 'n_estimators': 5}\n",
      "0.742 (+/-0.04) for {'learning_rate': 1, 'max_depth': 1, 'n_estimators': 50}\n",
      "0.747 (+/-0.05) for {'learning_rate': 1, 'max_depth': 1, 'n_estimators': 250}\n",
      "0.747 (+/-0.051) for {'learning_rate': 1, 'max_depth': 1, 'n_estimators': 500}\n",
      "0.713 (+/-0.026) for {'learning_rate': 1, 'max_depth': 3, 'n_estimators': 5}\n",
      "0.672 (+/-0.042) for {'learning_rate': 1, 'max_depth': 3, 'n_estimators': 50}\n",
      "0.647 (+/-0.08) for {'learning_rate': 1, 'max_depth': 3, 'n_estimators': 250}\n",
      "0.639 (+/-0.074) for {'learning_rate': 1, 'max_depth': 3, 'n_estimators': 500}\n",
      "0.702 (+/-0.053) for {'learning_rate': 1, 'max_depth': 5, 'n_estimators': 5}\n",
      "0.648 (+/-0.061) for {'learning_rate': 1, 'max_depth': 5, 'n_estimators': 50}\n",
      "0.657 (+/-0.053) for {'learning_rate': 1, 'max_depth': 5, 'n_estimators': 250}\n",
      "0.658 (+/-0.048) for {'learning_rate': 1, 'max_depth': 5, 'n_estimators': 500}\n",
      "0.69 (+/-0.032) for {'learning_rate': 1, 'max_depth': 7, 'n_estimators': 5}\n",
      "0.667 (+/-0.065) for {'learning_rate': 1, 'max_depth': 7, 'n_estimators': 50}\n",
      "0.667 (+/-0.061) for {'learning_rate': 1, 'max_depth': 7, 'n_estimators': 250}\n",
      "0.661 (+/-0.049) for {'learning_rate': 1, 'max_depth': 7, 'n_estimators': 500}\n",
      "0.659 (+/-0.04) for {'learning_rate': 1, 'max_depth': 9, 'n_estimators': 5}\n",
      "0.672 (+/-0.057) for {'learning_rate': 1, 'max_depth': 9, 'n_estimators': 50}\n",
      "0.664 (+/-0.065) for {'learning_rate': 1, 'max_depth': 9, 'n_estimators': 250}\n",
      "0.683 (+/-0.045) for {'learning_rate': 1, 'max_depth': 9, 'n_estimators': 500}\n",
      "0.25 (+/-0.004) for {'learning_rate': 10, 'max_depth': 1, 'n_estimators': 5}\n",
      "0.25 (+/-0.004) for {'learning_rate': 10, 'max_depth': 1, 'n_estimators': 50}\n",
      "0.25 (+/-0.004) for {'learning_rate': 10, 'max_depth': 1, 'n_estimators': 250}\n",
      "0.25 (+/-0.004) for {'learning_rate': 10, 'max_depth': 1, 'n_estimators': 500}\n",
      "0.387 (+/-0.14) for {'learning_rate': 10, 'max_depth': 3, 'n_estimators': 5}\n",
      "0.387 (+/-0.14) for {'learning_rate': 10, 'max_depth': 3, 'n_estimators': 50}\n",
      "0.387 (+/-0.14) for {'learning_rate': 10, 'max_depth': 3, 'n_estimators': 250}\n",
      "0.386 (+/-0.143) for {'learning_rate': 10, 'max_depth': 3, 'n_estimators': 500}\n",
      "0.472 (+/-0.234) for {'learning_rate': 10, 'max_depth': 5, 'n_estimators': 5}\n",
      "0.489 (+/-0.149) for {'learning_rate': 10, 'max_depth': 5, 'n_estimators': 50}\n",
      "0.469 (+/-0.231) for {'learning_rate': 10, 'max_depth': 5, 'n_estimators': 250}\n",
      "0.502 (+/-0.172) for {'learning_rate': 10, 'max_depth': 5, 'n_estimators': 500}\n",
      "0.492 (+/-0.164) for {'learning_rate': 10, 'max_depth': 7, 'n_estimators': 5}\n",
      "0.484 (+/-0.178) for {'learning_rate': 10, 'max_depth': 7, 'n_estimators': 50}\n",
      "0.545 (+/-0.178) for {'learning_rate': 10, 'max_depth': 7, 'n_estimators': 250}\n",
      "0.51 (+/-0.153) for {'learning_rate': 10, 'max_depth': 7, 'n_estimators': 500}\n",
      "0.574 (+/-0.093) for {'learning_rate': 10, 'max_depth': 9, 'n_estimators': 5}\n",
      "0.534 (+/-0.135) for {'learning_rate': 10, 'max_depth': 9, 'n_estimators': 50}\n",
      "0.53 (+/-0.107) for {'learning_rate': 10, 'max_depth': 9, 'n_estimators': 250}\n",
      "0.586 (+/-0.088) for {'learning_rate': 10, 'max_depth': 9, 'n_estimators': 500}\n",
      "0.536 (+/-0.055) for {'learning_rate': 100, 'max_depth': 1, 'n_estimators': 5}\n",
      "0.536 (+/-0.055) for {'learning_rate': 100, 'max_depth': 1, 'n_estimators': 50}\n",
      "0.536 (+/-0.055) for {'learning_rate': 100, 'max_depth': 1, 'n_estimators': 250}\n",
      "0.536 (+/-0.055) for {'learning_rate': 100, 'max_depth': 1, 'n_estimators': 500}\n",
      "0.307 (+/-0.161) for {'learning_rate': 100, 'max_depth': 3, 'n_estimators': 5}\n",
      "0.308 (+/-0.164) for {'learning_rate': 100, 'max_depth': 3, 'n_estimators': 50}\n",
      "0.307 (+/-0.161) for {'learning_rate': 100, 'max_depth': 3, 'n_estimators': 250}\n",
      "0.308 (+/-0.164) for {'learning_rate': 100, 'max_depth': 3, 'n_estimators': 500}\n",
      "0.416 (+/-0.186) for {'learning_rate': 100, 'max_depth': 5, 'n_estimators': 5}\n",
      "0.496 (+/-0.188) for {'learning_rate': 100, 'max_depth': 5, 'n_estimators': 50}\n",
      "0.442 (+/-0.086) for {'learning_rate': 100, 'max_depth': 5, 'n_estimators': 250}\n",
      "0.529 (+/-0.217) for {'learning_rate': 100, 'max_depth': 5, 'n_estimators': 500}\n",
      "0.49 (+/-0.202) for {'learning_rate': 100, 'max_depth': 7, 'n_estimators': 5}\n",
      "0.551 (+/-0.158) for {'learning_rate': 100, 'max_depth': 7, 'n_estimators': 50}\n",
      "0.502 (+/-0.228) for {'learning_rate': 100, 'max_depth': 7, 'n_estimators': 250}\n",
      "0.563 (+/-0.171) for {'learning_rate': 100, 'max_depth': 7, 'n_estimators': 500}\n",
      "0.563 (+/-0.15) for {'learning_rate': 100, 'max_depth': 9, 'n_estimators': 5}\n",
      "0.518 (+/-0.12) for {'learning_rate': 100, 'max_depth': 9, 'n_estimators': 50}\n",
      "0.48 (+/-0.151) for {'learning_rate': 100, 'max_depth': 9, 'n_estimators': 250}\n",
      "0.531 (+/-0.116) for {'learning_rate': 100, 'max_depth': 9, 'n_estimators': 500}\n"
     ]
    }
   ],
   "source": [
    "gb = GradientBoostingClassifier()\n",
    "parameters = {\n",
    "    'n_estimators': [5, 50, 250, 500],\n",
    "    'max_depth': [1, 3, 5, 7, 9],\n",
    "    'learning_rate': [0.01, 0.1, 1, 10, 100]\n",
    "}\n",
    "\n",
    "cv = GridSearchCV(gb, parameters, cv=5)\n",
    "cv.fit(train_features_cat, train_labels.values.ravel())\n",
    "\n",
    "print_results(cv)"
   ]
  },
  {
   "cell_type": "code",
   "execution_count": 69,
   "id": "0fd2b63d",
   "metadata": {},
   "outputs": [
    {
     "data": {
      "text/plain": [
       "GradientBoostingClassifier(max_depth=1, n_estimators=250)"
      ]
     },
     "execution_count": 69,
     "metadata": {},
     "output_type": "execute_result"
    }
   ],
   "source": [
    "cv.best_estimator_"
   ]
  },
  {
   "cell_type": "code",
   "execution_count": 70,
   "id": "3a62b072",
   "metadata": {},
   "outputs": [
    {
     "data": {
      "text/plain": [
       "['GB_model_cat.pkl']"
      ]
     },
     "execution_count": 70,
     "metadata": {},
     "output_type": "execute_result"
    }
   ],
   "source": [
    "joblib.dump(cv.best_estimator_, 'GB_model_cat.pkl')"
   ]
  },
  {
   "cell_type": "markdown",
   "id": "34097fc1",
   "metadata": {},
   "source": [
    "### Step #15: Gradient Boosting with Numerical Features\n"
   ]
  },
  {
   "cell_type": "code",
   "execution_count": 71,
   "id": "ab76a577",
   "metadata": {},
   "outputs": [
    {
     "name": "stdout",
     "output_type": "stream",
     "text": [
      "BEST PARAMS: {'learning_rate': 1, 'max_depth': 1, 'n_estimators': 5}\n",
      "\n",
      "0.75 (+/-0.004) for {'learning_rate': 0.01, 'max_depth': 1, 'n_estimators': 5}\n",
      "0.75 (+/-0.004) for {'learning_rate': 0.01, 'max_depth': 1, 'n_estimators': 50}\n",
      "0.75 (+/-0.007) for {'learning_rate': 0.01, 'max_depth': 1, 'n_estimators': 250}\n",
      "0.75 (+/-0.008) for {'learning_rate': 0.01, 'max_depth': 1, 'n_estimators': 500}\n",
      "0.75 (+/-0.004) for {'learning_rate': 0.01, 'max_depth': 3, 'n_estimators': 5}\n",
      "0.75 (+/-0.004) for {'learning_rate': 0.01, 'max_depth': 3, 'n_estimators': 50}\n",
      "0.746 (+/-0.009) for {'learning_rate': 0.01, 'max_depth': 3, 'n_estimators': 250}\n",
      "0.75 (+/-0.012) for {'learning_rate': 0.01, 'max_depth': 3, 'n_estimators': 500}\n",
      "0.75 (+/-0.004) for {'learning_rate': 0.01, 'max_depth': 5, 'n_estimators': 5}\n",
      "0.752 (+/-0.015) for {'learning_rate': 0.01, 'max_depth': 5, 'n_estimators': 50}\n",
      "0.751 (+/-0.031) for {'learning_rate': 0.01, 'max_depth': 5, 'n_estimators': 250}\n",
      "0.74 (+/-0.032) for {'learning_rate': 0.01, 'max_depth': 5, 'n_estimators': 500}\n",
      "0.75 (+/-0.004) for {'learning_rate': 0.01, 'max_depth': 7, 'n_estimators': 5}\n",
      "0.751 (+/-0.017) for {'learning_rate': 0.01, 'max_depth': 7, 'n_estimators': 50}\n",
      "0.738 (+/-0.031) for {'learning_rate': 0.01, 'max_depth': 7, 'n_estimators': 250}\n",
      "0.738 (+/-0.046) for {'learning_rate': 0.01, 'max_depth': 7, 'n_estimators': 500}\n",
      "0.75 (+/-0.004) for {'learning_rate': 0.01, 'max_depth': 9, 'n_estimators': 5}\n",
      "0.746 (+/-0.03) for {'learning_rate': 0.01, 'max_depth': 9, 'n_estimators': 50}\n",
      "0.73 (+/-0.045) for {'learning_rate': 0.01, 'max_depth': 9, 'n_estimators': 250}\n",
      "0.726 (+/-0.039) for {'learning_rate': 0.01, 'max_depth': 9, 'n_estimators': 500}\n",
      "0.75 (+/-0.004) for {'learning_rate': 0.1, 'max_depth': 1, 'n_estimators': 5}\n",
      "0.749 (+/-0.011) for {'learning_rate': 0.1, 'max_depth': 1, 'n_estimators': 50}\n",
      "0.751 (+/-0.032) for {'learning_rate': 0.1, 'max_depth': 1, 'n_estimators': 250}\n",
      "0.746 (+/-0.034) for {'learning_rate': 0.1, 'max_depth': 1, 'n_estimators': 500}\n",
      "0.75 (+/-0.005) for {'learning_rate': 0.1, 'max_depth': 3, 'n_estimators': 5}\n",
      "0.744 (+/-0.015) for {'learning_rate': 0.1, 'max_depth': 3, 'n_estimators': 50}\n",
      "0.735 (+/-0.055) for {'learning_rate': 0.1, 'max_depth': 3, 'n_estimators': 250}\n",
      "0.715 (+/-0.047) for {'learning_rate': 0.1, 'max_depth': 3, 'n_estimators': 500}\n",
      "0.753 (+/-0.017) for {'learning_rate': 0.1, 'max_depth': 5, 'n_estimators': 5}\n",
      "0.739 (+/-0.022) for {'learning_rate': 0.1, 'max_depth': 5, 'n_estimators': 50}\n",
      "0.706 (+/-0.052) for {'learning_rate': 0.1, 'max_depth': 5, 'n_estimators': 250}\n",
      "0.699 (+/-0.064) for {'learning_rate': 0.1, 'max_depth': 5, 'n_estimators': 500}\n",
      "0.749 (+/-0.019) for {'learning_rate': 0.1, 'max_depth': 7, 'n_estimators': 5}\n",
      "0.725 (+/-0.054) for {'learning_rate': 0.1, 'max_depth': 7, 'n_estimators': 50}\n",
      "0.72 (+/-0.038) for {'learning_rate': 0.1, 'max_depth': 7, 'n_estimators': 250}\n",
      "0.71 (+/-0.051) for {'learning_rate': 0.1, 'max_depth': 7, 'n_estimators': 500}\n",
      "0.751 (+/-0.033) for {'learning_rate': 0.1, 'max_depth': 9, 'n_estimators': 5}\n",
      "0.725 (+/-0.043) for {'learning_rate': 0.1, 'max_depth': 9, 'n_estimators': 50}\n",
      "0.72 (+/-0.054) for {'learning_rate': 0.1, 'max_depth': 9, 'n_estimators': 250}\n",
      "0.713 (+/-0.052) for {'learning_rate': 0.1, 'max_depth': 9, 'n_estimators': 500}\n",
      "0.758 (+/-0.009) for {'learning_rate': 1, 'max_depth': 1, 'n_estimators': 5}\n",
      "0.747 (+/-0.036) for {'learning_rate': 1, 'max_depth': 1, 'n_estimators': 50}\n",
      "0.726 (+/-0.04) for {'learning_rate': 1, 'max_depth': 1, 'n_estimators': 250}\n",
      "0.72 (+/-0.048) for {'learning_rate': 1, 'max_depth': 1, 'n_estimators': 500}\n",
      "0.733 (+/-0.036) for {'learning_rate': 1, 'max_depth': 3, 'n_estimators': 5}\n",
      "0.693 (+/-0.061) for {'learning_rate': 1, 'max_depth': 3, 'n_estimators': 50}\n",
      "0.679 (+/-0.068) for {'learning_rate': 1, 'max_depth': 3, 'n_estimators': 250}\n",
      "0.687 (+/-0.063) for {'learning_rate': 1, 'max_depth': 3, 'n_estimators': 500}\n",
      "0.706 (+/-0.049) for {'learning_rate': 1, 'max_depth': 5, 'n_estimators': 5}\n",
      "0.69 (+/-0.045) for {'learning_rate': 1, 'max_depth': 5, 'n_estimators': 50}\n",
      "0.7 (+/-0.042) for {'learning_rate': 1, 'max_depth': 5, 'n_estimators': 250}\n",
      "0.695 (+/-0.036) for {'learning_rate': 1, 'max_depth': 5, 'n_estimators': 500}\n",
      "0.693 (+/-0.05) for {'learning_rate': 1, 'max_depth': 7, 'n_estimators': 5}\n",
      "0.704 (+/-0.072) for {'learning_rate': 1, 'max_depth': 7, 'n_estimators': 50}\n",
      "0.694 (+/-0.056) for {'learning_rate': 1, 'max_depth': 7, 'n_estimators': 250}\n",
      "0.691 (+/-0.045) for {'learning_rate': 1, 'max_depth': 7, 'n_estimators': 500}\n",
      "0.695 (+/-0.071) for {'learning_rate': 1, 'max_depth': 9, 'n_estimators': 5}\n",
      "0.703 (+/-0.016) for {'learning_rate': 1, 'max_depth': 9, 'n_estimators': 50}\n",
      "0.699 (+/-0.049) for {'learning_rate': 1, 'max_depth': 9, 'n_estimators': 250}\n",
      "0.707 (+/-0.049) for {'learning_rate': 1, 'max_depth': 9, 'n_estimators': 500}\n",
      "0.418 (+/-0.335) for {'learning_rate': 10, 'max_depth': 1, 'n_estimators': 5}\n",
      "0.418 (+/-0.335) for {'learning_rate': 10, 'max_depth': 1, 'n_estimators': 50}\n",
      "0.418 (+/-0.335) for {'learning_rate': 10, 'max_depth': 1, 'n_estimators': 250}\n",
      "0.418 (+/-0.335) for {'learning_rate': 10, 'max_depth': 1, 'n_estimators': 500}\n",
      "0.46 (+/-0.366) for {'learning_rate': 10, 'max_depth': 3, 'n_estimators': 5}\n",
      "0.46 (+/-0.366) for {'learning_rate': 10, 'max_depth': 3, 'n_estimators': 50}\n",
      "0.46 (+/-0.366) for {'learning_rate': 10, 'max_depth': 3, 'n_estimators': 250}\n",
      "0.459 (+/-0.367) for {'learning_rate': 10, 'max_depth': 3, 'n_estimators': 500}\n",
      "0.52 (+/-0.263) for {'learning_rate': 10, 'max_depth': 5, 'n_estimators': 5}\n",
      "0.423 (+/-0.236) for {'learning_rate': 10, 'max_depth': 5, 'n_estimators': 50}\n",
      "0.454 (+/-0.187) for {'learning_rate': 10, 'max_depth': 5, 'n_estimators': 250}\n",
      "0.423 (+/-0.229) for {'learning_rate': 10, 'max_depth': 5, 'n_estimators': 500}\n",
      "0.434 (+/-0.074) for {'learning_rate': 10, 'max_depth': 7, 'n_estimators': 5}\n",
      "0.456 (+/-0.081) for {'learning_rate': 10, 'max_depth': 7, 'n_estimators': 50}\n",
      "0.461 (+/-0.056) for {'learning_rate': 10, 'max_depth': 7, 'n_estimators': 250}\n",
      "0.497 (+/-0.139) for {'learning_rate': 10, 'max_depth': 7, 'n_estimators': 500}\n",
      "0.571 (+/-0.075) for {'learning_rate': 10, 'max_depth': 9, 'n_estimators': 5}\n",
      "0.519 (+/-0.083) for {'learning_rate': 10, 'max_depth': 9, 'n_estimators': 50}\n",
      "0.516 (+/-0.09) for {'learning_rate': 10, 'max_depth': 9, 'n_estimators': 250}\n",
      "0.56 (+/-0.12) for {'learning_rate': 10, 'max_depth': 9, 'n_estimators': 500}\n",
      "0.25 (+/-0.004) for {'learning_rate': 100, 'max_depth': 1, 'n_estimators': 5}\n",
      "0.25 (+/-0.004) for {'learning_rate': 100, 'max_depth': 1, 'n_estimators': 50}\n",
      "0.25 (+/-0.004) for {'learning_rate': 100, 'max_depth': 1, 'n_estimators': 250}\n",
      "0.25 (+/-0.004) for {'learning_rate': 100, 'max_depth': 1, 'n_estimators': 500}\n",
      "0.284 (+/-0.067) for {'learning_rate': 100, 'max_depth': 3, 'n_estimators': 5}\n",
      "0.284 (+/-0.067) for {'learning_rate': 100, 'max_depth': 3, 'n_estimators': 50}\n",
      "0.284 (+/-0.067) for {'learning_rate': 100, 'max_depth': 3, 'n_estimators': 250}\n",
      "0.284 (+/-0.067) for {'learning_rate': 100, 'max_depth': 3, 'n_estimators': 500}\n",
      "0.502 (+/-0.256) for {'learning_rate': 100, 'max_depth': 5, 'n_estimators': 5}\n",
      "0.425 (+/-0.203) for {'learning_rate': 100, 'max_depth': 5, 'n_estimators': 50}\n",
      "0.47 (+/-0.326) for {'learning_rate': 100, 'max_depth': 5, 'n_estimators': 250}\n",
      "0.478 (+/-0.321) for {'learning_rate': 100, 'max_depth': 5, 'n_estimators': 500}\n",
      "0.518 (+/-0.142) for {'learning_rate': 100, 'max_depth': 7, 'n_estimators': 5}\n",
      "0.515 (+/-0.131) for {'learning_rate': 100, 'max_depth': 7, 'n_estimators': 50}\n",
      "0.505 (+/-0.147) for {'learning_rate': 100, 'max_depth': 7, 'n_estimators': 250}\n",
      "0.459 (+/-0.137) for {'learning_rate': 100, 'max_depth': 7, 'n_estimators': 500}\n",
      "0.551 (+/-0.056) for {'learning_rate': 100, 'max_depth': 9, 'n_estimators': 5}\n",
      "0.549 (+/-0.054) for {'learning_rate': 100, 'max_depth': 9, 'n_estimators': 50}\n",
      "0.529 (+/-0.04) for {'learning_rate': 100, 'max_depth': 9, 'n_estimators': 250}\n",
      "0.522 (+/-0.116) for {'learning_rate': 100, 'max_depth': 9, 'n_estimators': 500}\n"
     ]
    }
   ],
   "source": [
    "gb = GradientBoostingClassifier()\n",
    "parameters = {\n",
    "    'n_estimators': [5, 50, 250, 500],\n",
    "    'max_depth': [1, 3, 5, 7, 9],\n",
    "    'learning_rate': [0.01, 0.1, 1, 10, 100]\n",
    "}\n",
    "\n",
    "cv = GridSearchCV(gb, parameters, cv=5)\n",
    "cv.fit(train_features_num, train_labels.values.ravel())\n",
    "\n",
    "print_results(cv)"
   ]
  },
  {
   "cell_type": "code",
   "execution_count": 72,
   "id": "04b33cdc",
   "metadata": {},
   "outputs": [
    {
     "data": {
      "text/plain": [
       "GradientBoostingClassifier(learning_rate=1, max_depth=1, n_estimators=5)"
      ]
     },
     "execution_count": 72,
     "metadata": {},
     "output_type": "execute_result"
    }
   ],
   "source": [
    "cv.best_estimator_"
   ]
  },
  {
   "cell_type": "code",
   "execution_count": 73,
   "id": "4e8db217",
   "metadata": {},
   "outputs": [
    {
     "data": {
      "text/plain": [
       "['GB_model_num.pkl']"
      ]
     },
     "execution_count": 73,
     "metadata": {},
     "output_type": "execute_result"
    }
   ],
   "source": [
    "joblib.dump(cv.best_estimator_, 'GB_model_num.pkl')"
   ]
  },
  {
   "cell_type": "markdown",
   "id": "1a0e100d",
   "metadata": {},
   "source": [
    "### Step #15: Gradient Boosting with All Features\n"
   ]
  },
  {
   "cell_type": "code",
   "execution_count": 74,
   "id": "28bb2e70",
   "metadata": {},
   "outputs": [
    {
     "name": "stdout",
     "output_type": "stream",
     "text": [
      "BEST PARAMS: {'learning_rate': 0.1, 'max_depth': 1, 'n_estimators': 500}\n",
      "\n",
      "0.75 (+/-0.004) for {'learning_rate': 0.01, 'max_depth': 1, 'n_estimators': 5}\n",
      "0.75 (+/-0.004) for {'learning_rate': 0.01, 'max_depth': 1, 'n_estimators': 50}\n",
      "0.751 (+/-0.006) for {'learning_rate': 0.01, 'max_depth': 1, 'n_estimators': 250}\n",
      "0.752 (+/-0.006) for {'learning_rate': 0.01, 'max_depth': 1, 'n_estimators': 500}\n",
      "0.75 (+/-0.004) for {'learning_rate': 0.01, 'max_depth': 3, 'n_estimators': 5}\n",
      "0.75 (+/-0.004) for {'learning_rate': 0.01, 'max_depth': 3, 'n_estimators': 50}\n",
      "0.754 (+/-0.01) for {'learning_rate': 0.01, 'max_depth': 3, 'n_estimators': 250}\n",
      "0.741 (+/-0.027) for {'learning_rate': 0.01, 'max_depth': 3, 'n_estimators': 500}\n",
      "0.75 (+/-0.004) for {'learning_rate': 0.01, 'max_depth': 5, 'n_estimators': 5}\n",
      "0.747 (+/-0.01) for {'learning_rate': 0.01, 'max_depth': 5, 'n_estimators': 50}\n",
      "0.743 (+/-0.042) for {'learning_rate': 0.01, 'max_depth': 5, 'n_estimators': 250}\n",
      "0.744 (+/-0.051) for {'learning_rate': 0.01, 'max_depth': 5, 'n_estimators': 500}\n",
      "0.75 (+/-0.004) for {'learning_rate': 0.01, 'max_depth': 7, 'n_estimators': 5}\n",
      "0.746 (+/-0.022) for {'learning_rate': 0.01, 'max_depth': 7, 'n_estimators': 50}\n",
      "0.741 (+/-0.041) for {'learning_rate': 0.01, 'max_depth': 7, 'n_estimators': 250}\n",
      "0.744 (+/-0.05) for {'learning_rate': 0.01, 'max_depth': 7, 'n_estimators': 500}\n",
      "0.75 (+/-0.004) for {'learning_rate': 0.01, 'max_depth': 9, 'n_estimators': 5}\n",
      "0.742 (+/-0.024) for {'learning_rate': 0.01, 'max_depth': 9, 'n_estimators': 50}\n",
      "0.73 (+/-0.038) for {'learning_rate': 0.01, 'max_depth': 9, 'n_estimators': 250}\n",
      "0.733 (+/-0.045) for {'learning_rate': 0.01, 'max_depth': 9, 'n_estimators': 500}\n",
      "0.75 (+/-0.004) for {'learning_rate': 0.1, 'max_depth': 1, 'n_estimators': 5}\n",
      "0.754 (+/-0.011) for {'learning_rate': 0.1, 'max_depth': 1, 'n_estimators': 50}\n",
      "0.754 (+/-0.036) for {'learning_rate': 0.1, 'max_depth': 1, 'n_estimators': 250}\n",
      "0.756 (+/-0.034) for {'learning_rate': 0.1, 'max_depth': 1, 'n_estimators': 500}\n",
      "0.75 (+/-0.004) for {'learning_rate': 0.1, 'max_depth': 3, 'n_estimators': 5}\n",
      "0.749 (+/-0.036) for {'learning_rate': 0.1, 'max_depth': 3, 'n_estimators': 50}\n",
      "0.73 (+/-0.033) for {'learning_rate': 0.1, 'max_depth': 3, 'n_estimators': 250}\n",
      "0.707 (+/-0.048) for {'learning_rate': 0.1, 'max_depth': 3, 'n_estimators': 500}\n",
      "0.745 (+/-0.013) for {'learning_rate': 0.1, 'max_depth': 5, 'n_estimators': 5}\n",
      "0.742 (+/-0.039) for {'learning_rate': 0.1, 'max_depth': 5, 'n_estimators': 50}\n",
      "0.724 (+/-0.039) for {'learning_rate': 0.1, 'max_depth': 5, 'n_estimators': 250}\n",
      "0.717 (+/-0.067) for {'learning_rate': 0.1, 'max_depth': 5, 'n_estimators': 500}\n",
      "0.747 (+/-0.022) for {'learning_rate': 0.1, 'max_depth': 7, 'n_estimators': 5}\n",
      "0.74 (+/-0.032) for {'learning_rate': 0.1, 'max_depth': 7, 'n_estimators': 50}\n",
      "0.733 (+/-0.052) for {'learning_rate': 0.1, 'max_depth': 7, 'n_estimators': 250}\n",
      "0.733 (+/-0.045) for {'learning_rate': 0.1, 'max_depth': 7, 'n_estimators': 500}\n",
      "0.743 (+/-0.023) for {'learning_rate': 0.1, 'max_depth': 9, 'n_estimators': 5}\n",
      "0.731 (+/-0.059) for {'learning_rate': 0.1, 'max_depth': 9, 'n_estimators': 50}\n",
      "0.736 (+/-0.028) for {'learning_rate': 0.1, 'max_depth': 9, 'n_estimators': 250}\n",
      "0.737 (+/-0.037) for {'learning_rate': 0.1, 'max_depth': 9, 'n_estimators': 500}\n",
      "0.755 (+/-0.012) for {'learning_rate': 1, 'max_depth': 1, 'n_estimators': 5}\n",
      "0.74 (+/-0.04) for {'learning_rate': 1, 'max_depth': 1, 'n_estimators': 50}\n",
      "0.72 (+/-0.049) for {'learning_rate': 1, 'max_depth': 1, 'n_estimators': 250}\n",
      "0.71 (+/-0.055) for {'learning_rate': 1, 'max_depth': 1, 'n_estimators': 500}\n",
      "0.734 (+/-0.033) for {'learning_rate': 1, 'max_depth': 3, 'n_estimators': 5}\n",
      "0.689 (+/-0.021) for {'learning_rate': 1, 'max_depth': 3, 'n_estimators': 50}\n",
      "0.684 (+/-0.048) for {'learning_rate': 1, 'max_depth': 3, 'n_estimators': 250}\n",
      "0.683 (+/-0.061) for {'learning_rate': 1, 'max_depth': 3, 'n_estimators': 500}\n",
      "0.709 (+/-0.05) for {'learning_rate': 1, 'max_depth': 5, 'n_estimators': 5}\n",
      "0.705 (+/-0.051) for {'learning_rate': 1, 'max_depth': 5, 'n_estimators': 50}\n",
      "0.715 (+/-0.057) for {'learning_rate': 1, 'max_depth': 5, 'n_estimators': 250}\n",
      "0.716 (+/-0.051) for {'learning_rate': 1, 'max_depth': 5, 'n_estimators': 500}\n",
      "0.69 (+/-0.039) for {'learning_rate': 1, 'max_depth': 7, 'n_estimators': 5}\n",
      "0.719 (+/-0.072) for {'learning_rate': 1, 'max_depth': 7, 'n_estimators': 50}\n",
      "0.732 (+/-0.044) for {'learning_rate': 1, 'max_depth': 7, 'n_estimators': 250}\n",
      "0.726 (+/-0.059) for {'learning_rate': 1, 'max_depth': 7, 'n_estimators': 500}\n",
      "0.686 (+/-0.036) for {'learning_rate': 1, 'max_depth': 9, 'n_estimators': 5}\n",
      "0.72 (+/-0.054) for {'learning_rate': 1, 'max_depth': 9, 'n_estimators': 50}\n",
      "0.726 (+/-0.034) for {'learning_rate': 1, 'max_depth': 9, 'n_estimators': 250}\n",
      "0.709 (+/-0.046) for {'learning_rate': 1, 'max_depth': 9, 'n_estimators': 500}\n",
      "0.418 (+/-0.335) for {'learning_rate': 10, 'max_depth': 1, 'n_estimators': 5}\n",
      "0.418 (+/-0.335) for {'learning_rate': 10, 'max_depth': 1, 'n_estimators': 50}\n",
      "0.418 (+/-0.335) for {'learning_rate': 10, 'max_depth': 1, 'n_estimators': 250}\n",
      "0.418 (+/-0.335) for {'learning_rate': 10, 'max_depth': 1, 'n_estimators': 500}\n",
      "0.438 (+/-0.269) for {'learning_rate': 10, 'max_depth': 3, 'n_estimators': 5}\n",
      "0.437 (+/-0.27) for {'learning_rate': 10, 'max_depth': 3, 'n_estimators': 50}\n",
      "0.438 (+/-0.269) for {'learning_rate': 10, 'max_depth': 3, 'n_estimators': 250}\n",
      "0.437 (+/-0.27) for {'learning_rate': 10, 'max_depth': 3, 'n_estimators': 500}\n",
      "0.341 (+/-0.113) for {'learning_rate': 10, 'max_depth': 5, 'n_estimators': 5}\n",
      "0.346 (+/-0.113) for {'learning_rate': 10, 'max_depth': 5, 'n_estimators': 50}\n",
      "0.362 (+/-0.152) for {'learning_rate': 10, 'max_depth': 5, 'n_estimators': 250}\n",
      "0.378 (+/-0.221) for {'learning_rate': 10, 'max_depth': 5, 'n_estimators': 500}\n",
      "0.489 (+/-0.123) for {'learning_rate': 10, 'max_depth': 7, 'n_estimators': 5}\n",
      "0.49 (+/-0.151) for {'learning_rate': 10, 'max_depth': 7, 'n_estimators': 50}\n",
      "0.521 (+/-0.064) for {'learning_rate': 10, 'max_depth': 7, 'n_estimators': 250}\n",
      "0.47 (+/-0.206) for {'learning_rate': 10, 'max_depth': 7, 'n_estimators': 500}\n",
      "0.533 (+/-0.174) for {'learning_rate': 10, 'max_depth': 9, 'n_estimators': 5}\n",
      "0.567 (+/-0.035) for {'learning_rate': 10, 'max_depth': 9, 'n_estimators': 50}\n",
      "0.526 (+/-0.142) for {'learning_rate': 10, 'max_depth': 9, 'n_estimators': 250}\n",
      "0.53 (+/-0.132) for {'learning_rate': 10, 'max_depth': 9, 'n_estimators': 500}\n",
      "0.25 (+/-0.004) for {'learning_rate': 100, 'max_depth': 1, 'n_estimators': 5}\n",
      "0.25 (+/-0.004) for {'learning_rate': 100, 'max_depth': 1, 'n_estimators': 50}\n",
      "0.25 (+/-0.004) for {'learning_rate': 100, 'max_depth': 1, 'n_estimators': 250}\n",
      "0.25 (+/-0.004) for {'learning_rate': 100, 'max_depth': 1, 'n_estimators': 500}\n",
      "0.323 (+/-0.157) for {'learning_rate': 100, 'max_depth': 3, 'n_estimators': 5}\n",
      "0.323 (+/-0.157) for {'learning_rate': 100, 'max_depth': 3, 'n_estimators': 50}\n",
      "0.323 (+/-0.157) for {'learning_rate': 100, 'max_depth': 3, 'n_estimators': 250}\n",
      "0.323 (+/-0.157) for {'learning_rate': 100, 'max_depth': 3, 'n_estimators': 500}\n",
      "0.45 (+/-0.168) for {'learning_rate': 100, 'max_depth': 5, 'n_estimators': 5}\n",
      "0.428 (+/-0.123) for {'learning_rate': 100, 'max_depth': 5, 'n_estimators': 50}\n",
      "0.454 (+/-0.179) for {'learning_rate': 100, 'max_depth': 5, 'n_estimators': 250}\n",
      "0.454 (+/-0.179) for {'learning_rate': 100, 'max_depth': 5, 'n_estimators': 500}\n",
      "0.5 (+/-0.097) for {'learning_rate': 100, 'max_depth': 7, 'n_estimators': 5}\n",
      "0.445 (+/-0.029) for {'learning_rate': 100, 'max_depth': 7, 'n_estimators': 50}\n",
      "0.468 (+/-0.091) for {'learning_rate': 100, 'max_depth': 7, 'n_estimators': 250}\n",
      "0.549 (+/-0.159) for {'learning_rate': 100, 'max_depth': 7, 'n_estimators': 500}\n",
      "0.539 (+/-0.11) for {'learning_rate': 100, 'max_depth': 9, 'n_estimators': 5}\n",
      "0.478 (+/-0.102) for {'learning_rate': 100, 'max_depth': 9, 'n_estimators': 50}\n",
      "0.499 (+/-0.16) for {'learning_rate': 100, 'max_depth': 9, 'n_estimators': 250}\n",
      "0.53 (+/-0.092) for {'learning_rate': 100, 'max_depth': 9, 'n_estimators': 500}\n"
     ]
    }
   ],
   "source": [
    "gb = GradientBoostingClassifier()\n",
    "parameters = {\n",
    "    'n_estimators': [5, 50, 250, 500],\n",
    "    'max_depth': [1, 3, 5, 7, 9],\n",
    "    'learning_rate': [0.01, 0.1, 1, 10, 100]\n",
    "}\n",
    "\n",
    "cv = GridSearchCV(gb, parameters, cv=5)\n",
    "cv.fit(train_features_all, train_labels.values.ravel())\n",
    "\n",
    "print_results(cv)"
   ]
  },
  {
   "cell_type": "code",
   "execution_count": 75,
   "id": "ce800829",
   "metadata": {},
   "outputs": [
    {
     "data": {
      "text/plain": [
       "GradientBoostingClassifier(max_depth=1, n_estimators=500)"
      ]
     },
     "execution_count": 75,
     "metadata": {},
     "output_type": "execute_result"
    }
   ],
   "source": [
    "cv.best_estimator_"
   ]
  },
  {
   "cell_type": "code",
   "execution_count": 76,
   "id": "f28e90ae",
   "metadata": {},
   "outputs": [
    {
     "data": {
      "text/plain": [
       "['GB_model_all.pkl']"
      ]
     },
     "execution_count": 76,
     "metadata": {},
     "output_type": "execute_result"
    }
   ],
   "source": [
    "joblib.dump(cv.best_estimator_, 'GB_model_all.pkl')"
   ]
  },
  {
   "cell_type": "markdown",
   "id": "1e3f5f6f",
   "metadata": {},
   "source": [
    "### Step #16: Evaluate Every Model on the Test Set\n"
   ]
  },
  {
   "cell_type": "code",
   "execution_count": 80,
   "id": "e92e9a07",
   "metadata": {},
   "outputs": [
    {
     "data": {
      "text/html": [
       "<div>\n",
       "<style scoped>\n",
       "    .dataframe tbody tr th:only-of-type {\n",
       "        vertical-align: middle;\n",
       "    }\n",
       "\n",
       "    .dataframe tbody tr th {\n",
       "        vertical-align: top;\n",
       "    }\n",
       "\n",
       "    .dataframe thead th {\n",
       "        text-align: right;\n",
       "    }\n",
       "</style>\n",
       "<table border=\"1\" class=\"dataframe\">\n",
       "  <thead>\n",
       "    <tr style=\"text-align: right;\">\n",
       "      <th></th>\n",
       "      <th>Average_Member_yrcost</th>\n",
       "      <th>age</th>\n",
       "      <th>count_clicks_or_opens</th>\n",
       "      <th>credit_ranges</th>\n",
       "      <th>member_tenure_years</th>\n",
       "      <th>numofoffers</th>\n",
       "      <th>children_No</th>\n",
       "      <th>children_Unknown</th>\n",
       "      <th>children_Yes</th>\n",
       "      <th>dwelling_type_Multi Family Dwelling/Apartment</th>\n",
       "      <th>...</th>\n",
       "      <th>occupation_group_Blue Collar</th>\n",
       "      <th>occupation_group_Management</th>\n",
       "      <th>occupation_group_Office Administration</th>\n",
       "      <th>occupation_group_Other</th>\n",
       "      <th>occupation_group_Professional</th>\n",
       "      <th>occupation_group_Retired</th>\n",
       "      <th>occupation_group_Sales</th>\n",
       "      <th>occupation_group_Technical</th>\n",
       "      <th>member_type_Associate</th>\n",
       "      <th>member_type_Primary</th>\n",
       "    </tr>\n",
       "  </thead>\n",
       "  <tbody>\n",
       "    <tr>\n",
       "      <th>0</th>\n",
       "      <td>1.097030</td>\n",
       "      <td>-0.090995</td>\n",
       "      <td>-0.379847</td>\n",
       "      <td>-0.819378</td>\n",
       "      <td>-0.703892</td>\n",
       "      <td>0.156857</td>\n",
       "      <td>2.025394</td>\n",
       "      <td>-0.852242</td>\n",
       "      <td>-0.788333</td>\n",
       "      <td>-0.335266</td>\n",
       "      <td>...</td>\n",
       "      <td>-0.248957</td>\n",
       "      <td>-0.284569</td>\n",
       "      <td>-0.271847</td>\n",
       "      <td>0.974200</td>\n",
       "      <td>-0.361987</td>\n",
       "      <td>-0.346410</td>\n",
       "      <td>-0.187528</td>\n",
       "      <td>-0.169334</td>\n",
       "      <td>-0.442531</td>\n",
       "      <td>0.651397</td>\n",
       "    </tr>\n",
       "    <tr>\n",
       "      <th>1</th>\n",
       "      <td>-0.451257</td>\n",
       "      <td>2.330009</td>\n",
       "      <td>-0.379847</td>\n",
       "      <td>-0.819378</td>\n",
       "      <td>-0.180419</td>\n",
       "      <td>0.156857</td>\n",
       "      <td>2.025394</td>\n",
       "      <td>-0.852242</td>\n",
       "      <td>-0.788333</td>\n",
       "      <td>-0.335266</td>\n",
       "      <td>...</td>\n",
       "      <td>-0.248957</td>\n",
       "      <td>-0.284569</td>\n",
       "      <td>-0.271847</td>\n",
       "      <td>0.974200</td>\n",
       "      <td>-0.361987</td>\n",
       "      <td>-0.346410</td>\n",
       "      <td>-0.187528</td>\n",
       "      <td>-0.169334</td>\n",
       "      <td>-0.442531</td>\n",
       "      <td>0.651397</td>\n",
       "    </tr>\n",
       "    <tr>\n",
       "      <th>2</th>\n",
       "      <td>-0.451257</td>\n",
       "      <td>-2.713393</td>\n",
       "      <td>-0.379847</td>\n",
       "      <td>-0.819378</td>\n",
       "      <td>-0.267665</td>\n",
       "      <td>-0.954697</td>\n",
       "      <td>-0.493731</td>\n",
       "      <td>-0.852242</td>\n",
       "      <td>1.268499</td>\n",
       "      <td>-0.335266</td>\n",
       "      <td>...</td>\n",
       "      <td>-0.248957</td>\n",
       "      <td>-0.284569</td>\n",
       "      <td>-0.271847</td>\n",
       "      <td>-1.026483</td>\n",
       "      <td>-0.361987</td>\n",
       "      <td>2.886751</td>\n",
       "      <td>-0.187528</td>\n",
       "      <td>-0.169334</td>\n",
       "      <td>-0.442531</td>\n",
       "      <td>-1.535163</td>\n",
       "    </tr>\n",
       "    <tr>\n",
       "      <th>3</th>\n",
       "      <td>-0.451257</td>\n",
       "      <td>2.844642</td>\n",
       "      <td>-0.379847</td>\n",
       "      <td>1.237428</td>\n",
       "      <td>1.302756</td>\n",
       "      <td>1.268411</td>\n",
       "      <td>-0.493731</td>\n",
       "      <td>-0.852242</td>\n",
       "      <td>1.268499</td>\n",
       "      <td>-0.335266</td>\n",
       "      <td>...</td>\n",
       "      <td>-0.248957</td>\n",
       "      <td>-0.284569</td>\n",
       "      <td>-0.271847</td>\n",
       "      <td>-1.026483</td>\n",
       "      <td>-0.361987</td>\n",
       "      <td>2.886751</td>\n",
       "      <td>-0.187528</td>\n",
       "      <td>-0.169334</td>\n",
       "      <td>-0.442531</td>\n",
       "      <td>0.651397</td>\n",
       "    </tr>\n",
       "    <tr>\n",
       "      <th>4</th>\n",
       "      <td>0.402632</td>\n",
       "      <td>-2.404613</td>\n",
       "      <td>-0.379847</td>\n",
       "      <td>1.237428</td>\n",
       "      <td>0.517546</td>\n",
       "      <td>-0.954697</td>\n",
       "      <td>-0.493731</td>\n",
       "      <td>-0.852242</td>\n",
       "      <td>1.268499</td>\n",
       "      <td>-0.335266</td>\n",
       "      <td>...</td>\n",
       "      <td>-0.248957</td>\n",
       "      <td>3.514091</td>\n",
       "      <td>-0.271847</td>\n",
       "      <td>-1.026483</td>\n",
       "      <td>-0.361987</td>\n",
       "      <td>-0.346410</td>\n",
       "      <td>-0.187528</td>\n",
       "      <td>-0.169334</td>\n",
       "      <td>2.259731</td>\n",
       "      <td>-1.535163</td>\n",
       "    </tr>\n",
       "  </tbody>\n",
       "</table>\n",
       "<p>5 rows × 45 columns</p>\n",
       "</div>"
      ],
      "text/plain": [
       "   Average_Member_yrcost       age  count_clicks_or_opens  credit_ranges  \\\n",
       "0               1.097030 -0.090995              -0.379847      -0.819378   \n",
       "1              -0.451257  2.330009              -0.379847      -0.819378   \n",
       "2              -0.451257 -2.713393              -0.379847      -0.819378   \n",
       "3              -0.451257  2.844642              -0.379847       1.237428   \n",
       "4               0.402632 -2.404613              -0.379847       1.237428   \n",
       "\n",
       "   member_tenure_years  numofoffers  children_No  children_Unknown  \\\n",
       "0            -0.703892     0.156857     2.025394         -0.852242   \n",
       "1            -0.180419     0.156857     2.025394         -0.852242   \n",
       "2            -0.267665    -0.954697    -0.493731         -0.852242   \n",
       "3             1.302756     1.268411    -0.493731         -0.852242   \n",
       "4             0.517546    -0.954697    -0.493731         -0.852242   \n",
       "\n",
       "   children_Yes  dwelling_type_Multi Family Dwelling/Apartment  ...  \\\n",
       "0     -0.788333                                      -0.335266  ...   \n",
       "1     -0.788333                                      -0.335266  ...   \n",
       "2      1.268499                                      -0.335266  ...   \n",
       "3      1.268499                                      -0.335266  ...   \n",
       "4      1.268499                                      -0.335266  ...   \n",
       "\n",
       "   occupation_group_Blue Collar  occupation_group_Management  \\\n",
       "0                     -0.248957                    -0.284569   \n",
       "1                     -0.248957                    -0.284569   \n",
       "2                     -0.248957                    -0.284569   \n",
       "3                     -0.248957                    -0.284569   \n",
       "4                     -0.248957                     3.514091   \n",
       "\n",
       "   occupation_group_Office Administration  occupation_group_Other  \\\n",
       "0                               -0.271847                0.974200   \n",
       "1                               -0.271847                0.974200   \n",
       "2                               -0.271847               -1.026483   \n",
       "3                               -0.271847               -1.026483   \n",
       "4                               -0.271847               -1.026483   \n",
       "\n",
       "   occupation_group_Professional  occupation_group_Retired  \\\n",
       "0                      -0.361987                 -0.346410   \n",
       "1                      -0.361987                 -0.346410   \n",
       "2                      -0.361987                  2.886751   \n",
       "3                      -0.361987                  2.886751   \n",
       "4                      -0.361987                 -0.346410   \n",
       "\n",
       "   occupation_group_Sales  occupation_group_Technical  member_type_Associate  \\\n",
       "0               -0.187528                   -0.169334              -0.442531   \n",
       "1               -0.187528                   -0.169334              -0.442531   \n",
       "2               -0.187528                   -0.169334              -0.442531   \n",
       "3               -0.187528                   -0.169334              -0.442531   \n",
       "4               -0.187528                   -0.169334               2.259731   \n",
       "\n",
       "   member_type_Primary  \n",
       "0             0.651397  \n",
       "1             0.651397  \n",
       "2            -1.535163  \n",
       "3             0.651397  \n",
       "4            -1.535163  \n",
       "\n",
       "[5 rows x 45 columns]"
      ]
     },
     "execution_count": 80,
     "metadata": {},
     "output_type": "execute_result"
    }
   ],
   "source": [
    "val_features_cat = pd.read_csv('val_features_cat.csv')\n",
    "val_features_num = pd.read_csv('val_features_num.csv')\n",
    "val_features_all = pd.read_csv('val_features_all.csv')\n",
    "val_features_red = pd.read_csv('val_features_reduced.csv')\n",
    "\n",
    "val_labels = pd.read_csv('val_labels.csv')\n",
    "\n",
    "val_features_red.head()"
   ]
  },
  {
   "cell_type": "markdown",
   "id": "6af82958",
   "metadata": {},
   "source": [
    "#### A) Random Forest"
   ]
  },
  {
   "cell_type": "code",
   "execution_count": 81,
   "id": "ada75008",
   "metadata": {},
   "outputs": [],
   "source": [
    "# Read in models\n",
    "models = {}\n",
    "\n",
    "for mdl in ['cat', 'num', 'all', 'red']:\n",
    "    models[mdl] = joblib.load('rf_features_{}.pkl'.format(mdl))"
   ]
  },
  {
   "cell_type": "code",
   "execution_count": 82,
   "id": "a64ffa50",
   "metadata": {},
   "outputs": [],
   "source": [
    "def evaluate_model(name, model, features, labels):\n",
    "    start = time()\n",
    "    pred = model.predict(features)\n",
    "    end = time()\n",
    "    accuracy = round(accuracy_score(labels, pred), 3)\n",
    "    precision = round(precision_score(labels, pred), 3)\n",
    "    recall = round(recall_score(labels, pred), 3)\n",
    "    print('{} -- \\tAccuracy: {} / Precision: {} / Recall: {} / Latency: {}ms'.format(name,\n",
    "                                                                                     accuracy,\n",
    "                                                                                     precision,\n",
    "                                                                                     recall,\n",
    "                                                                                     round((end - start)*1000, 1)))"
   ]
  },
  {
   "cell_type": "code",
   "execution_count": 86,
   "id": "eab1afd2",
   "metadata": {},
   "outputs": [
    {
     "name": "stdout",
     "output_type": "stream",
     "text": [
      "Categorical Features - Random Forest -- \tAccuracy: 0.768 / Precision: 0.0 / Recall: 0.0 / Latency: 6.2ms\n",
      "Numerical Features - Random Forest -- \tAccuracy: 0.756 / Precision: 0.412 / Recall: 0.123 / Latency: 9.1ms\n",
      "All Features - Random Forest -- \tAccuracy: 0.78 / Precision: 0.636 / Recall: 0.123 / Latency: 3.0ms\n",
      "Reduced Features - Random Forest -- \tAccuracy: 0.772 / Precision: 0.6 / Recall: 0.053 / Latency: 10.0ms\n"
     ]
    },
    {
     "name": "stderr",
     "output_type": "stream",
     "text": [
      "C:\\Users\\student\\anaconda3\\lib\\site-packages\\sklearn\\metrics\\_classification.py:1318: UndefinedMetricWarning: Precision is ill-defined and being set to 0.0 due to no predicted samples. Use `zero_division` parameter to control this behavior.\n",
      "  _warn_prf(average, modifier, msg_start, len(result))\n"
     ]
    }
   ],
   "source": [
    "# Evaluate all of our models on the validation set\n",
    "evaluate_model('Categorical Features - Random Forest', models['cat'], val_features_cat, val_labels)\n",
    "evaluate_model('Numerical Features - Random Forest', models['num'], val_features_num, val_labels)\n",
    "evaluate_model('All Features - Random Forest', models['all'], val_features_all, val_labels)\n",
    "evaluate_model('Reduced Features - Random Forest', models['red'], val_features_red, val_labels)"
   ]
  },
  {
   "cell_type": "markdown",
   "id": "a16592ea",
   "metadata": {},
   "source": [
    "#### B) Logistic Regression"
   ]
  },
  {
   "cell_type": "code",
   "execution_count": 88,
   "id": "7a1f50ad",
   "metadata": {},
   "outputs": [],
   "source": [
    "# Read in models\n",
    "models = {}\n",
    "\n",
    "for mdl in ['cat', 'num', 'all', 'red']:\n",
    "    models[mdl] = joblib.load('LR_model_{}.pkl'.format(mdl))"
   ]
  },
  {
   "cell_type": "code",
   "execution_count": 89,
   "id": "044e897e",
   "metadata": {},
   "outputs": [
    {
     "name": "stdout",
     "output_type": "stream",
     "text": [
      "Categorical Features - Logistic Regression -- \tAccuracy: 0.768 / Precision: 0.5 / Recall: 0.018 / Latency: 3.0ms\n",
      "Numerical Features - Logistic Regression -- \tAccuracy: 0.785 / Precision: 0.7 / Recall: 0.123 / Latency: 1.0ms\n",
      "All Features - Logistic Regression -- \tAccuracy: 0.752 / Precision: 0.333 / Recall: 0.07 / Latency: 2.0ms\n",
      "Reduced Features - Logistic Regression -- \tAccuracy: 0.748 / Precision: 0.381 / Recall: 0.14 / Latency: 1.0ms\n"
     ]
    }
   ],
   "source": [
    "# Evaluate all of our models on the validation set\n",
    "evaluate_model('Categorical Features - Logistic Regression', models['cat'], val_features_cat, val_labels)\n",
    "evaluate_model('Numerical Features - Logistic Regression', models['num'], val_features_num, val_labels)\n",
    "evaluate_model('All Features - Logistic Regression', models['all'], val_features_all, val_labels)\n",
    "evaluate_model('Reduced Features - Logistic Regression', models['red'], val_features_red, val_labels)"
   ]
  },
  {
   "cell_type": "markdown",
   "id": "ccd3218f",
   "metadata": {},
   "source": [
    "#### C) Supply Vector Machine"
   ]
  },
  {
   "cell_type": "code",
   "execution_count": 90,
   "id": "a7201b92",
   "metadata": {},
   "outputs": [],
   "source": [
    "# Read in models\n",
    "models = {}\n",
    "\n",
    "for mdl in ['cat', 'num', 'all', 'red']:\n",
    "    models[mdl] = joblib.load('SVM_model_{}.pkl'.format(mdl))"
   ]
  },
  {
   "cell_type": "code",
   "execution_count": 91,
   "id": "53a0ce35",
   "metadata": {},
   "outputs": [
    {
     "name": "stdout",
     "output_type": "stream",
     "text": [
      "Categorical Features - Supply Vector Machine -- \tAccuracy: 0.768 / Precision: 0.0 / Recall: 0.0 / Latency: 32.6ms\n",
      "Numerical Features - Supply Vector Machine -- \tAccuracy: 0.748 / Precision: 0.419 / Recall: 0.228 / Latency: 25.1ms\n",
      "All Features - Supply Vector Machine -- \tAccuracy: 0.764 / Precision: 0.467 / Recall: 0.123 / Latency: 11.0ms\n",
      "Reduced Features - Supply Vector Machine -- \tAccuracy: 0.768 / Precision: 0.0 / Recall: 0.0 / Latency: 45.2ms\n"
     ]
    },
    {
     "name": "stderr",
     "output_type": "stream",
     "text": [
      "C:\\Users\\student\\anaconda3\\lib\\site-packages\\sklearn\\metrics\\_classification.py:1318: UndefinedMetricWarning: Precision is ill-defined and being set to 0.0 due to no predicted samples. Use `zero_division` parameter to control this behavior.\n",
      "  _warn_prf(average, modifier, msg_start, len(result))\n",
      "C:\\Users\\student\\anaconda3\\lib\\site-packages\\sklearn\\metrics\\_classification.py:1318: UndefinedMetricWarning: Precision is ill-defined and being set to 0.0 due to no predicted samples. Use `zero_division` parameter to control this behavior.\n",
      "  _warn_prf(average, modifier, msg_start, len(result))\n"
     ]
    }
   ],
   "source": [
    "# Evaluate all of our models on the validation set\n",
    "evaluate_model('Categorical Features - Supply Vector Machine', models['cat'], val_features_cat, val_labels)\n",
    "evaluate_model('Numerical Features - Supply Vector Machine', models['num'], val_features_num, val_labels)\n",
    "evaluate_model('All Features - Supply Vector Machine', models['all'], val_features_all, val_labels)\n",
    "evaluate_model('Reduced Features - Supply Vector Machine', models['red'], val_features_red, val_labels)"
   ]
  },
  {
   "cell_type": "markdown",
   "id": "35a0105b",
   "metadata": {},
   "source": [
    "#### D) Multilayer Perceptron"
   ]
  },
  {
   "cell_type": "code",
   "execution_count": 92,
   "id": "3cb82f71",
   "metadata": {},
   "outputs": [],
   "source": [
    "# Read in models\n",
    "models = {}\n",
    "\n",
    "for mdl in ['cat', 'num', 'all', 'red']:\n",
    "    models[mdl] = joblib.load('MLP_model_{}.pkl'.format(mdl))"
   ]
  },
  {
   "cell_type": "code",
   "execution_count": 93,
   "id": "28141c9d",
   "metadata": {},
   "outputs": [
    {
     "name": "stdout",
     "output_type": "stream",
     "text": [
      "Categorical Features - Multilayer Perceptron -- \tAccuracy: 0.736 / Precision: 0.214 / Recall: 0.053 / Latency: 4.0ms\n",
      "Numerical Features - Multilayer Perceptron -- \tAccuracy: 0.78 / Precision: 0.714 / Recall: 0.088 / Latency: 1.1ms\n",
      "All Features - Multilayer Perceptron -- \tAccuracy: 0.724 / Precision: 0.333 / Recall: 0.193 / Latency: 3.5ms\n",
      "Reduced Features - Multilayer Perceptron -- \tAccuracy: 0.748 / Precision: 0.381 / Recall: 0.14 / Latency: 2.0ms\n"
     ]
    }
   ],
   "source": [
    "# Evaluate all of our models on the validation set\n",
    "evaluate_model('Categorical Features - Multilayer Perceptron', models['cat'], val_features_cat, val_labels)\n",
    "evaluate_model('Numerical Features - Multilayer Perceptron', models['num'], val_features_num, val_labels)\n",
    "evaluate_model('All Features - Multilayer Perceptron', models['all'], val_features_all, val_labels)\n",
    "evaluate_model('Reduced Features - Multilayer Perceptron', models['red'], val_features_red, val_labels)"
   ]
  },
  {
   "cell_type": "markdown",
   "id": "58065df9",
   "metadata": {},
   "source": [
    "#### E) Gradient Boosting"
   ]
  },
  {
   "cell_type": "code",
   "execution_count": 94,
   "id": "39f44ebc",
   "metadata": {},
   "outputs": [],
   "source": [
    "# Read in models\n",
    "models = {}\n",
    "\n",
    "for mdl in ['cat', 'num', 'all', 'red']:\n",
    "    models[mdl] = joblib.load('GB_model_{}.pkl'.format(mdl))"
   ]
  },
  {
   "cell_type": "code",
   "execution_count": 95,
   "id": "af779ce1",
   "metadata": {},
   "outputs": [
    {
     "name": "stdout",
     "output_type": "stream",
     "text": [
      "Categorical Features - Gradient Boosting -- \tAccuracy: 0.764 / Precision: 0.0 / Recall: 0.0 / Latency: 3.0ms\n",
      "Numerical Features - Gradient Boosting -- \tAccuracy: 0.756 / Precision: 0.444 / Recall: 0.211 / Latency: 1.1ms\n",
      "All Features - Gradient Boosting -- \tAccuracy: 0.756 / Precision: 0.435 / Recall: 0.175 / Latency: 1.9ms\n",
      "Reduced Features - Gradient Boosting -- \tAccuracy: 0.76 / Precision: 0.429 / Recall: 0.105 / Latency: 3.0ms\n"
     ]
    }
   ],
   "source": [
    "# Evaluate all of our models on the validation set\n",
    "evaluate_model('Categorical Features - Gradient Boosting', models['cat'], val_features_cat, val_labels)\n",
    "evaluate_model('Numerical Features - Gradient Boosting', models['num'], val_features_num, val_labels)\n",
    "evaluate_model('All Features - Gradient Boosting', models['all'], val_features_all, val_labels)\n",
    "evaluate_model('Reduced Features - Gradient Boosting', models['red'], val_features_red, val_labels)"
   ]
  },
  {
   "cell_type": "markdown",
   "id": "2cc1d385",
   "metadata": {},
   "source": [
    "### Step #17: Evaluate Models on Test Set\n"
   ]
  },
  {
   "cell_type": "code",
   "execution_count": 106,
   "id": "0960f0db",
   "metadata": {},
   "outputs": [],
   "source": [
    "# Read in our test features - categorical\n",
    "test_features_cat = pd.read_csv('test_features_cat.csv')\n",
    "test_labels = pd.read_csv('test_labels.csv')"
   ]
  },
  {
   "cell_type": "code",
   "execution_count": 107,
   "id": "354fd33d",
   "metadata": {},
   "outputs": [],
   "source": [
    "# Read in our test features - numerical\n",
    "test_features_num = pd.read_csv('test_features_num.csv')\n",
    "test_labels = pd.read_csv('test_labels.csv')"
   ]
  },
  {
   "cell_type": "code",
   "execution_count": 108,
   "id": "ef95ecc5",
   "metadata": {},
   "outputs": [],
   "source": [
    "# Read in our test features - all\n",
    "test_features_all = pd.read_csv('test_features_all.csv')\n",
    "test_labels = pd.read_csv('test_labels.csv')"
   ]
  },
  {
   "cell_type": "code",
   "execution_count": 109,
   "id": "400e6074",
   "metadata": {},
   "outputs": [],
   "source": [
    "# Read in our test features - reduced\n",
    "test_features_red = pd.read_csv('test_features_reduced.csv')\n",
    "test_labels = pd.read_csv('test_labels.csv')"
   ]
  },
  {
   "cell_type": "markdown",
   "id": "729e1821",
   "metadata": {},
   "source": [
    "#### Random Forest"
   ]
  },
  {
   "cell_type": "code",
   "execution_count": 111,
   "id": "f7a1fbc4",
   "metadata": {},
   "outputs": [],
   "source": [
    "# Read in models\n",
    "models = {}\n",
    "\n",
    "for mdl in ['cat', 'num', 'all', 'red']:\n",
    "    models[mdl] = joblib.load('rf_features_{}.pkl'.format(mdl))"
   ]
  },
  {
   "cell_type": "code",
   "execution_count": 113,
   "id": "ecafac94",
   "metadata": {},
   "outputs": [
    {
     "name": "stdout",
     "output_type": "stream",
     "text": [
      "Categorical Features -- \tAccuracy: 0.81 / Precision: 0.0 / Recall: 0.0 / Latency: 5.0ms\n",
      "Numerical Features -- \tAccuracy: 0.814 / Precision: 0.5 / Recall: 0.13 / Latency: 9.4ms\n",
      "All Features -- \tAccuracy: 0.822 / Precision: 0.667 / Recall: 0.087 / Latency: 6.1ms\n",
      "Reduced Features -- \tAccuracy: 0.81 / Precision: 0.4 / Recall: 0.043 / Latency: 8.1ms\n"
     ]
    }
   ],
   "source": [
    "# Evaluate our final model on the test set\n",
    "evaluate_model('Categorical Features', models['cat'], test_features_cat, test_labels)\n",
    "evaluate_model('Numerical Features', models['num'], test_features_num, test_labels)\n",
    "evaluate_model('All Features', models['all'], test_features_all, test_labels)\n",
    "evaluate_model('Reduced Features', models['red'], test_features_red, test_labels)"
   ]
  },
  {
   "cell_type": "markdown",
   "id": "f9209afd",
   "metadata": {},
   "source": [
    "#### Logistic Regression"
   ]
  },
  {
   "cell_type": "code",
   "execution_count": 114,
   "id": "f3210b03",
   "metadata": {},
   "outputs": [],
   "source": [
    "# Read in models\n",
    "models = {}\n",
    "\n",
    "for mdl in ['cat', 'num', 'all', 'red']:\n",
    "    models[mdl] = joblib.load('LR_model_{}.pkl'.format(mdl))"
   ]
  },
  {
   "cell_type": "code",
   "execution_count": 115,
   "id": "2f3910ad",
   "metadata": {},
   "outputs": [
    {
     "name": "stdout",
     "output_type": "stream",
     "text": [
      "Categorical Features -- \tAccuracy: 0.818 / Precision: 0.6 / Recall: 0.065 / Latency: 2.0ms\n",
      "Numerical Features -- \tAccuracy: 0.798 / Precision: 0.333 / Recall: 0.087 / Latency: 1.0ms\n",
      "All Features -- \tAccuracy: 0.818 / Precision: 0.545 / Recall: 0.13 / Latency: 1.0ms\n",
      "Reduced Features -- \tAccuracy: 0.818 / Precision: 0.524 / Recall: 0.239 / Latency: 1.0ms\n"
     ]
    }
   ],
   "source": [
    "evaluate_model('Categorical Features', models['cat'], test_features_cat, test_labels)\n",
    "evaluate_model('Numerical Features', models['num'], test_features_num, test_labels)\n",
    "evaluate_model('All Features', models['all'], test_features_all, test_labels)\n",
    "evaluate_model('Reduced Features', models['red'], test_features_red, test_labels)"
   ]
  },
  {
   "cell_type": "markdown",
   "id": "40310dca",
   "metadata": {},
   "source": [
    "#### Supply Vector Machine"
   ]
  },
  {
   "cell_type": "code",
   "execution_count": 116,
   "id": "27e39a1e",
   "metadata": {},
   "outputs": [],
   "source": [
    "# Read in models\n",
    "models = {}\n",
    "\n",
    "for mdl in ['cat', 'num', 'all', 'red']:\n",
    "    models[mdl] = joblib.load('SVM_model_{}.pkl'.format(mdl))"
   ]
  },
  {
   "cell_type": "code",
   "execution_count": 117,
   "id": "98223deb",
   "metadata": {},
   "outputs": [
    {
     "name": "stdout",
     "output_type": "stream",
     "text": [
      "Categorical Features -- \tAccuracy: 0.814 / Precision: 0.0 / Recall: 0.0 / Latency: 35.0ms\n",
      "Numerical Features -- \tAccuracy: 0.789 / Precision: 0.35 / Recall: 0.152 / Latency: 21.0ms\n",
      "All Features -- \tAccuracy: 0.81 / Precision: 0.444 / Recall: 0.087 / Latency: 8.2ms\n",
      "Reduced Features -- \tAccuracy: 0.814 / Precision: 0.0 / Recall: 0.0 / Latency: 24.0ms\n"
     ]
    },
    {
     "name": "stderr",
     "output_type": "stream",
     "text": [
      "C:\\Users\\student\\anaconda3\\lib\\site-packages\\sklearn\\metrics\\_classification.py:1318: UndefinedMetricWarning: Precision is ill-defined and being set to 0.0 due to no predicted samples. Use `zero_division` parameter to control this behavior.\n",
      "  _warn_prf(average, modifier, msg_start, len(result))\n",
      "C:\\Users\\student\\anaconda3\\lib\\site-packages\\sklearn\\metrics\\_classification.py:1318: UndefinedMetricWarning: Precision is ill-defined and being set to 0.0 due to no predicted samples. Use `zero_division` parameter to control this behavior.\n",
      "  _warn_prf(average, modifier, msg_start, len(result))\n"
     ]
    }
   ],
   "source": [
    "evaluate_model('Categorical Features', models['cat'], test_features_cat, test_labels)\n",
    "evaluate_model('Numerical Features', models['num'], test_features_num, test_labels)\n",
    "evaluate_model('All Features', models['all'], test_features_all, test_labels)\n",
    "evaluate_model('Reduced Features', models['red'], test_features_red, test_labels)"
   ]
  },
  {
   "cell_type": "markdown",
   "id": "92817674",
   "metadata": {},
   "source": [
    "#### Multilayer Perceptron"
   ]
  },
  {
   "cell_type": "code",
   "execution_count": 118,
   "id": "2d14a9eb",
   "metadata": {},
   "outputs": [],
   "source": [
    "# Read in models\n",
    "models = {}\n",
    "\n",
    "for mdl in ['cat', 'num', 'all', 'red']:\n",
    "    models[mdl] = joblib.load('MLP_model_{}.pkl'.format(mdl))"
   ]
  },
  {
   "cell_type": "code",
   "execution_count": 119,
   "id": "d48c8155",
   "metadata": {},
   "outputs": [
    {
     "name": "stdout",
     "output_type": "stream",
     "text": [
      "Categorical Features -- \tAccuracy: 0.806 / Precision: 0.417 / Recall: 0.109 / Latency: 3.0ms\n",
      "Numerical Features -- \tAccuracy: 0.789 / Precision: 0.25 / Recall: 0.065 / Latency: 1.0ms\n",
      "All Features -- \tAccuracy: 0.798 / Precision: 0.429 / Recall: 0.261 / Latency: 1.5ms\n",
      "Reduced Features -- \tAccuracy: 0.814 / Precision: 0.5 / Recall: 0.283 / Latency: 20.3ms\n"
     ]
    }
   ],
   "source": [
    "evaluate_model('Categorical Features', models['cat'], test_features_cat, test_labels)\n",
    "evaluate_model('Numerical Features', models['num'], test_features_num, test_labels)\n",
    "evaluate_model('All Features', models['all'], test_features_all, test_labels)\n",
    "evaluate_model('Reduced Features', models['red'], test_features_red, test_labels)"
   ]
  },
  {
   "cell_type": "markdown",
   "id": "00e990a2",
   "metadata": {},
   "source": [
    "#### Gradient Boosting"
   ]
  },
  {
   "cell_type": "code",
   "execution_count": 120,
   "id": "94373c87",
   "metadata": {},
   "outputs": [],
   "source": [
    "# Read in models\n",
    "models = {}\n",
    "\n",
    "for mdl in ['cat', 'num', 'all', 'red']:\n",
    "    models[mdl] = joblib.load('GB_model_{}.pkl'.format(mdl))"
   ]
  },
  {
   "cell_type": "code",
   "execution_count": 121,
   "id": "b31979cf",
   "metadata": {},
   "outputs": [
    {
     "name": "stdout",
     "output_type": "stream",
     "text": [
      "Categorical Features -- \tAccuracy: 0.814 / Precision: 0.5 / Recall: 0.043 / Latency: 3.4ms\n",
      "Numerical Features -- \tAccuracy: 0.798 / Precision: 0.423 / Recall: 0.239 / Latency: 1.0ms\n",
      "All Features -- \tAccuracy: 0.806 / Precision: 0.438 / Recall: 0.152 / Latency: 4.0ms\n",
      "Reduced Features -- \tAccuracy: 0.81 / Precision: 0.462 / Recall: 0.13 / Latency: 5.1ms\n"
     ]
    }
   ],
   "source": [
    "evaluate_model('Categorical Features', models['cat'], test_features_cat, test_labels)\n",
    "evaluate_model('Numerical Features', models['num'], test_features_num, test_labels)\n",
    "evaluate_model('All Features', models['all'], test_features_all, test_labels)\n",
    "evaluate_model('Reduced Features', models['red'], test_features_red, test_labels)"
   ]
  },
  {
   "cell_type": "markdown",
   "id": "0130f98e",
   "metadata": {},
   "source": [
    "### Results"
   ]
  },
  {
   "cell_type": "markdown",
   "id": "995f1d4c",
   "metadata": {},
   "source": [
    "Model with Highest Accuracy: 0.822 - Random Forest w/ All Features"
   ]
  },
  {
   "cell_type": "markdown",
   "id": "379a1561",
   "metadata": {},
   "source": [
    "Model with Highest Precision: 0.667 - Random Forest w/ All Features"
   ]
  },
  {
   "cell_type": "markdown",
   "id": "66d253a1",
   "metadata": {},
   "source": [
    "Model with Highest Recall: 0.283 - Multilayer Perceptron w/ Reduced Features"
   ]
  },
  {
   "cell_type": "markdown",
   "id": "f6e01284",
   "metadata": {},
   "source": [
    "Model with Lowest Latency: Multiple w/ 1.0 ms"
   ]
  }
 ],
 "metadata": {
  "kernelspec": {
   "display_name": "Python 3 (ipykernel)",
   "language": "python",
   "name": "python3"
  },
  "language_info": {
   "codemirror_mode": {
    "name": "ipython",
    "version": 3
   },
   "file_extension": ".py",
   "mimetype": "text/x-python",
   "name": "python",
   "nbconvert_exporter": "python",
   "pygments_lexer": "ipython3",
   "version": "3.9.13"
  }
 },
 "nbformat": 4,
 "nbformat_minor": 5
}
