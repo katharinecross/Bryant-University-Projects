{
 "cells": [
  {
   "cell_type": "markdown",
   "id": "f9fd1b90",
   "metadata": {},
   "source": [
    "# AAA Project - Data Cleaning\n",
    "### Katharine Cross"
   ]
  },
  {
   "cell_type": "code",
   "execution_count": 1,
   "id": "fb56bdc3",
   "metadata": {},
   "outputs": [],
   "source": [
    "# Initial Imports \n",
    "\n",
    "import pandas as pd\n",
    "import seaborn as sns\n",
    "import numpy as np\n",
    "from numpy import median\n"
   ]
  },
  {
   "cell_type": "code",
   "execution_count": 2,
   "id": "446c25c5",
   "metadata": {},
   "outputs": [],
   "source": [
    "# Import Data\n",
    "\n",
    "raw_df=pd.read_csv('AAA_NBA_Combined.csv')"
   ]
  },
  {
   "cell_type": "code",
   "execution_count": 3,
   "id": "f7b3249f",
   "metadata": {},
   "outputs": [
    {
     "data": {
      "text/html": [
       "<div>\n",
       "<style scoped>\n",
       "    .dataframe tbody tr th:only-of-type {\n",
       "        vertical-align: middle;\n",
       "    }\n",
       "\n",
       "    .dataframe tbody tr th {\n",
       "        vertical-align: top;\n",
       "    }\n",
       "\n",
       "    .dataframe thead th {\n",
       "        text-align: right;\n",
       "    }\n",
       "</style>\n",
       "<table border=\"1\" class=\"dataframe\">\n",
       "  <thead>\n",
       "    <tr style=\"text-align: right;\">\n",
       "      <th></th>\n",
       "      <th>individual_key</th>\n",
       "      <th>offer_name</th>\n",
       "      <th>accepted</th>\n",
       "      <th>active_member_count</th>\n",
       "      <th>age</th>\n",
       "      <th>auto_in_the_markek_new</th>\n",
       "      <th>auto_in_the_market_used</th>\n",
       "      <th>business_owner</th>\n",
       "      <th>children</th>\n",
       "      <th>children__presence_of_child_0-18</th>\n",
       "      <th>...</th>\n",
       "      <th>member_tenure_years</th>\n",
       "      <th>member_type</th>\n",
       "      <th>renew_method</th>\n",
       "      <th>state</th>\n",
       "      <th>numofoffers</th>\n",
       "      <th>acceptedoffers</th>\n",
       "      <th>add_associate</th>\n",
       "      <th>auto-renew</th>\n",
       "      <th>offer_protectmyid</th>\n",
       "      <th>upgrade_membership</th>\n",
       "    </tr>\n",
       "  </thead>\n",
       "  <tbody>\n",
       "    <tr>\n",
       "      <th>0</th>\n",
       "      <td>15294.0</td>\n",
       "      <td>Offer ProtectMyID (PMID)</td>\n",
       "      <td>1.0</td>\n",
       "      <td>1.0</td>\n",
       "      <td>31.0</td>\n",
       "      <td>Extremely Unlikely</td>\n",
       "      <td>Extremely Unlikely</td>\n",
       "      <td>Unknown</td>\n",
       "      <td>No</td>\n",
       "      <td>Not likely to have a child</td>\n",
       "      <td>...</td>\n",
       "      <td>7.0</td>\n",
       "      <td>Primary</td>\n",
       "      <td>NOTICE</td>\n",
       "      <td>MA</td>\n",
       "      <td>1</td>\n",
       "      <td>1.0</td>\n",
       "      <td>NotOffered</td>\n",
       "      <td>NotOffered</td>\n",
       "      <td>Accepted</td>\n",
       "      <td>NotOffered</td>\n",
       "    </tr>\n",
       "    <tr>\n",
       "      <th>1</th>\n",
       "      <td>16996.0</td>\n",
       "      <td>Offer ProtectMyID (PMID)</td>\n",
       "      <td>0.0</td>\n",
       "      <td>1.0</td>\n",
       "      <td>21.0</td>\n",
       "      <td>NaN</td>\n",
       "      <td>NaN</td>\n",
       "      <td>NaN</td>\n",
       "      <td>No</td>\n",
       "      <td>NaN</td>\n",
       "      <td>...</td>\n",
       "      <td>7.0</td>\n",
       "      <td>Associate</td>\n",
       "      <td>AUTO RENEW</td>\n",
       "      <td>MA</td>\n",
       "      <td>1</td>\n",
       "      <td>0.0</td>\n",
       "      <td>NotOffered</td>\n",
       "      <td>NotOffered</td>\n",
       "      <td>NotAccepted</td>\n",
       "      <td>NotOffered</td>\n",
       "    </tr>\n",
       "    <tr>\n",
       "      <th>2</th>\n",
       "      <td>18708.0</td>\n",
       "      <td>Offer ProtectMyID (PMID)</td>\n",
       "      <td>1.0</td>\n",
       "      <td>1.0</td>\n",
       "      <td>54.0</td>\n",
       "      <td>Somewhat Likely</td>\n",
       "      <td>Likely</td>\n",
       "      <td>Unknown</td>\n",
       "      <td>Yes</td>\n",
       "      <td>Not likely to have a child</td>\n",
       "      <td>...</td>\n",
       "      <td>23.0</td>\n",
       "      <td>Primary</td>\n",
       "      <td>AUTO RENEW</td>\n",
       "      <td>MA</td>\n",
       "      <td>1</td>\n",
       "      <td>1.0</td>\n",
       "      <td>NotOffered</td>\n",
       "      <td>NotOffered</td>\n",
       "      <td>Accepted</td>\n",
       "      <td>NotOffered</td>\n",
       "    </tr>\n",
       "    <tr>\n",
       "      <th>3</th>\n",
       "      <td>19350.0</td>\n",
       "      <td>Offer ProtectMyID (PMID)</td>\n",
       "      <td>1.0</td>\n",
       "      <td>1.0</td>\n",
       "      <td>58.0</td>\n",
       "      <td>Likely</td>\n",
       "      <td>Extremely Unlikely</td>\n",
       "      <td>Unknown</td>\n",
       "      <td>NaN</td>\n",
       "      <td>Not likely to have a child</td>\n",
       "      <td>...</td>\n",
       "      <td>24.0</td>\n",
       "      <td>Associate</td>\n",
       "      <td>NOTICE</td>\n",
       "      <td>MA</td>\n",
       "      <td>1</td>\n",
       "      <td>1.0</td>\n",
       "      <td>NotOffered</td>\n",
       "      <td>NotOffered</td>\n",
       "      <td>Accepted</td>\n",
       "      <td>NotOffered</td>\n",
       "    </tr>\n",
       "    <tr>\n",
       "      <th>4</th>\n",
       "      <td>35518.0</td>\n",
       "      <td>Offer ProtectMyID (PMID)</td>\n",
       "      <td>1.0</td>\n",
       "      <td>1.0</td>\n",
       "      <td>0.0</td>\n",
       "      <td>NaN</td>\n",
       "      <td>NaN</td>\n",
       "      <td>Unknown</td>\n",
       "      <td>Yes</td>\n",
       "      <td>NaN</td>\n",
       "      <td>...</td>\n",
       "      <td>0.0</td>\n",
       "      <td>Primary</td>\n",
       "      <td>NOTICE</td>\n",
       "      <td>RI</td>\n",
       "      <td>1</td>\n",
       "      <td>1.0</td>\n",
       "      <td>NotOffered</td>\n",
       "      <td>NotOffered</td>\n",
       "      <td>Accepted</td>\n",
       "      <td>NotOffered</td>\n",
       "    </tr>\n",
       "    <tr>\n",
       "      <th>...</th>\n",
       "      <td>...</td>\n",
       "      <td>...</td>\n",
       "      <td>...</td>\n",
       "      <td>...</td>\n",
       "      <td>...</td>\n",
       "      <td>...</td>\n",
       "      <td>...</td>\n",
       "      <td>...</td>\n",
       "      <td>...</td>\n",
       "      <td>...</td>\n",
       "      <td>...</td>\n",
       "      <td>...</td>\n",
       "      <td>...</td>\n",
       "      <td>...</td>\n",
       "      <td>...</td>\n",
       "      <td>...</td>\n",
       "      <td>...</td>\n",
       "      <td>...</td>\n",
       "      <td>...</td>\n",
       "      <td>...</td>\n",
       "      <td>...</td>\n",
       "    </tr>\n",
       "    <tr>\n",
       "      <th>10476</th>\n",
       "      <td>273104640.0</td>\n",
       "      <td>Offer ProtectMyID (PMID)</td>\n",
       "      <td>1.0</td>\n",
       "      <td>1.0</td>\n",
       "      <td>58.0</td>\n",
       "      <td>Extremely Likely</td>\n",
       "      <td>Extremely Likely</td>\n",
       "      <td>NaN</td>\n",
       "      <td>NaN</td>\n",
       "      <td>Known data</td>\n",
       "      <td>...</td>\n",
       "      <td>9.0</td>\n",
       "      <td>Primary</td>\n",
       "      <td>NOTICE</td>\n",
       "      <td>NY</td>\n",
       "      <td>1</td>\n",
       "      <td>1.0</td>\n",
       "      <td>NotOffered</td>\n",
       "      <td>NotOffered</td>\n",
       "      <td>Accepted</td>\n",
       "      <td>NotOffered</td>\n",
       "    </tr>\n",
       "    <tr>\n",
       "      <th>10477</th>\n",
       "      <td>273106913.0</td>\n",
       "      <td>Add Associate</td>\n",
       "      <td>0.0</td>\n",
       "      <td>1.0</td>\n",
       "      <td>58.0</td>\n",
       "      <td>Likely</td>\n",
       "      <td>Extremely Unlikely</td>\n",
       "      <td>NaN</td>\n",
       "      <td>NaN</td>\n",
       "      <td>Not likely to have a child</td>\n",
       "      <td>...</td>\n",
       "      <td>16.0</td>\n",
       "      <td>Primary</td>\n",
       "      <td>NOTICE</td>\n",
       "      <td>NJ</td>\n",
       "      <td>3</td>\n",
       "      <td>1.0</td>\n",
       "      <td>NotAccepted</td>\n",
       "      <td>NotAccepted</td>\n",
       "      <td>Accepted</td>\n",
       "      <td>NotOffered</td>\n",
       "    </tr>\n",
       "    <tr>\n",
       "      <th>10478</th>\n",
       "      <td>273106913.0</td>\n",
       "      <td>Auto-Renew</td>\n",
       "      <td>0.0</td>\n",
       "      <td>1.0</td>\n",
       "      <td>58.0</td>\n",
       "      <td>Likely</td>\n",
       "      <td>Extremely Unlikely</td>\n",
       "      <td>NaN</td>\n",
       "      <td>NaN</td>\n",
       "      <td>Not likely to have a child</td>\n",
       "      <td>...</td>\n",
       "      <td>16.0</td>\n",
       "      <td>Primary</td>\n",
       "      <td>NOTICE</td>\n",
       "      <td>NJ</td>\n",
       "      <td>3</td>\n",
       "      <td>1.0</td>\n",
       "      <td>NotAccepted</td>\n",
       "      <td>NotAccepted</td>\n",
       "      <td>Accepted</td>\n",
       "      <td>NotOffered</td>\n",
       "    </tr>\n",
       "    <tr>\n",
       "      <th>10479</th>\n",
       "      <td>273106913.0</td>\n",
       "      <td>Offer ProtectMyID (PMID)</td>\n",
       "      <td>1.0</td>\n",
       "      <td>1.0</td>\n",
       "      <td>58.0</td>\n",
       "      <td>Likely</td>\n",
       "      <td>Extremely Unlikely</td>\n",
       "      <td>NaN</td>\n",
       "      <td>NaN</td>\n",
       "      <td>Not likely to have a child</td>\n",
       "      <td>...</td>\n",
       "      <td>16.0</td>\n",
       "      <td>Primary</td>\n",
       "      <td>NOTICE</td>\n",
       "      <td>NJ</td>\n",
       "      <td>3</td>\n",
       "      <td>1.0</td>\n",
       "      <td>NotAccepted</td>\n",
       "      <td>NotAccepted</td>\n",
       "      <td>Accepted</td>\n",
       "      <td>NotOffered</td>\n",
       "    </tr>\n",
       "    <tr>\n",
       "      <th>10480</th>\n",
       "      <td>273113817.0</td>\n",
       "      <td>Offer ProtectMyID (PMID)</td>\n",
       "      <td>1.0</td>\n",
       "      <td>0.0</td>\n",
       "      <td>58.0</td>\n",
       "      <td>Somewhat Likely</td>\n",
       "      <td>Likely</td>\n",
       "      <td>NaN</td>\n",
       "      <td>NaN</td>\n",
       "      <td>Modeled likely to have a child</td>\n",
       "      <td>...</td>\n",
       "      <td>9.0</td>\n",
       "      <td>NaN</td>\n",
       "      <td>NaN</td>\n",
       "      <td>NaN</td>\n",
       "      <td>1</td>\n",
       "      <td>1.0</td>\n",
       "      <td>NotOffered</td>\n",
       "      <td>NotOffered</td>\n",
       "      <td>Accepted</td>\n",
       "      <td>NotOffered</td>\n",
       "    </tr>\n",
       "  </tbody>\n",
       "</table>\n",
       "<p>10481 rows × 90 columns</p>\n",
       "</div>"
      ],
      "text/plain": [
       "       individual_key                offer_name  accepted  \\\n",
       "0             15294.0  Offer ProtectMyID (PMID)       1.0   \n",
       "1             16996.0  Offer ProtectMyID (PMID)       0.0   \n",
       "2             18708.0  Offer ProtectMyID (PMID)       1.0   \n",
       "3             19350.0  Offer ProtectMyID (PMID)       1.0   \n",
       "4             35518.0  Offer ProtectMyID (PMID)       1.0   \n",
       "...               ...                       ...       ...   \n",
       "10476     273104640.0  Offer ProtectMyID (PMID)       1.0   \n",
       "10477     273106913.0             Add Associate       0.0   \n",
       "10478     273106913.0                Auto-Renew       0.0   \n",
       "10479     273106913.0  Offer ProtectMyID (PMID)       1.0   \n",
       "10480     273113817.0  Offer ProtectMyID (PMID)       1.0   \n",
       "\n",
       "       active_member_count   age auto_in_the_markek_new  \\\n",
       "0                      1.0  31.0     Extremely Unlikely   \n",
       "1                      1.0  21.0                    NaN   \n",
       "2                      1.0  54.0        Somewhat Likely   \n",
       "3                      1.0  58.0                 Likely   \n",
       "4                      1.0   0.0                    NaN   \n",
       "...                    ...   ...                    ...   \n",
       "10476                  1.0  58.0       Extremely Likely   \n",
       "10477                  1.0  58.0                 Likely   \n",
       "10478                  1.0  58.0                 Likely   \n",
       "10479                  1.0  58.0                 Likely   \n",
       "10480                  0.0  58.0        Somewhat Likely   \n",
       "\n",
       "      auto_in_the_market_used business_owner children  \\\n",
       "0          Extremely Unlikely        Unknown       No   \n",
       "1                         NaN            NaN       No   \n",
       "2                      Likely        Unknown      Yes   \n",
       "3          Extremely Unlikely        Unknown      NaN   \n",
       "4                         NaN        Unknown      Yes   \n",
       "...                       ...            ...      ...   \n",
       "10476        Extremely Likely            NaN      NaN   \n",
       "10477      Extremely Unlikely            NaN      NaN   \n",
       "10478      Extremely Unlikely            NaN      NaN   \n",
       "10479      Extremely Unlikely            NaN      NaN   \n",
       "10480                  Likely            NaN      NaN   \n",
       "\n",
       "      children__presence_of_child_0-18  ... member_tenure_years  member_type  \\\n",
       "0           Not likely to have a child  ...                 7.0      Primary   \n",
       "1                                  NaN  ...                 7.0    Associate   \n",
       "2           Not likely to have a child  ...                23.0      Primary   \n",
       "3           Not likely to have a child  ...                24.0    Associate   \n",
       "4                                  NaN  ...                 0.0      Primary   \n",
       "...                                ...  ...                 ...          ...   \n",
       "10476                       Known data  ...                 9.0      Primary   \n",
       "10477       Not likely to have a child  ...                16.0      Primary   \n",
       "10478       Not likely to have a child  ...                16.0      Primary   \n",
       "10479       Not likely to have a child  ...                16.0      Primary   \n",
       "10480   Modeled likely to have a child  ...                 9.0          NaN   \n",
       "\n",
       "      renew_method state  numofoffers  acceptedoffers  add_associate  \\\n",
       "0           NOTICE    MA            1             1.0     NotOffered   \n",
       "1       AUTO RENEW    MA            1             0.0     NotOffered   \n",
       "2       AUTO RENEW    MA            1             1.0     NotOffered   \n",
       "3           NOTICE    MA            1             1.0     NotOffered   \n",
       "4           NOTICE    RI            1             1.0     NotOffered   \n",
       "...            ...   ...          ...             ...            ...   \n",
       "10476       NOTICE    NY            1             1.0     NotOffered   \n",
       "10477       NOTICE    NJ            3             1.0    NotAccepted   \n",
       "10478       NOTICE    NJ            3             1.0    NotAccepted   \n",
       "10479       NOTICE    NJ            3             1.0    NotAccepted   \n",
       "10480          NaN   NaN            1             1.0     NotOffered   \n",
       "\n",
       "        auto-renew  offer_protectmyid  upgrade_membership  \n",
       "0       NotOffered           Accepted          NotOffered  \n",
       "1       NotOffered        NotAccepted          NotOffered  \n",
       "2       NotOffered           Accepted          NotOffered  \n",
       "3       NotOffered           Accepted          NotOffered  \n",
       "4       NotOffered           Accepted          NotOffered  \n",
       "...            ...                ...                 ...  \n",
       "10476   NotOffered           Accepted          NotOffered  \n",
       "10477  NotAccepted           Accepted          NotOffered  \n",
       "10478  NotAccepted           Accepted          NotOffered  \n",
       "10479  NotAccepted           Accepted          NotOffered  \n",
       "10480   NotOffered           Accepted          NotOffered  \n",
       "\n",
       "[10481 rows x 90 columns]"
      ]
     },
     "execution_count": 3,
     "metadata": {},
     "output_type": "execute_result"
    }
   ],
   "source": [
    "raw_df"
   ]
  },
  {
   "cell_type": "code",
   "execution_count": 4,
   "id": "dd7edd76",
   "metadata": {
    "scrolled": true
   },
   "outputs": [
    {
     "data": {
      "text/plain": [
       "(10481, 90)"
      ]
     },
     "execution_count": 4,
     "metadata": {},
     "output_type": "execute_result"
    }
   ],
   "source": [
    "raw_df.shape"
   ]
  },
  {
   "cell_type": "code",
   "execution_count": 5,
   "id": "887fb1d8",
   "metadata": {},
   "outputs": [
    {
     "data": {
      "text/html": [
       "<div>\n",
       "<style scoped>\n",
       "    .dataframe tbody tr th:only-of-type {\n",
       "        vertical-align: middle;\n",
       "    }\n",
       "\n",
       "    .dataframe tbody tr th {\n",
       "        vertical-align: top;\n",
       "    }\n",
       "\n",
       "    .dataframe thead th {\n",
       "        text-align: right;\n",
       "    }\n",
       "</style>\n",
       "<table border=\"1\" class=\"dataframe\">\n",
       "  <thead>\n",
       "    <tr style=\"text-align: right;\">\n",
       "      <th></th>\n",
       "      <th>individual_key</th>\n",
       "      <th>offer_name</th>\n",
       "      <th>accepted</th>\n",
       "      <th>active_member_count</th>\n",
       "      <th>age</th>\n",
       "      <th>auto_in_the_markek_new</th>\n",
       "      <th>auto_in_the_market_used</th>\n",
       "      <th>business_owner</th>\n",
       "      <th>children</th>\n",
       "      <th>children__presence_of_child_0-18</th>\n",
       "      <th>...</th>\n",
       "      <th>member_tenure_years</th>\n",
       "      <th>member_type</th>\n",
       "      <th>renew_method</th>\n",
       "      <th>state</th>\n",
       "      <th>numofoffers</th>\n",
       "      <th>acceptedoffers</th>\n",
       "      <th>add_associate</th>\n",
       "      <th>auto-renew</th>\n",
       "      <th>offer_protectmyid</th>\n",
       "      <th>upgrade_membership</th>\n",
       "    </tr>\n",
       "  </thead>\n",
       "  <tbody>\n",
       "    <tr>\n",
       "      <th>0</th>\n",
       "      <td>15294.0</td>\n",
       "      <td>Offer ProtectMyID (PMID)</td>\n",
       "      <td>1.0</td>\n",
       "      <td>1.0</td>\n",
       "      <td>31.0</td>\n",
       "      <td>Extremely Unlikely</td>\n",
       "      <td>Extremely Unlikely</td>\n",
       "      <td>Unknown</td>\n",
       "      <td>No</td>\n",
       "      <td>Not likely to have a child</td>\n",
       "      <td>...</td>\n",
       "      <td>7.0</td>\n",
       "      <td>Primary</td>\n",
       "      <td>NOTICE</td>\n",
       "      <td>MA</td>\n",
       "      <td>1</td>\n",
       "      <td>1.0</td>\n",
       "      <td>NotOffered</td>\n",
       "      <td>NotOffered</td>\n",
       "      <td>Accepted</td>\n",
       "      <td>NotOffered</td>\n",
       "    </tr>\n",
       "    <tr>\n",
       "      <th>1</th>\n",
       "      <td>16996.0</td>\n",
       "      <td>Offer ProtectMyID (PMID)</td>\n",
       "      <td>0.0</td>\n",
       "      <td>1.0</td>\n",
       "      <td>21.0</td>\n",
       "      <td>NaN</td>\n",
       "      <td>NaN</td>\n",
       "      <td>NaN</td>\n",
       "      <td>No</td>\n",
       "      <td>NaN</td>\n",
       "      <td>...</td>\n",
       "      <td>7.0</td>\n",
       "      <td>Associate</td>\n",
       "      <td>AUTO RENEW</td>\n",
       "      <td>MA</td>\n",
       "      <td>1</td>\n",
       "      <td>0.0</td>\n",
       "      <td>NotOffered</td>\n",
       "      <td>NotOffered</td>\n",
       "      <td>NotAccepted</td>\n",
       "      <td>NotOffered</td>\n",
       "    </tr>\n",
       "    <tr>\n",
       "      <th>2</th>\n",
       "      <td>18708.0</td>\n",
       "      <td>Offer ProtectMyID (PMID)</td>\n",
       "      <td>1.0</td>\n",
       "      <td>1.0</td>\n",
       "      <td>54.0</td>\n",
       "      <td>Somewhat Likely</td>\n",
       "      <td>Likely</td>\n",
       "      <td>Unknown</td>\n",
       "      <td>Yes</td>\n",
       "      <td>Not likely to have a child</td>\n",
       "      <td>...</td>\n",
       "      <td>23.0</td>\n",
       "      <td>Primary</td>\n",
       "      <td>AUTO RENEW</td>\n",
       "      <td>MA</td>\n",
       "      <td>1</td>\n",
       "      <td>1.0</td>\n",
       "      <td>NotOffered</td>\n",
       "      <td>NotOffered</td>\n",
       "      <td>Accepted</td>\n",
       "      <td>NotOffered</td>\n",
       "    </tr>\n",
       "    <tr>\n",
       "      <th>3</th>\n",
       "      <td>19350.0</td>\n",
       "      <td>Offer ProtectMyID (PMID)</td>\n",
       "      <td>1.0</td>\n",
       "      <td>1.0</td>\n",
       "      <td>58.0</td>\n",
       "      <td>Likely</td>\n",
       "      <td>Extremely Unlikely</td>\n",
       "      <td>Unknown</td>\n",
       "      <td>NaN</td>\n",
       "      <td>Not likely to have a child</td>\n",
       "      <td>...</td>\n",
       "      <td>24.0</td>\n",
       "      <td>Associate</td>\n",
       "      <td>NOTICE</td>\n",
       "      <td>MA</td>\n",
       "      <td>1</td>\n",
       "      <td>1.0</td>\n",
       "      <td>NotOffered</td>\n",
       "      <td>NotOffered</td>\n",
       "      <td>Accepted</td>\n",
       "      <td>NotOffered</td>\n",
       "    </tr>\n",
       "    <tr>\n",
       "      <th>4</th>\n",
       "      <td>35518.0</td>\n",
       "      <td>Offer ProtectMyID (PMID)</td>\n",
       "      <td>1.0</td>\n",
       "      <td>1.0</td>\n",
       "      <td>0.0</td>\n",
       "      <td>NaN</td>\n",
       "      <td>NaN</td>\n",
       "      <td>Unknown</td>\n",
       "      <td>Yes</td>\n",
       "      <td>NaN</td>\n",
       "      <td>...</td>\n",
       "      <td>0.0</td>\n",
       "      <td>Primary</td>\n",
       "      <td>NOTICE</td>\n",
       "      <td>RI</td>\n",
       "      <td>1</td>\n",
       "      <td>1.0</td>\n",
       "      <td>NotOffered</td>\n",
       "      <td>NotOffered</td>\n",
       "      <td>Accepted</td>\n",
       "      <td>NotOffered</td>\n",
       "    </tr>\n",
       "  </tbody>\n",
       "</table>\n",
       "<p>5 rows × 90 columns</p>\n",
       "</div>"
      ],
      "text/plain": [
       "   individual_key                offer_name  accepted  active_member_count  \\\n",
       "0         15294.0  Offer ProtectMyID (PMID)       1.0                  1.0   \n",
       "1         16996.0  Offer ProtectMyID (PMID)       0.0                  1.0   \n",
       "2         18708.0  Offer ProtectMyID (PMID)       1.0                  1.0   \n",
       "3         19350.0  Offer ProtectMyID (PMID)       1.0                  1.0   \n",
       "4         35518.0  Offer ProtectMyID (PMID)       1.0                  1.0   \n",
       "\n",
       "    age auto_in_the_markek_new auto_in_the_market_used business_owner  \\\n",
       "0  31.0     Extremely Unlikely      Extremely Unlikely        Unknown   \n",
       "1  21.0                    NaN                     NaN            NaN   \n",
       "2  54.0        Somewhat Likely                  Likely        Unknown   \n",
       "3  58.0                 Likely      Extremely Unlikely        Unknown   \n",
       "4   0.0                    NaN                     NaN        Unknown   \n",
       "\n",
       "  children children__presence_of_child_0-18  ... member_tenure_years  \\\n",
       "0       No       Not likely to have a child  ...                 7.0   \n",
       "1       No                              NaN  ...                 7.0   \n",
       "2      Yes       Not likely to have a child  ...                23.0   \n",
       "3      NaN       Not likely to have a child  ...                24.0   \n",
       "4      Yes                              NaN  ...                 0.0   \n",
       "\n",
       "   member_type renew_method state  numofoffers  acceptedoffers  add_associate  \\\n",
       "0      Primary       NOTICE    MA            1             1.0     NotOffered   \n",
       "1    Associate   AUTO RENEW    MA            1             0.0     NotOffered   \n",
       "2      Primary   AUTO RENEW    MA            1             1.0     NotOffered   \n",
       "3    Associate       NOTICE    MA            1             1.0     NotOffered   \n",
       "4      Primary       NOTICE    RI            1             1.0     NotOffered   \n",
       "\n",
       "   auto-renew  offer_protectmyid  upgrade_membership  \n",
       "0  NotOffered           Accepted          NotOffered  \n",
       "1  NotOffered        NotAccepted          NotOffered  \n",
       "2  NotOffered           Accepted          NotOffered  \n",
       "3  NotOffered           Accepted          NotOffered  \n",
       "4  NotOffered           Accepted          NotOffered  \n",
       "\n",
       "[5 rows x 90 columns]"
      ]
     },
     "execution_count": 5,
     "metadata": {},
     "output_type": "execute_result"
    }
   ],
   "source": [
    "raw_df.head()"
   ]
  },
  {
   "cell_type": "code",
   "execution_count": 6,
   "id": "05134dfc",
   "metadata": {},
   "outputs": [
    {
     "data": {
      "text/plain": [
       "Index(['individual_key', 'offer_name', 'accepted', 'active_member_count',\n",
       "       'age', 'auto_in_the_markek_new', 'auto_in_the_market_used',\n",
       "       'business_owner', 'children', 'children__presence_of_child_0-18',\n",
       "       'consumerview_profitability_score', 'count_clicks_or_opens', 'county',\n",
       "       'credit_rangesdecode', 'credit_ranges',\n",
       "       'crm_lead_financial_services_count', 'crm_lead_insurance_count',\n",
       "       'crm_lead_travel_count', 'crm_opportunity_financial_services_count',\n",
       "       'crm_opportunity_insurance_count', 'crm_opportunity_travel_count',\n",
       "       'donor_flag', 'drv_driving_school_flag', 'dwelling_type', 'education',\n",
       "       'education_model', 'email_preference_auto_news_and_offers',\n",
       "       'email_preference_club_deal_travels',\n",
       "       'email_preference_discounts_and_rewards',\n",
       "       'email_preference_financial_services', 'email_preference_insurance',\n",
       "       'email_preference_memership_news', 'email_preference_student_lending',\n",
       "       'email_preference_travel', 'email_preference_your_aaa_digital',\n",
       "       'emails_received', 'est_household_incomedecode',\n",
       "       'estimated_income_code', 'fsv_cmsi_flag', 'fsv_credit_card_flag',\n",
       "       'fsv_deposit_program_flag', 'fsv_id_theft_flag', 'fsv_mortgage_count',\n",
       "       'fsv_mortgage_flag', 'fsv_tci_count', 'fsv_tci_flag',\n",
       "       'fsv_truecar_leads_count', 'fsv_truecar_sales_count', 'hertz_gold_ind',\n",
       "       'ins_homeowners_policy_flag', 'ins_other_policy_flag',\n",
       "       'ins_personal_automobile_policy_flag', 'ins_policies_count',\n",
       "       'ins_policies_flag', 'marital_status', 'member_count', 'member_dues_y1',\n",
       "       'member_dues_y2', 'member_dues_y3', 'member_flag', 'net_worth',\n",
       "       'new_mover_count', 'occupation_group', 'race', 'total_travel_records',\n",
       "       'trv_priceline_count', 'v12_auto_count', 'birth_date', 'city',\n",
       "       'coastal_zip9_flag', 'commission', 'coverage_level_code',\n",
       "       'ers_ent_count_year_1', 'ers_ent_count_year_2', 'ers_ent_count_year_3',\n",
       "       'ers_member_cost_year_1', 'ers_member_cost_year_2',\n",
       "       'ers_member_cost_year_3', 'gender', 'member_status',\n",
       "       'member_tenure_years', 'member_type', 'renew_method', 'state',\n",
       "       'numofoffers', 'acceptedoffers', 'add_associate', 'auto-renew',\n",
       "       'offer_protectmyid', 'upgrade_membership'],\n",
       "      dtype='object')"
      ]
     },
     "execution_count": 6,
     "metadata": {},
     "output_type": "execute_result"
    }
   ],
   "source": [
    "raw_df.columns"
   ]
  },
  {
   "cell_type": "code",
   "execution_count": 7,
   "id": "9cc68ff7",
   "metadata": {
    "scrolled": true
   },
   "outputs": [
    {
     "data": {
      "text/plain": [
       "individual_key         0\n",
       "offer_name             0\n",
       "accepted               0\n",
       "active_member_count    0\n",
       "age                    0\n",
       "                      ..\n",
       "acceptedoffers         0\n",
       "add_associate          0\n",
       "auto-renew             0\n",
       "offer_protectmyid      0\n",
       "upgrade_membership     0\n",
       "Length: 90, dtype: int64"
      ]
     },
     "execution_count": 7,
     "metadata": {},
     "output_type": "execute_result"
    }
   ],
   "source": [
    "raw_df.isnull().sum()"
   ]
  },
  {
   "cell_type": "markdown",
   "id": "4c84c37c",
   "metadata": {},
   "source": [
    "## Demographic Columns\n",
    "\n",
    "### Cleaning & Initial Exploration"
   ]
  },
  {
   "cell_type": "markdown",
   "id": "94b50f55",
   "metadata": {},
   "source": [
    "### Step #1: Determing Data Types, # of Null Values, # of Unique Values"
   ]
  },
  {
   "cell_type": "code",
   "execution_count": 8,
   "id": "1a9e6d10",
   "metadata": {},
   "outputs": [],
   "source": [
    "# Seperating Out Demographic Columns\n",
    "\n",
    "demographic_columns = ['individual_key','age','children','children__presence_of_child_0-18','dwelling_type','education','est_household_incomedecode',  \n",
    "                       'estimated_income_code', 'marital_status', 'race','gender','state', 'city'\n",
    "                      ]"
   ]
  },
  {
   "cell_type": "code",
   "execution_count": 9,
   "id": "c2582d9b",
   "metadata": {
    "scrolled": false
   },
   "outputs": [
    {
     "data": {
      "text/html": [
       "<div>\n",
       "<style scoped>\n",
       "    .dataframe tbody tr th:only-of-type {\n",
       "        vertical-align: middle;\n",
       "    }\n",
       "\n",
       "    .dataframe tbody tr th {\n",
       "        vertical-align: top;\n",
       "    }\n",
       "\n",
       "    .dataframe thead th {\n",
       "        text-align: right;\n",
       "    }\n",
       "</style>\n",
       "<table border=\"1\" class=\"dataframe\">\n",
       "  <thead>\n",
       "    <tr style=\"text-align: right;\">\n",
       "      <th></th>\n",
       "      <th>individual_key</th>\n",
       "      <th>age</th>\n",
       "      <th>children</th>\n",
       "      <th>children__presence_of_child_0-18</th>\n",
       "      <th>dwelling_type</th>\n",
       "      <th>education</th>\n",
       "      <th>est_household_incomedecode</th>\n",
       "      <th>estimated_income_code</th>\n",
       "      <th>marital_status</th>\n",
       "      <th>race</th>\n",
       "      <th>gender</th>\n",
       "      <th>state</th>\n",
       "      <th>city</th>\n",
       "    </tr>\n",
       "  </thead>\n",
       "  <tbody>\n",
       "    <tr>\n",
       "      <th>0</th>\n",
       "      <td>15294.0</td>\n",
       "      <td>31.0</td>\n",
       "      <td>No</td>\n",
       "      <td>Not likely to have a child</td>\n",
       "      <td>Multi Family Dwelling/Apartment</td>\n",
       "      <td>High School</td>\n",
       "      <td>01 - less than $25,000</td>\n",
       "      <td>$15,000-$19,999</td>\n",
       "      <td>Single</td>\n",
       "      <td>Caucasian / White - European</td>\n",
       "      <td>M</td>\n",
       "      <td>MA</td>\n",
       "      <td>MALDEN</td>\n",
       "    </tr>\n",
       "    <tr>\n",
       "      <th>1</th>\n",
       "      <td>16996.0</td>\n",
       "      <td>21.0</td>\n",
       "      <td>No</td>\n",
       "      <td>NaN</td>\n",
       "      <td>Single Family</td>\n",
       "      <td>Unknown</td>\n",
       "      <td>NaN</td>\n",
       "      <td>$100,000-$149,999</td>\n",
       "      <td>Single</td>\n",
       "      <td>Caucasian / White - White Non-American</td>\n",
       "      <td>M</td>\n",
       "      <td>MA</td>\n",
       "      <td>SWANSEA</td>\n",
       "    </tr>\n",
       "    <tr>\n",
       "      <th>2</th>\n",
       "      <td>18708.0</td>\n",
       "      <td>54.0</td>\n",
       "      <td>Yes</td>\n",
       "      <td>Not likely to have a child</td>\n",
       "      <td>Single Family</td>\n",
       "      <td>Completed College</td>\n",
       "      <td>06 - $200,000 +</td>\n",
       "      <td>$150,000-$174,999</td>\n",
       "      <td>Single</td>\n",
       "      <td>Caucasian / White - European</td>\n",
       "      <td>F</td>\n",
       "      <td>MA</td>\n",
       "      <td>JAMAICA PLAIN</td>\n",
       "    </tr>\n",
       "    <tr>\n",
       "      <th>3</th>\n",
       "      <td>19350.0</td>\n",
       "      <td>58.0</td>\n",
       "      <td>NaN</td>\n",
       "      <td>Not likely to have a child</td>\n",
       "      <td>NaN</td>\n",
       "      <td>NaN</td>\n",
       "      <td>03 - $50K - $99.99K</td>\n",
       "      <td>NaN</td>\n",
       "      <td>NaN</td>\n",
       "      <td>NaN</td>\n",
       "      <td>M</td>\n",
       "      <td>MA</td>\n",
       "      <td>BEVERLY</td>\n",
       "    </tr>\n",
       "    <tr>\n",
       "      <th>4</th>\n",
       "      <td>35518.0</td>\n",
       "      <td>0.0</td>\n",
       "      <td>Yes</td>\n",
       "      <td>NaN</td>\n",
       "      <td>Multi Family Dwelling/Apartment</td>\n",
       "      <td>High School</td>\n",
       "      <td>NaN</td>\n",
       "      <td>NaN</td>\n",
       "      <td>Married</td>\n",
       "      <td>Caucasian / White - European</td>\n",
       "      <td>M</td>\n",
       "      <td>RI</td>\n",
       "      <td>BRISTOL</td>\n",
       "    </tr>\n",
       "  </tbody>\n",
       "</table>\n",
       "</div>"
      ],
      "text/plain": [
       "   individual_key   age children children__presence_of_child_0-18  \\\n",
       "0         15294.0  31.0       No       Not likely to have a child   \n",
       "1         16996.0  21.0       No                              NaN   \n",
       "2         18708.0  54.0      Yes       Not likely to have a child   \n",
       "3         19350.0  58.0      NaN       Not likely to have a child   \n",
       "4         35518.0   0.0      Yes                              NaN   \n",
       "\n",
       "                     dwelling_type          education  \\\n",
       "0  Multi Family Dwelling/Apartment        High School   \n",
       "1                    Single Family            Unknown   \n",
       "2                    Single Family  Completed College   \n",
       "3                              NaN                NaN   \n",
       "4  Multi Family Dwelling/Apartment        High School   \n",
       "\n",
       "  est_household_incomedecode estimated_income_code marital_status  \\\n",
       "0     01 - less than $25,000       $15,000-$19,999         Single   \n",
       "1                        NaN     $100,000-$149,999         Single   \n",
       "2            06 - $200,000 +     $150,000-$174,999         Single   \n",
       "3        03 - $50K - $99.99K                   NaN            NaN   \n",
       "4                        NaN                   NaN        Married   \n",
       "\n",
       "                                     race gender state           city  \n",
       "0            Caucasian / White - European      M    MA         MALDEN  \n",
       "1  Caucasian / White - White Non-American      M    MA        SWANSEA  \n",
       "2            Caucasian / White - European      F    MA  JAMAICA PLAIN  \n",
       "3                                     NaN      M    MA        BEVERLY  \n",
       "4            Caucasian / White - European      M    RI        BRISTOL  "
      ]
     },
     "execution_count": 9,
     "metadata": {},
     "output_type": "execute_result"
    }
   ],
   "source": [
    "# Creating a New Dataframe for Demographic Columns\n",
    "\n",
    "df_demographic=raw_df[demographic_columns]\n",
    "\n",
    "df_demographic.head()"
   ]
  },
  {
   "cell_type": "code",
   "execution_count": 10,
   "id": "050f079f",
   "metadata": {},
   "outputs": [
    {
     "data": {
      "text/plain": [
       "individual_key                      float64\n",
       "age                                 float64\n",
       "children                             object\n",
       "children__presence_of_child_0-18     object\n",
       "dwelling_type                        object\n",
       "education                            object\n",
       "est_household_incomedecode           object\n",
       "estimated_income_code                object\n",
       "marital_status                       object\n",
       "race                                 object\n",
       "gender                               object\n",
       "state                                object\n",
       "city                                 object\n",
       "dtype: object"
      ]
     },
     "execution_count": 10,
     "metadata": {},
     "output_type": "execute_result"
    }
   ],
   "source": [
    "df_demographic.dtypes"
   ]
  },
  {
   "cell_type": "code",
   "execution_count": 11,
   "id": "94d99e81",
   "metadata": {},
   "outputs": [
    {
     "data": {
      "text/plain": [
       "individual_key                         0\n",
       "age                                    0\n",
       "children                            4471\n",
       "children__presence_of_child_0-18    2202\n",
       "dwelling_type                       4471\n",
       "education                           4471\n",
       "est_household_incomedecode          2202\n",
       "estimated_income_code               4988\n",
       "marital_status                      5024\n",
       "race                                4471\n",
       "gender                                 0\n",
       "state                               1554\n",
       "city                                1554\n",
       "dtype: int64"
      ]
     },
     "execution_count": 11,
     "metadata": {},
     "output_type": "execute_result"
    }
   ],
   "source": [
    "df_demographic.isnull().sum()"
   ]
  },
  {
   "cell_type": "code",
   "execution_count": 12,
   "id": "a5ad07db",
   "metadata": {},
   "outputs": [
    {
     "data": {
      "text/plain": [
       "individual_key                      6748\n",
       "age                                   75\n",
       "children                               2\n",
       "children__presence_of_child_0-18       4\n",
       "dwelling_type                          3\n",
       "education                              5\n",
       "est_household_incomedecode             6\n",
       "estimated_income_code                 19\n",
       "marital_status                         2\n",
       "race                                  19\n",
       "gender                                 4\n",
       "state                                  6\n",
       "city                                 925\n",
       "dtype: int64"
      ]
     },
     "execution_count": 12,
     "metadata": {},
     "output_type": "execute_result"
    }
   ],
   "source": [
    "df_demographic.nunique()        "
   ]
  },
  {
   "cell_type": "markdown",
   "id": "9aeb75ed",
   "metadata": {},
   "source": [
    "### Step #2: Cleaning & Exploring the 'Age' Column"
   ]
  },
  {
   "cell_type": "code",
   "execution_count": 13,
   "id": "001d9eb7",
   "metadata": {},
   "outputs": [
    {
     "data": {
      "text/html": [
       "<div>\n",
       "<style scoped>\n",
       "    .dataframe tbody tr th:only-of-type {\n",
       "        vertical-align: middle;\n",
       "    }\n",
       "\n",
       "    .dataframe tbody tr th {\n",
       "        vertical-align: top;\n",
       "    }\n",
       "\n",
       "    .dataframe thead th {\n",
       "        text-align: right;\n",
       "    }\n",
       "</style>\n",
       "<table border=\"1\" class=\"dataframe\">\n",
       "  <thead>\n",
       "    <tr style=\"text-align: right;\">\n",
       "      <th></th>\n",
       "      <th>individual_key</th>\n",
       "      <th>age</th>\n",
       "    </tr>\n",
       "  </thead>\n",
       "  <tbody>\n",
       "    <tr>\n",
       "      <th>count</th>\n",
       "      <td>1.048100e+04</td>\n",
       "      <td>10481.00000</td>\n",
       "    </tr>\n",
       "    <tr>\n",
       "      <th>mean</th>\n",
       "      <td>8.558575e+07</td>\n",
       "      <td>55.11392</td>\n",
       "    </tr>\n",
       "    <tr>\n",
       "      <th>std</th>\n",
       "      <td>1.039753e+08</td>\n",
       "      <td>17.23965</td>\n",
       "    </tr>\n",
       "    <tr>\n",
       "      <th>min</th>\n",
       "      <td>1.529400e+04</td>\n",
       "      <td>0.00000</td>\n",
       "    </tr>\n",
       "    <tr>\n",
       "      <th>25%</th>\n",
       "      <td>1.216586e+07</td>\n",
       "      <td>56.00000</td>\n",
       "    </tr>\n",
       "    <tr>\n",
       "      <th>50%</th>\n",
       "      <td>2.572815e+07</td>\n",
       "      <td>58.00000</td>\n",
       "    </tr>\n",
       "    <tr>\n",
       "      <th>75%</th>\n",
       "      <td>1.894970e+08</td>\n",
       "      <td>61.00000</td>\n",
       "    </tr>\n",
       "    <tr>\n",
       "      <th>max</th>\n",
       "      <td>2.731138e+08</td>\n",
       "      <td>92.00000</td>\n",
       "    </tr>\n",
       "  </tbody>\n",
       "</table>\n",
       "</div>"
      ],
      "text/plain": [
       "       individual_key          age\n",
       "count    1.048100e+04  10481.00000\n",
       "mean     8.558575e+07     55.11392\n",
       "std      1.039753e+08     17.23965\n",
       "min      1.529400e+04      0.00000\n",
       "25%      1.216586e+07     56.00000\n",
       "50%      2.572815e+07     58.00000\n",
       "75%      1.894970e+08     61.00000\n",
       "max      2.731138e+08     92.00000"
      ]
     },
     "execution_count": 13,
     "metadata": {},
     "output_type": "execute_result"
    }
   ],
   "source": [
    "# Notice that the Min Age is 0, this should not be a foctor in determining the mean or other statistics\n",
    "\n",
    "df_demographic.describe()"
   ]
  },
  {
   "cell_type": "code",
   "execution_count": 14,
   "id": "1ab36cf5",
   "metadata": {},
   "outputs": [
    {
     "data": {
      "text/plain": [
       "58.0    4608\n",
       "0.0      603\n",
       "65.0     169\n",
       "61.0     167\n",
       "63.0     163\n",
       "        ... \n",
       "90.0       9\n",
       "91.0       6\n",
       "24.0       5\n",
       "19.0       5\n",
       "92.0       2\n",
       "Name: age, Length: 75, dtype: int64"
      ]
     },
     "execution_count": 14,
     "metadata": {},
     "output_type": "execute_result"
    }
   ],
   "source": [
    "# There are 603 values for age that are listed as 0, these should actually be Null\n",
    "\n",
    "df_demographic['age'].value_counts()"
   ]
  },
  {
   "cell_type": "code",
   "execution_count": 15,
   "id": "b5185317",
   "metadata": {},
   "outputs": [
    {
     "name": "stderr",
     "output_type": "stream",
     "text": [
      "C:\\Users\\student\\AppData\\Local\\Temp\\ipykernel_18656\\787062892.py:3: SettingWithCopyWarning: \n",
      "A value is trying to be set on a copy of a slice from a DataFrame\n",
      "\n",
      "See the caveats in the documentation: https://pandas.pydata.org/pandas-docs/stable/user_guide/indexing.html#returning-a-view-versus-a-copy\n",
      "  df_demographic.replace(0, np.nan, inplace=True)\n"
     ]
    }
   ],
   "source": [
    "# Replacing 0s with Null \n",
    "\n",
    "df_demographic.replace(0, np.nan, inplace=True)"
   ]
  },
  {
   "cell_type": "code",
   "execution_count": 16,
   "id": "a38b35f3",
   "metadata": {},
   "outputs": [
    {
     "data": {
      "text/plain": [
       "58.0    4608\n",
       "65.0     169\n",
       "61.0     167\n",
       "63.0     163\n",
       "57.0     162\n",
       "        ... \n",
       "90.0       9\n",
       "91.0       6\n",
       "24.0       5\n",
       "19.0       5\n",
       "92.0       2\n",
       "Name: age, Length: 74, dtype: int64"
      ]
     },
     "execution_count": 16,
     "metadata": {},
     "output_type": "execute_result"
    }
   ],
   "source": [
    "# Making sure there are no longer 0s\n",
    "\n",
    "df_demographic['age'].value_counts()"
   ]
  },
  {
   "cell_type": "code",
   "execution_count": 163,
   "id": "c32ba61f",
   "metadata": {},
   "outputs": [
    {
     "name": "stderr",
     "output_type": "stream",
     "text": [
      "C:\\Users\\student\\AppData\\Local\\Temp\\ipykernel_18656\\2163966272.py:1: SettingWithCopyWarning: \n",
      "A value is trying to be set on a copy of a slice from a DataFrame\n",
      "\n",
      "See the caveats in the documentation: https://pandas.pydata.org/pandas-docs/stable/user_guide/indexing.html#returning-a-view-versus-a-copy\n",
      "  df_demographic['age'].fillna(df_demographic['age'].mean(), inplace=True)\n"
     ]
    }
   ],
   "source": [
    "df_demographic['age'].fillna(df_demographic['age'].mean(), inplace=True)"
   ]
  },
  {
   "cell_type": "code",
   "execution_count": 17,
   "id": "b15ec607",
   "metadata": {},
   "outputs": [
    {
     "data": {
      "text/html": [
       "<div>\n",
       "<style scoped>\n",
       "    .dataframe tbody tr th:only-of-type {\n",
       "        vertical-align: middle;\n",
       "    }\n",
       "\n",
       "    .dataframe tbody tr th {\n",
       "        vertical-align: top;\n",
       "    }\n",
       "\n",
       "    .dataframe thead th {\n",
       "        text-align: right;\n",
       "    }\n",
       "</style>\n",
       "<table border=\"1\" class=\"dataframe\">\n",
       "  <thead>\n",
       "    <tr style=\"text-align: right;\">\n",
       "      <th></th>\n",
       "      <th>individual_key</th>\n",
       "      <th>age</th>\n",
       "    </tr>\n",
       "  </thead>\n",
       "  <tbody>\n",
       "    <tr>\n",
       "      <th>count</th>\n",
       "      <td>1.048100e+04</td>\n",
       "      <td>9878.000000</td>\n",
       "    </tr>\n",
       "    <tr>\n",
       "      <th>mean</th>\n",
       "      <td>8.558575e+07</td>\n",
       "      <td>58.478336</td>\n",
       "    </tr>\n",
       "    <tr>\n",
       "      <th>std</th>\n",
       "      <td>1.039753e+08</td>\n",
       "      <td>10.889669</td>\n",
       "    </tr>\n",
       "    <tr>\n",
       "      <th>min</th>\n",
       "      <td>1.529400e+04</td>\n",
       "      <td>19.000000</td>\n",
       "    </tr>\n",
       "    <tr>\n",
       "      <th>25%</th>\n",
       "      <td>1.216586e+07</td>\n",
       "      <td>58.000000</td>\n",
       "    </tr>\n",
       "    <tr>\n",
       "      <th>50%</th>\n",
       "      <td>2.572815e+07</td>\n",
       "      <td>58.000000</td>\n",
       "    </tr>\n",
       "    <tr>\n",
       "      <th>75%</th>\n",
       "      <td>1.894970e+08</td>\n",
       "      <td>62.000000</td>\n",
       "    </tr>\n",
       "    <tr>\n",
       "      <th>max</th>\n",
       "      <td>2.731138e+08</td>\n",
       "      <td>92.000000</td>\n",
       "    </tr>\n",
       "  </tbody>\n",
       "</table>\n",
       "</div>"
      ],
      "text/plain": [
       "       individual_key          age\n",
       "count    1.048100e+04  9878.000000\n",
       "mean     8.558575e+07    58.478336\n",
       "std      1.039753e+08    10.889669\n",
       "min      1.529400e+04    19.000000\n",
       "25%      1.216586e+07    58.000000\n",
       "50%      2.572815e+07    58.000000\n",
       "75%      1.894970e+08    62.000000\n",
       "max      2.731138e+08    92.000000"
      ]
     },
     "execution_count": 17,
     "metadata": {},
     "output_type": "execute_result"
    }
   ],
   "source": [
    "# The Age Columns Statistics has changed due to the removal of 0s\n",
    "\n",
    "df_demographic.describe()"
   ]
  },
  {
   "cell_type": "code",
   "execution_count": 18,
   "id": "c37445aa",
   "metadata": {},
   "outputs": [],
   "source": [
    "# Creating a New Column Grouping Age into Ranges\n",
    "\n",
    "age_range = pd.cut(df_demographic.age,bins=[0,18,29,49,69,100],labels=['0-18','19-29','30-49','50-69','70+'])\n",
    "df_demographic.insert(5,'Age Range',age_range)"
   ]
  },
  {
   "cell_type": "code",
   "execution_count": 19,
   "id": "abe30d0b",
   "metadata": {},
   "outputs": [
    {
     "data": {
      "text/plain": [
       "50-69    7166\n",
       "70+      1372\n",
       "30-49    1105\n",
       "19-29     235\n",
       "0-18        0\n",
       "Name: Age Range, dtype: int64"
      ]
     },
     "execution_count": 19,
     "metadata": {},
     "output_type": "execute_result"
    }
   ],
   "source": [
    "df_demographic['Age Range'].value_counts()"
   ]
  },
  {
   "cell_type": "code",
   "execution_count": 20,
   "id": "9ac41a12",
   "metadata": {},
   "outputs": [
    {
     "data": {
      "text/plain": [
       "<AxesSubplot:xlabel='Age Range', ylabel='count'>"
      ]
     },
     "execution_count": 20,
     "metadata": {},
     "output_type": "execute_result"
    },
    {
     "data": {
      "image/png": "[encoded data removed]",
      "text/plain": [
       "<Figure size 640x480 with 1 Axes>"
      ]
     },
     "metadata": {},
     "output_type": "display_data"
    }
   ],
   "source": [
    "sns.countplot(x=df_demographic[\"Age Range\"])"
   ]
  },
  {
   "cell_type": "markdown",
   "id": "6372b54d",
   "metadata": {},
   "source": [
    "### Step #3: Cleaning & Exploring the 'Children' Column"
   ]
  },
  {
   "cell_type": "code",
   "execution_count": 21,
   "id": "8b26684c",
   "metadata": {},
   "outputs": [
    {
     "name": "stderr",
     "output_type": "stream",
     "text": [
      "C:\\Users\\student\\AppData\\Local\\Temp\\ipykernel_18656\\266134435.py:3: SettingWithCopyWarning: \n",
      "A value is trying to be set on a copy of a slice from a DataFrame\n",
      "\n",
      "See the caveats in the documentation: https://pandas.pydata.org/pandas-docs/stable/user_guide/indexing.html#returning-a-view-versus-a-copy\n",
      "  df_demographic['children'].fillna(\"Unknown\",inplace=True)\n"
     ]
    }
   ],
   "source": [
    "# Replacing Null Values with 'Unknown'\n",
    "\n",
    "df_demographic['children'].fillna(\"Unknown\",inplace=True)"
   ]
  },
  {
   "cell_type": "code",
   "execution_count": 22,
   "id": "375a9b1f",
   "metadata": {},
   "outputs": [
    {
     "data": {
      "text/plain": [
       "Unknown    4471\n",
       "Yes        4130\n",
       "No         1880\n",
       "Name: children, dtype: int64"
      ]
     },
     "execution_count": 22,
     "metadata": {},
     "output_type": "execute_result"
    }
   ],
   "source": [
    "df_demographic['children'].value_counts()"
   ]
  },
  {
   "cell_type": "code",
   "execution_count": 23,
   "id": "ce8865c9",
   "metadata": {
    "scrolled": true
   },
   "outputs": [
    {
     "data": {
      "text/plain": [
       "<AxesSubplot:xlabel='children', ylabel='count'>"
      ]
     },
     "execution_count": 23,
     "metadata": {},
     "output_type": "execute_result"
    },
    {
     "data": {
      "image/png": "[encoded data removed]",
      "text/plain": [
       "<Figure size 640x480 with 1 Axes>"
      ]
     },
     "metadata": {},
     "output_type": "display_data"
    }
   ],
   "source": [
    "sns.countplot(x=df_demographic[\"children\"])"
   ]
  },
  {
   "cell_type": "markdown",
   "id": "e3d2c570",
   "metadata": {},
   "source": [
    "### Step #4: Cleaning & Exploring the 'Dwelling Type' Column"
   ]
  },
  {
   "cell_type": "code",
   "execution_count": 24,
   "id": "c0c07ca6",
   "metadata": {},
   "outputs": [
    {
     "name": "stderr",
     "output_type": "stream",
     "text": [
      "C:\\Users\\student\\AppData\\Local\\Temp\\ipykernel_18656\\1842453483.py:3: SettingWithCopyWarning: \n",
      "A value is trying to be set on a copy of a slice from a DataFrame\n",
      "\n",
      "See the caveats in the documentation: https://pandas.pydata.org/pandas-docs/stable/user_guide/indexing.html#returning-a-view-versus-a-copy\n",
      "  df_demographic['dwelling_type'].fillna(\"Unknown\",inplace=True)\n"
     ]
    }
   ],
   "source": [
    "# Replacing Null Values with 'Unknown'\n",
    "\n",
    "df_demographic['dwelling_type'].fillna(\"Unknown\",inplace=True)"
   ]
  },
  {
   "cell_type": "code",
   "execution_count": 25,
   "id": "37596e61",
   "metadata": {},
   "outputs": [
    {
     "data": {
      "text/plain": [
       "Single Family                      4799\n",
       "Unknown                            4471\n",
       "Multi Family Dwelling/Apartment    1059\n",
       "PO Box                              152\n",
       "Name: dwelling_type, dtype: int64"
      ]
     },
     "execution_count": 25,
     "metadata": {},
     "output_type": "execute_result"
    }
   ],
   "source": [
    "df_demographic['dwelling_type'].value_counts()"
   ]
  },
  {
   "cell_type": "code",
   "execution_count": 26,
   "id": "e17edb38",
   "metadata": {},
   "outputs": [
    {
     "data": {
      "text/plain": [
       "<AxesSubplot:xlabel='dwelling_type', ylabel='count'>"
      ]
     },
     "execution_count": 26,
     "metadata": {},
     "output_type": "execute_result"
    },
    {
     "data": {
      "image/png": "[encoded data removed]",
      "text/plain": [
       "<Figure size 640x480 with 1 Axes>"
      ]
     },
     "metadata": {},
     "output_type": "display_data"
    }
   ],
   "source": [
    "sns.countplot(x=df_demographic[\"dwelling_type\"])"
   ]
  },
  {
   "cell_type": "markdown",
   "id": "6272ebaa",
   "metadata": {},
   "source": [
    "### Step #5: Cleaning & Exploring the 'Education' Column"
   ]
  },
  {
   "cell_type": "code",
   "execution_count": 27,
   "id": "74370408",
   "metadata": {},
   "outputs": [
    {
     "name": "stderr",
     "output_type": "stream",
     "text": [
      "C:\\Users\\student\\AppData\\Local\\Temp\\ipykernel_18656\\2775819573.py:3: SettingWithCopyWarning: \n",
      "A value is trying to be set on a copy of a slice from a DataFrame\n",
      "\n",
      "See the caveats in the documentation: https://pandas.pydata.org/pandas-docs/stable/user_guide/indexing.html#returning-a-view-versus-a-copy\n",
      "  df_demographic['education'].fillna(\"Unknown\",inplace=True)\n"
     ]
    }
   ],
   "source": [
    "# Replacing Null Values with 'Unknown'\n",
    "\n",
    "df_demographic['education'].fillna(\"Unknown\",inplace=True)"
   ]
  },
  {
   "cell_type": "code",
   "execution_count": 28,
   "id": "59b2e35b",
   "metadata": {},
   "outputs": [
    {
     "data": {
      "text/plain": [
       "Unknown              6122\n",
       "Some College         2197\n",
       "High School          1391\n",
       "Completed College     681\n",
       "Graduate School        90\n",
       "Name: education, dtype: int64"
      ]
     },
     "execution_count": 28,
     "metadata": {},
     "output_type": "execute_result"
    }
   ],
   "source": [
    "df_demographic['education'].value_counts()"
   ]
  },
  {
   "cell_type": "code",
   "execution_count": 29,
   "id": "2e523103",
   "metadata": {},
   "outputs": [
    {
     "data": {
      "text/plain": [
       "<AxesSubplot:xlabel='education', ylabel='count'>"
      ]
     },
     "execution_count": 29,
     "metadata": {},
     "output_type": "execute_result"
    },
    {
     "data": {
      "image/png": "[encoded data removed]",
      "text/plain": [
       "<Figure size 640x480 with 1 Axes>"
      ]
     },
     "metadata": {},
     "output_type": "display_data"
    }
   ],
   "source": [
    "sns.countplot(x=df_demographic[\"education\"])"
   ]
  },
  {
   "cell_type": "markdown",
   "id": "76dd5513",
   "metadata": {},
   "source": [
    "### Step #6: Cleaning & Exploring the 'Income' Column"
   ]
  },
  {
   "cell_type": "code",
   "execution_count": 30,
   "id": "0dd7ca7e",
   "metadata": {},
   "outputs": [
    {
     "name": "stderr",
     "output_type": "stream",
     "text": [
      "C:\\Users\\student\\AppData\\Local\\Temp\\ipykernel_18656\\44589724.py:3: SettingWithCopyWarning: \n",
      "A value is trying to be set on a copy of a slice from a DataFrame\n",
      "\n",
      "See the caveats in the documentation: https://pandas.pydata.org/pandas-docs/stable/user_guide/indexing.html#returning-a-view-versus-a-copy\n",
      "  df_demographic['est_household_incomedecode'].fillna(\"Unknown\",inplace=True)\n"
     ]
    }
   ],
   "source": [
    "# Replacing Null Values with 'Unknown'\n",
    "\n",
    "df_demographic['est_household_incomedecode'].fillna(\"Unknown\",inplace=True)"
   ]
  },
  {
   "cell_type": "code",
   "execution_count": 31,
   "id": "b4eefb8a",
   "metadata": {},
   "outputs": [
    {
     "data": {
      "text/plain": [
       "03 - $50K - $99.99K       2457\n",
       "Unknown                   2202\n",
       "04 - $100K-$149.99K       1813\n",
       "06 - $200,000 +           1356\n",
       "02 - $25K - $49.99K       1105\n",
       "05 - $150K - $199.99K      934\n",
       "01 - less than $25,000     614\n",
       "Name: est_household_incomedecode, dtype: int64"
      ]
     },
     "execution_count": 31,
     "metadata": {},
     "output_type": "execute_result"
    }
   ],
   "source": [
    "df_demographic['est_household_incomedecode'].value_counts()"
   ]
  },
  {
   "cell_type": "code",
   "execution_count": 32,
   "id": "c6dec513",
   "metadata": {},
   "outputs": [
    {
     "data": {
      "text/plain": [
       "<AxesSubplot:xlabel='est_household_incomedecode', ylabel='count'>"
      ]
     },
     "execution_count": 32,
     "metadata": {},
     "output_type": "execute_result"
    },
    {
     "data": {
      "image/png": "[encoded data removed]",
      "text/plain": [
       "<Figure size 640x480 with 1 Axes>"
      ]
     },
     "metadata": {},
     "output_type": "display_data"
    }
   ],
   "source": [
    "sns.countplot(x=df_demographic[\"est_household_incomedecode\"])"
   ]
  },
  {
   "cell_type": "markdown",
   "id": "985680f4",
   "metadata": {},
   "source": [
    "### Step #6: Cleaning & Exploring the 'Marital Status' Column"
   ]
  },
  {
   "cell_type": "code",
   "execution_count": 33,
   "id": "123eba89",
   "metadata": {},
   "outputs": [
    {
     "name": "stderr",
     "output_type": "stream",
     "text": [
      "C:\\Users\\student\\AppData\\Local\\Temp\\ipykernel_18656\\2391168884.py:3: SettingWithCopyWarning: \n",
      "A value is trying to be set on a copy of a slice from a DataFrame\n",
      "\n",
      "See the caveats in the documentation: https://pandas.pydata.org/pandas-docs/stable/user_guide/indexing.html#returning-a-view-versus-a-copy\n",
      "  df_demographic['marital_status'].fillna(\"Unknown\",inplace=True)\n"
     ]
    }
   ],
   "source": [
    "# Replacing Null Values with 'Unknown'\n",
    "\n",
    "df_demographic['marital_status'].fillna(\"Unknown\",inplace=True)"
   ]
  },
  {
   "cell_type": "code",
   "execution_count": 34,
   "id": "fd4c0464",
   "metadata": {},
   "outputs": [
    {
     "data": {
      "text/plain": [
       "Unknown    5024\n",
       "Married    3084\n",
       "Single     2373\n",
       "Name: marital_status, dtype: int64"
      ]
     },
     "execution_count": 34,
     "metadata": {},
     "output_type": "execute_result"
    }
   ],
   "source": [
    "df_demographic['marital_status'].value_counts()"
   ]
  },
  {
   "cell_type": "code",
   "execution_count": 35,
   "id": "c4e4a2d2",
   "metadata": {},
   "outputs": [
    {
     "data": {
      "text/plain": [
       "<AxesSubplot:xlabel='marital_status', ylabel='count'>"
      ]
     },
     "execution_count": 35,
     "metadata": {},
     "output_type": "execute_result"
    },
    {
     "data": {
      "image/png": "[encoded data removed]",
      "text/plain": [
       "<Figure size 640x480 with 1 Axes>"
      ]
     },
     "metadata": {},
     "output_type": "display_data"
    }
   ],
   "source": [
    "sns.countplot(x=\"marital_status\",data=df_demographic)"
   ]
  },
  {
   "cell_type": "markdown",
   "id": "236bb330",
   "metadata": {},
   "source": [
    "### Step #7: Cleaning & Exploring the 'Race' Column"
   ]
  },
  {
   "cell_type": "code",
   "execution_count": 36,
   "id": "408b8546",
   "metadata": {},
   "outputs": [
    {
     "name": "stderr",
     "output_type": "stream",
     "text": [
      "C:\\Users\\student\\AppData\\Local\\Temp\\ipykernel_18656\\4216006439.py:3: SettingWithCopyWarning: \n",
      "A value is trying to be set on a copy of a slice from a DataFrame\n",
      "\n",
      "See the caveats in the documentation: https://pandas.pydata.org/pandas-docs/stable/user_guide/indexing.html#returning-a-view-versus-a-copy\n",
      "  df_demographic['race'].fillna(\"Unknown\",inplace=True)\n"
     ]
    }
   ],
   "source": [
    "# Replacing Null Values with 'Unknown'\n",
    "\n",
    "df_demographic['race'].fillna(\"Unknown\",inplace=True)"
   ]
  },
  {
   "cell_type": "code",
   "execution_count": 37,
   "id": "5e594794",
   "metadata": {},
   "outputs": [
    {
     "data": {
      "text/plain": [
       "Unknown                                   4969\n",
       "Caucasian / White - European              2074\n",
       "Caucasian / White - English               1131\n",
       "Caucasian / White - White Non-American     536\n",
       "Hispanic - Hispanic Origin                 385\n",
       "African American - African Origin          277\n",
       "Middle Eastern - Arab                      235\n",
       "Caucasian / White - Eastern European       225\n",
       "Caucasian / White - Unknown                133\n",
       "Hispanic - Portuguese Origin               118\n",
       "Asian - Chinese                            103\n",
       "Asian - Indian                              82\n",
       "Asian - Unknown                             71\n",
       "Caucasian / White - Greek                   50\n",
       "Caucasian / White - Jewish                  38\n",
       "American Indian                             33\n",
       "Asian - Japanese                            12\n",
       "Middle Eastern - Egyptian                    7\n",
       "African American - Unknown Origin            2\n",
       "Name: race, dtype: int64"
      ]
     },
     "execution_count": 37,
     "metadata": {},
     "output_type": "execute_result"
    }
   ],
   "source": [
    "df_demographic['race'].value_counts()"
   ]
  },
  {
   "cell_type": "code",
   "execution_count": 39,
   "id": "127978d0",
   "metadata": {},
   "outputs": [
    {
     "name": "stderr",
     "output_type": "stream",
     "text": [
      "C:\\Users\\student\\AppData\\Local\\Temp\\ipykernel_18656\\45088128.py:1: SettingWithCopyWarning: \n",
      "A value is trying to be set on a copy of a slice from a DataFrame.\n",
      "Try using .loc[row_indexer,col_indexer] = value instead\n",
      "\n",
      "See the caveats in the documentation: https://pandas.pydata.org/pandas-docs/stable/user_guide/indexing.html#returning-a-view-versus-a-copy\n",
      "  df_demographic['race_cleaned']=df_demographic['race'].str.split(\"-\", n = 1, expand = True)[0]\n"
     ]
    },
    {
     "data": {
      "text/plain": [
       "Unknown               4969\n",
       "Caucasian / White     4187\n",
       "Hispanic               503\n",
       "African American       279\n",
       "Asian                  268\n",
       "Middle Eastern         242\n",
       "American Indian         33\n",
       "Name: race_cleaned, dtype: int64"
      ]
     },
     "execution_count": 39,
     "metadata": {},
     "output_type": "execute_result"
    }
   ],
   "source": [
    "df_demographic['race_cleaned']=df_demographic['race'].str.split(\"-\", n = 1, expand = True)[0]\n",
    "\n",
    "df_demographic['race_cleaned'].value_counts()"
   ]
  },
  {
   "cell_type": "code",
   "execution_count": 40,
   "id": "ee2ef4d4",
   "metadata": {},
   "outputs": [
    {
     "data": {
      "text/plain": [
       "<AxesSubplot:xlabel='race_cleaned', ylabel='count'>"
      ]
     },
     "execution_count": 40,
     "metadata": {},
     "output_type": "execute_result"
    },
    {
     "data": {
      "image/png": "[encoded data removed]",
      "text/plain": [
       "<Figure size 640x480 with 1 Axes>"
      ]
     },
     "metadata": {},
     "output_type": "display_data"
    }
   ],
   "source": [
    "sns.countplot(x=\"race_cleaned\",data=df_demographic)"
   ]
  },
  {
   "cell_type": "markdown",
   "id": "311ea7ed",
   "metadata": {},
   "source": [
    "### Step #8: Cleaning & Exploring the 'Gender' Column"
   ]
  },
  {
   "cell_type": "code",
   "execution_count": 42,
   "id": "d897b8be",
   "metadata": {},
   "outputs": [
    {
     "data": {
      "text/plain": [
       "F    5437\n",
       "M    4255\n",
       "U     541\n",
       "X     248\n",
       "Name: gender, dtype: int64"
      ]
     },
     "execution_count": 42,
     "metadata": {},
     "output_type": "execute_result"
    }
   ],
   "source": [
    "df_demographic['gender'].value_counts()"
   ]
  },
  {
   "cell_type": "code",
   "execution_count": 43,
   "id": "b29ff91a",
   "metadata": {},
   "outputs": [
    {
     "data": {
      "text/plain": [
       "<AxesSubplot:xlabel='gender', ylabel='count'>"
      ]
     },
     "execution_count": 43,
     "metadata": {},
     "output_type": "execute_result"
    },
    {
     "data": {
      "image/png": "[encoded data removed]",
      "text/plain": [
       "<Figure size 640x480 with 1 Axes>"
      ]
     },
     "metadata": {},
     "output_type": "display_data"
    }
   ],
   "source": [
    "sns.countplot(x=\"gender\",data=df_demographic)"
   ]
  },
  {
   "cell_type": "markdown",
   "id": "2eb0104c",
   "metadata": {},
   "source": [
    "### Step #9: Cleaning & Exploring the 'State' Column"
   ]
  },
  {
   "cell_type": "code",
   "execution_count": 44,
   "id": "a7e3249d",
   "metadata": {
    "scrolled": true
   },
   "outputs": [
    {
     "name": "stderr",
     "output_type": "stream",
     "text": [
      "C:\\Users\\student\\AppData\\Local\\Temp\\ipykernel_18656\\3472432177.py:3: SettingWithCopyWarning: \n",
      "A value is trying to be set on a copy of a slice from a DataFrame\n",
      "\n",
      "See the caveats in the documentation: https://pandas.pydata.org/pandas-docs/stable/user_guide/indexing.html#returning-a-view-versus-a-copy\n",
      "  df_demographic['state'].fillna(\"Others\",inplace=True)\n"
     ]
    }
   ],
   "source": [
    "# Replacing Null Values with 'Unknown'\n",
    "\n",
    "df_demographic['state'].fillna(\"Others\",inplace=True)"
   ]
  },
  {
   "cell_type": "code",
   "execution_count": 45,
   "id": "14a6cc86",
   "metadata": {},
   "outputs": [
    {
     "data": {
      "text/plain": [
       "MA        5556\n",
       "Others    1610\n",
       "NY        1541\n",
       "NJ         601\n",
       "CT         596\n",
       "RI         577\n",
       "Name: state, dtype: int64"
      ]
     },
     "execution_count": 45,
     "metadata": {},
     "output_type": "execute_result"
    }
   ],
   "source": [
    "df_demographic['state'].value_counts()"
   ]
  },
  {
   "cell_type": "code",
   "execution_count": 46,
   "id": "e39828c1",
   "metadata": {
    "scrolled": true
   },
   "outputs": [
    {
     "data": {
      "text/plain": [
       "<AxesSubplot:xlabel='state', ylabel='count'>"
      ]
     },
     "execution_count": 46,
     "metadata": {},
     "output_type": "execute_result"
    },
    {
     "data": {
      "image/png": "[encoded data removed]",
      "text/plain": [
       "<Figure size 640x480 with 1 Axes>"
      ]
     },
     "metadata": {},
     "output_type": "display_data"
    }
   ],
   "source": [
    "sns.countplot(x=\"state\",data=df_demographic)"
   ]
  },
  {
   "cell_type": "markdown",
   "id": "c76ae696",
   "metadata": {},
   "source": [
    "### Step #10: Cleaning & Exploring the 'City' Column"
   ]
  },
  {
   "cell_type": "code",
   "execution_count": 47,
   "id": "81a251bb",
   "metadata": {},
   "outputs": [
    {
     "name": "stderr",
     "output_type": "stream",
     "text": [
      "C:\\Users\\student\\AppData\\Local\\Temp\\ipykernel_18656\\473929957.py:3: SettingWithCopyWarning: \n",
      "A value is trying to be set on a copy of a slice from a DataFrame\n",
      "\n",
      "See the caveats in the documentation: https://pandas.pydata.org/pandas-docs/stable/user_guide/indexing.html#returning-a-view-versus-a-copy\n",
      "  df_demographic['city'].fillna(\"Others\",inplace=True)\n"
     ]
    }
   ],
   "source": [
    "# Replacing Null Values with 'Unknown'\n",
    "\n",
    "df_demographic['city'].fillna(\"Others\",inplace=True)"
   ]
  },
  {
   "cell_type": "code",
   "execution_count": 48,
   "id": "3e39a6be",
   "metadata": {},
   "outputs": [
    {
     "data": {
      "text/plain": [
       "['Others',\n",
       " 'QUINCY',\n",
       " 'SPRINGFIELD',\n",
       " 'BROOKLYN',\n",
       " 'MILTON',\n",
       " 'BRAINTREE',\n",
       " 'DORCHESTER',\n",
       " 'NEW YORK',\n",
       " 'DORCHESTER CENTER',\n",
       " 'LOWELL']"
      ]
     },
     "execution_count": 48,
     "metadata": {},
     "output_type": "execute_result"
    }
   ],
   "source": [
    "list(df_demographic['city'].value_counts().index[0:10])"
   ]
  },
  {
   "cell_type": "code",
   "execution_count": 49,
   "id": "807dc741",
   "metadata": {},
   "outputs": [
    {
     "name": "stderr",
     "output_type": "stream",
     "text": [
      "C:\\Users\\student\\AppData\\Local\\Temp\\ipykernel_18656\\2524131725.py:11: SettingWithCopyWarning: \n",
      "A value is trying to be set on a copy of a slice from a DataFrame.\n",
      "Try using .loc[row_indexer,col_indexer] = value instead\n",
      "\n",
      "See the caveats in the documentation: https://pandas.pydata.org/pandas-docs/stable/user_guide/indexing.html#returning-a-view-versus-a-copy\n",
      "  df_demographic['city_cleaned']=city_cleaned\n"
     ]
    },
    {
     "data": {
      "text/html": [
       "<div>\n",
       "<style scoped>\n",
       "    .dataframe tbody tr th:only-of-type {\n",
       "        vertical-align: middle;\n",
       "    }\n",
       "\n",
       "    .dataframe tbody tr th {\n",
       "        vertical-align: top;\n",
       "    }\n",
       "\n",
       "    .dataframe thead th {\n",
       "        text-align: right;\n",
       "    }\n",
       "</style>\n",
       "<table border=\"1\" class=\"dataframe\">\n",
       "  <thead>\n",
       "    <tr style=\"text-align: right;\">\n",
       "      <th></th>\n",
       "      <th>city</th>\n",
       "      <th>city_cleaned</th>\n",
       "    </tr>\n",
       "  </thead>\n",
       "  <tbody>\n",
       "    <tr>\n",
       "      <th>0</th>\n",
       "      <td>MALDEN</td>\n",
       "      <td>OTHER</td>\n",
       "    </tr>\n",
       "    <tr>\n",
       "      <th>1</th>\n",
       "      <td>SWANSEA</td>\n",
       "      <td>OTHER</td>\n",
       "    </tr>\n",
       "    <tr>\n",
       "      <th>2</th>\n",
       "      <td>JAMAICA PLAIN</td>\n",
       "      <td>OTHER</td>\n",
       "    </tr>\n",
       "    <tr>\n",
       "      <th>3</th>\n",
       "      <td>BEVERLY</td>\n",
       "      <td>OTHER</td>\n",
       "    </tr>\n",
       "    <tr>\n",
       "      <th>4</th>\n",
       "      <td>BRISTOL</td>\n",
       "      <td>OTHER</td>\n",
       "    </tr>\n",
       "    <tr>\n",
       "      <th>...</th>\n",
       "      <td>...</td>\n",
       "      <td>...</td>\n",
       "    </tr>\n",
       "    <tr>\n",
       "      <th>10476</th>\n",
       "      <td>EAST YAPHANK</td>\n",
       "      <td>OTHER</td>\n",
       "    </tr>\n",
       "    <tr>\n",
       "      <th>10477</th>\n",
       "      <td>WEST ORANGE</td>\n",
       "      <td>OTHER</td>\n",
       "    </tr>\n",
       "    <tr>\n",
       "      <th>10478</th>\n",
       "      <td>WEST ORANGE</td>\n",
       "      <td>OTHER</td>\n",
       "    </tr>\n",
       "    <tr>\n",
       "      <th>10479</th>\n",
       "      <td>WEST ORANGE</td>\n",
       "      <td>OTHER</td>\n",
       "    </tr>\n",
       "    <tr>\n",
       "      <th>10480</th>\n",
       "      <td>Others</td>\n",
       "      <td>Others</td>\n",
       "    </tr>\n",
       "  </tbody>\n",
       "</table>\n",
       "<p>10481 rows × 2 columns</p>\n",
       "</div>"
      ],
      "text/plain": [
       "                city city_cleaned\n",
       "0             MALDEN        OTHER\n",
       "1            SWANSEA        OTHER\n",
       "2      JAMAICA PLAIN        OTHER\n",
       "3            BEVERLY        OTHER\n",
       "4            BRISTOL        OTHER\n",
       "...              ...          ...\n",
       "10476   EAST YAPHANK        OTHER\n",
       "10477    WEST ORANGE        OTHER\n",
       "10478    WEST ORANGE        OTHER\n",
       "10479    WEST ORANGE        OTHER\n",
       "10480         Others       Others\n",
       "\n",
       "[10481 rows x 2 columns]"
      ]
     },
     "execution_count": 49,
     "metadata": {},
     "output_type": "execute_result"
    }
   ],
   "source": [
    "top10=list(df_demographic['city'].value_counts().index)[0:10]\n",
    "\n",
    "city_cleaned=[]\n",
    "\n",
    "for i in range(0, len(df_demographic)):\n",
    "    if df_demographic.loc[i, \"city\"] in top10:\n",
    "        city_cleaned.append(df_demographic.loc[i, \"city\"])\n",
    "    else:\n",
    "        city_cleaned.append(\"OTHER\")      \n",
    "\n",
    "df_demographic['city_cleaned']=city_cleaned\n",
    "\n",
    "df_demographic[['city', 'city_cleaned']]  "
   ]
  },
  {
   "cell_type": "code",
   "execution_count": 50,
   "id": "1eb30043",
   "metadata": {},
   "outputs": [
    {
     "data": {
      "text/plain": [
       "OTHER                7190\n",
       "Others               1554\n",
       "QUINCY                546\n",
       "SPRINGFIELD           243\n",
       "BROOKLYN              169\n",
       "MILTON                167\n",
       "BRAINTREE             153\n",
       "DORCHESTER            144\n",
       "NEW YORK              121\n",
       "DORCHESTER CENTER     101\n",
       "LOWELL                 93\n",
       "Name: city_cleaned, dtype: int64"
      ]
     },
     "execution_count": 50,
     "metadata": {},
     "output_type": "execute_result"
    }
   ],
   "source": [
    "df_demographic['city_cleaned'].value_counts()"
   ]
  },
  {
   "cell_type": "markdown",
   "id": "c517ae8c",
   "metadata": {},
   "source": [
    "### Step #10: Drop Unhelpful Columns"
   ]
  },
  {
   "cell_type": "code",
   "execution_count": 164,
   "id": "bbe2910f",
   "metadata": {},
   "outputs": [],
   "source": [
    "columns_to_drop = ['children__presence_of_child_0-18','est_household_incomedecode']\n",
    "\n",
    "df_demographics = df_demographic.drop(columns_to_drop, axis=1)"
   ]
  },
  {
   "cell_type": "code",
   "execution_count": 165,
   "id": "5e628e76",
   "metadata": {},
   "outputs": [
    {
     "data": {
      "text/plain": [
       "Index(['individual_key', 'age', 'children', 'dwelling_type', 'Age Range',\n",
       "       'education', 'estimated_income_code', 'marital_status', 'race',\n",
       "       'gender', 'state', 'city', 'race_cleaned', 'city_cleaned'],\n",
       "      dtype='object')"
      ]
     },
     "execution_count": 165,
     "metadata": {},
     "output_type": "execute_result"
    }
   ],
   "source": [
    "df_demographics.columns"
   ]
  },
  {
   "cell_type": "markdown",
   "id": "2a2d89e2",
   "metadata": {},
   "source": [
    "## Offer-Related Columns\n",
    "\n",
    "### Cleaning & Initial Exploration"
   ]
  },
  {
   "cell_type": "markdown",
   "id": "c5d677ba",
   "metadata": {},
   "source": [
    "### Step #1: Determing Data Types, # of Null Values, # of Unique Values"
   ]
  },
  {
   "cell_type": "code",
   "execution_count": 53,
   "id": "ec7b9d5b",
   "metadata": {},
   "outputs": [],
   "source": [
    "# Seperating Out Offer-Related Columns\n",
    "\n",
    "offer_columns = ['individual_key', 'offer_name', 'accepted', 'numofoffers', 'acceptedoffers', 'add_associate', 'auto-renew',\n",
    "       'offer_protectmyid', 'upgrade_membership'\n",
    "                      ]"
   ]
  },
  {
   "cell_type": "code",
   "execution_count": 54,
   "id": "569084bd",
   "metadata": {},
   "outputs": [
    {
     "data": {
      "text/html": [
       "<div>\n",
       "<style scoped>\n",
       "    .dataframe tbody tr th:only-of-type {\n",
       "        vertical-align: middle;\n",
       "    }\n",
       "\n",
       "    .dataframe tbody tr th {\n",
       "        vertical-align: top;\n",
       "    }\n",
       "\n",
       "    .dataframe thead th {\n",
       "        text-align: right;\n",
       "    }\n",
       "</style>\n",
       "<table border=\"1\" class=\"dataframe\">\n",
       "  <thead>\n",
       "    <tr style=\"text-align: right;\">\n",
       "      <th></th>\n",
       "      <th>individual_key</th>\n",
       "      <th>offer_name</th>\n",
       "      <th>accepted</th>\n",
       "      <th>numofoffers</th>\n",
       "      <th>acceptedoffers</th>\n",
       "      <th>add_associate</th>\n",
       "      <th>auto-renew</th>\n",
       "      <th>offer_protectmyid</th>\n",
       "      <th>upgrade_membership</th>\n",
       "    </tr>\n",
       "  </thead>\n",
       "  <tbody>\n",
       "    <tr>\n",
       "      <th>0</th>\n",
       "      <td>15294.0</td>\n",
       "      <td>Offer ProtectMyID (PMID)</td>\n",
       "      <td>1.0</td>\n",
       "      <td>1</td>\n",
       "      <td>1.0</td>\n",
       "      <td>NotOffered</td>\n",
       "      <td>NotOffered</td>\n",
       "      <td>Accepted</td>\n",
       "      <td>NotOffered</td>\n",
       "    </tr>\n",
       "    <tr>\n",
       "      <th>1</th>\n",
       "      <td>16996.0</td>\n",
       "      <td>Offer ProtectMyID (PMID)</td>\n",
       "      <td>0.0</td>\n",
       "      <td>1</td>\n",
       "      <td>0.0</td>\n",
       "      <td>NotOffered</td>\n",
       "      <td>NotOffered</td>\n",
       "      <td>NotAccepted</td>\n",
       "      <td>NotOffered</td>\n",
       "    </tr>\n",
       "    <tr>\n",
       "      <th>2</th>\n",
       "      <td>18708.0</td>\n",
       "      <td>Offer ProtectMyID (PMID)</td>\n",
       "      <td>1.0</td>\n",
       "      <td>1</td>\n",
       "      <td>1.0</td>\n",
       "      <td>NotOffered</td>\n",
       "      <td>NotOffered</td>\n",
       "      <td>Accepted</td>\n",
       "      <td>NotOffered</td>\n",
       "    </tr>\n",
       "    <tr>\n",
       "      <th>3</th>\n",
       "      <td>19350.0</td>\n",
       "      <td>Offer ProtectMyID (PMID)</td>\n",
       "      <td>1.0</td>\n",
       "      <td>1</td>\n",
       "      <td>1.0</td>\n",
       "      <td>NotOffered</td>\n",
       "      <td>NotOffered</td>\n",
       "      <td>Accepted</td>\n",
       "      <td>NotOffered</td>\n",
       "    </tr>\n",
       "    <tr>\n",
       "      <th>4</th>\n",
       "      <td>35518.0</td>\n",
       "      <td>Offer ProtectMyID (PMID)</td>\n",
       "      <td>1.0</td>\n",
       "      <td>1</td>\n",
       "      <td>1.0</td>\n",
       "      <td>NotOffered</td>\n",
       "      <td>NotOffered</td>\n",
       "      <td>Accepted</td>\n",
       "      <td>NotOffered</td>\n",
       "    </tr>\n",
       "  </tbody>\n",
       "</table>\n",
       "</div>"
      ],
      "text/plain": [
       "   individual_key                offer_name  accepted  numofoffers  \\\n",
       "0         15294.0  Offer ProtectMyID (PMID)       1.0            1   \n",
       "1         16996.0  Offer ProtectMyID (PMID)       0.0            1   \n",
       "2         18708.0  Offer ProtectMyID (PMID)       1.0            1   \n",
       "3         19350.0  Offer ProtectMyID (PMID)       1.0            1   \n",
       "4         35518.0  Offer ProtectMyID (PMID)       1.0            1   \n",
       "\n",
       "   acceptedoffers add_associate  auto-renew offer_protectmyid  \\\n",
       "0             1.0    NotOffered  NotOffered          Accepted   \n",
       "1             0.0    NotOffered  NotOffered       NotAccepted   \n",
       "2             1.0    NotOffered  NotOffered          Accepted   \n",
       "3             1.0    NotOffered  NotOffered          Accepted   \n",
       "4             1.0    NotOffered  NotOffered          Accepted   \n",
       "\n",
       "  upgrade_membership  \n",
       "0         NotOffered  \n",
       "1         NotOffered  \n",
       "2         NotOffered  \n",
       "3         NotOffered  \n",
       "4         NotOffered  "
      ]
     },
     "execution_count": 54,
     "metadata": {},
     "output_type": "execute_result"
    }
   ],
   "source": [
    "# Creating a New Dataframe for Offer-Related Columns\n",
    "\n",
    "df_offer=raw_df[offer_columns]\n",
    "\n",
    "df_offer.head()"
   ]
  },
  {
   "cell_type": "code",
   "execution_count": 55,
   "id": "b1400173",
   "metadata": {},
   "outputs": [
    {
     "data": {
      "text/plain": [
       "individual_key        float64\n",
       "offer_name             object\n",
       "accepted              float64\n",
       "numofoffers             int64\n",
       "acceptedoffers        float64\n",
       "add_associate          object\n",
       "auto-renew             object\n",
       "offer_protectmyid      object\n",
       "upgrade_membership     object\n",
       "dtype: object"
      ]
     },
     "execution_count": 55,
     "metadata": {},
     "output_type": "execute_result"
    }
   ],
   "source": [
    "df_offer.dtypes"
   ]
  },
  {
   "cell_type": "code",
   "execution_count": 169,
   "id": "2e6691ca",
   "metadata": {},
   "outputs": [
    {
     "data": {
      "text/plain": [
       "(10481, 9)"
      ]
     },
     "execution_count": 169,
     "metadata": {},
     "output_type": "execute_result"
    }
   ],
   "source": [
    "df_offer.shape"
   ]
  },
  {
   "cell_type": "code",
   "execution_count": 56,
   "id": "db244633",
   "metadata": {
    "scrolled": true
   },
   "outputs": [
    {
     "data": {
      "text/plain": [
       "individual_key        0\n",
       "offer_name            0\n",
       "accepted              0\n",
       "numofoffers           0\n",
       "acceptedoffers        0\n",
       "add_associate         0\n",
       "auto-renew            0\n",
       "offer_protectmyid     0\n",
       "upgrade_membership    0\n",
       "dtype: int64"
      ]
     },
     "execution_count": 56,
     "metadata": {},
     "output_type": "execute_result"
    }
   ],
   "source": [
    "df_offer.isnull().sum()"
   ]
  },
  {
   "cell_type": "code",
   "execution_count": 57,
   "id": "0b01a79e",
   "metadata": {},
   "outputs": [
    {
     "data": {
      "text/plain": [
       "individual_key        6748\n",
       "offer_name               4\n",
       "accepted                 2\n",
       "numofoffers              4\n",
       "acceptedoffers           5\n",
       "add_associate            3\n",
       "auto-renew               3\n",
       "offer_protectmyid        3\n",
       "upgrade_membership       3\n",
       "dtype: int64"
      ]
     },
     "execution_count": 57,
     "metadata": {},
     "output_type": "execute_result"
    }
   ],
   "source": [
    "df_offer.nunique()        "
   ]
  },
  {
   "cell_type": "markdown",
   "id": "1c132946",
   "metadata": {},
   "source": [
    "### Step #2: Cleaning & Exploring the 'Offer Name' Column"
   ]
  },
  {
   "cell_type": "code",
   "execution_count": 58,
   "id": "a6fe8e4d",
   "metadata": {},
   "outputs": [
    {
     "data": {
      "text/plain": [
       "Offer ProtectMyID (PMID)    5782\n",
       "Add Associate               1714\n",
       "Upgrade Membership          1641\n",
       "Auto-Renew                  1344\n",
       "Name: offer_name, dtype: int64"
      ]
     },
     "execution_count": 58,
     "metadata": {},
     "output_type": "execute_result"
    }
   ],
   "source": [
    "df_offer['offer_name'].value_counts()"
   ]
  },
  {
   "cell_type": "code",
   "execution_count": 59,
   "id": "d81459df",
   "metadata": {},
   "outputs": [
    {
     "data": {
      "text/plain": [
       "<AxesSubplot:xlabel='offer_name', ylabel='count'>"
      ]
     },
     "execution_count": 59,
     "metadata": {},
     "output_type": "execute_result"
    },
    {
     "data": {
      "image/png": "[encoded data removed]",
      "text/plain": [
       "<Figure size 640x480 with 1 Axes>"
      ]
     },
     "metadata": {},
     "output_type": "display_data"
    }
   ],
   "source": [
    "sns.countplot(x=\"offer_name\",data=df_offer)"
   ]
  },
  {
   "cell_type": "markdown",
   "id": "47dca674",
   "metadata": {},
   "source": [
    "### Step #3: Cleaning & Exploring the 'Accepted' Column\n"
   ]
  },
  {
   "cell_type": "code",
   "execution_count": 60,
   "id": "5642348c",
   "metadata": {},
   "outputs": [
    {
     "data": {
      "text/plain": [
       "1.0    6460\n",
       "0.0    4021\n",
       "Name: accepted, dtype: int64"
      ]
     },
     "execution_count": 60,
     "metadata": {},
     "output_type": "execute_result"
    }
   ],
   "source": [
    "df_offer['accepted'].value_counts()"
   ]
  },
  {
   "cell_type": "code",
   "execution_count": 61,
   "id": "dfc41e36",
   "metadata": {},
   "outputs": [
    {
     "data": {
      "text/plain": [
       "<AxesSubplot:xlabel='accepted', ylabel='count'>"
      ]
     },
     "execution_count": 61,
     "metadata": {},
     "output_type": "execute_result"
    },
    {
     "data": {
      "image/png": "[encoded data removed]",
      "text/plain": [
       "<Figure size 640x480 with 1 Axes>"
      ]
     },
     "metadata": {},
     "output_type": "display_data"
    }
   ],
   "source": [
    "sns.countplot(x=\"accepted\",data=df_offer)"
   ]
  },
  {
   "cell_type": "markdown",
   "id": "f5445677",
   "metadata": {},
   "source": [
    "### Step #4: Cleaning & Exploring the 'Num of Offers' Column\n"
   ]
  },
  {
   "cell_type": "code",
   "execution_count": 62,
   "id": "902109eb",
   "metadata": {},
   "outputs": [
    {
     "data": {
      "text/plain": [
       "1    4670\n",
       "3    2241\n",
       "4    1816\n",
       "2    1754\n",
       "Name: numofoffers, dtype: int64"
      ]
     },
     "execution_count": 62,
     "metadata": {},
     "output_type": "execute_result"
    }
   ],
   "source": [
    "df_offer['numofoffers'].value_counts()"
   ]
  },
  {
   "cell_type": "code",
   "execution_count": 63,
   "id": "277dbee1",
   "metadata": {},
   "outputs": [
    {
     "data": {
      "text/plain": [
       "<AxesSubplot:xlabel='numofoffers', ylabel='count'>"
      ]
     },
     "execution_count": 63,
     "metadata": {},
     "output_type": "execute_result"
    },
    {
     "data": {
      "image/png": "[encoded data removed]",
      "text/plain": [
       "<Figure size 640x480 with 1 Axes>"
      ]
     },
     "metadata": {},
     "output_type": "display_data"
    }
   ],
   "source": [
    "sns.countplot(x=\"numofoffers\",data=df_offer)"
   ]
  },
  {
   "cell_type": "markdown",
   "id": "00b787ad",
   "metadata": {},
   "source": [
    "### Step #5: Cleaning & Exploring the 'Accepted Offers' Column"
   ]
  },
  {
   "cell_type": "code",
   "execution_count": 64,
   "id": "6f9a5287",
   "metadata": {},
   "outputs": [
    {
     "data": {
      "text/plain": [
       "1.0    6583\n",
       "0.0    2303\n",
       "2.0    1211\n",
       "3.0     348\n",
       "4.0      36\n",
       "Name: acceptedoffers, dtype: int64"
      ]
     },
     "execution_count": 64,
     "metadata": {},
     "output_type": "execute_result"
    }
   ],
   "source": [
    "df_offer['acceptedoffers'].value_counts()"
   ]
  },
  {
   "cell_type": "code",
   "execution_count": 65,
   "id": "2f08b190",
   "metadata": {},
   "outputs": [
    {
     "data": {
      "text/plain": [
       "<AxesSubplot:xlabel='acceptedoffers', ylabel='count'>"
      ]
     },
     "execution_count": 65,
     "metadata": {},
     "output_type": "execute_result"
    },
    {
     "data": {
      "image/png": "[encoded data removed]",
      "text/plain": [
       "<Figure size 640x480 with 1 Axes>"
      ]
     },
     "metadata": {},
     "output_type": "display_data"
    }
   ],
   "source": [
    "sns.countplot(x=\"acceptedoffers\",data=df_offer)"
   ]
  },
  {
   "cell_type": "markdown",
   "id": "105c9f62",
   "metadata": {},
   "source": [
    "### Step #6: Cleaning & Exploring the 'Add Associate' Column"
   ]
  },
  {
   "cell_type": "code",
   "execution_count": 66,
   "id": "cd372446",
   "metadata": {},
   "outputs": [
    {
     "data": {
      "text/plain": [
       "NotOffered     5665\n",
       "NotAccepted    3934\n",
       "Accepted        882\n",
       "Name: add_associate, dtype: int64"
      ]
     },
     "execution_count": 66,
     "metadata": {},
     "output_type": "execute_result"
    }
   ],
   "source": [
    "df_offer['add_associate'].value_counts()"
   ]
  },
  {
   "cell_type": "code",
   "execution_count": 67,
   "id": "a1920006",
   "metadata": {},
   "outputs": [
    {
     "data": {
      "text/plain": [
       "<AxesSubplot:xlabel='acceptedoffers', ylabel='count'>"
      ]
     },
     "execution_count": 67,
     "metadata": {},
     "output_type": "execute_result"
    },
    {
     "data": {
      "image/png": "[encoded data removed]",
      "text/plain": [
       "<Figure size 640x480 with 1 Axes>"
      ]
     },
     "metadata": {},
     "output_type": "display_data"
    }
   ],
   "source": [
    "sns.countplot(x=\"acceptedoffers\",data=df_offer)"
   ]
  },
  {
   "cell_type": "markdown",
   "id": "42911449",
   "metadata": {},
   "source": [
    "### Step #7: Cleaning & Exploring the 'Auto Renew' Column"
   ]
  },
  {
   "cell_type": "code",
   "execution_count": 68,
   "id": "83d1c5b4",
   "metadata": {},
   "outputs": [
    {
     "data": {
      "text/plain": [
       "NotOffered     6780\n",
       "NotAccepted    2755\n",
       "Accepted        946\n",
       "Name: auto-renew, dtype: int64"
      ]
     },
     "execution_count": 68,
     "metadata": {},
     "output_type": "execute_result"
    }
   ],
   "source": [
    "df_offer['auto-renew'].value_counts()"
   ]
  },
  {
   "cell_type": "code",
   "execution_count": 69,
   "id": "14822929",
   "metadata": {},
   "outputs": [
    {
     "data": {
      "text/plain": [
       "<AxesSubplot:xlabel='auto-renew', ylabel='count'>"
      ]
     },
     "execution_count": 69,
     "metadata": {},
     "output_type": "execute_result"
    },
    {
     "data": {
      "image/png": "[encoded data removed]",
      "text/plain": [
       "<Figure size 640x480 with 1 Axes>"
      ]
     },
     "metadata": {},
     "output_type": "display_data"
    }
   ],
   "source": [
    "sns.countplot(x=\"auto-renew\",data=df_offer)"
   ]
  },
  {
   "cell_type": "markdown",
   "id": "7ffe22d3",
   "metadata": {},
   "source": [
    "### Step #8: Cleaning & Exploring the 'Protect My Id' Column"
   ]
  },
  {
   "cell_type": "code",
   "execution_count": 70,
   "id": "15529e39",
   "metadata": {},
   "outputs": [
    {
     "data": {
      "text/plain": [
       "Accepted       7391\n",
       "NotOffered     1562\n",
       "NotAccepted    1528\n",
       "Name: offer_protectmyid, dtype: int64"
      ]
     },
     "execution_count": 70,
     "metadata": {},
     "output_type": "execute_result"
    }
   ],
   "source": [
    "df_offer['offer_protectmyid'].value_counts()"
   ]
  },
  {
   "cell_type": "code",
   "execution_count": 71,
   "id": "d0078454",
   "metadata": {},
   "outputs": [
    {
     "data": {
      "text/plain": [
       "<AxesSubplot:xlabel='offer_protectmyid', ylabel='count'>"
      ]
     },
     "execution_count": 71,
     "metadata": {},
     "output_type": "execute_result"
    },
    {
     "data": {
      "image/png": "[encoded data removed]",
      "text/plain": [
       "<Figure size 640x480 with 1 Axes>"
      ]
     },
     "metadata": {},
     "output_type": "display_data"
    }
   ],
   "source": [
    "sns.countplot(x=\"offer_protectmyid\",data=df_offer)"
   ]
  },
  {
   "cell_type": "markdown",
   "id": "90fdbe02",
   "metadata": {},
   "source": [
    "### Step #9: Cleaning & Exploring the 'Upgrade Membership' Column"
   ]
  },
  {
   "cell_type": "code",
   "execution_count": 72,
   "id": "856052e9",
   "metadata": {},
   "outputs": [
    {
     "data": {
      "text/plain": [
       "NotOffered     5766\n",
       "NotAccepted    3751\n",
       "Accepted        964\n",
       "Name: upgrade_membership, dtype: int64"
      ]
     },
     "execution_count": 72,
     "metadata": {},
     "output_type": "execute_result"
    }
   ],
   "source": [
    "df_offer['upgrade_membership'].value_counts()"
   ]
  },
  {
   "cell_type": "code",
   "execution_count": 73,
   "id": "519ddd9c",
   "metadata": {},
   "outputs": [
    {
     "data": {
      "text/plain": [
       "<AxesSubplot:xlabel='upgrade_membership', ylabel='count'>"
      ]
     },
     "execution_count": 73,
     "metadata": {},
     "output_type": "execute_result"
    },
    {
     "data": {
      "image/png": "[encoded data removed]",
      "text/plain": [
       "<Figure size 640x480 with 1 Axes>"
      ]
     },
     "metadata": {},
     "output_type": "display_data"
    }
   ],
   "source": [
    "sns.countplot(x=\"upgrade_membership\",data=df_offer)"
   ]
  },
  {
   "cell_type": "markdown",
   "id": "6681d828",
   "metadata": {},
   "source": [
    "### Step #10: Exploring Between 'Accepted' Column and Other Offer-Related Columns"
   ]
  },
  {
   "cell_type": "code",
   "execution_count": 74,
   "id": "8715a121",
   "metadata": {},
   "outputs": [
    {
     "data": {
      "text/plain": [
       "offer_name\n",
       "Add Associate               0.220537\n",
       "Auto-Renew                  0.319940\n",
       "Offer ProtectMyID (PMID)    0.910066\n",
       "Upgrade Membership          0.237660\n",
       "Name: accepted, dtype: float64"
      ]
     },
     "execution_count": 74,
     "metadata": {},
     "output_type": "execute_result"
    }
   ],
   "source": [
    "df_offer.groupby('offer_name')['accepted'].mean()"
   ]
  },
  {
   "cell_type": "code",
   "execution_count": 75,
   "id": "a22ab127",
   "metadata": {
    "scrolled": true
   },
   "outputs": [
    {
     "data": {
      "text/plain": [
       "<AxesSubplot:xlabel='offer_name', ylabel='accepted'>"
      ]
     },
     "execution_count": 75,
     "metadata": {},
     "output_type": "execute_result"
    },
    {
     "data": {
      "image/png": "[encoded data removed]",
      "text/plain": [
       "<Figure size 640x480 with 1 Axes>"
      ]
     },
     "metadata": {},
     "output_type": "display_data"
    }
   ],
   "source": [
    "sns.barplot(x=\"offer_name\", y=\"accepted\", data=df_offer)"
   ]
  },
  {
   "cell_type": "code",
   "execution_count": 76,
   "id": "7e8bb995",
   "metadata": {},
   "outputs": [
    {
     "data": {
      "text/plain": [
       "numofoffers\n",
       "1    0.926124\n",
       "2    0.543330\n",
       "3    0.341812\n",
       "4    0.229075\n",
       "Name: accepted, dtype: float64"
      ]
     },
     "execution_count": 76,
     "metadata": {},
     "output_type": "execute_result"
    }
   ],
   "source": [
    "df_offer.groupby('numofoffers')['accepted'].mean()"
   ]
  },
  {
   "cell_type": "code",
   "execution_count": 77,
   "id": "e6579f36",
   "metadata": {},
   "outputs": [
    {
     "data": {
      "text/plain": [
       "<AxesSubplot:xlabel='numofoffers', ylabel='accepted'>"
      ]
     },
     "execution_count": 77,
     "metadata": {},
     "output_type": "execute_result"
    },
    {
     "data": {
      "image/png": "[encoded data removed]",
      "text/plain": [
       "<Figure size 640x480 with 1 Axes>"
      ]
     },
     "metadata": {},
     "output_type": "display_data"
    }
   ],
   "source": [
    "sns.barplot(x=\"numofoffers\", y=\"accepted\", data=df_offer)"
   ]
  },
  {
   "cell_type": "markdown",
   "id": "6106b20f",
   "metadata": {},
   "source": [
    "## Other Potentially Important Columns\n",
    "\n",
    "### Cleaning & Initial Exploration"
   ]
  },
  {
   "cell_type": "markdown",
   "id": "48c7f0b8",
   "metadata": {},
   "source": [
    "### Step #1: Determing Data Types, # of Null Values, # of Unique Values"
   ]
  },
  {
   "cell_type": "code",
   "execution_count": 78,
   "id": "7ac730bf",
   "metadata": {},
   "outputs": [
    {
     "data": {
      "text/html": [
       "<div>\n",
       "<style scoped>\n",
       "    .dataframe tbody tr th:only-of-type {\n",
       "        vertical-align: middle;\n",
       "    }\n",
       "\n",
       "    .dataframe tbody tr th {\n",
       "        vertical-align: top;\n",
       "    }\n",
       "\n",
       "    .dataframe thead th {\n",
       "        text-align: right;\n",
       "    }\n",
       "</style>\n",
       "<table border=\"1\" class=\"dataframe\">\n",
       "  <thead>\n",
       "    <tr style=\"text-align: right;\">\n",
       "      <th></th>\n",
       "      <th>individual_key</th>\n",
       "      <th>offer_name</th>\n",
       "      <th>accepted</th>\n",
       "      <th>active_member_count</th>\n",
       "      <th>age</th>\n",
       "      <th>auto_in_the_markek_new</th>\n",
       "      <th>auto_in_the_market_used</th>\n",
       "      <th>business_owner</th>\n",
       "      <th>children</th>\n",
       "      <th>children__presence_of_child_0-18</th>\n",
       "      <th>...</th>\n",
       "      <th>member_type</th>\n",
       "      <th>renew_method</th>\n",
       "      <th>state</th>\n",
       "      <th>numofoffers</th>\n",
       "      <th>acceptedoffers</th>\n",
       "      <th>add_associate</th>\n",
       "      <th>auto-renew</th>\n",
       "      <th>offer_protectmyid</th>\n",
       "      <th>upgrade_membership</th>\n",
       "      <th>Average_Member_yrcost</th>\n",
       "    </tr>\n",
       "  </thead>\n",
       "  <tbody>\n",
       "    <tr>\n",
       "      <th>0</th>\n",
       "      <td>15294.0</td>\n",
       "      <td>Offer ProtectMyID (PMID)</td>\n",
       "      <td>1.0</td>\n",
       "      <td>1.0</td>\n",
       "      <td>31.0</td>\n",
       "      <td>Extremely Unlikely</td>\n",
       "      <td>Extremely Unlikely</td>\n",
       "      <td>Unknown</td>\n",
       "      <td>No</td>\n",
       "      <td>Not likely to have a child</td>\n",
       "      <td>...</td>\n",
       "      <td>Primary</td>\n",
       "      <td>NOTICE</td>\n",
       "      <td>MA</td>\n",
       "      <td>1</td>\n",
       "      <td>1.0</td>\n",
       "      <td>NotOffered</td>\n",
       "      <td>NotOffered</td>\n",
       "      <td>Accepted</td>\n",
       "      <td>NotOffered</td>\n",
       "      <td>145.290000</td>\n",
       "    </tr>\n",
       "    <tr>\n",
       "      <th>1</th>\n",
       "      <td>16996.0</td>\n",
       "      <td>Offer ProtectMyID (PMID)</td>\n",
       "      <td>0.0</td>\n",
       "      <td>1.0</td>\n",
       "      <td>21.0</td>\n",
       "      <td>NaN</td>\n",
       "      <td>NaN</td>\n",
       "      <td>NaN</td>\n",
       "      <td>No</td>\n",
       "      <td>NaN</td>\n",
       "      <td>...</td>\n",
       "      <td>Associate</td>\n",
       "      <td>AUTO RENEW</td>\n",
       "      <td>MA</td>\n",
       "      <td>1</td>\n",
       "      <td>0.0</td>\n",
       "      <td>NotOffered</td>\n",
       "      <td>NotOffered</td>\n",
       "      <td>NotAccepted</td>\n",
       "      <td>NotOffered</td>\n",
       "      <td>10.456667</td>\n",
       "    </tr>\n",
       "    <tr>\n",
       "      <th>2</th>\n",
       "      <td>18708.0</td>\n",
       "      <td>Offer ProtectMyID (PMID)</td>\n",
       "      <td>1.0</td>\n",
       "      <td>1.0</td>\n",
       "      <td>54.0</td>\n",
       "      <td>Somewhat Likely</td>\n",
       "      <td>Likely</td>\n",
       "      <td>Unknown</td>\n",
       "      <td>Yes</td>\n",
       "      <td>Not likely to have a child</td>\n",
       "      <td>...</td>\n",
       "      <td>Primary</td>\n",
       "      <td>AUTO RENEW</td>\n",
       "      <td>MA</td>\n",
       "      <td>1</td>\n",
       "      <td>1.0</td>\n",
       "      <td>NotOffered</td>\n",
       "      <td>NotOffered</td>\n",
       "      <td>Accepted</td>\n",
       "      <td>NotOffered</td>\n",
       "      <td>10.000000</td>\n",
       "    </tr>\n",
       "    <tr>\n",
       "      <th>3</th>\n",
       "      <td>19350.0</td>\n",
       "      <td>Offer ProtectMyID (PMID)</td>\n",
       "      <td>1.0</td>\n",
       "      <td>1.0</td>\n",
       "      <td>58.0</td>\n",
       "      <td>Likely</td>\n",
       "      <td>Extremely Unlikely</td>\n",
       "      <td>Unknown</td>\n",
       "      <td>NaN</td>\n",
       "      <td>Not likely to have a child</td>\n",
       "      <td>...</td>\n",
       "      <td>Associate</td>\n",
       "      <td>NOTICE</td>\n",
       "      <td>MA</td>\n",
       "      <td>1</td>\n",
       "      <td>1.0</td>\n",
       "      <td>NotOffered</td>\n",
       "      <td>NotOffered</td>\n",
       "      <td>Accepted</td>\n",
       "      <td>NotOffered</td>\n",
       "      <td>148.166667</td>\n",
       "    </tr>\n",
       "    <tr>\n",
       "      <th>4</th>\n",
       "      <td>35518.0</td>\n",
       "      <td>Offer ProtectMyID (PMID)</td>\n",
       "      <td>1.0</td>\n",
       "      <td>1.0</td>\n",
       "      <td>0.0</td>\n",
       "      <td>NaN</td>\n",
       "      <td>NaN</td>\n",
       "      <td>Unknown</td>\n",
       "      <td>Yes</td>\n",
       "      <td>NaN</td>\n",
       "      <td>...</td>\n",
       "      <td>Primary</td>\n",
       "      <td>NOTICE</td>\n",
       "      <td>RI</td>\n",
       "      <td>1</td>\n",
       "      <td>1.0</td>\n",
       "      <td>NotOffered</td>\n",
       "      <td>NotOffered</td>\n",
       "      <td>Accepted</td>\n",
       "      <td>NotOffered</td>\n",
       "      <td>0.000000</td>\n",
       "    </tr>\n",
       "    <tr>\n",
       "      <th>...</th>\n",
       "      <td>...</td>\n",
       "      <td>...</td>\n",
       "      <td>...</td>\n",
       "      <td>...</td>\n",
       "      <td>...</td>\n",
       "      <td>...</td>\n",
       "      <td>...</td>\n",
       "      <td>...</td>\n",
       "      <td>...</td>\n",
       "      <td>...</td>\n",
       "      <td>...</td>\n",
       "      <td>...</td>\n",
       "      <td>...</td>\n",
       "      <td>...</td>\n",
       "      <td>...</td>\n",
       "      <td>...</td>\n",
       "      <td>...</td>\n",
       "      <td>...</td>\n",
       "      <td>...</td>\n",
       "      <td>...</td>\n",
       "      <td>...</td>\n",
       "    </tr>\n",
       "    <tr>\n",
       "      <th>10476</th>\n",
       "      <td>273104640.0</td>\n",
       "      <td>Offer ProtectMyID (PMID)</td>\n",
       "      <td>1.0</td>\n",
       "      <td>1.0</td>\n",
       "      <td>58.0</td>\n",
       "      <td>Extremely Likely</td>\n",
       "      <td>Extremely Likely</td>\n",
       "      <td>NaN</td>\n",
       "      <td>NaN</td>\n",
       "      <td>Known data</td>\n",
       "      <td>...</td>\n",
       "      <td>Primary</td>\n",
       "      <td>NOTICE</td>\n",
       "      <td>NY</td>\n",
       "      <td>1</td>\n",
       "      <td>1.0</td>\n",
       "      <td>NotOffered</td>\n",
       "      <td>NotOffered</td>\n",
       "      <td>Accepted</td>\n",
       "      <td>NotOffered</td>\n",
       "      <td>17.743333</td>\n",
       "    </tr>\n",
       "    <tr>\n",
       "      <th>10477</th>\n",
       "      <td>273106913.0</td>\n",
       "      <td>Add Associate</td>\n",
       "      <td>0.0</td>\n",
       "      <td>1.0</td>\n",
       "      <td>58.0</td>\n",
       "      <td>Likely</td>\n",
       "      <td>Extremely Unlikely</td>\n",
       "      <td>NaN</td>\n",
       "      <td>NaN</td>\n",
       "      <td>Not likely to have a child</td>\n",
       "      <td>...</td>\n",
       "      <td>Primary</td>\n",
       "      <td>NOTICE</td>\n",
       "      <td>NJ</td>\n",
       "      <td>3</td>\n",
       "      <td>1.0</td>\n",
       "      <td>NotAccepted</td>\n",
       "      <td>NotAccepted</td>\n",
       "      <td>Accepted</td>\n",
       "      <td>NotOffered</td>\n",
       "      <td>0.000000</td>\n",
       "    </tr>\n",
       "    <tr>\n",
       "      <th>10478</th>\n",
       "      <td>273106913.0</td>\n",
       "      <td>Auto-Renew</td>\n",
       "      <td>0.0</td>\n",
       "      <td>1.0</td>\n",
       "      <td>58.0</td>\n",
       "      <td>Likely</td>\n",
       "      <td>Extremely Unlikely</td>\n",
       "      <td>NaN</td>\n",
       "      <td>NaN</td>\n",
       "      <td>Not likely to have a child</td>\n",
       "      <td>...</td>\n",
       "      <td>Primary</td>\n",
       "      <td>NOTICE</td>\n",
       "      <td>NJ</td>\n",
       "      <td>3</td>\n",
       "      <td>1.0</td>\n",
       "      <td>NotAccepted</td>\n",
       "      <td>NotAccepted</td>\n",
       "      <td>Accepted</td>\n",
       "      <td>NotOffered</td>\n",
       "      <td>0.000000</td>\n",
       "    </tr>\n",
       "    <tr>\n",
       "      <th>10479</th>\n",
       "      <td>273106913.0</td>\n",
       "      <td>Offer ProtectMyID (PMID)</td>\n",
       "      <td>1.0</td>\n",
       "      <td>1.0</td>\n",
       "      <td>58.0</td>\n",
       "      <td>Likely</td>\n",
       "      <td>Extremely Unlikely</td>\n",
       "      <td>NaN</td>\n",
       "      <td>NaN</td>\n",
       "      <td>Not likely to have a child</td>\n",
       "      <td>...</td>\n",
       "      <td>Primary</td>\n",
       "      <td>NOTICE</td>\n",
       "      <td>NJ</td>\n",
       "      <td>3</td>\n",
       "      <td>1.0</td>\n",
       "      <td>NotAccepted</td>\n",
       "      <td>NotAccepted</td>\n",
       "      <td>Accepted</td>\n",
       "      <td>NotOffered</td>\n",
       "      <td>0.000000</td>\n",
       "    </tr>\n",
       "    <tr>\n",
       "      <th>10480</th>\n",
       "      <td>273113817.0</td>\n",
       "      <td>Offer ProtectMyID (PMID)</td>\n",
       "      <td>1.0</td>\n",
       "      <td>0.0</td>\n",
       "      <td>58.0</td>\n",
       "      <td>Somewhat Likely</td>\n",
       "      <td>Likely</td>\n",
       "      <td>NaN</td>\n",
       "      <td>NaN</td>\n",
       "      <td>Modeled likely to have a child</td>\n",
       "      <td>...</td>\n",
       "      <td>NaN</td>\n",
       "      <td>NaN</td>\n",
       "      <td>NaN</td>\n",
       "      <td>1</td>\n",
       "      <td>1.0</td>\n",
       "      <td>NotOffered</td>\n",
       "      <td>NotOffered</td>\n",
       "      <td>Accepted</td>\n",
       "      <td>NotOffered</td>\n",
       "      <td>0.000000</td>\n",
       "    </tr>\n",
       "  </tbody>\n",
       "</table>\n",
       "<p>10481 rows × 91 columns</p>\n",
       "</div>"
      ],
      "text/plain": [
       "       individual_key                offer_name  accepted  \\\n",
       "0             15294.0  Offer ProtectMyID (PMID)       1.0   \n",
       "1             16996.0  Offer ProtectMyID (PMID)       0.0   \n",
       "2             18708.0  Offer ProtectMyID (PMID)       1.0   \n",
       "3             19350.0  Offer ProtectMyID (PMID)       1.0   \n",
       "4             35518.0  Offer ProtectMyID (PMID)       1.0   \n",
       "...               ...                       ...       ...   \n",
       "10476     273104640.0  Offer ProtectMyID (PMID)       1.0   \n",
       "10477     273106913.0             Add Associate       0.0   \n",
       "10478     273106913.0                Auto-Renew       0.0   \n",
       "10479     273106913.0  Offer ProtectMyID (PMID)       1.0   \n",
       "10480     273113817.0  Offer ProtectMyID (PMID)       1.0   \n",
       "\n",
       "       active_member_count   age auto_in_the_markek_new  \\\n",
       "0                      1.0  31.0     Extremely Unlikely   \n",
       "1                      1.0  21.0                    NaN   \n",
       "2                      1.0  54.0        Somewhat Likely   \n",
       "3                      1.0  58.0                 Likely   \n",
       "4                      1.0   0.0                    NaN   \n",
       "...                    ...   ...                    ...   \n",
       "10476                  1.0  58.0       Extremely Likely   \n",
       "10477                  1.0  58.0                 Likely   \n",
       "10478                  1.0  58.0                 Likely   \n",
       "10479                  1.0  58.0                 Likely   \n",
       "10480                  0.0  58.0        Somewhat Likely   \n",
       "\n",
       "      auto_in_the_market_used business_owner children  \\\n",
       "0          Extremely Unlikely        Unknown       No   \n",
       "1                         NaN            NaN       No   \n",
       "2                      Likely        Unknown      Yes   \n",
       "3          Extremely Unlikely        Unknown      NaN   \n",
       "4                         NaN        Unknown      Yes   \n",
       "...                       ...            ...      ...   \n",
       "10476        Extremely Likely            NaN      NaN   \n",
       "10477      Extremely Unlikely            NaN      NaN   \n",
       "10478      Extremely Unlikely            NaN      NaN   \n",
       "10479      Extremely Unlikely            NaN      NaN   \n",
       "10480                  Likely            NaN      NaN   \n",
       "\n",
       "      children__presence_of_child_0-18  ... member_type  renew_method state  \\\n",
       "0           Not likely to have a child  ...     Primary        NOTICE    MA   \n",
       "1                                  NaN  ...   Associate    AUTO RENEW    MA   \n",
       "2           Not likely to have a child  ...     Primary    AUTO RENEW    MA   \n",
       "3           Not likely to have a child  ...   Associate        NOTICE    MA   \n",
       "4                                  NaN  ...     Primary        NOTICE    RI   \n",
       "...                                ...  ...         ...           ...   ...   \n",
       "10476                       Known data  ...     Primary        NOTICE    NY   \n",
       "10477       Not likely to have a child  ...     Primary        NOTICE    NJ   \n",
       "10478       Not likely to have a child  ...     Primary        NOTICE    NJ   \n",
       "10479       Not likely to have a child  ...     Primary        NOTICE    NJ   \n",
       "10480   Modeled likely to have a child  ...         NaN           NaN   NaN   \n",
       "\n",
       "      numofoffers  acceptedoffers  add_associate   auto-renew  \\\n",
       "0               1             1.0     NotOffered   NotOffered   \n",
       "1               1             0.0     NotOffered   NotOffered   \n",
       "2               1             1.0     NotOffered   NotOffered   \n",
       "3               1             1.0     NotOffered   NotOffered   \n",
       "4               1             1.0     NotOffered   NotOffered   \n",
       "...           ...             ...            ...          ...   \n",
       "10476           1             1.0     NotOffered   NotOffered   \n",
       "10477           3             1.0    NotAccepted  NotAccepted   \n",
       "10478           3             1.0    NotAccepted  NotAccepted   \n",
       "10479           3             1.0    NotAccepted  NotAccepted   \n",
       "10480           1             1.0     NotOffered   NotOffered   \n",
       "\n",
       "       offer_protectmyid  upgrade_membership  Average_Member_yrcost  \n",
       "0               Accepted          NotOffered             145.290000  \n",
       "1            NotAccepted          NotOffered              10.456667  \n",
       "2               Accepted          NotOffered              10.000000  \n",
       "3               Accepted          NotOffered             148.166667  \n",
       "4               Accepted          NotOffered               0.000000  \n",
       "...                  ...                 ...                    ...  \n",
       "10476           Accepted          NotOffered              17.743333  \n",
       "10477           Accepted          NotOffered               0.000000  \n",
       "10478           Accepted          NotOffered               0.000000  \n",
       "10479           Accepted          NotOffered               0.000000  \n",
       "10480           Accepted          NotOffered               0.000000  \n",
       "\n",
       "[10481 rows x 91 columns]"
      ]
     },
     "execution_count": 78,
     "metadata": {},
     "output_type": "execute_result"
    }
   ],
   "source": [
    "raw_df['Average_Member_yrcost'] = raw_df[['ers_member_cost_year_1','ers_member_cost_year_2', 'ers_member_cost_year_3']].mean(axis=1)\n",
    "raw_df"
   ]
  },
  {
   "cell_type": "code",
   "execution_count": 79,
   "id": "50a90b7d",
   "metadata": {},
   "outputs": [],
   "source": [
    "# Seperating Out Other Potentially Important Columns \n",
    "\n",
    "other_columns = ['individual_key', 'business_owner', 'consumerview_profitability_score', 'count_clicks_or_opens',\n",
    "                 'credit_ranges',   'donor_flag', 'drv_driving_school_flag', 'occupation_group', \n",
    "                 'member_tenure_years','member_type', 'Average_Member_yrcost'\n",
    "                      ]"
   ]
  },
  {
   "cell_type": "code",
   "execution_count": 80,
   "id": "fb9ab6eb",
   "metadata": {
    "scrolled": true
   },
   "outputs": [
    {
     "data": {
      "text/html": [
       "<div>\n",
       "<style scoped>\n",
       "    .dataframe tbody tr th:only-of-type {\n",
       "        vertical-align: middle;\n",
       "    }\n",
       "\n",
       "    .dataframe tbody tr th {\n",
       "        vertical-align: top;\n",
       "    }\n",
       "\n",
       "    .dataframe thead th {\n",
       "        text-align: right;\n",
       "    }\n",
       "</style>\n",
       "<table border=\"1\" class=\"dataframe\">\n",
       "  <thead>\n",
       "    <tr style=\"text-align: right;\">\n",
       "      <th></th>\n",
       "      <th>individual_key</th>\n",
       "      <th>business_owner</th>\n",
       "      <th>consumerview_profitability_score</th>\n",
       "      <th>count_clicks_or_opens</th>\n",
       "      <th>credit_ranges</th>\n",
       "      <th>donor_flag</th>\n",
       "      <th>drv_driving_school_flag</th>\n",
       "      <th>occupation_group</th>\n",
       "      <th>member_tenure_years</th>\n",
       "      <th>member_type</th>\n",
       "      <th>Average_Member_yrcost</th>\n",
       "    </tr>\n",
       "  </thead>\n",
       "  <tbody>\n",
       "    <tr>\n",
       "      <th>0</th>\n",
       "      <td>15294.0</td>\n",
       "      <td>Unknown</td>\n",
       "      <td>Fair Profitability, Medium Likelihood to Perform</td>\n",
       "      <td>0.0</td>\n",
       "      <td>7</td>\n",
       "      <td>False</td>\n",
       "      <td>N</td>\n",
       "      <td>Other</td>\n",
       "      <td>7.0</td>\n",
       "      <td>Primary</td>\n",
       "      <td>145.290000</td>\n",
       "    </tr>\n",
       "    <tr>\n",
       "      <th>1</th>\n",
       "      <td>16996.0</td>\n",
       "      <td>NaN</td>\n",
       "      <td>NaN</td>\n",
       "      <td>2.0</td>\n",
       "      <td>5</td>\n",
       "      <td>False</td>\n",
       "      <td>N</td>\n",
       "      <td>NaN</td>\n",
       "      <td>7.0</td>\n",
       "      <td>Associate</td>\n",
       "      <td>10.456667</td>\n",
       "    </tr>\n",
       "    <tr>\n",
       "      <th>2</th>\n",
       "      <td>18708.0</td>\n",
       "      <td>Unknown</td>\n",
       "      <td>High Profitability, High Likelihood to Perform</td>\n",
       "      <td>0.0</td>\n",
       "      <td>7</td>\n",
       "      <td>False</td>\n",
       "      <td>N</td>\n",
       "      <td>Professional</td>\n",
       "      <td>23.0</td>\n",
       "      <td>Primary</td>\n",
       "      <td>10.000000</td>\n",
       "    </tr>\n",
       "    <tr>\n",
       "      <th>3</th>\n",
       "      <td>19350.0</td>\n",
       "      <td>Unknown</td>\n",
       "      <td>High Profitability, High Likelihood to Perform</td>\n",
       "      <td>0.0</td>\n",
       "      <td>4</td>\n",
       "      <td>False</td>\n",
       "      <td>N</td>\n",
       "      <td>Technical</td>\n",
       "      <td>24.0</td>\n",
       "      <td>Associate</td>\n",
       "      <td>148.166667</td>\n",
       "    </tr>\n",
       "    <tr>\n",
       "      <th>4</th>\n",
       "      <td>35518.0</td>\n",
       "      <td>Unknown</td>\n",
       "      <td>NaN</td>\n",
       "      <td>0.0</td>\n",
       "      <td>5</td>\n",
       "      <td>False</td>\n",
       "      <td>N</td>\n",
       "      <td>Blue Collar</td>\n",
       "      <td>0.0</td>\n",
       "      <td>Primary</td>\n",
       "      <td>0.000000</td>\n",
       "    </tr>\n",
       "  </tbody>\n",
       "</table>\n",
       "</div>"
      ],
      "text/plain": [
       "   individual_key business_owner  \\\n",
       "0         15294.0        Unknown   \n",
       "1         16996.0            NaN   \n",
       "2         18708.0        Unknown   \n",
       "3         19350.0        Unknown   \n",
       "4         35518.0        Unknown   \n",
       "\n",
       "                   consumerview_profitability_score  count_clicks_or_opens  \\\n",
       "0  Fair Profitability, Medium Likelihood to Perform                    0.0   \n",
       "1                                               NaN                    2.0   \n",
       "2    High Profitability, High Likelihood to Perform                    0.0   \n",
       "3    High Profitability, High Likelihood to Perform                    0.0   \n",
       "4                                               NaN                    0.0   \n",
       "\n",
       "   credit_ranges  donor_flag drv_driving_school_flag occupation_group  \\\n",
       "0              7       False                       N            Other   \n",
       "1              5       False                       N              NaN   \n",
       "2              7       False                       N     Professional   \n",
       "3              4       False                       N        Technical   \n",
       "4              5       False                       N      Blue Collar   \n",
       "\n",
       "   member_tenure_years member_type  Average_Member_yrcost  \n",
       "0                  7.0     Primary             145.290000  \n",
       "1                  7.0   Associate              10.456667  \n",
       "2                 23.0     Primary              10.000000  \n",
       "3                 24.0   Associate             148.166667  \n",
       "4                  0.0     Primary               0.000000  "
      ]
     },
     "execution_count": 80,
     "metadata": {},
     "output_type": "execute_result"
    }
   ],
   "source": [
    "# Creating a New Dataframe for Other Columns\n",
    "\n",
    "df_other=raw_df[other_columns]\n",
    "\n",
    "df_other.head()"
   ]
  },
  {
   "cell_type": "code",
   "execution_count": 81,
   "id": "8585811b",
   "metadata": {},
   "outputs": [
    {
     "data": {
      "text/plain": [
       "individual_key                      float64\n",
       "business_owner                       object\n",
       "consumerview_profitability_score     object\n",
       "count_clicks_or_opens               float64\n",
       "credit_ranges                         int64\n",
       "donor_flag                             bool\n",
       "drv_driving_school_flag              object\n",
       "occupation_group                     object\n",
       "member_tenure_years                 float64\n",
       "member_type                          object\n",
       "Average_Member_yrcost               float64\n",
       "dtype: object"
      ]
     },
     "execution_count": 81,
     "metadata": {},
     "output_type": "execute_result"
    }
   ],
   "source": [
    "df_other.dtypes"
   ]
  },
  {
   "cell_type": "code",
   "execution_count": 82,
   "id": "8c9b5774",
   "metadata": {},
   "outputs": [
    {
     "data": {
      "text/plain": [
       "individual_key                         0\n",
       "business_owner                      4487\n",
       "consumerview_profitability_score    2202\n",
       "count_clicks_or_opens                  0\n",
       "credit_ranges                          0\n",
       "donor_flag                             0\n",
       "drv_driving_school_flag                0\n",
       "occupation_group                    4487\n",
       "member_tenure_years                    0\n",
       "member_type                         1554\n",
       "Average_Member_yrcost                  0\n",
       "dtype: int64"
      ]
     },
     "execution_count": 82,
     "metadata": {},
     "output_type": "execute_result"
    }
   ],
   "source": [
    "df_other.isnull().sum()"
   ]
  },
  {
   "cell_type": "markdown",
   "id": "1c81e96a",
   "metadata": {},
   "source": [
    "### Step #2: Cleaning & Exploring the 'Business Owner' Column"
   ]
  },
  {
   "cell_type": "code",
   "execution_count": 83,
   "id": "2b71e22e",
   "metadata": {},
   "outputs": [
    {
     "name": "stderr",
     "output_type": "stream",
     "text": [
      "C:\\Users\\student\\AppData\\Local\\Temp\\ipykernel_18656\\1671937907.py:3: SettingWithCopyWarning: \n",
      "A value is trying to be set on a copy of a slice from a DataFrame\n",
      "\n",
      "See the caveats in the documentation: https://pandas.pydata.org/pandas-docs/stable/user_guide/indexing.html#returning-a-view-versus-a-copy\n",
      "  df_other['business_owner'].fillna(\"Unknown\",inplace=True)\n"
     ]
    }
   ],
   "source": [
    "# Replacing Null Values with 'Unknown'\n",
    "\n",
    "df_other['business_owner'].fillna(\"Unknown\",inplace=True)"
   ]
  },
  {
   "cell_type": "code",
   "execution_count": 84,
   "id": "c4eb86f8",
   "metadata": {},
   "outputs": [
    {
     "data": {
      "text/plain": [
       "Unknown    10297\n",
       "Yes          184\n",
       "Name: business_owner, dtype: int64"
      ]
     },
     "execution_count": 84,
     "metadata": {},
     "output_type": "execute_result"
    }
   ],
   "source": [
    "df_other['business_owner'].value_counts()"
   ]
  },
  {
   "cell_type": "code",
   "execution_count": 85,
   "id": "93e8f36a",
   "metadata": {},
   "outputs": [
    {
     "data": {
      "text/plain": [
       "<AxesSubplot:xlabel='business_owner', ylabel='count'>"
      ]
     },
     "execution_count": 85,
     "metadata": {},
     "output_type": "execute_result"
    },
    {
     "data": {
      "image/png": "[encoded data removed]",
      "text/plain": [
       "<Figure size 640x480 with 1 Axes>"
      ]
     },
     "metadata": {},
     "output_type": "display_data"
    }
   ],
   "source": [
    "sns.countplot(x=\"business_owner\",data=df_other)"
   ]
  },
  {
   "cell_type": "markdown",
   "id": "03cb2b6b",
   "metadata": {},
   "source": [
    "### Step #3: Cleaning & Exploring the 'Consumer Profitability Score' Column"
   ]
  },
  {
   "cell_type": "code",
   "execution_count": 86,
   "id": "b73a14eb",
   "metadata": {},
   "outputs": [
    {
     "name": "stderr",
     "output_type": "stream",
     "text": [
      "C:\\Users\\student\\AppData\\Local\\Temp\\ipykernel_18656\\2899000311.py:1: SettingWithCopyWarning: \n",
      "A value is trying to be set on a copy of a slice from a DataFrame\n",
      "\n",
      "See the caveats in the documentation: https://pandas.pydata.org/pandas-docs/stable/user_guide/indexing.html#returning-a-view-versus-a-copy\n",
      "  df_other['consumerview_profitability_score'].fillna(\"Unknown\",inplace=True)\n"
     ]
    }
   ],
   "source": [
    "df_other['consumerview_profitability_score'].fillna(\"Unknown\",inplace=True)"
   ]
  },
  {
   "cell_type": "code",
   "execution_count": 87,
   "id": "1a5ba966",
   "metadata": {},
   "outputs": [
    {
     "data": {
      "text/plain": [
       "High Profitability, High Likelihood to Perform      4869\n",
       "Unknown                                             2202\n",
       "Good Profitability, Medium Likelihood to Perform    1651\n",
       "Fair Profitability, Medium Likelihood to Perform    1218\n",
       "Poor Profitability, Unlikely to Perform              541\n",
       "Name: consumerview_profitability_score, dtype: int64"
      ]
     },
     "execution_count": 87,
     "metadata": {},
     "output_type": "execute_result"
    }
   ],
   "source": [
    "df_other['consumerview_profitability_score'].value_counts()"
   ]
  },
  {
   "cell_type": "code",
   "execution_count": 88,
   "id": "030cb19e",
   "metadata": {},
   "outputs": [
    {
     "data": {
      "text/plain": [
       "<AxesSubplot:xlabel='consumerview_profitability_score', ylabel='count'>"
      ]
     },
     "execution_count": 88,
     "metadata": {},
     "output_type": "execute_result"
    },
    {
     "data": {
      "image/png": "[encoded data removed]",
      "text/plain": [
       "<Figure size 640x480 with 1 Axes>"
      ]
     },
     "metadata": {},
     "output_type": "display_data"
    }
   ],
   "source": [
    "sns.countplot(x=\"consumerview_profitability_score\",data=df_other)"
   ]
  },
  {
   "cell_type": "code",
   "execution_count": 89,
   "id": "46697e86",
   "metadata": {},
   "outputs": [
    {
     "data": {
      "text/plain": [
       "consumerview_profitability_score\n",
       "Fair Profitability, Medium Likelihood to Perform    0.608374\n",
       "Good Profitability, Medium Likelihood to Perform    0.603876\n",
       "High Profitability, High Likelihood to Perform      0.632163\n",
       "Poor Profitability, Unlikely to Perform             0.606285\n",
       "Name: accepted, dtype: float64"
      ]
     },
     "execution_count": 89,
     "metadata": {},
     "output_type": "execute_result"
    }
   ],
   "source": [
    "raw_df.groupby('consumerview_profitability_score')['accepted'].mean()"
   ]
  },
  {
   "cell_type": "code",
   "execution_count": 90,
   "id": "9c1cdb87",
   "metadata": {},
   "outputs": [
    {
     "data": {
      "text/plain": [
       "<AxesSubplot:xlabel='consumerview_profitability_score', ylabel='accepted'>"
      ]
     },
     "execution_count": 90,
     "metadata": {},
     "output_type": "execute_result"
    },
    {
     "data": {
      "image/png": "[encoded data removed]",
      "text/plain": [
       "<Figure size 640x480 with 1 Axes>"
      ]
     },
     "metadata": {},
     "output_type": "display_data"
    }
   ],
   "source": [
    "sns.barplot(x=\"consumerview_profitability_score\", y=\"accepted\", data=raw_df)"
   ]
  },
  {
   "cell_type": "markdown",
   "id": "d371a13c",
   "metadata": {},
   "source": [
    "### Step #4: Cleaning & Exploring the 'count_clicks_or_opens' Column"
   ]
  },
  {
   "cell_type": "code",
   "execution_count": 91,
   "id": "67db86d6",
   "metadata": {},
   "outputs": [
    {
     "data": {
      "text/plain": [
       "0.0      5966\n",
       "1.0       329\n",
       "2.0       269\n",
       "3.0       205\n",
       "4.0       190\n",
       "         ... \n",
       "236.0       1\n",
       "276.0       1\n",
       "238.0       1\n",
       "289.0       1\n",
       "485.0       1\n",
       "Name: count_clicks_or_opens, Length: 288, dtype: int64"
      ]
     },
     "execution_count": 91,
     "metadata": {},
     "output_type": "execute_result"
    }
   ],
   "source": [
    "df_other['count_clicks_or_opens'].value_counts()"
   ]
  },
  {
   "cell_type": "code",
   "execution_count": 92,
   "id": "b680bb77",
   "metadata": {
    "scrolled": true
   },
   "outputs": [
    {
     "data": {
      "text/plain": [
       "accepted\n",
       "0.0    20.073614\n",
       "1.0    18.252632\n",
       "Name: count_clicks_or_opens, dtype: float64"
      ]
     },
     "execution_count": 92,
     "metadata": {},
     "output_type": "execute_result"
    }
   ],
   "source": [
    "raw_df.groupby('accepted')['count_clicks_or_opens'].mean()"
   ]
  },
  {
   "cell_type": "code",
   "execution_count": 93,
   "id": "911be48b",
   "metadata": {},
   "outputs": [
    {
     "data": {
      "text/plain": [
       "numofoffers\n",
       "1    16.964668\n",
       "2    18.319270\n",
       "3    20.777778\n",
       "4    22.416300\n",
       "Name: count_clicks_or_opens, dtype: float64"
      ]
     },
     "execution_count": 93,
     "metadata": {},
     "output_type": "execute_result"
    }
   ],
   "source": [
    "raw_df.groupby('numofoffers')['count_clicks_or_opens'].mean()"
   ]
  },
  {
   "cell_type": "markdown",
   "id": "4db9684f",
   "metadata": {},
   "source": [
    "### Step #5: Cleaning & Exploring the 'Credit Ranges' Column"
   ]
  },
  {
   "cell_type": "code",
   "execution_count": 94,
   "id": "faa2a072",
   "metadata": {},
   "outputs": [
    {
     "data": {
      "text/plain": [
       "4    5420\n",
       "7    2094\n",
       "6    1258\n",
       "8     766\n",
       "5     720\n",
       "3     141\n",
       "2      78\n",
       "1       4\n",
       "Name: credit_ranges, dtype: int64"
      ]
     },
     "execution_count": 94,
     "metadata": {},
     "output_type": "execute_result"
    }
   ],
   "source": [
    "df_other['credit_ranges'].value_counts()"
   ]
  },
  {
   "cell_type": "code",
   "execution_count": 95,
   "id": "0f94aed1",
   "metadata": {
    "scrolled": true
   },
   "outputs": [
    {
     "data": {
      "text/plain": [
       "<AxesSubplot:xlabel='credit_ranges', ylabel='count'>"
      ]
     },
     "execution_count": 95,
     "metadata": {},
     "output_type": "execute_result"
    },
    {
     "data": {
      "image/png": "[encoded data removed]",
      "text/plain": [
       "<Figure size 640x480 with 1 Axes>"
      ]
     },
     "metadata": {},
     "output_type": "display_data"
    }
   ],
   "source": [
    "sns.countplot(x=\"credit_ranges\",data=df_other)"
   ]
  },
  {
   "cell_type": "code",
   "execution_count": 96,
   "id": "a2c0d8e0",
   "metadata": {},
   "outputs": [
    {
     "data": {
      "text/plain": [
       "accepted\n",
       "0.0    5.194230\n",
       "1.0    5.156502\n",
       "Name: credit_ranges, dtype: float64"
      ]
     },
     "execution_count": 96,
     "metadata": {},
     "output_type": "execute_result"
    }
   ],
   "source": [
    "raw_df.groupby('accepted')['credit_ranges'].mean()"
   ]
  },
  {
   "cell_type": "code",
   "execution_count": 97,
   "id": "64861e5d",
   "metadata": {},
   "outputs": [
    {
     "data": {
      "text/plain": [
       "<AxesSubplot:xlabel='credit_ranges', ylabel='accepted'>"
      ]
     },
     "execution_count": 97,
     "metadata": {},
     "output_type": "execute_result"
    },
    {
     "data": {
      "image/png": "[encoded data removed]",
      "text/plain": [
       "<Figure size 640x480 with 1 Axes>"
      ]
     },
     "metadata": {},
     "output_type": "display_data"
    }
   ],
   "source": [
    "sns.barplot(x=\"credit_ranges\", y=\"accepted\", data=raw_df)"
   ]
  },
  {
   "cell_type": "markdown",
   "id": "40d02873",
   "metadata": {},
   "source": [
    "### Step #6: Cleaning & Exploring the 'Donor Flag' Column"
   ]
  },
  {
   "cell_type": "code",
   "execution_count": 98,
   "id": "1b37b0bb",
   "metadata": {},
   "outputs": [
    {
     "data": {
      "text/plain": [
       "False    10035\n",
       "True       446\n",
       "Name: donor_flag, dtype: int64"
      ]
     },
     "execution_count": 98,
     "metadata": {},
     "output_type": "execute_result"
    }
   ],
   "source": [
    "df_other['donor_flag'].value_counts()"
   ]
  },
  {
   "cell_type": "code",
   "execution_count": 99,
   "id": "04272d70",
   "metadata": {},
   "outputs": [
    {
     "data": {
      "text/plain": [
       "<AxesSubplot:xlabel='donor_flag', ylabel='count'>"
      ]
     },
     "execution_count": 99,
     "metadata": {},
     "output_type": "execute_result"
    },
    {
     "data": {
      "image/png": "[encoded data removed]",
      "text/plain": [
       "<Figure size 640x480 with 1 Axes>"
      ]
     },
     "metadata": {},
     "output_type": "display_data"
    }
   ],
   "source": [
    "sns.countplot(x=\"donor_flag\",data=df_other)"
   ]
  },
  {
   "cell_type": "code",
   "execution_count": 100,
   "id": "641c61ab",
   "metadata": {},
   "outputs": [
    {
     "data": {
      "text/plain": [
       "donor_flag\n",
       "False    0.62013\n",
       "True     0.53139\n",
       "Name: accepted, dtype: float64"
      ]
     },
     "execution_count": 100,
     "metadata": {},
     "output_type": "execute_result"
    }
   ],
   "source": [
    "raw_df.groupby('donor_flag')['accepted'].mean()"
   ]
  },
  {
   "cell_type": "markdown",
   "id": "b32abacb",
   "metadata": {},
   "source": [
    "### Step #7: Cleaning & Exploring the 'DRV Driving School Flag' Column"
   ]
  },
  {
   "cell_type": "code",
   "execution_count": 101,
   "id": "ff372407",
   "metadata": {},
   "outputs": [
    {
     "data": {
      "text/plain": [
       "N    10418\n",
       "Y       63\n",
       "Name: drv_driving_school_flag, dtype: int64"
      ]
     },
     "execution_count": 101,
     "metadata": {},
     "output_type": "execute_result"
    }
   ],
   "source": [
    "df_other['drv_driving_school_flag'].value_counts()"
   ]
  },
  {
   "cell_type": "code",
   "execution_count": 102,
   "id": "5e592d2e",
   "metadata": {
    "scrolled": true
   },
   "outputs": [
    {
     "data": {
      "text/plain": [
       "<AxesSubplot:xlabel='drv_driving_school_flag', ylabel='count'>"
      ]
     },
     "execution_count": 102,
     "metadata": {},
     "output_type": "execute_result"
    },
    {
     "data": {
      "image/png": "[encoded data removed]",
      "text/plain": [
       "<Figure size 640x480 with 1 Axes>"
      ]
     },
     "metadata": {},
     "output_type": "display_data"
    }
   ],
   "source": [
    "sns.countplot(x=\"drv_driving_school_flag\",data=df_other)"
   ]
  },
  {
   "cell_type": "code",
   "execution_count": 103,
   "id": "d04a1321",
   "metadata": {
    "scrolled": true
   },
   "outputs": [
    {
     "data": {
      "text/plain": [
       "drv_driving_school_flag\n",
       "N    0.616721\n",
       "Y    0.555556\n",
       "Name: accepted, dtype: float64"
      ]
     },
     "execution_count": 103,
     "metadata": {},
     "output_type": "execute_result"
    }
   ],
   "source": [
    "raw_df.groupby('drv_driving_school_flag')['accepted'].mean()"
   ]
  },
  {
   "cell_type": "markdown",
   "id": "8f1ee1ab",
   "metadata": {},
   "source": [
    "### Step #8: Cleaning & Exploring the 'member_status' Column"
   ]
  },
  {
   "cell_type": "code",
   "execution_count": 104,
   "id": "1d09db12",
   "metadata": {},
   "outputs": [
    {
     "name": "stderr",
     "output_type": "stream",
     "text": [
      "C:\\Users\\student\\AppData\\Local\\Temp\\ipykernel_18656\\1503821597.py:1: SettingWithCopyWarning: \n",
      "A value is trying to be set on a copy of a slice from a DataFrame\n",
      "\n",
      "See the caveats in the documentation: https://pandas.pydata.org/pandas-docs/stable/user_guide/indexing.html#returning-a-view-versus-a-copy\n",
      "  df_other['member_tenure_years'].fillna(\"Unknown\",inplace=True)\n"
     ]
    }
   ],
   "source": [
    "df_other['member_tenure_years'].fillna(\"Unknown\",inplace=True)"
   ]
  },
  {
   "cell_type": "code",
   "execution_count": 105,
   "id": "6f8ca06c",
   "metadata": {},
   "outputs": [
    {
     "data": {
      "text/plain": [
       "9.0     1768\n",
       "0.0     1462\n",
       "1.0      636\n",
       "2.0      409\n",
       "4.0      404\n",
       "        ... \n",
       "65.0       1\n",
       "57.0       1\n",
       "56.0       1\n",
       "72.0       1\n",
       "70.0       1\n",
       "Name: member_tenure_years, Length: 66, dtype: int64"
      ]
     },
     "execution_count": 105,
     "metadata": {},
     "output_type": "execute_result"
    }
   ],
   "source": [
    "df_other['member_tenure_years'].value_counts()"
   ]
  },
  {
   "cell_type": "code",
   "execution_count": 106,
   "id": "87e72125",
   "metadata": {},
   "outputs": [
    {
     "data": {
      "text/plain": [
       "<AxesSubplot:xlabel='member_tenure_years', ylabel='count'>"
      ]
     },
     "execution_count": 106,
     "metadata": {},
     "output_type": "execute_result"
    },
    {
     "data": {
      "image/png": "[encoded data removed]",
      "text/plain": [
       "<Figure size 640x480 with 1 Axes>"
      ]
     },
     "metadata": {},
     "output_type": "display_data"
    }
   ],
   "source": [
    "sns.countplot(x=\"member_tenure_years\",data=df_other)"
   ]
  },
  {
   "cell_type": "markdown",
   "id": "bb2ee1c6",
   "metadata": {},
   "source": [
    "### Step #9: Cleaning & Exploring the 'member_type ' Column"
   ]
  },
  {
   "cell_type": "code",
   "execution_count": 107,
   "id": "909b9d9b",
   "metadata": {},
   "outputs": [
    {
     "name": "stderr",
     "output_type": "stream",
     "text": [
      "C:\\Users\\student\\AppData\\Local\\Temp\\ipykernel_18656\\127139711.py:1: SettingWithCopyWarning: \n",
      "A value is trying to be set on a copy of a slice from a DataFrame\n",
      "\n",
      "See the caveats in the documentation: https://pandas.pydata.org/pandas-docs/stable/user_guide/indexing.html#returning-a-view-versus-a-copy\n",
      "  df_other['member_type'].fillna(\"Unknown\",inplace=True)\n"
     ]
    }
   ],
   "source": [
    "df_other['member_type'].fillna(\"Unknown\",inplace=True)"
   ]
  },
  {
   "cell_type": "code",
   "execution_count": 108,
   "id": "56602461",
   "metadata": {},
   "outputs": [
    {
     "data": {
      "text/plain": [
       "Primary      6793\n",
       "Associate    2134\n",
       "Unknown      1554\n",
       "Name: member_type, dtype: int64"
      ]
     },
     "execution_count": 108,
     "metadata": {},
     "output_type": "execute_result"
    }
   ],
   "source": [
    "df_other['member_type'].value_counts()"
   ]
  },
  {
   "cell_type": "code",
   "execution_count": 109,
   "id": "b137a7d0",
   "metadata": {},
   "outputs": [
    {
     "data": {
      "text/plain": [
       "<AxesSubplot:xlabel='member_type', ylabel='count'>"
      ]
     },
     "execution_count": 109,
     "metadata": {},
     "output_type": "execute_result"
    },
    {
     "data": {
      "image/png": "[encoded data removed]",
      "text/plain": [
       "<Figure size 640x480 with 1 Axes>"
      ]
     },
     "metadata": {},
     "output_type": "display_data"
    }
   ],
   "source": [
    "sns.countplot(x=\"member_type\",data=df_other)"
   ]
  },
  {
   "cell_type": "markdown",
   "id": "4eb3932f",
   "metadata": {},
   "source": [
    "### Step #8: Cleaning & Exploring the 'Occupation Group' Column"
   ]
  },
  {
   "cell_type": "code",
   "execution_count": 110,
   "id": "f8b83958",
   "metadata": {},
   "outputs": [
    {
     "name": "stderr",
     "output_type": "stream",
     "text": [
      "C:\\Users\\student\\AppData\\Local\\Temp\\ipykernel_18656\\2894228748.py:1: SettingWithCopyWarning: \n",
      "A value is trying to be set on a copy of a slice from a DataFrame\n",
      "\n",
      "See the caveats in the documentation: https://pandas.pydata.org/pandas-docs/stable/user_guide/indexing.html#returning-a-view-versus-a-copy\n",
      "  df_other['occupation_group'].fillna(\"Other\",inplace=True)\n"
     ]
    }
   ],
   "source": [
    "df_other['occupation_group'].fillna(\"Other\",inplace=True)"
   ]
  },
  {
   "cell_type": "code",
   "execution_count": 111,
   "id": "1f7e4963",
   "metadata": {},
   "outputs": [
    {
     "data": {
      "text/plain": [
       "Other                    5408\n",
       "Professional             1237\n",
       "Retired                  1043\n",
       "Management                889\n",
       "Office Administration     668\n",
       "Blue Collar               595\n",
       "Sales                     379\n",
       "Technical                 262\n",
       "Name: occupation_group, dtype: int64"
      ]
     },
     "execution_count": 111,
     "metadata": {},
     "output_type": "execute_result"
    }
   ],
   "source": [
    "df_other['occupation_group'].value_counts()"
   ]
  },
  {
   "cell_type": "code",
   "execution_count": 112,
   "id": "b78e0f10",
   "metadata": {},
   "outputs": [
    {
     "data": {
      "text/plain": [
       "<AxesSubplot:xlabel='occupation_group', ylabel='count'>"
      ]
     },
     "execution_count": 112,
     "metadata": {},
     "output_type": "execute_result"
    },
    {
     "data": {
      "image/png": "[encoded data removed]",
      "text/plain": [
       "<Figure size 640x480 with 1 Axes>"
      ]
     },
     "metadata": {},
     "output_type": "display_data"
    }
   ],
   "source": [
    "sns.countplot(x=\"occupation_group\",data=df_other)"
   ]
  },
  {
   "cell_type": "code",
   "execution_count": 113,
   "id": "6973dc08",
   "metadata": {},
   "outputs": [
    {
     "data": {
      "text/plain": [
       "occupation_group\n",
       "Blue Collar              0.621849\n",
       "Management               0.645669\n",
       "Office Administration    0.613772\n",
       "Other                    0.611292\n",
       "Professional             0.650768\n",
       "Retired                  0.526366\n",
       "Sales                    0.678100\n",
       "Technical                0.606870\n",
       "Name: accepted, dtype: float64"
      ]
     },
     "execution_count": 113,
     "metadata": {},
     "output_type": "execute_result"
    }
   ],
   "source": [
    "raw_df.groupby('occupation_group')['accepted'].mean()"
   ]
  },
  {
   "cell_type": "code",
   "execution_count": 114,
   "id": "90ae7377",
   "metadata": {
    "scrolled": true
   },
   "outputs": [
    {
     "data": {
      "text/plain": [
       "<AxesSubplot:xlabel='occupation_group', ylabel='accepted'>"
      ]
     },
     "execution_count": 114,
     "metadata": {},
     "output_type": "execute_result"
    },
    {
     "data": {
      "image/png": "[encoded data removed]",
      "text/plain": [
       "<Figure size 640x480 with 1 Axes>"
      ]
     },
     "metadata": {},
     "output_type": "display_data"
    }
   ],
   "source": [
    "sns.barplot(x=\"occupation_group\", y=\"accepted\", data=raw_df)"
   ]
  },
  {
   "cell_type": "markdown",
   "id": "7245582c",
   "metadata": {},
   "source": [
    "### Step #8: Drop Unhelpful Columns"
   ]
  },
  {
   "cell_type": "code",
   "execution_count": 115,
   "id": "4aae4a20",
   "metadata": {},
   "outputs": [],
   "source": [
    "columns_to_drop = ['business_owner']\n",
    "\n",
    "df_others = df_other.drop(columns_to_drop, axis=1)"
   ]
  },
  {
   "cell_type": "code",
   "execution_count": 116,
   "id": "0a86bf27",
   "metadata": {},
   "outputs": [
    {
     "data": {
      "text/plain": [
       "Index(['individual_key', 'consumerview_profitability_score',\n",
       "       'count_clicks_or_opens', 'credit_ranges', 'donor_flag',\n",
       "       'drv_driving_school_flag', 'occupation_group', 'member_tenure_years',\n",
       "       'member_type', 'Average_Member_yrcost'],\n",
       "      dtype='object')"
      ]
     },
     "execution_count": 116,
     "metadata": {},
     "output_type": "execute_result"
    }
   ],
   "source": [
    "df_others.columns"
   ]
  },
  {
   "cell_type": "markdown",
   "id": "10cf90ee",
   "metadata": {},
   "source": [
    "## Email-Related Columns\n",
    "\n",
    "### Cleaning & Initial Exploration"
   ]
  },
  {
   "cell_type": "markdown",
   "id": "7261d6a9",
   "metadata": {},
   "source": [
    "### Step #1: Determing Data Types, # of Null Values, # of Unique Values"
   ]
  },
  {
   "cell_type": "code",
   "execution_count": 143,
   "id": "c97aecbe",
   "metadata": {},
   "outputs": [],
   "source": [
    "# Seperating Out email Columns\n",
    "\n",
    "email_columns = ['individual_key','email_preference_auto_news_and_offers','email_preference_club_deal_travels','email_preference_discounts_and_rewards', \n",
    "                 'email_preference_financial_services', 'email_preference_insurance','email_preference_memership_news', 'email_preference_student_lending',\n",
    "                 'email_preference_travel', 'email_preference_your_aaa_digital','emails_received',\n",
    "                      ]\n"
   ]
  },
  {
   "cell_type": "code",
   "execution_count": 144,
   "id": "709d6e73",
   "metadata": {},
   "outputs": [
    {
     "data": {
      "text/html": [
       "<div>\n",
       "<style scoped>\n",
       "    .dataframe tbody tr th:only-of-type {\n",
       "        vertical-align: middle;\n",
       "    }\n",
       "\n",
       "    .dataframe tbody tr th {\n",
       "        vertical-align: top;\n",
       "    }\n",
       "\n",
       "    .dataframe thead th {\n",
       "        text-align: right;\n",
       "    }\n",
       "</style>\n",
       "<table border=\"1\" class=\"dataframe\">\n",
       "  <thead>\n",
       "    <tr style=\"text-align: right;\">\n",
       "      <th></th>\n",
       "      <th>individual_key</th>\n",
       "      <th>email_preference_auto_news_and_offers</th>\n",
       "      <th>email_preference_club_deal_travels</th>\n",
       "      <th>email_preference_discounts_and_rewards</th>\n",
       "      <th>email_preference_financial_services</th>\n",
       "      <th>email_preference_insurance</th>\n",
       "      <th>email_preference_memership_news</th>\n",
       "      <th>email_preference_student_lending</th>\n",
       "      <th>email_preference_travel</th>\n",
       "      <th>email_preference_your_aaa_digital</th>\n",
       "      <th>emails_received</th>\n",
       "    </tr>\n",
       "  </thead>\n",
       "  <tbody>\n",
       "    <tr>\n",
       "      <th>0</th>\n",
       "      <td>15294.0</td>\n",
       "      <td>NaN</td>\n",
       "      <td>NaN</td>\n",
       "      <td>NaN</td>\n",
       "      <td>NaN</td>\n",
       "      <td>NaN</td>\n",
       "      <td>NaN</td>\n",
       "      <td>NaN</td>\n",
       "      <td>NaN</td>\n",
       "      <td>NaN</td>\n",
       "      <td>8.0</td>\n",
       "    </tr>\n",
       "    <tr>\n",
       "      <th>1</th>\n",
       "      <td>16996.0</td>\n",
       "      <td>Subscribe</td>\n",
       "      <td>Subscribe</td>\n",
       "      <td>Subscribe</td>\n",
       "      <td>Subscribe</td>\n",
       "      <td>Subscribe</td>\n",
       "      <td>Subscribe</td>\n",
       "      <td>Subscribe</td>\n",
       "      <td>Subscribe</td>\n",
       "      <td>Subscribe</td>\n",
       "      <td>2.0</td>\n",
       "    </tr>\n",
       "    <tr>\n",
       "      <th>2</th>\n",
       "      <td>18708.0</td>\n",
       "      <td>Unsubscribe</td>\n",
       "      <td>Unsubscribe</td>\n",
       "      <td>Unsubscribe</td>\n",
       "      <td>Unsubscribe</td>\n",
       "      <td>Unsubscribe</td>\n",
       "      <td>Unsubscribe</td>\n",
       "      <td>Unsubscribe</td>\n",
       "      <td>Unsubscribe</td>\n",
       "      <td>Unsubscribe</td>\n",
       "      <td>104.0</td>\n",
       "    </tr>\n",
       "    <tr>\n",
       "      <th>3</th>\n",
       "      <td>19350.0</td>\n",
       "      <td>Unsubscribe</td>\n",
       "      <td>Unsubscribe</td>\n",
       "      <td>Unsubscribe</td>\n",
       "      <td>Unsubscribe</td>\n",
       "      <td>Unsubscribe</td>\n",
       "      <td>Unsubscribe</td>\n",
       "      <td>Unsubscribe</td>\n",
       "      <td>Unsubscribe</td>\n",
       "      <td>Unsubscribe</td>\n",
       "      <td>104.0</td>\n",
       "    </tr>\n",
       "    <tr>\n",
       "      <th>4</th>\n",
       "      <td>35518.0</td>\n",
       "      <td>Unsubscribe</td>\n",
       "      <td>Unsubscribe</td>\n",
       "      <td>Unsubscribe</td>\n",
       "      <td>Unsubscribe</td>\n",
       "      <td>Unsubscribe</td>\n",
       "      <td>Unsubscribe</td>\n",
       "      <td>Unsubscribe</td>\n",
       "      <td>Unsubscribe</td>\n",
       "      <td>Unsubscribe</td>\n",
       "      <td>104.0</td>\n",
       "    </tr>\n",
       "  </tbody>\n",
       "</table>\n",
       "</div>"
      ],
      "text/plain": [
       "   individual_key email_preference_auto_news_and_offers  \\\n",
       "0         15294.0                                   NaN   \n",
       "1         16996.0                             Subscribe   \n",
       "2         18708.0                           Unsubscribe   \n",
       "3         19350.0                           Unsubscribe   \n",
       "4         35518.0                           Unsubscribe   \n",
       "\n",
       "  email_preference_club_deal_travels email_preference_discounts_and_rewards  \\\n",
       "0                                NaN                                    NaN   \n",
       "1                          Subscribe                              Subscribe   \n",
       "2                        Unsubscribe                            Unsubscribe   \n",
       "3                        Unsubscribe                            Unsubscribe   \n",
       "4                        Unsubscribe                            Unsubscribe   \n",
       "\n",
       "  email_preference_financial_services email_preference_insurance  \\\n",
       "0                                 NaN                        NaN   \n",
       "1                           Subscribe                  Subscribe   \n",
       "2                         Unsubscribe                Unsubscribe   \n",
       "3                         Unsubscribe                Unsubscribe   \n",
       "4                         Unsubscribe                Unsubscribe   \n",
       "\n",
       "  email_preference_memership_news email_preference_student_lending  \\\n",
       "0                             NaN                              NaN   \n",
       "1                       Subscribe                        Subscribe   \n",
       "2                     Unsubscribe                      Unsubscribe   \n",
       "3                     Unsubscribe                      Unsubscribe   \n",
       "4                     Unsubscribe                      Unsubscribe   \n",
       "\n",
       "  email_preference_travel email_preference_your_aaa_digital  emails_received  \n",
       "0                     NaN                               NaN              8.0  \n",
       "1               Subscribe                         Subscribe              2.0  \n",
       "2             Unsubscribe                       Unsubscribe            104.0  \n",
       "3             Unsubscribe                       Unsubscribe            104.0  \n",
       "4             Unsubscribe                       Unsubscribe            104.0  "
      ]
     },
     "execution_count": 144,
     "metadata": {},
     "output_type": "execute_result"
    }
   ],
   "source": [
    "# Creating a New Dataframe for email Columns\n",
    "\n",
    "df_email=raw_df[email_columns]\n",
    "\n",
    "df_email.head()"
   ]
  },
  {
   "cell_type": "code",
   "execution_count": 145,
   "id": "11e04eea",
   "metadata": {
    "scrolled": true
   },
   "outputs": [
    {
     "data": {
      "text/plain": [
       "individual_key                            float64\n",
       "email_preference_auto_news_and_offers      object\n",
       "email_preference_club_deal_travels         object\n",
       "email_preference_discounts_and_rewards     object\n",
       "email_preference_financial_services        object\n",
       "email_preference_insurance                 object\n",
       "email_preference_memership_news            object\n",
       "email_preference_student_lending           object\n",
       "email_preference_travel                    object\n",
       "email_preference_your_aaa_digital          object\n",
       "emails_received                           float64\n",
       "dtype: object"
      ]
     },
     "execution_count": 145,
     "metadata": {},
     "output_type": "execute_result"
    }
   ],
   "source": [
    "df_email.dtypes"
   ]
  },
  {
   "cell_type": "code",
   "execution_count": 146,
   "id": "1cd3f8ec",
   "metadata": {},
   "outputs": [
    {
     "data": {
      "text/plain": [
       "individual_key                               0\n",
       "email_preference_auto_news_and_offers     4248\n",
       "email_preference_club_deal_travels        4170\n",
       "email_preference_discounts_and_rewards    4210\n",
       "email_preference_financial_services       4227\n",
       "email_preference_insurance                4245\n",
       "email_preference_memership_news           4250\n",
       "email_preference_student_lending          4269\n",
       "email_preference_travel                   4168\n",
       "email_preference_your_aaa_digital         3035\n",
       "emails_received                              0\n",
       "dtype: int64"
      ]
     },
     "execution_count": 146,
     "metadata": {},
     "output_type": "execute_result"
    }
   ],
   "source": [
    "df_email.isnull().sum()"
   ]
  },
  {
   "cell_type": "markdown",
   "id": "bc6d987a",
   "metadata": {},
   "source": [
    "### Step #2: Cleaning & Exploring the 'Email Auto News' Column\n"
   ]
  },
  {
   "cell_type": "code",
   "execution_count": 147,
   "id": "962dafd7",
   "metadata": {},
   "outputs": [
    {
     "name": "stderr",
     "output_type": "stream",
     "text": [
      "C:\\Users\\student\\AppData\\Local\\Temp\\ipykernel_18656\\469746959.py:1: SettingWithCopyWarning: \n",
      "A value is trying to be set on a copy of a slice from a DataFrame\n",
      "\n",
      "See the caveats in the documentation: https://pandas.pydata.org/pandas-docs/stable/user_guide/indexing.html#returning-a-view-versus-a-copy\n",
      "  df_email['email_preference_auto_news_and_offers'].fillna(\"Unknown\",inplace=True)\n"
     ]
    }
   ],
   "source": [
    "df_email['email_preference_auto_news_and_offers'].fillna(\"Unknown\",inplace=True)"
   ]
  },
  {
   "cell_type": "code",
   "execution_count": 148,
   "id": "07c1b221",
   "metadata": {},
   "outputs": [
    {
     "data": {
      "text/plain": [
       "<bound method IndexOpsMixin.value_counts of 0            Unknown\n",
       "1          Subscribe\n",
       "2        Unsubscribe\n",
       "3        Unsubscribe\n",
       "4        Unsubscribe\n",
       "            ...     \n",
       "10476        Unknown\n",
       "10477        Unknown\n",
       "10478        Unknown\n",
       "10479        Unknown\n",
       "10480        Unknown\n",
       "Name: email_preference_auto_news_and_offers, Length: 10481, dtype: object>"
      ]
     },
     "execution_count": 148,
     "metadata": {},
     "output_type": "execute_result"
    }
   ],
   "source": [
    "df_email['email_preference_auto_news_and_offers'].value_counts"
   ]
  },
  {
   "cell_type": "code",
   "execution_count": 149,
   "id": "8b9b8169",
   "metadata": {},
   "outputs": [
    {
     "data": {
      "text/plain": [
       "<AxesSubplot:xlabel='email_preference_auto_news_and_offers', ylabel='count'>"
      ]
     },
     "execution_count": 149,
     "metadata": {},
     "output_type": "execute_result"
    },
    {
     "data": {
      "image/png": "[encoded data removed]",
      "text/plain": [
       "<Figure size 640x480 with 1 Axes>"
      ]
     },
     "metadata": {},
     "output_type": "display_data"
    }
   ],
   "source": [
    "sns.countplot(x=\"email_preference_auto_news_and_offers\",data=df_email)"
   ]
  },
  {
   "cell_type": "markdown",
   "id": "4d62577b",
   "metadata": {},
   "source": [
    "### Step #3: Cleaning & Exploring the 'email_preference_club_deal_travels ' Column\n"
   ]
  },
  {
   "cell_type": "code",
   "execution_count": 150,
   "id": "edbc0366",
   "metadata": {},
   "outputs": [
    {
     "name": "stderr",
     "output_type": "stream",
     "text": [
      "C:\\Users\\student\\AppData\\Local\\Temp\\ipykernel_18656\\3019226619.py:1: SettingWithCopyWarning: \n",
      "A value is trying to be set on a copy of a slice from a DataFrame\n",
      "\n",
      "See the caveats in the documentation: https://pandas.pydata.org/pandas-docs/stable/user_guide/indexing.html#returning-a-view-versus-a-copy\n",
      "  df_email['email_preference_club_deal_travels'].fillna(\"Unknown\",inplace=True)\n"
     ]
    }
   ],
   "source": [
    "df_email['email_preference_club_deal_travels'].fillna(\"Unknown\",inplace=True)"
   ]
  },
  {
   "cell_type": "code",
   "execution_count": 151,
   "id": "cd59f963",
   "metadata": {},
   "outputs": [
    {
     "data": {
      "text/plain": [
       "<bound method IndexOpsMixin.value_counts of 0            Unknown\n",
       "1          Subscribe\n",
       "2        Unsubscribe\n",
       "3        Unsubscribe\n",
       "4        Unsubscribe\n",
       "            ...     \n",
       "10476        Unknown\n",
       "10477        Unknown\n",
       "10478        Unknown\n",
       "10479        Unknown\n",
       "10480        Unknown\n",
       "Name: email_preference_club_deal_travels, Length: 10481, dtype: object>"
      ]
     },
     "execution_count": 151,
     "metadata": {},
     "output_type": "execute_result"
    }
   ],
   "source": [
    "df_email['email_preference_club_deal_travels'].value_counts"
   ]
  },
  {
   "cell_type": "code",
   "execution_count": 152,
   "id": "a74c16a9",
   "metadata": {},
   "outputs": [
    {
     "data": {
      "text/plain": [
       "<AxesSubplot:xlabel='email_preference_club_deal_travels', ylabel='count'>"
      ]
     },
     "execution_count": 152,
     "metadata": {},
     "output_type": "execute_result"
    },
    {
     "data": {
      "image/png": "[encoded data removed]",
      "text/plain": [
       "<Figure size 640x480 with 1 Axes>"
      ]
     },
     "metadata": {},
     "output_type": "display_data"
    }
   ],
   "source": [
    "sns.countplot(x=\"email_preference_club_deal_travels\",data=df_email)"
   ]
  },
  {
   "cell_type": "markdown",
   "id": "50fa0300",
   "metadata": {},
   "source": [
    "### Step #4: Cleaning & Exploring the 'emails recieved' Column\n"
   ]
  },
  {
   "cell_type": "code",
   "execution_count": 153,
   "id": "523af4b1",
   "metadata": {
    "scrolled": true
   },
   "outputs": [
    {
     "data": {
      "text/plain": [
       "104.0    4793\n",
       "6.0       225\n",
       "1.0       171\n",
       "5.0       123\n",
       "141.0     112\n",
       "         ... \n",
       "283.0       2\n",
       "80.0        2\n",
       "281.0       1\n",
       "282.0       1\n",
       "289.0       1\n",
       "Name: emails_received, Length: 284, dtype: int64"
      ]
     },
     "execution_count": 153,
     "metadata": {},
     "output_type": "execute_result"
    }
   ],
   "source": [
    "df_email['emails_received'].value_counts()"
   ]
  },
  {
   "cell_type": "code",
   "execution_count": 154,
   "id": "e0885543",
   "metadata": {
    "scrolled": true
   },
   "outputs": [
    {
     "data": {
      "text/plain": [
       "accepted\n",
       "0.0    112.623228\n",
       "1.0    106.540867\n",
       "Name: emails_received, dtype: float64"
      ]
     },
     "execution_count": 154,
     "metadata": {},
     "output_type": "execute_result"
    }
   ],
   "source": [
    "raw_df.groupby('accepted')['emails_received'].mean()"
   ]
  },
  {
   "cell_type": "code",
   "execution_count": 155,
   "id": "b13315fc",
   "metadata": {},
   "outputs": [
    {
     "data": {
      "text/plain": [
       "<AxesSubplot:xlabel='accepted', ylabel='emails_received'>"
      ]
     },
     "execution_count": 155,
     "metadata": {},
     "output_type": "execute_result"
    },
    {
     "data": {
      "image/png": "[encoded data removed]",
      "text/plain": [
       "<Figure size 640x480 with 1 Axes>"
      ]
     },
     "metadata": {},
     "output_type": "display_data"
    }
   ],
   "source": [
    "sns.barplot(x=\"accepted\", y=\"emails_received\", data=raw_df)"
   ]
  },
  {
   "cell_type": "code",
   "execution_count": 130,
   "id": "5b7b00ae",
   "metadata": {},
   "outputs": [],
   "source": [
    "# Seperating Out crm Columns\n",
    "\n",
    "crm_columns = ['crm_lead_financial_services_count', 'crm_lead_insurance_count', 'crm_lead_travel_count',\n",
    "                 'crm_opportunity_financial_services_count','crm_opportunity_insurance_count', 'crm_opportunity_travel_count'\n",
    "                      ]\n"
   ]
  },
  {
   "cell_type": "code",
   "execution_count": 131,
   "id": "2a794538",
   "metadata": {
    "scrolled": true
   },
   "outputs": [
    {
     "data": {
      "text/html": [
       "<div>\n",
       "<style scoped>\n",
       "    .dataframe tbody tr th:only-of-type {\n",
       "        vertical-align: middle;\n",
       "    }\n",
       "\n",
       "    .dataframe tbody tr th {\n",
       "        vertical-align: top;\n",
       "    }\n",
       "\n",
       "    .dataframe thead th {\n",
       "        text-align: right;\n",
       "    }\n",
       "</style>\n",
       "<table border=\"1\" class=\"dataframe\">\n",
       "  <thead>\n",
       "    <tr style=\"text-align: right;\">\n",
       "      <th></th>\n",
       "      <th>crm_lead_financial_services_count</th>\n",
       "      <th>crm_lead_insurance_count</th>\n",
       "      <th>crm_lead_travel_count</th>\n",
       "      <th>crm_opportunity_financial_services_count</th>\n",
       "      <th>crm_opportunity_insurance_count</th>\n",
       "      <th>crm_opportunity_travel_count</th>\n",
       "    </tr>\n",
       "  </thead>\n",
       "  <tbody>\n",
       "    <tr>\n",
       "      <th>0</th>\n",
       "      <td>0.0</td>\n",
       "      <td>0.0</td>\n",
       "      <td>0.0</td>\n",
       "      <td>0.0</td>\n",
       "      <td>0.0</td>\n",
       "      <td>0.0</td>\n",
       "    </tr>\n",
       "    <tr>\n",
       "      <th>1</th>\n",
       "      <td>0.0</td>\n",
       "      <td>0.0</td>\n",
       "      <td>0.0</td>\n",
       "      <td>0.0</td>\n",
       "      <td>0.0</td>\n",
       "      <td>0.0</td>\n",
       "    </tr>\n",
       "    <tr>\n",
       "      <th>2</th>\n",
       "      <td>0.0</td>\n",
       "      <td>0.0</td>\n",
       "      <td>0.0</td>\n",
       "      <td>0.0</td>\n",
       "      <td>0.0</td>\n",
       "      <td>0.0</td>\n",
       "    </tr>\n",
       "    <tr>\n",
       "      <th>3</th>\n",
       "      <td>0.0</td>\n",
       "      <td>0.0</td>\n",
       "      <td>0.0</td>\n",
       "      <td>0.0</td>\n",
       "      <td>0.0</td>\n",
       "      <td>0.0</td>\n",
       "    </tr>\n",
       "    <tr>\n",
       "      <th>4</th>\n",
       "      <td>0.0</td>\n",
       "      <td>0.0</td>\n",
       "      <td>0.0</td>\n",
       "      <td>0.0</td>\n",
       "      <td>0.0</td>\n",
       "      <td>0.0</td>\n",
       "    </tr>\n",
       "  </tbody>\n",
       "</table>\n",
       "</div>"
      ],
      "text/plain": [
       "   crm_lead_financial_services_count  crm_lead_insurance_count  \\\n",
       "0                                0.0                       0.0   \n",
       "1                                0.0                       0.0   \n",
       "2                                0.0                       0.0   \n",
       "3                                0.0                       0.0   \n",
       "4                                0.0                       0.0   \n",
       "\n",
       "   crm_lead_travel_count  crm_opportunity_financial_services_count  \\\n",
       "0                    0.0                                       0.0   \n",
       "1                    0.0                                       0.0   \n",
       "2                    0.0                                       0.0   \n",
       "3                    0.0                                       0.0   \n",
       "4                    0.0                                       0.0   \n",
       "\n",
       "   crm_opportunity_insurance_count  crm_opportunity_travel_count  \n",
       "0                              0.0                           0.0  \n",
       "1                              0.0                           0.0  \n",
       "2                              0.0                           0.0  \n",
       "3                              0.0                           0.0  \n",
       "4                              0.0                           0.0  "
      ]
     },
     "execution_count": 131,
     "metadata": {},
     "output_type": "execute_result"
    }
   ],
   "source": [
    "# Creating a New Dataframe for crm Columns\n",
    "\n",
    "df_crm=raw_df[crm_columns]\n",
    "\n",
    "df_crm.head()"
   ]
  },
  {
   "cell_type": "code",
   "execution_count": 132,
   "id": "bc988baf",
   "metadata": {},
   "outputs": [
    {
     "data": {
      "text/plain": [
       "crm_lead_financial_services_count           0\n",
       "crm_lead_insurance_count                    0\n",
       "crm_lead_travel_count                       0\n",
       "crm_opportunity_financial_services_count    0\n",
       "crm_opportunity_insurance_count             0\n",
       "crm_opportunity_travel_count                0\n",
       "dtype: int64"
      ]
     },
     "execution_count": 132,
     "metadata": {},
     "output_type": "execute_result"
    }
   ],
   "source": [
    "df_crm.isnull().sum()"
   ]
  },
  {
   "cell_type": "code",
   "execution_count": 133,
   "id": "fe19ba47",
   "metadata": {},
   "outputs": [],
   "source": [
    "# Seperating Out fsv Columns\n",
    "\n",
    "fsv_columns = ['fsv_cmsi_flag','fsv_credit_card_flag', 'fsv_deposit_program_flag', 'fsv_id_theft_flag',\n",
    "                 'fsv_mortgage_count', 'fsv_mortgage_flag', 'fsv_tci_count','fsv_tci_flag', 'fsv_truecar_leads_count', \n",
    "                 'fsv_truecar_sales_count',\n",
    "                      ]\n"
   ]
  },
  {
   "cell_type": "code",
   "execution_count": 134,
   "id": "437ff8da",
   "metadata": {},
   "outputs": [
    {
     "data": {
      "text/html": [
       "<div>\n",
       "<style scoped>\n",
       "    .dataframe tbody tr th:only-of-type {\n",
       "        vertical-align: middle;\n",
       "    }\n",
       "\n",
       "    .dataframe tbody tr th {\n",
       "        vertical-align: top;\n",
       "    }\n",
       "\n",
       "    .dataframe thead th {\n",
       "        text-align: right;\n",
       "    }\n",
       "</style>\n",
       "<table border=\"1\" class=\"dataframe\">\n",
       "  <thead>\n",
       "    <tr style=\"text-align: right;\">\n",
       "      <th></th>\n",
       "      <th>fsv_cmsi_flag</th>\n",
       "      <th>fsv_credit_card_flag</th>\n",
       "      <th>fsv_deposit_program_flag</th>\n",
       "      <th>fsv_id_theft_flag</th>\n",
       "      <th>fsv_mortgage_count</th>\n",
       "      <th>fsv_mortgage_flag</th>\n",
       "      <th>fsv_tci_count</th>\n",
       "      <th>fsv_tci_flag</th>\n",
       "      <th>fsv_truecar_leads_count</th>\n",
       "      <th>fsv_truecar_sales_count</th>\n",
       "    </tr>\n",
       "  </thead>\n",
       "  <tbody>\n",
       "    <tr>\n",
       "      <th>0</th>\n",
       "      <td>N</td>\n",
       "      <td>N</td>\n",
       "      <td>N</td>\n",
       "      <td>N</td>\n",
       "      <td>0.0</td>\n",
       "      <td>N</td>\n",
       "      <td>0.0</td>\n",
       "      <td>N</td>\n",
       "      <td>0.0</td>\n",
       "      <td>0.0</td>\n",
       "    </tr>\n",
       "    <tr>\n",
       "      <th>1</th>\n",
       "      <td>N</td>\n",
       "      <td>N</td>\n",
       "      <td>N</td>\n",
       "      <td>N</td>\n",
       "      <td>0.0</td>\n",
       "      <td>N</td>\n",
       "      <td>0.0</td>\n",
       "      <td>N</td>\n",
       "      <td>0.0</td>\n",
       "      <td>0.0</td>\n",
       "    </tr>\n",
       "    <tr>\n",
       "      <th>2</th>\n",
       "      <td>N</td>\n",
       "      <td>N</td>\n",
       "      <td>N</td>\n",
       "      <td>N</td>\n",
       "      <td>0.0</td>\n",
       "      <td>N</td>\n",
       "      <td>0.0</td>\n",
       "      <td>N</td>\n",
       "      <td>0.0</td>\n",
       "      <td>0.0</td>\n",
       "    </tr>\n",
       "    <tr>\n",
       "      <th>3</th>\n",
       "      <td>N</td>\n",
       "      <td>N</td>\n",
       "      <td>N</td>\n",
       "      <td>N</td>\n",
       "      <td>0.0</td>\n",
       "      <td>N</td>\n",
       "      <td>0.0</td>\n",
       "      <td>N</td>\n",
       "      <td>0.0</td>\n",
       "      <td>0.0</td>\n",
       "    </tr>\n",
       "    <tr>\n",
       "      <th>4</th>\n",
       "      <td>N</td>\n",
       "      <td>N</td>\n",
       "      <td>N</td>\n",
       "      <td>N</td>\n",
       "      <td>0.0</td>\n",
       "      <td>N</td>\n",
       "      <td>0.0</td>\n",
       "      <td>N</td>\n",
       "      <td>0.0</td>\n",
       "      <td>0.0</td>\n",
       "    </tr>\n",
       "  </tbody>\n",
       "</table>\n",
       "</div>"
      ],
      "text/plain": [
       "  fsv_cmsi_flag fsv_credit_card_flag fsv_deposit_program_flag  \\\n",
       "0             N                    N                        N   \n",
       "1             N                    N                        N   \n",
       "2             N                    N                        N   \n",
       "3             N                    N                        N   \n",
       "4             N                    N                        N   \n",
       "\n",
       "  fsv_id_theft_flag  fsv_mortgage_count fsv_mortgage_flag  fsv_tci_count  \\\n",
       "0                 N                 0.0                 N            0.0   \n",
       "1                 N                 0.0                 N            0.0   \n",
       "2                 N                 0.0                 N            0.0   \n",
       "3                 N                 0.0                 N            0.0   \n",
       "4                 N                 0.0                 N            0.0   \n",
       "\n",
       "  fsv_tci_flag  fsv_truecar_leads_count  fsv_truecar_sales_count  \n",
       "0            N                      0.0                      0.0  \n",
       "1            N                      0.0                      0.0  \n",
       "2            N                      0.0                      0.0  \n",
       "3            N                      0.0                      0.0  \n",
       "4            N                      0.0                      0.0  "
      ]
     },
     "execution_count": 134,
     "metadata": {},
     "output_type": "execute_result"
    }
   ],
   "source": [
    "# Creating a New Dataframe for fsv Columns\n",
    "\n",
    "df_fsv=raw_df[fsv_columns]\n",
    "df_fsv.head()\n"
   ]
  },
  {
   "cell_type": "code",
   "execution_count": 135,
   "id": "6834415b",
   "metadata": {
    "scrolled": true
   },
   "outputs": [
    {
     "data": {
      "text/plain": [
       "fsv_cmsi_flag               0\n",
       "fsv_credit_card_flag        0\n",
       "fsv_deposit_program_flag    0\n",
       "fsv_id_theft_flag           0\n",
       "fsv_mortgage_count          0\n",
       "fsv_mortgage_flag           0\n",
       "fsv_tci_count               0\n",
       "fsv_tci_flag                0\n",
       "fsv_truecar_leads_count     0\n",
       "fsv_truecar_sales_count     0\n",
       "dtype: int64"
      ]
     },
     "execution_count": 135,
     "metadata": {},
     "output_type": "execute_result"
    }
   ],
   "source": [
    "df_fsv.isnull().sum()"
   ]
  },
  {
   "cell_type": "code",
   "execution_count": 136,
   "id": "1e4b82ae",
   "metadata": {},
   "outputs": [],
   "source": [
    "# Seperating Out other1 Columns\n",
    "\n",
    "other1_columns = ['hertz_gold_ind', 'ins_homeowners_policy_flag', 'ins_other_policy_flag',\n",
    "       'ins_personal_automobile_policy_flag', 'ins_policies_count',\n",
    "       'ins_policies_flag', 'member_count', 'member_dues_y1', 'member_dues_y2',\n",
    "       'member_dues_y3', 'member_flag', 'new_mover_count',\n",
    "                      ]\n"
   ]
  },
  {
   "cell_type": "code",
   "execution_count": 137,
   "id": "a504d3bb",
   "metadata": {
    "scrolled": true
   },
   "outputs": [
    {
     "data": {
      "text/html": [
       "<div>\n",
       "<style scoped>\n",
       "    .dataframe tbody tr th:only-of-type {\n",
       "        vertical-align: middle;\n",
       "    }\n",
       "\n",
       "    .dataframe tbody tr th {\n",
       "        vertical-align: top;\n",
       "    }\n",
       "\n",
       "    .dataframe thead th {\n",
       "        text-align: right;\n",
       "    }\n",
       "</style>\n",
       "<table border=\"1\" class=\"dataframe\">\n",
       "  <thead>\n",
       "    <tr style=\"text-align: right;\">\n",
       "      <th></th>\n",
       "      <th>hertz_gold_ind</th>\n",
       "      <th>ins_homeowners_policy_flag</th>\n",
       "      <th>ins_other_policy_flag</th>\n",
       "      <th>ins_personal_automobile_policy_flag</th>\n",
       "      <th>ins_policies_count</th>\n",
       "      <th>ins_policies_flag</th>\n",
       "      <th>member_count</th>\n",
       "      <th>member_dues_y1</th>\n",
       "      <th>member_dues_y2</th>\n",
       "      <th>member_dues_y3</th>\n",
       "      <th>member_flag</th>\n",
       "      <th>new_mover_count</th>\n",
       "    </tr>\n",
       "  </thead>\n",
       "  <tbody>\n",
       "    <tr>\n",
       "      <th>0</th>\n",
       "      <td>N</td>\n",
       "      <td>N</td>\n",
       "      <td>N</td>\n",
       "      <td>N</td>\n",
       "      <td>0.0</td>\n",
       "      <td>N</td>\n",
       "      <td>1.0</td>\n",
       "      <td>92.0</td>\n",
       "      <td>79.0</td>\n",
       "      <td>89.0</td>\n",
       "      <td>Y</td>\n",
       "      <td>0.0</td>\n",
       "    </tr>\n",
       "    <tr>\n",
       "      <th>1</th>\n",
       "      <td>N</td>\n",
       "      <td>N</td>\n",
       "      <td>N</td>\n",
       "      <td>N</td>\n",
       "      <td>0.0</td>\n",
       "      <td>N</td>\n",
       "      <td>1.0</td>\n",
       "      <td>34.0</td>\n",
       "      <td>33.0</td>\n",
       "      <td>30.0</td>\n",
       "      <td>Y</td>\n",
       "      <td>0.0</td>\n",
       "    </tr>\n",
       "    <tr>\n",
       "      <th>2</th>\n",
       "      <td>N</td>\n",
       "      <td>N</td>\n",
       "      <td>N</td>\n",
       "      <td>N</td>\n",
       "      <td>0.0</td>\n",
       "      <td>N</td>\n",
       "      <td>1.0</td>\n",
       "      <td>55.0</td>\n",
       "      <td>54.0</td>\n",
       "      <td>54.0</td>\n",
       "      <td>Y</td>\n",
       "      <td>0.0</td>\n",
       "    </tr>\n",
       "    <tr>\n",
       "      <th>3</th>\n",
       "      <td>N</td>\n",
       "      <td>N</td>\n",
       "      <td>N</td>\n",
       "      <td>N</td>\n",
       "      <td>0.0</td>\n",
       "      <td>N</td>\n",
       "      <td>1.0</td>\n",
       "      <td>59.0</td>\n",
       "      <td>55.0</td>\n",
       "      <td>50.0</td>\n",
       "      <td>Y</td>\n",
       "      <td>0.0</td>\n",
       "    </tr>\n",
       "    <tr>\n",
       "      <th>4</th>\n",
       "      <td>N</td>\n",
       "      <td>N</td>\n",
       "      <td>N</td>\n",
       "      <td>N</td>\n",
       "      <td>0.0</td>\n",
       "      <td>N</td>\n",
       "      <td>3.0</td>\n",
       "      <td>70.0</td>\n",
       "      <td>55.0</td>\n",
       "      <td>0.0</td>\n",
       "      <td>Y</td>\n",
       "      <td>1.0</td>\n",
       "    </tr>\n",
       "  </tbody>\n",
       "</table>\n",
       "</div>"
      ],
      "text/plain": [
       "  hertz_gold_ind ins_homeowners_policy_flag ins_other_policy_flag  \\\n",
       "0              N                          N                     N   \n",
       "1              N                          N                     N   \n",
       "2              N                          N                     N   \n",
       "3              N                          N                     N   \n",
       "4              N                          N                     N   \n",
       "\n",
       "  ins_personal_automobile_policy_flag  ins_policies_count ins_policies_flag  \\\n",
       "0                                   N                 0.0                 N   \n",
       "1                                   N                 0.0                 N   \n",
       "2                                   N                 0.0                 N   \n",
       "3                                   N                 0.0                 N   \n",
       "4                                   N                 0.0                 N   \n",
       "\n",
       "   member_count  member_dues_y1  member_dues_y2  member_dues_y3 member_flag  \\\n",
       "0           1.0            92.0            79.0            89.0           Y   \n",
       "1           1.0            34.0            33.0            30.0           Y   \n",
       "2           1.0            55.0            54.0            54.0           Y   \n",
       "3           1.0            59.0            55.0            50.0           Y   \n",
       "4           3.0            70.0            55.0             0.0           Y   \n",
       "\n",
       "   new_mover_count  \n",
       "0              0.0  \n",
       "1              0.0  \n",
       "2              0.0  \n",
       "3              0.0  \n",
       "4              1.0  "
      ]
     },
     "execution_count": 137,
     "metadata": {},
     "output_type": "execute_result"
    }
   ],
   "source": [
    "# Creating a New Dataframe for other1 Columns\n",
    "\n",
    "df_other1=raw_df[other1_columns]\n",
    "df_other1.head()"
   ]
  },
  {
   "cell_type": "code",
   "execution_count": 138,
   "id": "2a3642f1",
   "metadata": {},
   "outputs": [
    {
     "data": {
      "text/plain": [
       "hertz_gold_ind                         0\n",
       "ins_homeowners_policy_flag             0\n",
       "ins_other_policy_flag                  0\n",
       "ins_personal_automobile_policy_flag    0\n",
       "ins_policies_count                     0\n",
       "ins_policies_flag                      0\n",
       "member_count                           0\n",
       "member_dues_y1                         0\n",
       "member_dues_y2                         0\n",
       "member_dues_y3                         0\n",
       "member_flag                            0\n",
       "new_mover_count                        0\n",
       "dtype: int64"
      ]
     },
     "execution_count": 138,
     "metadata": {},
     "output_type": "execute_result"
    }
   ],
   "source": [
    "df_other1.isnull().sum()"
   ]
  },
  {
   "cell_type": "code",
   "execution_count": 139,
   "id": "e472ad3f",
   "metadata": {},
   "outputs": [],
   "source": [
    "# Seperating Out other2 Columns\n",
    "\n",
    "other2_columns = ['total_travel_records', 'trv_priceline_count', 'v12_auto_count',\n",
    "       'city', 'coastal_zip9_flag', 'commission',\n",
    "       'coverage_level_code', 'ers_ent_count_year_1', 'ers_ent_count_year_2',\n",
    "       'ers_ent_count_year_3', 'ers_member_cost_year_1',\n",
    "       'ers_member_cost_year_2', 'ers_member_cost_year_3',\n",
    "       'member_status', 'member_tenure_years', 'member_type', 'renew_method',\n",
    "       'state'\n",
    "                      ]\n"
   ]
  },
  {
   "cell_type": "code",
   "execution_count": 140,
   "id": "663d25dc",
   "metadata": {
    "scrolled": true
   },
   "outputs": [
    {
     "data": {
      "text/html": [
       "<div>\n",
       "<style scoped>\n",
       "    .dataframe tbody tr th:only-of-type {\n",
       "        vertical-align: middle;\n",
       "    }\n",
       "\n",
       "    .dataframe tbody tr th {\n",
       "        vertical-align: top;\n",
       "    }\n",
       "\n",
       "    .dataframe thead th {\n",
       "        text-align: right;\n",
       "    }\n",
       "</style>\n",
       "<table border=\"1\" class=\"dataframe\">\n",
       "  <thead>\n",
       "    <tr style=\"text-align: right;\">\n",
       "      <th></th>\n",
       "      <th>total_travel_records</th>\n",
       "      <th>trv_priceline_count</th>\n",
       "      <th>v12_auto_count</th>\n",
       "      <th>city</th>\n",
       "      <th>coastal_zip9_flag</th>\n",
       "      <th>commission</th>\n",
       "      <th>coverage_level_code</th>\n",
       "      <th>ers_ent_count_year_1</th>\n",
       "      <th>ers_ent_count_year_2</th>\n",
       "      <th>ers_ent_count_year_3</th>\n",
       "      <th>ers_member_cost_year_1</th>\n",
       "      <th>ers_member_cost_year_2</th>\n",
       "      <th>ers_member_cost_year_3</th>\n",
       "      <th>member_status</th>\n",
       "      <th>member_tenure_years</th>\n",
       "      <th>member_type</th>\n",
       "      <th>renew_method</th>\n",
       "      <th>state</th>\n",
       "    </tr>\n",
       "  </thead>\n",
       "  <tbody>\n",
       "    <tr>\n",
       "      <th>0</th>\n",
       "      <td>0.0</td>\n",
       "      <td>0.0</td>\n",
       "      <td>0.0</td>\n",
       "      <td>MALDEN</td>\n",
       "      <td>False</td>\n",
       "      <td>Renewal</td>\n",
       "      <td>PL</td>\n",
       "      <td>1.0</td>\n",
       "      <td>4.0</td>\n",
       "      <td>5.0</td>\n",
       "      <td>108.37</td>\n",
       "      <td>154.50</td>\n",
       "      <td>173.0</td>\n",
       "      <td>ACTIVE</td>\n",
       "      <td>7.0</td>\n",
       "      <td>Primary</td>\n",
       "      <td>NOTICE</td>\n",
       "      <td>MA</td>\n",
       "    </tr>\n",
       "    <tr>\n",
       "      <th>1</th>\n",
       "      <td>0.0</td>\n",
       "      <td>0.0</td>\n",
       "      <td>0.0</td>\n",
       "      <td>SWANSEA</td>\n",
       "      <td>False</td>\n",
       "      <td>Renewal</td>\n",
       "      <td>BS</td>\n",
       "      <td>0.0</td>\n",
       "      <td>1.0</td>\n",
       "      <td>0.0</td>\n",
       "      <td>0.00</td>\n",
       "      <td>31.37</td>\n",
       "      <td>0.0</td>\n",
       "      <td>ACTIVE</td>\n",
       "      <td>7.0</td>\n",
       "      <td>Associate</td>\n",
       "      <td>AUTO RENEW</td>\n",
       "      <td>MA</td>\n",
       "    </tr>\n",
       "    <tr>\n",
       "      <th>2</th>\n",
       "      <td>0.0</td>\n",
       "      <td>0.0</td>\n",
       "      <td>0.0</td>\n",
       "      <td>JAMAICA PLAIN</td>\n",
       "      <td>False</td>\n",
       "      <td>Renewal</td>\n",
       "      <td>BS</td>\n",
       "      <td>0.0</td>\n",
       "      <td>0.0</td>\n",
       "      <td>1.0</td>\n",
       "      <td>0.00</td>\n",
       "      <td>0.00</td>\n",
       "      <td>30.0</td>\n",
       "      <td>ACTIVE</td>\n",
       "      <td>23.0</td>\n",
       "      <td>Primary</td>\n",
       "      <td>AUTO RENEW</td>\n",
       "      <td>MA</td>\n",
       "    </tr>\n",
       "    <tr>\n",
       "      <th>3</th>\n",
       "      <td>0.0</td>\n",
       "      <td>0.0</td>\n",
       "      <td>0.0</td>\n",
       "      <td>BEVERLY</td>\n",
       "      <td>False</td>\n",
       "      <td>Renewal</td>\n",
       "      <td>PL</td>\n",
       "      <td>0.0</td>\n",
       "      <td>3.0</td>\n",
       "      <td>2.0</td>\n",
       "      <td>0.00</td>\n",
       "      <td>238.50</td>\n",
       "      <td>206.0</td>\n",
       "      <td>ACTIVE</td>\n",
       "      <td>24.0</td>\n",
       "      <td>Associate</td>\n",
       "      <td>NOTICE</td>\n",
       "      <td>MA</td>\n",
       "    </tr>\n",
       "    <tr>\n",
       "      <th>4</th>\n",
       "      <td>0.0</td>\n",
       "      <td>0.0</td>\n",
       "      <td>0.0</td>\n",
       "      <td>BRISTOL</td>\n",
       "      <td>False</td>\n",
       "      <td>New</td>\n",
       "      <td>PL</td>\n",
       "      <td>0.0</td>\n",
       "      <td>0.0</td>\n",
       "      <td>0.0</td>\n",
       "      <td>0.00</td>\n",
       "      <td>0.00</td>\n",
       "      <td>0.0</td>\n",
       "      <td>ACTIVE</td>\n",
       "      <td>0.0</td>\n",
       "      <td>Primary</td>\n",
       "      <td>NOTICE</td>\n",
       "      <td>RI</td>\n",
       "    </tr>\n",
       "  </tbody>\n",
       "</table>\n",
       "</div>"
      ],
      "text/plain": [
       "   total_travel_records  trv_priceline_count  v12_auto_count           city  \\\n",
       "0                   0.0                  0.0             0.0         MALDEN   \n",
       "1                   0.0                  0.0             0.0        SWANSEA   \n",
       "2                   0.0                  0.0             0.0  JAMAICA PLAIN   \n",
       "3                   0.0                  0.0             0.0        BEVERLY   \n",
       "4                   0.0                  0.0             0.0        BRISTOL   \n",
       "\n",
       "  coastal_zip9_flag commission coverage_level_code  ers_ent_count_year_1  \\\n",
       "0             False    Renewal                  PL                   1.0   \n",
       "1             False    Renewal                  BS                   0.0   \n",
       "2             False    Renewal                  BS                   0.0   \n",
       "3             False    Renewal                  PL                   0.0   \n",
       "4             False        New                  PL                   0.0   \n",
       "\n",
       "   ers_ent_count_year_2  ers_ent_count_year_3  ers_member_cost_year_1  \\\n",
       "0                   4.0                   5.0                  108.37   \n",
       "1                   1.0                   0.0                    0.00   \n",
       "2                   0.0                   1.0                    0.00   \n",
       "3                   3.0                   2.0                    0.00   \n",
       "4                   0.0                   0.0                    0.00   \n",
       "\n",
       "   ers_member_cost_year_2  ers_member_cost_year_3 member_status  \\\n",
       "0                  154.50                   173.0        ACTIVE   \n",
       "1                   31.37                     0.0        ACTIVE   \n",
       "2                    0.00                    30.0        ACTIVE   \n",
       "3                  238.50                   206.0        ACTIVE   \n",
       "4                    0.00                     0.0        ACTIVE   \n",
       "\n",
       "   member_tenure_years member_type renew_method state  \n",
       "0                  7.0     Primary       NOTICE    MA  \n",
       "1                  7.0   Associate   AUTO RENEW    MA  \n",
       "2                 23.0     Primary   AUTO RENEW    MA  \n",
       "3                 24.0   Associate       NOTICE    MA  \n",
       "4                  0.0     Primary       NOTICE    RI  "
      ]
     },
     "execution_count": 140,
     "metadata": {},
     "output_type": "execute_result"
    }
   ],
   "source": [
    "# Creating a New Dataframe for other2 Columns\n",
    "\n",
    "df_other2=raw_df[other2_columns]\n",
    "df_other2.head()"
   ]
  },
  {
   "cell_type": "code",
   "execution_count": 141,
   "id": "75cb4fff",
   "metadata": {
    "scrolled": true
   },
   "outputs": [
    {
     "data": {
      "text/plain": [
       "total_travel_records         0\n",
       "trv_priceline_count          0\n",
       "v12_auto_count               0\n",
       "city                      1554\n",
       "coastal_zip9_flag         1554\n",
       "commission                1554\n",
       "coverage_level_code       1554\n",
       "ers_ent_count_year_1         0\n",
       "ers_ent_count_year_2         0\n",
       "ers_ent_count_year_3         0\n",
       "ers_member_cost_year_1       0\n",
       "ers_member_cost_year_2       0\n",
       "ers_member_cost_year_3       0\n",
       "member_status             1554\n",
       "member_tenure_years          0\n",
       "member_type               1554\n",
       "renew_method              1554\n",
       "state                     1554\n",
       "dtype: int64"
      ]
     },
     "execution_count": 141,
     "metadata": {},
     "output_type": "execute_result"
    }
   ],
   "source": [
    "df_other2.isnull().sum()"
   ]
  },
  {
   "cell_type": "code",
   "execution_count": 172,
   "id": "dd9e2595",
   "metadata": {},
   "outputs": [
    {
     "name": "stdout",
     "output_type": "stream",
     "text": [
      "       individual_key  individual_key  individual_key        age children  \\\n",
      "0             15294.0         15294.0         15294.0  31.000000       No   \n",
      "1             16996.0         16996.0         16996.0  21.000000       No   \n",
      "2             18708.0         18708.0         18708.0  54.000000      Yes   \n",
      "3             19350.0         19350.0         19350.0  58.000000  Unknown   \n",
      "4             35518.0         35518.0         35518.0  58.478336      Yes   \n",
      "...               ...             ...             ...        ...      ...   \n",
      "10476     273104640.0     273104640.0     273104640.0  58.000000  Unknown   \n",
      "10477     273106913.0     273106913.0     273106913.0  58.000000  Unknown   \n",
      "10478     273106913.0     273106913.0     273106913.0  58.000000  Unknown   \n",
      "10479     273106913.0     273106913.0     273106913.0  58.000000  Unknown   \n",
      "10480     273113817.0     273113817.0     273113817.0  58.000000  Unknown   \n",
      "\n",
      "                         dwelling_type          education  \\\n",
      "0      Multi Family Dwelling/Apartment        High School   \n",
      "1                        Single Family            Unknown   \n",
      "2                        Single Family  Completed College   \n",
      "3                              Unknown            Unknown   \n",
      "4      Multi Family Dwelling/Apartment        High School   \n",
      "...                                ...                ...   \n",
      "10476                          Unknown            Unknown   \n",
      "10477                          Unknown            Unknown   \n",
      "10478                          Unknown            Unknown   \n",
      "10479                          Unknown            Unknown   \n",
      "10480                          Unknown            Unknown   \n",
      "\n",
      "      estimated_income_code marital_status gender  ... upgrade_membership  \\\n",
      "0           $15,000-$19,999         Single      M  ...         NotOffered   \n",
      "1         $100,000-$149,999         Single      M  ...         NotOffered   \n",
      "2         $150,000-$174,999         Single      F  ...         NotOffered   \n",
      "3                       NaN        Unknown      M  ...         NotOffered   \n",
      "4                       NaN        Married      M  ...         NotOffered   \n",
      "...                     ...            ...    ...  ...                ...   \n",
      "10476                   NaN        Unknown      M  ...         NotOffered   \n",
      "10477                   NaN        Unknown      F  ...         NotOffered   \n",
      "10478                   NaN        Unknown      F  ...         NotOffered   \n",
      "10479                   NaN        Unknown      F  ...         NotOffered   \n",
      "10480                   NaN        Unknown      M  ...         NotOffered   \n",
      "\n",
      "                       consumerview_profitability_score count_clicks_or_opens  \\\n",
      "0      Fair Profitability, Medium Likelihood to Perform                   0.0   \n",
      "1                                               Unknown                   2.0   \n",
      "2        High Profitability, High Likelihood to Perform                   0.0   \n",
      "3        High Profitability, High Likelihood to Perform                   0.0   \n",
      "4                                               Unknown                   0.0   \n",
      "...                                                 ...                   ...   \n",
      "10476    High Profitability, High Likelihood to Perform                   0.0   \n",
      "10477    High Profitability, High Likelihood to Perform                   0.0   \n",
      "10478    High Profitability, High Likelihood to Perform                   0.0   \n",
      "10479    High Profitability, High Likelihood to Perform                   0.0   \n",
      "10480    High Profitability, High Likelihood to Perform                   0.0   \n",
      "\n",
      "      credit_ranges  donor_flag  drv_driving_school_flag  occupation_group  \\\n",
      "0                 7       False                        N             Other   \n",
      "1                 5       False                        N             Other   \n",
      "2                 7       False                        N      Professional   \n",
      "3                 4       False                        N         Technical   \n",
      "4                 5       False                        N       Blue Collar   \n",
      "...             ...         ...                      ...               ...   \n",
      "10476             4       False                        N             Other   \n",
      "10477             4       False                        N             Other   \n",
      "10478             4       False                        N             Other   \n",
      "10479             4       False                        N             Other   \n",
      "10480             4       False                        N             Other   \n",
      "\n",
      "      member_tenure_years member_type Average_Member_yrcost  \n",
      "0                     7.0     Primary            145.290000  \n",
      "1                     7.0   Associate             10.456667  \n",
      "2                    23.0     Primary             10.000000  \n",
      "3                    24.0   Associate            148.166667  \n",
      "4                     0.0     Primary              0.000000  \n",
      "...                   ...         ...                   ...  \n",
      "10476                 9.0     Primary             17.743333  \n",
      "10477                16.0     Primary              0.000000  \n",
      "10478                16.0     Primary              0.000000  \n",
      "10479                16.0     Primary              0.000000  \n",
      "10480                 9.0     Unknown              0.000000  \n",
      "\n",
      "[10481 rows x 30 columns]\n"
     ]
    }
   ],
   "source": [
    "dataframes = [df_demographics, df_offer, df_others]\n",
    "\n",
    "# Columns to select from each DataFrame\n",
    "selected_columns = ['individual_key', 'age', 'children', 'dwelling_type', 'education', 'estimated_income_code', 'marital_status', \n",
    "       'gender', 'state', 'race_cleaned', 'city_cleaned','offer_name', 'accepted', 'numofoffers', 'acceptedoffers', 'add_associate', 'auto-renew',\n",
    "       'offer_protectmyid', 'upgrade_membership', 'consumerview_profitability_score',\n",
    "       'count_clicks_or_opens', 'credit_ranges', 'donor_flag',\n",
    "       'drv_driving_school_flag', 'occupation_group', 'member_tenure_years',\n",
    "       'member_type', 'Average_Member_yrcost']\n",
    "\n",
    "# Concatenate DataFrames and select columns\n",
    "result = pd.concat(dataframes, axis=1)[selected_columns]\n",
    "\n",
    "print(result)"
   ]
  },
  {
   "cell_type": "code",
   "execution_count": 173,
   "id": "21ea7a29",
   "metadata": {},
   "outputs": [
    {
     "data": {
      "text/plain": [
       "(10481, 30)"
      ]
     },
     "execution_count": 173,
     "metadata": {},
     "output_type": "execute_result"
    }
   ],
   "source": [
    "result.shape"
   ]
  },
  {
   "cell_type": "code",
   "execution_count": 174,
   "id": "53e370c4",
   "metadata": {},
   "outputs": [
    {
     "data": {
      "text/plain": [
       "individual_key                         0\n",
       "individual_key                         0\n",
       "individual_key                         0\n",
       "age                                    0\n",
       "children                               0\n",
       "dwelling_type                          0\n",
       "education                              0\n",
       "estimated_income_code               4988\n",
       "marital_status                         0\n",
       "gender                                 0\n",
       "state                                  0\n",
       "race_cleaned                           0\n",
       "city_cleaned                           0\n",
       "offer_name                             0\n",
       "accepted                               0\n",
       "numofoffers                            0\n",
       "acceptedoffers                         0\n",
       "add_associate                          0\n",
       "auto-renew                             0\n",
       "offer_protectmyid                      0\n",
       "upgrade_membership                     0\n",
       "consumerview_profitability_score       0\n",
       "count_clicks_or_opens                  0\n",
       "credit_ranges                          0\n",
       "donor_flag                             0\n",
       "drv_driving_school_flag                0\n",
       "occupation_group                       0\n",
       "member_tenure_years                    0\n",
       "member_type                            0\n",
       "Average_Member_yrcost                  0\n",
       "dtype: int64"
      ]
     },
     "execution_count": 174,
     "metadata": {},
     "output_type": "execute_result"
    }
   ],
   "source": [
    "result.isnull().sum()"
   ]
  },
  {
   "cell_type": "code",
   "execution_count": 175,
   "id": "61349ceb",
   "metadata": {},
   "outputs": [],
   "source": [
    "result.to_csv('AAA_Cleaned4.csv', index=False)"
   ]
  },
  {
   "cell_type": "code",
   "execution_count": 166,
   "id": "935a3137",
   "metadata": {},
   "outputs": [],
   "source": [
    "#result = df_demographics.join(df_offer.join(df_others, on='individual_key', how='left', lsuffix='_left', rsuffix='_right'), on='individual_key', how='left')\n"
   ]
  },
  {
   "cell_type": "code",
   "execution_count": null,
   "id": "7a0cfb54",
   "metadata": {},
   "outputs": [],
   "source": [
    "#result = pd.merge(pd.merge(df_demographics, df_offer, on='individual_key', how='inner'), df_others, on='individual_key', how='inner')\n"
   ]
  },
  {
   "cell_type": "code",
   "execution_count": null,
   "id": "1a9bc5f6",
   "metadata": {},
   "outputs": [],
   "source": [
    "#result.isnull().sum()"
   ]
  },
  {
   "cell_type": "code",
   "execution_count": null,
   "id": "c616e90c",
   "metadata": {},
   "outputs": [],
   "source": []
  },
  {
   "cell_type": "code",
   "execution_count": null,
   "id": "c3dca672",
   "metadata": {},
   "outputs": [],
   "source": [
    "#result.to_csv('AAA_Cleaned3.csv', index=False)"
   ]
  },
  {
   "cell_type": "code",
   "execution_count": null,
   "id": "ca50b69f",
   "metadata": {},
   "outputs": [],
   "source": [
    "#combined_df = pd.concat([df_demographics, df_offer, df_others])"
   ]
  },
  {
   "cell_type": "code",
   "execution_count": null,
   "id": "f02e582f",
   "metadata": {},
   "outputs": [],
   "source": [
    "#combined_df.to_csv('AAA_Cleaned.csv', index=False)"
   ]
  },
  {
   "cell_type": "code",
   "execution_count": null,
   "id": "3c7571ff",
   "metadata": {},
   "outputs": [],
   "source": [
    "#combined_df.isnull().sum()"
   ]
  }
 ],
 "metadata": {
  "kernelspec": {
   "display_name": "Python 3 (ipykernel)",
   "language": "python",
   "name": "python3"
  },
  "language_info": {
   "codemirror_mode": {
    "name": "ipython",
    "version": 3
   },
   "file_extension": ".py",
   "mimetype": "text/x-python",
   "name": "python",
   "nbconvert_exporter": "python",
   "pygments_lexer": "ipython3",
   "version": "3.9.13"
  }
 },
 "nbformat": 4,
 "nbformat_minor": 5
}
