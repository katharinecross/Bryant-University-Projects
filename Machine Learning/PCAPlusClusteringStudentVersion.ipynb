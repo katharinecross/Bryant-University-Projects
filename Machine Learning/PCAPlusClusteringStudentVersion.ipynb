{
  "nbformat": 4,
  "nbformat_minor": 0,
  "metadata": {
    "colab": {
      "provenance": []
    },
    "kernelspec": {
      "name": "python3",
      "display_name": "Python 3"
    },
    "language_info": {
      "name": "python"
    }
  },
  "cells": [
    {
      "cell_type": "code",
      "execution_count": null,
      "metadata": {
        "id": "Bk9IAnwPzrbb"
      },
      "outputs": [],
      "source": [
        "import pandas as pd"
      ]
    },
    {
      "cell_type": "code",
      "source": [
        "from google.colab import files\n",
        "upload=files.upload()"
      ],
      "metadata": {
        "colab": {
          "resources": {
            "http://localhost:8080/nbextensions/google.colab/files.js": {
              "data": "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",
              "ok": true,
              "headers": [
                [
                  "content-type",
                  "application/javascript"
                ]
              ],
              "status": 200,
              "status_text": ""
            }
          },
          "base_uri": "https://localhost:8080/",
          "height": 73
        },
        "id": "XZSZwXa4zwdS",
        "outputId": "610c6dc8-2689-4f8e-ee56-ca80c81d3f86"
      },
      "execution_count": null,
      "outputs": [
        {
          "output_type": "display_data",
          "data": {
            "text/plain": [
              "<IPython.core.display.HTML object>"
            ],
            "text/html": [
              "\n",
              "     <input type=\"file\" id=\"files-32db4c41-fd8b-4a0d-9b74-0c7b0570f68f\" name=\"files[]\" multiple disabled\n",
              "        style=\"border:none\" />\n",
              "     <output id=\"result-32db4c41-fd8b-4a0d-9b74-0c7b0570f68f\">\n",
              "      Upload widget is only available when the cell has been executed in the\n",
              "      current browser session. Please rerun this cell to enable.\n",
              "      </output>\n",
              "      <script src=\"/nbextensions/google.colab/files.js\"></script> "
            ]
          },
          "metadata": {}
        },
        {
          "output_type": "stream",
          "name": "stdout",
          "text": [
            "Saving nci_var_filtered.txt to nci_var_filtered.txt\n"
          ]
        }
      ]
    },
    {
      "cell_type": "code",
      "source": [
        "datafile = 'nci_var_filtered.txt'\n",
        "df = pd.read_csv(datafile, sep='\\t')"
      ],
      "metadata": {
        "id": "KAgFOEql0Wh_"
      },
      "execution_count": null,
      "outputs": []
    },
    {
      "cell_type": "code",
      "source": [
        "df.shape"
      ],
      "metadata": {
        "colab": {
          "base_uri": "https://localhost:8080/"
        },
        "id": "vORvUqaE0cIB",
        "outputId": "e26b8405-7253-4019-8f15-dbf4703ef1f9"
      },
      "execution_count": null,
      "outputs": [
        {
          "output_type": "execute_result",
          "data": {
            "text/plain": [
              "(9994, 61)"
            ]
          },
          "metadata": {},
          "execution_count": 4
        }
      ]
    },
    {
      "cell_type": "code",
      "source": [
        "df.head()"
      ],
      "metadata": {
        "colab": {
          "base_uri": "https://localhost:8080/",
          "height": 299
        },
        "id": "fK4OJktD0f8D",
        "outputId": "e7b1bf65-8a50-4c24-e6c9-30bf6d913a5c"
      },
      "execution_count": null,
      "outputs": [
        {
          "output_type": "execute_result",
          "data": {
            "text/plain": [
              "     gene     786-0      A498      A549      ACHN    BT-549    CAKI-1  \\\n",
              "0    A1BG -1.025477 -0.925477  0.274523 -0.875477  2.484523  1.244523   \n",
              "1     A2M -1.409323 -1.409323 -1.409323 -1.409323 -1.409323 -1.399323   \n",
              "2   A2ML1 -1.696062 -1.686062 -1.686062 -1.686062 -1.696062 -1.696062   \n",
              "3  A4GALT  1.978677  1.588677  0.908677  0.348677  1.098677  1.488677   \n",
              "4    AAAS  0.878385  0.178385  1.658385 -0.291615 -0.011615  0.568385   \n",
              "\n",
              "   CCRF-CEM   COLO205    DU-145  ...    SNB-19    SNB-75        SR    SW-620  \\\n",
              "0  1.914523 -1.025477  0.584523  ...  0.494523 -0.705477  0.914523 -0.885477   \n",
              "1 -1.299323 -1.409323 -1.399323  ... -0.889323 -0.729323 -1.409323 -1.229323   \n",
              "2 -1.696062 -1.696062 -1.696062  ... -1.696062 -1.696062 -1.696062 -1.696062   \n",
              "3 -1.791323 -1.041323 -0.601323  ...  0.008677  2.308677 -2.241323 -1.101323   \n",
              "4  1.518385  0.148385  0.158385  ... -0.041615  0.638385  0.608385  1.968385   \n",
              "\n",
              "      T-47D     TK-10      U251  UACC-257   UACC-62     UO-31  \n",
              "0  1.524523 -0.995477  0.314523  1.774523  2.104523 -0.665477  \n",
              "1 -1.399323 -1.399323 -1.369323  5.630677  3.280677 -1.399323  \n",
              "2 -1.636062 -1.696062 -1.696062 -1.686062 -1.586062 -1.696062  \n",
              "3  0.668677 -0.181323 -0.131323 -2.241323 -1.581323  1.368677  \n",
              "4  1.218385  0.098385  0.238385  0.778385  0.558385  0.508385  \n",
              "\n",
              "[5 rows x 61 columns]"
            ],
            "text/html": [
              "\n",
              "  <div id=\"df-44ad9aa8-91e0-49d0-ac04-89324bd29f07\">\n",
              "    <div class=\"colab-df-container\">\n",
              "      <div>\n",
              "<style scoped>\n",
              "    .dataframe tbody tr th:only-of-type {\n",
              "        vertical-align: middle;\n",
              "    }\n",
              "\n",
              "    .dataframe tbody tr th {\n",
              "        vertical-align: top;\n",
              "    }\n",
              "\n",
              "    .dataframe thead th {\n",
              "        text-align: right;\n",
              "    }\n",
              "</style>\n",
              "<table border=\"1\" class=\"dataframe\">\n",
              "  <thead>\n",
              "    <tr style=\"text-align: right;\">\n",
              "      <th></th>\n",
              "      <th>gene</th>\n",
              "      <th>786-0</th>\n",
              "      <th>A498</th>\n",
              "      <th>A549</th>\n",
              "      <th>ACHN</th>\n",
              "      <th>BT-549</th>\n",
              "      <th>CAKI-1</th>\n",
              "      <th>CCRF-CEM</th>\n",
              "      <th>COLO205</th>\n",
              "      <th>DU-145</th>\n",
              "      <th>...</th>\n",
              "      <th>SNB-19</th>\n",
              "      <th>SNB-75</th>\n",
              "      <th>SR</th>\n",
              "      <th>SW-620</th>\n",
              "      <th>T-47D</th>\n",
              "      <th>TK-10</th>\n",
              "      <th>U251</th>\n",
              "      <th>UACC-257</th>\n",
              "      <th>UACC-62</th>\n",
              "      <th>UO-31</th>\n",
              "    </tr>\n",
              "  </thead>\n",
              "  <tbody>\n",
              "    <tr>\n",
              "      <th>0</th>\n",
              "      <td>A1BG</td>\n",
              "      <td>-1.025477</td>\n",
              "      <td>-0.925477</td>\n",
              "      <td>0.274523</td>\n",
              "      <td>-0.875477</td>\n",
              "      <td>2.484523</td>\n",
              "      <td>1.244523</td>\n",
              "      <td>1.914523</td>\n",
              "      <td>-1.025477</td>\n",
              "      <td>0.584523</td>\n",
              "      <td>...</td>\n",
              "      <td>0.494523</td>\n",
              "      <td>-0.705477</td>\n",
              "      <td>0.914523</td>\n",
              "      <td>-0.885477</td>\n",
              "      <td>1.524523</td>\n",
              "      <td>-0.995477</td>\n",
              "      <td>0.314523</td>\n",
              "      <td>1.774523</td>\n",
              "      <td>2.104523</td>\n",
              "      <td>-0.665477</td>\n",
              "    </tr>\n",
              "    <tr>\n",
              "      <th>1</th>\n",
              "      <td>A2M</td>\n",
              "      <td>-1.409323</td>\n",
              "      <td>-1.409323</td>\n",
              "      <td>-1.409323</td>\n",
              "      <td>-1.409323</td>\n",
              "      <td>-1.409323</td>\n",
              "      <td>-1.399323</td>\n",
              "      <td>-1.299323</td>\n",
              "      <td>-1.409323</td>\n",
              "      <td>-1.399323</td>\n",
              "      <td>...</td>\n",
              "      <td>-0.889323</td>\n",
              "      <td>-0.729323</td>\n",
              "      <td>-1.409323</td>\n",
              "      <td>-1.229323</td>\n",
              "      <td>-1.399323</td>\n",
              "      <td>-1.399323</td>\n",
              "      <td>-1.369323</td>\n",
              "      <td>5.630677</td>\n",
              "      <td>3.280677</td>\n",
              "      <td>-1.399323</td>\n",
              "    </tr>\n",
              "    <tr>\n",
              "      <th>2</th>\n",
              "      <td>A2ML1</td>\n",
              "      <td>-1.696062</td>\n",
              "      <td>-1.686062</td>\n",
              "      <td>-1.686062</td>\n",
              "      <td>-1.686062</td>\n",
              "      <td>-1.696062</td>\n",
              "      <td>-1.696062</td>\n",
              "      <td>-1.696062</td>\n",
              "      <td>-1.696062</td>\n",
              "      <td>-1.696062</td>\n",
              "      <td>...</td>\n",
              "      <td>-1.696062</td>\n",
              "      <td>-1.696062</td>\n",
              "      <td>-1.696062</td>\n",
              "      <td>-1.696062</td>\n",
              "      <td>-1.636062</td>\n",
              "      <td>-1.696062</td>\n",
              "      <td>-1.696062</td>\n",
              "      <td>-1.686062</td>\n",
              "      <td>-1.586062</td>\n",
              "      <td>-1.696062</td>\n",
              "    </tr>\n",
              "    <tr>\n",
              "      <th>3</th>\n",
              "      <td>A4GALT</td>\n",
              "      <td>1.978677</td>\n",
              "      <td>1.588677</td>\n",
              "      <td>0.908677</td>\n",
              "      <td>0.348677</td>\n",
              "      <td>1.098677</td>\n",
              "      <td>1.488677</td>\n",
              "      <td>-1.791323</td>\n",
              "      <td>-1.041323</td>\n",
              "      <td>-0.601323</td>\n",
              "      <td>...</td>\n",
              "      <td>0.008677</td>\n",
              "      <td>2.308677</td>\n",
              "      <td>-2.241323</td>\n",
              "      <td>-1.101323</td>\n",
              "      <td>0.668677</td>\n",
              "      <td>-0.181323</td>\n",
              "      <td>-0.131323</td>\n",
              "      <td>-2.241323</td>\n",
              "      <td>-1.581323</td>\n",
              "      <td>1.368677</td>\n",
              "    </tr>\n",
              "    <tr>\n",
              "      <th>4</th>\n",
              "      <td>AAAS</td>\n",
              "      <td>0.878385</td>\n",
              "      <td>0.178385</td>\n",
              "      <td>1.658385</td>\n",
              "      <td>-0.291615</td>\n",
              "      <td>-0.011615</td>\n",
              "      <td>0.568385</td>\n",
              "      <td>1.518385</td>\n",
              "      <td>0.148385</td>\n",
              "      <td>0.158385</td>\n",
              "      <td>...</td>\n",
              "      <td>-0.041615</td>\n",
              "      <td>0.638385</td>\n",
              "      <td>0.608385</td>\n",
              "      <td>1.968385</td>\n",
              "      <td>1.218385</td>\n",
              "      <td>0.098385</td>\n",
              "      <td>0.238385</td>\n",
              "      <td>0.778385</td>\n",
              "      <td>0.558385</td>\n",
              "      <td>0.508385</td>\n",
              "    </tr>\n",
              "  </tbody>\n",
              "</table>\n",
              "<p>5 rows × 61 columns</p>\n",
              "</div>\n",
              "      <button class=\"colab-df-convert\" onclick=\"convertToInteractive('df-44ad9aa8-91e0-49d0-ac04-89324bd29f07')\"\n",
              "              title=\"Convert this dataframe to an interactive table.\"\n",
              "              style=\"display:none;\">\n",
              "        \n",
              "  <svg xmlns=\"http://www.w3.org/2000/svg\" height=\"24px\"viewBox=\"0 0 24 24\"\n",
              "       width=\"24px\">\n",
              "    <path d=\"M0 0h24v24H0V0z\" fill=\"none\"/>\n",
              "    <path d=\"M18.56 5.44l.94 2.06.94-2.06 2.06-.94-2.06-.94-.94-2.06-.94 2.06-2.06.94zm-11 1L8.5 8.5l.94-2.06 2.06-.94-2.06-.94L8.5 2.5l-.94 2.06-2.06.94zm10 10l.94 2.06.94-2.06 2.06-.94-2.06-.94-.94-2.06-.94 2.06-2.06.94z\"/><path d=\"M17.41 7.96l-1.37-1.37c-.4-.4-.92-.59-1.43-.59-.52 0-1.04.2-1.43.59L10.3 9.45l-7.72 7.72c-.78.78-.78 2.05 0 2.83L4 21.41c.39.39.9.59 1.41.59.51 0 1.02-.2 1.41-.59l7.78-7.78 2.81-2.81c.8-.78.8-2.07 0-2.86zM5.41 20L4 18.59l7.72-7.72 1.47 1.35L5.41 20z\"/>\n",
              "  </svg>\n",
              "      </button>\n",
              "      \n",
              "  <style>\n",
              "    .colab-df-container {\n",
              "      display:flex;\n",
              "      flex-wrap:wrap;\n",
              "      gap: 12px;\n",
              "    }\n",
              "\n",
              "    .colab-df-convert {\n",
              "      background-color: #E8F0FE;\n",
              "      border: none;\n",
              "      border-radius: 50%;\n",
              "      cursor: pointer;\n",
              "      display: none;\n",
              "      fill: #1967D2;\n",
              "      height: 32px;\n",
              "      padding: 0 0 0 0;\n",
              "      width: 32px;\n",
              "    }\n",
              "\n",
              "    .colab-df-convert:hover {\n",
              "      background-color: #E2EBFA;\n",
              "      box-shadow: 0px 1px 2px rgba(60, 64, 67, 0.3), 0px 1px 3px 1px rgba(60, 64, 67, 0.15);\n",
              "      fill: #174EA6;\n",
              "    }\n",
              "\n",
              "    [theme=dark] .colab-df-convert {\n",
              "      background-color: #3B4455;\n",
              "      fill: #D2E3FC;\n",
              "    }\n",
              "\n",
              "    [theme=dark] .colab-df-convert:hover {\n",
              "      background-color: #434B5C;\n",
              "      box-shadow: 0px 1px 3px 1px rgba(0, 0, 0, 0.15);\n",
              "      filter: drop-shadow(0px 1px 2px rgba(0, 0, 0, 0.3));\n",
              "      fill: #FFFFFF;\n",
              "    }\n",
              "  </style>\n",
              "\n",
              "      <script>\n",
              "        const buttonEl =\n",
              "          document.querySelector('#df-44ad9aa8-91e0-49d0-ac04-89324bd29f07 button.colab-df-convert');\n",
              "        buttonEl.style.display =\n",
              "          google.colab.kernel.accessAllowed ? 'block' : 'none';\n",
              "\n",
              "        async function convertToInteractive(key) {\n",
              "          const element = document.querySelector('#df-44ad9aa8-91e0-49d0-ac04-89324bd29f07');\n",
              "          const dataTable =\n",
              "            await google.colab.kernel.invokeFunction('convertToInteractive',\n",
              "                                                     [key], {});\n",
              "          if (!dataTable) return;\n",
              "\n",
              "          const docLinkHtml = 'Like what you see? Visit the ' +\n",
              "            '<a target=\"_blank\" href=https://colab.research.google.com/notebooks/data_table.ipynb>data table notebook</a>'\n",
              "            + ' to learn more about interactive tables.';\n",
              "          element.innerHTML = '';\n",
              "          dataTable['output_type'] = 'display_data';\n",
              "          await google.colab.output.renderOutput(dataTable, element);\n",
              "          const docLink = document.createElement('div');\n",
              "          docLink.innerHTML = docLinkHtml;\n",
              "          element.appendChild(docLink);\n",
              "        }\n",
              "      </script>\n",
              "    </div>\n",
              "  </div>\n",
              "  "
            ]
          },
          "metadata": {},
          "execution_count": 5
        }
      ]
    },
    {
      "cell_type": "code",
      "source": [
        "df = df.set_index('gene')"
      ],
      "metadata": {
        "id": "qQYTxqvz0dxG"
      },
      "execution_count": null,
      "outputs": []
    },
    {
      "cell_type": "code",
      "source": [
        "df.head()"
      ],
      "metadata": {
        "colab": {
          "base_uri": "https://localhost:8080/",
          "height": 331
        },
        "id": "DjZf4j_F0lQC",
        "outputId": "318e64a9-edce-4549-a83b-8875acea1c73"
      },
      "execution_count": null,
      "outputs": [
        {
          "output_type": "execute_result",
          "data": {
            "text/plain": [
              "           786-0      A498      A549      ACHN    BT-549    CAKI-1  CCRF-CEM  \\\n",
              "gene                                                                           \n",
              "A1BG   -1.025477 -0.925477  0.274523 -0.875477  2.484523  1.244523  1.914523   \n",
              "A2M    -1.409323 -1.409323 -1.409323 -1.409323 -1.409323 -1.399323 -1.299323   \n",
              "A2ML1  -1.696062 -1.686062 -1.686062 -1.686062 -1.696062 -1.696062 -1.696062   \n",
              "A4GALT  1.978677  1.588677  0.908677  0.348677  1.098677  1.488677 -1.791323   \n",
              "AAAS    0.878385  0.178385  1.658385 -0.291615 -0.011615  0.568385  1.518385   \n",
              "\n",
              "         COLO205    DU-145      EKVX  ...    SNB-19    SNB-75        SR  \\\n",
              "gene                                  ...                                 \n",
              "A1BG   -1.025477  0.584523  0.094523  ...  0.494523 -0.705477  0.914523   \n",
              "A2M    -1.409323 -1.399323  0.100677  ... -0.889323 -0.729323 -1.409323   \n",
              "A2ML1  -1.696062 -1.696062 -1.586062  ... -1.696062 -1.696062 -1.696062   \n",
              "A4GALT -1.041323 -0.601323  1.498677  ...  0.008677  2.308677 -2.241323   \n",
              "AAAS    0.148385  0.158385  1.038385  ... -0.041615  0.638385  0.608385   \n",
              "\n",
              "          SW-620     T-47D     TK-10      U251  UACC-257   UACC-62     UO-31  \n",
              "gene                                                                          \n",
              "A1BG   -0.885477  1.524523 -0.995477  0.314523  1.774523  2.104523 -0.665477  \n",
              "A2M    -1.229323 -1.399323 -1.399323 -1.369323  5.630677  3.280677 -1.399323  \n",
              "A2ML1  -1.696062 -1.636062 -1.696062 -1.696062 -1.686062 -1.586062 -1.696062  \n",
              "A4GALT -1.101323  0.668677 -0.181323 -0.131323 -2.241323 -1.581323  1.368677  \n",
              "AAAS    1.968385  1.218385  0.098385  0.238385  0.778385  0.558385  0.508385  \n",
              "\n",
              "[5 rows x 60 columns]"
            ],
            "text/html": [
              "\n",
              "  <div id=\"df-e95bcea6-c8d9-4cf0-8d2b-ff43a6a9cb15\">\n",
              "    <div class=\"colab-df-container\">\n",
              "      <div>\n",
              "<style scoped>\n",
              "    .dataframe tbody tr th:only-of-type {\n",
              "        vertical-align: middle;\n",
              "    }\n",
              "\n",
              "    .dataframe tbody tr th {\n",
              "        vertical-align: top;\n",
              "    }\n",
              "\n",
              "    .dataframe thead th {\n",
              "        text-align: right;\n",
              "    }\n",
              "</style>\n",
              "<table border=\"1\" class=\"dataframe\">\n",
              "  <thead>\n",
              "    <tr style=\"text-align: right;\">\n",
              "      <th></th>\n",
              "      <th>786-0</th>\n",
              "      <th>A498</th>\n",
              "      <th>A549</th>\n",
              "      <th>ACHN</th>\n",
              "      <th>BT-549</th>\n",
              "      <th>CAKI-1</th>\n",
              "      <th>CCRF-CEM</th>\n",
              "      <th>COLO205</th>\n",
              "      <th>DU-145</th>\n",
              "      <th>EKVX</th>\n",
              "      <th>...</th>\n",
              "      <th>SNB-19</th>\n",
              "      <th>SNB-75</th>\n",
              "      <th>SR</th>\n",
              "      <th>SW-620</th>\n",
              "      <th>T-47D</th>\n",
              "      <th>TK-10</th>\n",
              "      <th>U251</th>\n",
              "      <th>UACC-257</th>\n",
              "      <th>UACC-62</th>\n",
              "      <th>UO-31</th>\n",
              "    </tr>\n",
              "    <tr>\n",
              "      <th>gene</th>\n",
              "      <th></th>\n",
              "      <th></th>\n",
              "      <th></th>\n",
              "      <th></th>\n",
              "      <th></th>\n",
              "      <th></th>\n",
              "      <th></th>\n",
              "      <th></th>\n",
              "      <th></th>\n",
              "      <th></th>\n",
              "      <th></th>\n",
              "      <th></th>\n",
              "      <th></th>\n",
              "      <th></th>\n",
              "      <th></th>\n",
              "      <th></th>\n",
              "      <th></th>\n",
              "      <th></th>\n",
              "      <th></th>\n",
              "      <th></th>\n",
              "      <th></th>\n",
              "    </tr>\n",
              "  </thead>\n",
              "  <tbody>\n",
              "    <tr>\n",
              "      <th>A1BG</th>\n",
              "      <td>-1.025477</td>\n",
              "      <td>-0.925477</td>\n",
              "      <td>0.274523</td>\n",
              "      <td>-0.875477</td>\n",
              "      <td>2.484523</td>\n",
              "      <td>1.244523</td>\n",
              "      <td>1.914523</td>\n",
              "      <td>-1.025477</td>\n",
              "      <td>0.584523</td>\n",
              "      <td>0.094523</td>\n",
              "      <td>...</td>\n",
              "      <td>0.494523</td>\n",
              "      <td>-0.705477</td>\n",
              "      <td>0.914523</td>\n",
              "      <td>-0.885477</td>\n",
              "      <td>1.524523</td>\n",
              "      <td>-0.995477</td>\n",
              "      <td>0.314523</td>\n",
              "      <td>1.774523</td>\n",
              "      <td>2.104523</td>\n",
              "      <td>-0.665477</td>\n",
              "    </tr>\n",
              "    <tr>\n",
              "      <th>A2M</th>\n",
              "      <td>-1.409323</td>\n",
              "      <td>-1.409323</td>\n",
              "      <td>-1.409323</td>\n",
              "      <td>-1.409323</td>\n",
              "      <td>-1.409323</td>\n",
              "      <td>-1.399323</td>\n",
              "      <td>-1.299323</td>\n",
              "      <td>-1.409323</td>\n",
              "      <td>-1.399323</td>\n",
              "      <td>0.100677</td>\n",
              "      <td>...</td>\n",
              "      <td>-0.889323</td>\n",
              "      <td>-0.729323</td>\n",
              "      <td>-1.409323</td>\n",
              "      <td>-1.229323</td>\n",
              "      <td>-1.399323</td>\n",
              "      <td>-1.399323</td>\n",
              "      <td>-1.369323</td>\n",
              "      <td>5.630677</td>\n",
              "      <td>3.280677</td>\n",
              "      <td>-1.399323</td>\n",
              "    </tr>\n",
              "    <tr>\n",
              "      <th>A2ML1</th>\n",
              "      <td>-1.696062</td>\n",
              "      <td>-1.686062</td>\n",
              "      <td>-1.686062</td>\n",
              "      <td>-1.686062</td>\n",
              "      <td>-1.696062</td>\n",
              "      <td>-1.696062</td>\n",
              "      <td>-1.696062</td>\n",
              "      <td>-1.696062</td>\n",
              "      <td>-1.696062</td>\n",
              "      <td>-1.586062</td>\n",
              "      <td>...</td>\n",
              "      <td>-1.696062</td>\n",
              "      <td>-1.696062</td>\n",
              "      <td>-1.696062</td>\n",
              "      <td>-1.696062</td>\n",
              "      <td>-1.636062</td>\n",
              "      <td>-1.696062</td>\n",
              "      <td>-1.696062</td>\n",
              "      <td>-1.686062</td>\n",
              "      <td>-1.586062</td>\n",
              "      <td>-1.696062</td>\n",
              "    </tr>\n",
              "    <tr>\n",
              "      <th>A4GALT</th>\n",
              "      <td>1.978677</td>\n",
              "      <td>1.588677</td>\n",
              "      <td>0.908677</td>\n",
              "      <td>0.348677</td>\n",
              "      <td>1.098677</td>\n",
              "      <td>1.488677</td>\n",
              "      <td>-1.791323</td>\n",
              "      <td>-1.041323</td>\n",
              "      <td>-0.601323</td>\n",
              "      <td>1.498677</td>\n",
              "      <td>...</td>\n",
              "      <td>0.008677</td>\n",
              "      <td>2.308677</td>\n",
              "      <td>-2.241323</td>\n",
              "      <td>-1.101323</td>\n",
              "      <td>0.668677</td>\n",
              "      <td>-0.181323</td>\n",
              "      <td>-0.131323</td>\n",
              "      <td>-2.241323</td>\n",
              "      <td>-1.581323</td>\n",
              "      <td>1.368677</td>\n",
              "    </tr>\n",
              "    <tr>\n",
              "      <th>AAAS</th>\n",
              "      <td>0.878385</td>\n",
              "      <td>0.178385</td>\n",
              "      <td>1.658385</td>\n",
              "      <td>-0.291615</td>\n",
              "      <td>-0.011615</td>\n",
              "      <td>0.568385</td>\n",
              "      <td>1.518385</td>\n",
              "      <td>0.148385</td>\n",
              "      <td>0.158385</td>\n",
              "      <td>1.038385</td>\n",
              "      <td>...</td>\n",
              "      <td>-0.041615</td>\n",
              "      <td>0.638385</td>\n",
              "      <td>0.608385</td>\n",
              "      <td>1.968385</td>\n",
              "      <td>1.218385</td>\n",
              "      <td>0.098385</td>\n",
              "      <td>0.238385</td>\n",
              "      <td>0.778385</td>\n",
              "      <td>0.558385</td>\n",
              "      <td>0.508385</td>\n",
              "    </tr>\n",
              "  </tbody>\n",
              "</table>\n",
              "<p>5 rows × 60 columns</p>\n",
              "</div>\n",
              "      <button class=\"colab-df-convert\" onclick=\"convertToInteractive('df-e95bcea6-c8d9-4cf0-8d2b-ff43a6a9cb15')\"\n",
              "              title=\"Convert this dataframe to an interactive table.\"\n",
              "              style=\"display:none;\">\n",
              "        \n",
              "  <svg xmlns=\"http://www.w3.org/2000/svg\" height=\"24px\"viewBox=\"0 0 24 24\"\n",
              "       width=\"24px\">\n",
              "    <path d=\"M0 0h24v24H0V0z\" fill=\"none\"/>\n",
              "    <path d=\"M18.56 5.44l.94 2.06.94-2.06 2.06-.94-2.06-.94-.94-2.06-.94 2.06-2.06.94zm-11 1L8.5 8.5l.94-2.06 2.06-.94-2.06-.94L8.5 2.5l-.94 2.06-2.06.94zm10 10l.94 2.06.94-2.06 2.06-.94-2.06-.94-.94-2.06-.94 2.06-2.06.94z\"/><path d=\"M17.41 7.96l-1.37-1.37c-.4-.4-.92-.59-1.43-.59-.52 0-1.04.2-1.43.59L10.3 9.45l-7.72 7.72c-.78.78-.78 2.05 0 2.83L4 21.41c.39.39.9.59 1.41.59.51 0 1.02-.2 1.41-.59l7.78-7.78 2.81-2.81c.8-.78.8-2.07 0-2.86zM5.41 20L4 18.59l7.72-7.72 1.47 1.35L5.41 20z\"/>\n",
              "  </svg>\n",
              "      </button>\n",
              "      \n",
              "  <style>\n",
              "    .colab-df-container {\n",
              "      display:flex;\n",
              "      flex-wrap:wrap;\n",
              "      gap: 12px;\n",
              "    }\n",
              "\n",
              "    .colab-df-convert {\n",
              "      background-color: #E8F0FE;\n",
              "      border: none;\n",
              "      border-radius: 50%;\n",
              "      cursor: pointer;\n",
              "      display: none;\n",
              "      fill: #1967D2;\n",
              "      height: 32px;\n",
              "      padding: 0 0 0 0;\n",
              "      width: 32px;\n",
              "    }\n",
              "\n",
              "    .colab-df-convert:hover {\n",
              "      background-color: #E2EBFA;\n",
              "      box-shadow: 0px 1px 2px rgba(60, 64, 67, 0.3), 0px 1px 3px 1px rgba(60, 64, 67, 0.15);\n",
              "      fill: #174EA6;\n",
              "    }\n",
              "\n",
              "    [theme=dark] .colab-df-convert {\n",
              "      background-color: #3B4455;\n",
              "      fill: #D2E3FC;\n",
              "    }\n",
              "\n",
              "    [theme=dark] .colab-df-convert:hover {\n",
              "      background-color: #434B5C;\n",
              "      box-shadow: 0px 1px 3px 1px rgba(0, 0, 0, 0.15);\n",
              "      filter: drop-shadow(0px 1px 2px rgba(0, 0, 0, 0.3));\n",
              "      fill: #FFFFFF;\n",
              "    }\n",
              "  </style>\n",
              "\n",
              "      <script>\n",
              "        const buttonEl =\n",
              "          document.querySelector('#df-e95bcea6-c8d9-4cf0-8d2b-ff43a6a9cb15 button.colab-df-convert');\n",
              "        buttonEl.style.display =\n",
              "          google.colab.kernel.accessAllowed ? 'block' : 'none';\n",
              "\n",
              "        async function convertToInteractive(key) {\n",
              "          const element = document.querySelector('#df-e95bcea6-c8d9-4cf0-8d2b-ff43a6a9cb15');\n",
              "          const dataTable =\n",
              "            await google.colab.kernel.invokeFunction('convertToInteractive',\n",
              "                                                     [key], {});\n",
              "          if (!dataTable) return;\n",
              "\n",
              "          const docLinkHtml = 'Like what you see? Visit the ' +\n",
              "            '<a target=\"_blank\" href=https://colab.research.google.com/notebooks/data_table.ipynb>data table notebook</a>'\n",
              "            + ' to learn more about interactive tables.';\n",
              "          element.innerHTML = '';\n",
              "          dataTable['output_type'] = 'display_data';\n",
              "          await google.colab.output.renderOutput(dataTable, element);\n",
              "          const docLink = document.createElement('div');\n",
              "          docLink.innerHTML = docLinkHtml;\n",
              "          element.appendChild(docLink);\n",
              "        }\n",
              "      </script>\n",
              "    </div>\n",
              "  </div>\n",
              "  "
            ]
          },
          "metadata": {},
          "execution_count": 7
        }
      ]
    },
    {
      "cell_type": "code",
      "source": [
        "cells = list(df.columns.values)"
      ],
      "metadata": {
        "id": "CFlDvwej0sOg"
      },
      "execution_count": null,
      "outputs": []
    },
    {
      "cell_type": "code",
      "source": [
        "import numpy as np\n",
        "from scipy.cluster.hierarchy import dendrogram, linkage\n",
        "from matplotlib import pyplot as plt"
      ],
      "metadata": {
        "id": "L-x0gQt90zJE"
      },
      "execution_count": null,
      "outputs": []
    },
    {
      "cell_type": "code",
      "source": [
        "#get just the numerical data from the dataframe in a numpy array\n",
        "D = df.values\n",
        "D.shape"
      ],
      "metadata": {
        "colab": {
          "base_uri": "https://localhost:8080/"
        },
        "id": "lATfrQ9X030G",
        "outputId": "b476a595-a51f-409e-c3ba-3654aa43caa9"
      },
      "execution_count": null,
      "outputs": [
        {
          "output_type": "execute_result",
          "data": {
            "text/plain": [
              "(9994, 60)"
            ]
          },
          "metadata": {},
          "execution_count": 10
        }
      ]
    },
    {
      "cell_type": "code",
      "source": [
        "# Check to see if we need to transpose D\n",
        "# Length of leaf labels should be same as the number of rows in D\n",
        "# Plus, scipy’s clustering algorithm clusters the rows, not the columns. If we want to cluster the cell lines, we’ll need to\n",
        "# transpose the data.\n",
        "import numpy as np\n",
        "D = np.transpose(D)\n",
        "D.shape"
      ],
      "metadata": {
        "colab": {
          "base_uri": "https://localhost:8080/"
        },
        "id": "bLav_Qie07OT",
        "outputId": "41b1e3c7-2f9e-43a1-faf6-1f2f8965daeb"
      },
      "execution_count": null,
      "outputs": [
        {
          "output_type": "execute_result",
          "data": {
            "text/plain": [
              "(60, 9994)"
            ]
          },
          "metadata": {},
          "execution_count": 11
        }
      ]
    },
    {
      "cell_type": "code",
      "source": [
        "# Perform hierarchical clustering. You can specify different linkage methods and distance metrics\n",
        "Z = linkage(D, method='ward', metric= 'euclidean' )"
      ],
      "metadata": {
        "id": "sHCiprIJ1oSE"
      },
      "execution_count": null,
      "outputs": []
    },
    {
      "cell_type": "code",
      "source": [
        "# plot dendrogram\n",
        "plt.figure(figsize=(10, 6))\n",
        "ax = plt.subplot()\n",
        "plt.subplots_adjust(left=0.07, bottom=0.3, right=0.98, top=0.95,\n",
        "wspace=0, hspace=0)\n",
        "plt.xlabel('Cell Line')\n",
        "plt.ylabel('Distance')\n",
        "dendrogram(Z, leaf_rotation=90., leaf_font_size=10., labels=cells)"
      ],
      "metadata": {
        "colab": {
          "base_uri": "https://localhost:8080/",
          "height": 1000
        },
        "id": "KxyTQ8l814qV",
        "outputId": "5921b559-e945-4135-d608-aac9b29cf584"
      },
      "execution_count": null,
      "outputs": [
        {
          "output_type": "execute_result",
          "data": {
            "text/plain": [
              "{'color_list': ['g',\n",
              "  'g',\n",
              "  'g',\n",
              "  'g',\n",
              "  'g',\n",
              "  'g',\n",
              "  'r',\n",
              "  'r',\n",
              "  'r',\n",
              "  'r',\n",
              "  'r',\n",
              "  'r',\n",
              "  'r',\n",
              "  'r',\n",
              "  'r',\n",
              "  'r',\n",
              "  'r',\n",
              "  'r',\n",
              "  'r',\n",
              "  'r',\n",
              "  'b',\n",
              "  'c',\n",
              "  'c',\n",
              "  'c',\n",
              "  'c',\n",
              "  'c',\n",
              "  'c',\n",
              "  'c',\n",
              "  'm',\n",
              "  'm',\n",
              "  'm',\n",
              "  'm',\n",
              "  'm',\n",
              "  'y',\n",
              "  'y',\n",
              "  'y',\n",
              "  'y',\n",
              "  'y',\n",
              "  'y',\n",
              "  'y',\n",
              "  'y',\n",
              "  'y',\n",
              "  'y',\n",
              "  'y',\n",
              "  'y',\n",
              "  'y',\n",
              "  'y',\n",
              "  'y',\n",
              "  'y',\n",
              "  'y',\n",
              "  'y',\n",
              "  'y',\n",
              "  'y',\n",
              "  'y',\n",
              "  'y',\n",
              "  'y',\n",
              "  'b',\n",
              "  'b',\n",
              "  'b'],\n",
              " 'dcoord': [[0.0, 82.87211654109035, 82.87211654109035, 0.0],\n",
              "  [0.0, 70.49635309716415, 70.49635309716415, 0.0],\n",
              "  [0.0, 96.03522999399793, 96.03522999399793, 70.49635309716415],\n",
              "  [82.87211654109035,\n",
              "   103.95308855440553,\n",
              "   103.95308855440553,\n",
              "   96.03522999399793],\n",
              "  [0.0, 112.6659567038779, 112.6659567038779, 0.0],\n",
              "  [103.95308855440553,\n",
              "   131.1818547774693,\n",
              "   131.1818547774693,\n",
              "   112.6659567038779],\n",
              "  [0.0, 77.70020012844232, 77.70020012844232, 0.0],\n",
              "  [0.0, 82.72078960777269, 82.72078960777269, 77.70020012844232],\n",
              "  [0.0, 90.10967049471856, 90.10967049471856, 82.72078960777269],\n",
              "  [0.0, 110.31907228580226, 110.31907228580226, 90.10967049471856],\n",
              "  [0.0, 76.32953491277179, 76.32953491277179, 0.0],\n",
              "  [0.0, 79.88839277391968, 79.88839277391968, 76.32953491277179],\n",
              "  [0.0, 85.88570311757383, 85.88570311757383, 79.88839277391968],\n",
              "  [0.0, 96.4724594897428, 96.4724594897428, 85.88570311757383],\n",
              "  [0.0, 105.59049370090135, 105.59049370090135, 96.4724594897428],\n",
              "  [0.0, 53.77962904297491, 53.77962904297491, 0.0],\n",
              "  [0.0, 95.92928749865733, 95.92928749865733, 0.0],\n",
              "  [53.77962904297491,\n",
              "   108.19718411308145,\n",
              "   108.19718411308145,\n",
              "   95.92928749865733],\n",
              "  [105.59049370090135,\n",
              "   113.02538400731105,\n",
              "   113.02538400731105,\n",
              "   108.19718411308145],\n",
              "  [110.31907228580226,\n",
              "   136.14470607898545,\n",
              "   136.14470607898545,\n",
              "   113.02538400731105],\n",
              "  [131.1818547774693,\n",
              "   212.32343887695635,\n",
              "   212.32343887695635,\n",
              "   136.14470607898545],\n",
              "  [0.0, 67.29025040821311, 67.29025040821311, 0.0],\n",
              "  [0.0, 74.47307701444883, 74.47307701444883, 0.0],\n",
              "  [0.0, 76.35727077364689, 76.35727077364689, 74.47307701444883],\n",
              "  [67.29025040821311, 85.15197261367516, 85.15197261367516, 76.35727077364689],\n",
              "  [0.0, 78.32431423255545, 78.32431423255545, 0.0],\n",
              "  [0.0, 86.42382349020933, 86.42382349020933, 78.32431423255545],\n",
              "  [85.15197261367516, 109.5177238776147, 109.5177238776147, 86.42382349020933],\n",
              "  [0.0, 62.71064502937285, 62.71064502937285, 0.0],\n",
              "  [0.0, 110.17304389005523, 110.17304389005523, 0.0],\n",
              "  [0.0, 116.80583033393519, 116.80583033393519, 110.17304389005523],\n",
              "  [0.0, 120.39219347615551, 120.39219347615551, 116.80583033393519],\n",
              "  [62.71064502937285,\n",
              "   135.67242012779707,\n",
              "   135.67242012779707,\n",
              "   120.39219347615551],\n",
              "  [0.0, 81.81082141135144, 81.81082141135144, 0.0],\n",
              "  [0.0, 84.41848612715138, 84.41848612715138, 0.0],\n",
              "  [81.81082141135144, 91.04853952700216, 91.04853952700216, 84.41848612715138],\n",
              "  [0.0, 73.67846632497191, 73.67846632497191, 0.0],\n",
              "  [0.0, 71.63928042631387, 71.63928042631387, 0.0],\n",
              "  [0.0, 91.21170849549267, 91.21170849549267, 71.63928042631387],\n",
              "  [73.67846632497191,\n",
              "   104.78376006487564,\n",
              "   104.78376006487564,\n",
              "   91.21170849549267],\n",
              "  [91.04853952700216,\n",
              "   119.86449126224011,\n",
              "   119.86449126224011,\n",
              "   104.78376006487564],\n",
              "  [0.0, 45.241521857692, 45.241521857692, 0.0],\n",
              "  [0.0, 85.39786765487798, 85.39786765487798, 0.0],\n",
              "  [0.0, 91.8601092241171, 91.8601092241171, 85.39786765487798],\n",
              "  [0.0, 99.06733736874821, 99.06733736874821, 91.8601092241171],\n",
              "  [0.0, 109.74982970374126, 109.74982970374126, 99.06733736874821],\n",
              "  [0.0, 87.83321922826107, 87.83321922826107, 0.0],\n",
              "  [0.0, 90.52983044278837, 90.52983044278837, 0.0],\n",
              "  [0.0, 93.24852635118026, 93.24852635118026, 90.52983044278837],\n",
              "  [0.0, 102.5283230787148, 102.5283230787148, 93.24852635118026],\n",
              "  [0.0, 107.49290720787145, 107.49290720787145, 102.5283230787148],\n",
              "  [0.0, 119.33111357339588, 119.33111357339588, 107.49290720787145],\n",
              "  [87.83321922826107,\n",
              "   121.55385857032107,\n",
              "   121.55385857032107,\n",
              "   119.33111357339588],\n",
              "  [109.74982970374126,\n",
              "   124.57174177649969,\n",
              "   124.57174177649969,\n",
              "   121.55385857032107],\n",
              "  [45.241521857692,\n",
              "   137.17463578993977,\n",
              "   137.17463578993977,\n",
              "   124.57174177649969],\n",
              "  [119.86449126224011,\n",
              "   177.87815807768868,\n",
              "   177.87815807768868,\n",
              "   137.17463578993977],\n",
              "  [135.67242012779707,\n",
              "   233.88948248407053,\n",
              "   233.88948248407053,\n",
              "   177.87815807768868],\n",
              "  [109.5177238776147,\n",
              "   242.87200041759047,\n",
              "   242.87200041759047,\n",
              "   233.88948248407053],\n",
              "  [212.32343887695635,\n",
              "   297.7820189508269,\n",
              "   297.7820189508269,\n",
              "   242.87200041759047]],\n",
              " 'icoord': [[5.0, 5.0, 15.0, 15.0],\n",
              "  [35.0, 35.0, 45.0, 45.0],\n",
              "  [25.0, 25.0, 40.0, 40.0],\n",
              "  [10.0, 10.0, 32.5, 32.5],\n",
              "  [55.0, 55.0, 65.0, 65.0],\n",
              "  [21.25, 21.25, 60.0, 60.0],\n",
              "  [105.0, 105.0, 115.0, 115.0],\n",
              "  [95.0, 95.0, 110.0, 110.0],\n",
              "  [85.0, 85.0, 102.5, 102.5],\n",
              "  [75.0, 75.0, 93.75, 93.75],\n",
              "  [165.0, 165.0, 175.0, 175.0],\n",
              "  [155.0, 155.0, 170.0, 170.0],\n",
              "  [145.0, 145.0, 162.5, 162.5],\n",
              "  [135.0, 135.0, 153.75, 153.75],\n",
              "  [125.0, 125.0, 144.375, 144.375],\n",
              "  [185.0, 185.0, 195.0, 195.0],\n",
              "  [205.0, 205.0, 215.0, 215.0],\n",
              "  [190.0, 190.0, 210.0, 210.0],\n",
              "  [134.6875, 134.6875, 200.0, 200.0],\n",
              "  [84.375, 84.375, 167.34375, 167.34375],\n",
              "  [40.625, 40.625, 125.859375, 125.859375],\n",
              "  [225.0, 225.0, 235.0, 235.0],\n",
              "  [255.0, 255.0, 265.0, 265.0],\n",
              "  [245.0, 245.0, 260.0, 260.0],\n",
              "  [230.0, 230.0, 252.5, 252.5],\n",
              "  [285.0, 285.0, 295.0, 295.0],\n",
              "  [275.0, 275.0, 290.0, 290.0],\n",
              "  [241.25, 241.25, 282.5, 282.5],\n",
              "  [305.0, 305.0, 315.0, 315.0],\n",
              "  [345.0, 345.0, 355.0, 355.0],\n",
              "  [335.0, 335.0, 350.0, 350.0],\n",
              "  [325.0, 325.0, 342.5, 342.5],\n",
              "  [310.0, 310.0, 333.75, 333.75],\n",
              "  [365.0, 365.0, 375.0, 375.0],\n",
              "  [385.0, 385.0, 395.0, 395.0],\n",
              "  [370.0, 370.0, 390.0, 390.0],\n",
              "  [405.0, 405.0, 415.0, 415.0],\n",
              "  [435.0, 435.0, 445.0, 445.0],\n",
              "  [425.0, 425.0, 440.0, 440.0],\n",
              "  [410.0, 410.0, 432.5, 432.5],\n",
              "  [380.0, 380.0, 421.25, 421.25],\n",
              "  [455.0, 455.0, 465.0, 465.0],\n",
              "  [505.0, 505.0, 515.0, 515.0],\n",
              "  [495.0, 495.0, 510.0, 510.0],\n",
              "  [485.0, 485.0, 502.5, 502.5],\n",
              "  [475.0, 475.0, 493.75, 493.75],\n",
              "  [525.0, 525.0, 535.0, 535.0],\n",
              "  [585.0, 585.0, 595.0, 595.0],\n",
              "  [575.0, 575.0, 590.0, 590.0],\n",
              "  [565.0, 565.0, 582.5, 582.5],\n",
              "  [555.0, 555.0, 573.75, 573.75],\n",
              "  [545.0, 545.0, 564.375, 564.375],\n",
              "  [530.0, 530.0, 554.6875, 554.6875],\n",
              "  [484.375, 484.375, 542.34375, 542.34375],\n",
              "  [460.0, 460.0, 513.359375, 513.359375],\n",
              "  [400.625, 400.625, 486.6796875, 486.6796875],\n",
              "  [321.875, 321.875, 443.65234375, 443.65234375],\n",
              "  [261.875, 261.875, 382.763671875, 382.763671875],\n",
              "  [83.2421875, 83.2421875, 322.3193359375, 322.3193359375]],\n",
              " 'ivl': ['HT29',\n",
              "  'KM12',\n",
              "  'MCF7',\n",
              "  'HCC-2998',\n",
              "  'HCT-15',\n",
              "  'COLO205',\n",
              "  'MDA-MB-468',\n",
              "  'NCI-H226',\n",
              "  'CAKI-1',\n",
              "  'ACHN',\n",
              "  'TK-10',\n",
              "  'UO-31',\n",
              "  'NCI-H522',\n",
              "  'NCI-H460',\n",
              "  'LOX-IMVI',\n",
              "  'DU-145',\n",
              "  'HOP-62',\n",
              "  'SN12C',\n",
              "  'SNB-19',\n",
              "  'U251',\n",
              "  'BT-549',\n",
              "  'HS-578T',\n",
              "  'M14',\n",
              "  'MDA-MB-435',\n",
              "  'UACC-62',\n",
              "  'SK-MEL-5',\n",
              "  'UACC-257',\n",
              "  'SK-MEL-2',\n",
              "  'MALME-3M',\n",
              "  'SK-MEL-28',\n",
              "  'CCRF-CEM',\n",
              "  'MOLT-4',\n",
              "  'SR',\n",
              "  'K-562',\n",
              "  'HL-60',\n",
              "  'RPMI-8226',\n",
              "  'SF-539',\n",
              "  'SNB-75',\n",
              "  'SF-268',\n",
              "  'SF-295',\n",
              "  'HOP-92',\n",
              "  'MDA-MB-231',\n",
              "  'A498',\n",
              "  '786-0',\n",
              "  'RXF-393',\n",
              "  'NCI-ADR-RES',\n",
              "  'OVCAR-8',\n",
              "  'SW-620',\n",
              "  'IGR-OV1',\n",
              "  'PC-3',\n",
              "  'HCT-116',\n",
              "  'NCI-H23',\n",
              "  'OVCAR-3',\n",
              "  'OVCAR-4',\n",
              "  'T-47D',\n",
              "  'NCI-H322M',\n",
              "  'SK-OV-3',\n",
              "  'OVCAR-5',\n",
              "  'A549',\n",
              "  'EKVX'],\n",
              " 'leaves': [17,\n",
              "  20,\n",
              "  24,\n",
              "  10,\n",
              "  12,\n",
              "  7,\n",
              "  27,\n",
              "  30,\n",
              "  5,\n",
              "  3,\n",
              "  55,\n",
              "  59,\n",
              "  34,\n",
              "  33,\n",
              "  21,\n",
              "  8,\n",
              "  14,\n",
              "  49,\n",
              "  50,\n",
              "  56,\n",
              "  4,\n",
              "  16,\n",
              "  22,\n",
              "  26,\n",
              "  58,\n",
              "  47,\n",
              "  57,\n",
              "  45,\n",
              "  23,\n",
              "  46,\n",
              "  6,\n",
              "  28,\n",
              "  52,\n",
              "  19,\n",
              "  13,\n",
              "  40,\n",
              "  44,\n",
              "  51,\n",
              "  42,\n",
              "  43,\n",
              "  15,\n",
              "  25,\n",
              "  1,\n",
              "  0,\n",
              "  41,\n",
              "  29,\n",
              "  38,\n",
              "  53,\n",
              "  18,\n",
              "  39,\n",
              "  11,\n",
              "  31,\n",
              "  35,\n",
              "  36,\n",
              "  54,\n",
              "  32,\n",
              "  48,\n",
              "  37,\n",
              "  2,\n",
              "  9]}"
            ]
          },
          "metadata": {},
          "execution_count": 13
        },
        {
          "output_type": "display_data",
          "data": {
            "text/plain": [
              "<Figure size 720x432 with 1 Axes>"
            ],
            "image/png": "[encoded data removed]"
          },
          "metadata": {
            "needs_background": "light"
          }
        }
      ]
    },
    {
      "cell_type": "markdown",
      "source": [
        "# We can get a rough idea of which cell lines have similar global gene expression profiles. For instance, we see many of the ovarian cancer cell lines in the yellow cluster (OVCAR-3, OVCAR4, OVCAR8, SKO-OV-3) and some melanomas in the blue cluster (SK-MEL-28, MALME3M, SK-MEL-2, M14, MDA-MD-435). If we knew something about the mutational background, we could start looking for other rational explanations for the clusters. e.g., do any of the clusters share a driving mutation in RAS? BRAF? EGFR?"
      ],
      "metadata": {
        "id": "h-HlAbcN28T_"
      }
    },
    {
      "cell_type": "code",
      "source": [
        "from sklearn.decomposition import PCA"
      ],
      "metadata": {
        "id": "Viv4BaQ13NCE"
      },
      "execution_count": null,
      "outputs": []
    },
    {
      "cell_type": "code",
      "source": [
        "# Perform PCA on the data, for dimensionality reduction\n",
        "def PCAer(df):\n",
        "  D = df.values\n",
        "  D = np.transpose(D)\n",
        "  ## Define a PCA object\n",
        "  pca = PCA()\n",
        "  ## Fit a pca model\n",
        "  pca.fit(D)\n",
        "  ## Get the projection\n",
        "  projected = pca.fit_transform(D)\n",
        "  return projected"
      ],
      "metadata": {
        "id": "w1SQJ8Yr3RuB"
      },
      "execution_count": null,
      "outputs": []
    },
    {
      "cell_type": "code",
      "source": [
        "from sklearn.cluster import KMeans\n",
        "def kmeanser(df,k):\n",
        "# we'll perform a PCA just so we can plot the clustering results\n",
        "\n",
        "# Now kmeans\n",
        "  kmeans = KMeans(n_clusters=k) # initialize\n",
        "  kmeans = kmeans.fit(Dpc) # compute K-means clustering\n",
        "  labels = kmeans.predict(Dpc) # get cluster labels for data points\n",
        "  C = kmeans.cluster_centers_ # get cluster centers\n",
        "  out = [Dpc, labels, C]\n",
        "  return out"
      ],
      "metadata": {
        "id": "vEIQo1jG3Zg4"
      },
      "execution_count": null,
      "outputs": []
    },
    {
      "cell_type": "code",
      "source": [
        "## Refactor code to make the code nicer instead of using the for loop\n",
        "from sklearn.metrics import silhouette_samples\n",
        "from matplotlib.ticker import FixedLocator, FixedFormatter\n",
        "import matplotlib as mpl\n",
        "from sklearn.metrics import silhouette_score\n",
        "Dpc = PCAer(df)\n",
        "kmeans_per_k = [KMeans(n_clusters=k, random_state=42).fit(Dpc)\n",
        "                for k in range(1, 20)]\n",
        "## How to get inertias for each model from n_cluster=1 to 20\n",
        "\n",
        "inertias = [model.inertia_ for model in kmeans_per_k]\n",
        "silhouette_scores = [silhouette_scores]"
      ],
      "metadata": {
        "id": "AvnAJPdp42IW"
      },
      "execution_count": null,
      "outputs": []
    },
    {
      "cell_type": "code",
      "source": [
        "plt.figure(figsize=(8, 4))\n",
        "## ToDO##\n",
        "plt.plot(????, ?????, \"bo-\")\n",
        "plt.xlabel(\"$k$\", fontsize=14)\n",
        "plt.ylabel(\"Silhouette score\", fontsize=14)\n",
        "#plt.axis([1.8, 8.5, 0.55, 0.7])\n",
        "#save_fig(\"silhouette_score_vs_k_diagram\")\n",
        "plt.show()"
      ],
      "metadata": {
        "colab": {
          "base_uri": "https://localhost:8080/",
          "height": 284
        },
        "id": "ktq9C76D6a_-",
        "outputId": "ae7ad471-096d-4bbd-f6b0-09567f8ddaf7"
      },
      "execution_count": null,
      "outputs": [
        {
          "output_type": "display_data",
          "data": {
            "text/plain": [
              "<Figure size 576x288 with 1 Axes>"
            ],
            "image/png": "[encoded data removed]"
          },
          "metadata": {
            "needs_background": "light"
          }
        }
      ]
    },
    {
      "cell_type": "code",
      "source": [
        "from sklearn.metrics import silhouette_samples\n",
        "from matplotlib.ticker import FixedLocator, FixedFormatter\n",
        "import matplotlib as mpl\n",
        "## Create the following graph to determine which is the best\n",
        "## number of clusters\n",
        "\n",
        "\n",
        "\n",
        "\n",
        "\n",
        "\n",
        "\n",
        "\n",
        "\n",
        "\n",
        "\n",
        "\n"
      ],
      "metadata": {
        "colab": {
          "base_uri": "https://localhost:8080/",
          "height": 733
        },
        "id": "gOokHMjU6lU7",
        "outputId": "42ff3ede-1820-4e48-8c9a-0642ff8f5c3c"
      },
      "execution_count": null,
      "outputs": [
        {
          "output_type": "display_data",
          "data": {
            "text/plain": [
              "<Figure size 1008x864 with 4 Axes>"
            ],
            "image/png": "[encoded data removed]"
          },
          "metadata": {
            "needs_background": "light"
          }
        }
      ]
    },
    {
      "cell_type": "markdown",
      "source": [
        "The highest Silhouette score is with k=4 clusters. But a score around ~ 0.12 indicates that clusters aren’t very well defined\n",
        "or well separated. So we can make the conclusion that all of these human cancer cell lines have similar expression across\n",
        "this set of ~9,000 genes. It’s not surprising, really. None of these cells were being treated with drug or environmental stress\n",
        "when their RNA was extracted. They were all just happily growing in a plastic dish."
      ],
      "metadata": {
        "id": "TdaGR_--7Ixs"
      }
    },
    {
      "cell_type": "code",
      "source": [
        "from google.colab import files\n",
        "upload=files.upload()"
      ],
      "metadata": {
        "colab": {
          "resources": {
            "http://localhost:8080/nbextensions/google.colab/files.js": {
              "data": "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",
              "ok": true,
              "headers": [
                [
                  "content-type",
                  "application/javascript"
                ]
              ],
              "status": 200,
              "status_text": ""
            }
          },
          "base_uri": "https://localhost:8080/",
          "height": 74
        },
        "id": "sq14RV4y7Tj9",
        "outputId": "855760f9-935e-4c1e-d45d-8eba0a1621b1"
      },
      "execution_count": null,
      "outputs": [
        {
          "output_type": "display_data",
          "data": {
            "text/plain": [
              "<IPython.core.display.HTML object>"
            ],
            "text/html": [
              "\n",
              "     <input type=\"file\" id=\"files-6b666777-5377-41a8-ab0c-af2f0a6b1bc8\" name=\"files[]\" multiple disabled\n",
              "        style=\"border:none\" />\n",
              "     <output id=\"result-6b666777-5377-41a8-ab0c-af2f0a6b1bc8\">\n",
              "      Upload widget is only available when the cell has been executed in the\n",
              "      current browser session. Please rerun this cell to enable.\n",
              "      </output>\n",
              "      <script src=\"/nbextensions/google.colab/files.js\"></script> "
            ]
          },
          "metadata": {}
        },
        {
          "output_type": "stream",
          "name": "stdout",
          "text": [
            "Saving nci_var_filtered_type.csv to nci_var_filtered_type.csv\n"
          ]
        }
      ]
    },
    {
      "cell_type": "code",
      "source": [
        "from sklearn.metrics.cluster import adjusted_rand_score"
      ],
      "metadata": {
        "id": "2aqioRgO8BFp"
      },
      "execution_count": null,
      "outputs": []
    },
    {
      "cell_type": "code",
      "source": [
        "Dpc = PCAer(df)\n",
        "dfRef = pd.read_csv('nci_var_filtered_type.csv', sep='\\t')\n",
        "dfRef.head()\n",
        "import numpy as np\n",
        "np.unique(dfRef['Type'])"
      ],
      "metadata": {
        "colab": {
          "base_uri": "https://localhost:8080/"
        },
        "id": "UCgDjvLR8GGj",
        "outputId": "907c2372-cdb2-4a51-b37e-297f3e003b32"
      },
      "execution_count": null,
      "outputs": [
        {
          "output_type": "execute_result",
          "data": {
            "text/plain": [
              "array(['Breast', 'Central nervous system', 'Colon', 'Leukemia',\n",
              "       'Melanoma', 'Non-Small Cell Lung', 'Ovarian', 'Prostate', 'Renal'],\n",
              "      dtype=object)"
            ]
          },
          "metadata": {},
          "execution_count": 25
        }
      ]
    },
    {
      "cell_type": "code",
      "source": [
        "kmeans = KMeans(n_clusters=9, random_state=42).fit(Dpc)\n",
        "predicted_labels = kmeans.labels_\n",
        "predicted_labels"
      ],
      "metadata": {
        "colab": {
          "base_uri": "https://localhost:8080/"
        },
        "id": "HxDA_IT494Ia",
        "outputId": "9112c8eb-eb2b-4c52-ad3f-5c72ac8ebbbb"
      },
      "execution_count": null,
      "outputs": [
        {
          "output_type": "execute_result",
          "data": {
            "text/plain": [
              "array([3, 3, 2, 0, 1, 3, 7, 4, 0, 2, 4, 2, 4, 7, 0, 1, 0, 4, 2, 2, 4, 0,\n",
              "       5, 5, 4, 3, 5, 4, 7, 8, 3, 2, 2, 0, 0, 2, 2, 2, 8, 2, 2, 3, 8, 1,\n",
              "       1, 5, 5, 5, 2, 0, 1, 1, 6, 2, 2, 3, 1, 5, 5, 3], dtype=int32)"
            ]
          },
          "metadata": {},
          "execution_count": 28
        }
      ]
    },
    {
      "cell_type": "code",
      "source": [
        "# Importing LabelEncoder from Sklearn\n",
        "# library from preprocessing Module.\n",
        "from sklearn.preprocessing import LabelEncoder\n",
        "\n",
        "# Creating a instance of label Encoder.\n",
        "le = LabelEncoder()\n",
        "\n",
        "# Using .fit_transform function to fit label\n",
        "# encoder and return encoded label\n",
        "known_labels = le.fit_transform(dfRef['Type'])\n",
        "\n",
        "# printing label\n",
        "known_labels\n",
        "\n",
        "# rand = adjusted_rand_score(predicted_labels, known_labels)\n"
      ],
      "metadata": {
        "colab": {
          "base_uri": "https://localhost:8080/"
        },
        "id": "d9rtUloJ_CRB",
        "outputId": "fbec1336-530b-451f-af9c-e9fc98969a16"
      },
      "execution_count": null,
      "outputs": [
        {
          "output_type": "execute_result",
          "data": {
            "text/plain": [
              "array([8, 8, 5, 8, 0, 8, 3, 2, 7, 5, 2, 2, 2, 3, 5, 5, 0, 2, 6, 3, 2, 4,\n",
              "       4, 4, 0, 0, 4, 0, 3, 6, 5, 5, 5, 5, 5, 6, 6, 6, 6, 7, 3, 8, 1, 1,\n",
              "       1, 4, 4, 4, 6, 8, 1, 1, 3, 2, 0, 8, 1, 4, 4, 8])"
            ]
          },
          "metadata": {},
          "execution_count": 35
        }
      ]
    },
    {
      "cell_type": "code",
      "source": [
        "predicted_labels"
      ],
      "metadata": {
        "colab": {
          "base_uri": "https://localhost:8080/"
        },
        "id": "cx4h_oxS_XkY",
        "outputId": "7c5d1531-8eb8-4ea3-e90a-8db990f1824c"
      },
      "execution_count": null,
      "outputs": [
        {
          "output_type": "execute_result",
          "data": {
            "text/plain": [
              "array([3, 3, 2, 0, 1, 3, 7, 4, 0, 2, 4, 2, 4, 7, 0, 1, 0, 4, 2, 2, 4, 0,\n",
              "       5, 5, 4, 3, 5, 4, 7, 8, 3, 2, 2, 0, 0, 2, 2, 2, 8, 2, 2, 3, 8, 1,\n",
              "       1, 5, 5, 5, 2, 0, 1, 1, 6, 2, 2, 3, 1, 5, 5, 3], dtype=int32)"
            ]
          },
          "metadata": {},
          "execution_count": 34
        }
      ]
    },
    {
      "cell_type": "code",
      "source": [
        "## Deal with label switching challenge in clustering analysis\n",
        "# the predicted clusters can be mislabelled and it would be up to me to relabel\n",
        "# them properly. Labels must be re-assigned so that the results of the clustering\n",
        "# and the ground truth match.\n",
        "\n",
        "# In this case, the numbering doesn't match the numbering that was used in the\n",
        "# ground truth. All we care is which observations are grouped together.\n",
        "# In our case, the predicted label number don't match up when we look at the\n",
        "# generated clusters with the ground truth, so we reassign them using np.choose\n",
        "# as it showed in the example:\n",
        "\n",
        "## How to calculate clustering accuracy"
      ],
      "metadata": {
        "id": "yYhCBYE5AE-Z"
      },
      "execution_count": null,
      "outputs": []
    },
    {
      "cell_type": "code",
      "source": [
        "## All helper functions to deal with this challenge written by Tingting\n",
        "\n",
        "def obtainObsInd4Cluster(Y, clusterLabel):\n",
        "    ind = np.where(Y == clusterLabel)[0]\n",
        "    return ind\n",
        "\n",
        "\n",
        "def obtainObsInd4MultiCluster(Y, multiClusterLabel):\n",
        "    result = dict()\n",
        "    for value in multiClusterLabel:\n",
        "        result[value] = obtainObsInd4Cluster(Y, value)\n",
        "    return result\n",
        "\n",
        "def obtainTrueClusterLabel4FittedCluster(trueY, fittedY, fittedCluster):\n",
        "    \"\"\"\n",
        "    This function returns the true cluster label for a fitted cluster given true\n",
        "    labels and fitted cluster labels. For example, if in a fitted cluster, there\n",
        "    are 10 data points, and 7 of them has comes from the true cluster with label\n",
        "    5, this cluster should match with the true cluster label 5.\n",
        "    Args:\n",
        "        trueY: true cluster label for each observation\n",
        "        fittedY: the fitted cluster label for each observation\n",
        "        fittedCluster: the given fitted cluster Label\n",
        "    Returns:\n",
        "        the true cluster label correspond to the majority of the observations\n",
        "        in the fitted cluster with label fittedCluster\n",
        "    \"\"\"\n",
        "    ## this code has been tested\n",
        "    ## find the observations in the fitted cluster with cluster label fittedCluster\n",
        "    ind = obtainObsInd4Cluster(fittedY, fittedCluster)\n",
        "    trueClusters = trueY[ind]\n",
        "    uniqueTrueCluster, counts = np.unique(trueClusters, return_counts=True)\n",
        "    ## find the true cluster label with the largest number of counts by\n",
        "    ## returning the index of counts with has the maximum value\n",
        "    majorityInd = np.argmax(counts)\n",
        "    ## obtain the proportion of the obs has the majority cluster label,\n",
        "    ## which is also the precision\n",
        "    prec = counts[majorityInd]/len(ind)\n",
        "    majorityCluster = uniqueTrueCluster[majorityInd]\n",
        "\n",
        "    result = dict()\n",
        "    result['prec'] = prec\n",
        "    result['trueCluster'] = majorityCluster\n",
        "    count_trueY = len(np.where(trueY==majorityCluster)[0])\n",
        "    result['recall'] = counts[majorityInd]/count_trueY\n",
        "    result['count_trueY4trueCluster'] = count_trueY\n",
        "    result['overallRecallCount'] = counts[majorityInd]\n",
        "    result['fittedCluster'] = fittedCluster\n",
        "    return result\n",
        "\n",
        "def obtainTrueClusterLabel4AllFittedCluster(trueY, fittedY):\n",
        "    allFittedClasses, fittedCount = np.unique(fittedY, return_counts=True)\n",
        "    allResult = dict()\n",
        "    for fittedCluster in allFittedClasses:\n",
        "        fittedClusterRes = obtainTrueClusterLabel4FittedCluster(trueY, fittedY, fittedCluster)\n",
        "        allResult[fittedCluster] = fittedClusterRes\n",
        "    return allResult\n",
        "\n",
        "\n",
        "def obtainDictFromTrueToFitted(dictFitted2True):\n",
        "    \"\"\"\n",
        "    This function returns the dictionary from a given true class label to\n",
        "    the cluster label in the fitted clusters, predicted given the model\n",
        "    dictFitted2True = obtainTrueClusterLabel4AllFittedCluster(trueY, fittedY)\n",
        "    Args:\n",
        "        dictFittedToTrue should be a result from obtainTrueClusterLabel4AllFittedCluster\n",
        "    Returns:\n",
        "        a dictionary with each key as the true cluslter label\n",
        "        and the values to each key as the label of the fitted cluster to this true label\n",
        "    \"\"\"\n",
        "    ## obtain all the fitted cluster labels, which is all the keys to dictFitted2True\n",
        "    ## correctness of this function has been tested\n",
        "    allFClusters = dictFitted2True.keys()\n",
        "    resultTrue2Fitted = dict()\n",
        "\n",
        "    for fittedCluster in allFClusters:\n",
        "        trueCluster = dictFitted2True[fittedCluster]['trueCluster']\n",
        "        fittedCluster = dictFitted2True[fittedCluster]['fittedCluster']\n",
        "        ## check if trueCluster exists in the keys of resultTrue2Fitted\n",
        "        if not trueCluster in resultTrue2Fitted.keys():\n",
        "            resultTrue2Fitted[trueCluster] = list()\n",
        "            resultTrue2Fitted[trueCluster].append(fittedCluster)\n",
        "        else:\n",
        "            if not fittedCluster in resultTrue2Fitted[trueCluster]:\n",
        "                resultTrue2Fitted[trueCluster].append(fittedCluster)\n",
        "    ## ToDo: sort the keys in an increasing order\n",
        "    return resultTrue2Fitted\n",
        "\n",
        "def obtainDictFromTrueToFittedUsingLabel(trueY, FittedY):\n",
        "    dictFitted2True = obtainTrueClusterLabel4AllFittedCluster(trueY, FittedY)\n",
        "    result =  obtainDictFromTrueToFitted(dictFitted2True)\n",
        "    return result\n",
        "\n",
        "################################################################################################\n",
        "## add metrics calculation function for clusters\n",
        "from sklearn.metrics import accuracy_score, normalized_mutual_info_score, adjusted_rand_score,silhouette_score\n",
        "from sklearn.metrics.cluster import homogeneity_score, completeness_score,v_measure_score\n",
        "\n",
        "def clusterEvaluation(trueY, fittedY):\n",
        "    result = dict()\n",
        "    ## NMI denotes normalized mutual information\n",
        "    ## ARS denotes adjusted rand score\n",
        "    ## HS stands for homogeneity_score, 1 means perfect\n",
        "    ## VM represents v_measure_score ranging [0, 1], 1.0 is perfectly complete labeling\n",
        "    ## SS represents silhouette_score\n",
        "    result['NMI'] = normalized_mutual_info_score(trueY, fittedY)\n",
        "    result['ARS'] = adjusted_rand_score(trueY, fittedY)\n",
        "    result['HS'] = homogeneity_score(trueY, fittedY)\n",
        "    result['CS'] = completeness_score(trueY, fittedY)\n",
        "    result['VM'] = v_measure_score(trueY, fittedY)\n",
        "    return result\n"
      ],
      "metadata": {
        "id": "muSxAtHgFMo5"
      },
      "execution_count": null,
      "outputs": []
    },
    {
      "cell_type": "code",
      "source": [
        "clusteringResult = clusterEvaluation(known_labels, predicted_labels)\n",
        "clusteringResult"
      ],
      "metadata": {
        "colab": {
          "base_uri": "https://localhost:8080/"
        },
        "id": "7SFz4gIKFarx",
        "outputId": "9038377c-2f87-4e9f-f3af-44e39701a813"
      },
      "execution_count": null,
      "outputs": [
        {
          "output_type": "execute_result",
          "data": {
            "text/plain": [
              "{'ARS': 0.3460637152447907,\n",
              " 'CS': 0.6168943182796188,\n",
              " 'HS': 0.581896347621203,\n",
              " 'NMI': 0.5988844606250551,\n",
              " 'VM': 0.5988844606250551}"
            ]
          },
          "metadata": {},
          "execution_count": 38
        }
      ]
    }
  ]
}