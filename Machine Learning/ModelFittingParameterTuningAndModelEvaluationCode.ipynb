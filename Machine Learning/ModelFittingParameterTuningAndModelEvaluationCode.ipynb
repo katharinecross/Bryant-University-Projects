{
  "nbformat": 4,
  "nbformat_minor": 0,
  "metadata": {
    "colab": {
      "provenance": []
    },
    "kernelspec": {
      "name": "python3",
      "display_name": "Python 3"
    },
    "language_info": {
      "name": "python"
    }
  },
  "cells": [
    {
      "cell_type": "markdown",
      "source": [
        "# Assignment 4\n",
        "\n",
        "This assignment mainly enhances your **Model Fitting, Parameter Tuning, and Model Evaluation** Skills.\n",
        "The total mark for this assignment is 75. Answer the questions in the code chunk and\n",
        "fill up the missing part of the code. The tentative due date for this assignment\n",
        "is 11:59 PM, Wednesday, March 9th. If I fall behind my schedule, extensions will be given."
      ],
      "metadata": {
        "id": "4f7aa4TEjoSh"
      }
    },
    {
      "cell_type": "code",
      "execution_count": null,
      "metadata": {
        "id": "mONTBGbTjhzD"
      },
      "outputs": [],
      "source": [
        "import pandas as pd\n",
        "import numpy as np\n",
        "import matplotlib.pyplot as plt\n",
        "import seaborn as sns\n",
        "from scipy.stats import boxcox\n",
        "from sklearn.metrics import r2_score\n",
        "from sklearn.metrics import mean_squared_error\n",
        "from scipy.special import inv_boxcox\n",
        "from sklearn.model_selection import GridSearchCV, KFold\n",
        "from sklearn.preprocessing import StandardScaler\n",
        "import warnings\n",
        "warnings.filterwarnings(\"ignore\")"
      ]
    },
    {
      "cell_type": "code",
      "source": [
        "## read the datset from your local drive\n",
        "from google.colab import files\n",
        "upload = files.upload()"
      ],
      "metadata": {
        "id": "zdaQL5bqjv3F",
        "colab": {
          "resources": {
            "http://localhost:8080/nbextensions/google.colab/files.js": {
              "data": "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",
              "ok": true,
              "headers": [
                [
                  "content-type",
                  "application/javascript"
                ]
              ],
              "status": 200,
              "status_text": ""
            }
          },
          "base_uri": "https://localhost:8080/",
          "height": 177
        },
        "outputId": "647406b8-4378-4559-ff76-436e7c5cd918"
      },
      "execution_count": null,
      "outputs": [
        {
          "output_type": "display_data",
          "data": {
            "text/plain": [
              "<IPython.core.display.HTML object>"
            ],
            "text/html": [
              "\n",
              "     <input type=\"file\" id=\"files-5c7f4c50-4e9a-4fa7-9c49-5b87bbaab85c\" name=\"files[]\" multiple disabled\n",
              "        style=\"border:none\" />\n",
              "     <output id=\"result-5c7f4c50-4e9a-4fa7-9c49-5b87bbaab85c\">\n",
              "      Upload widget is only available when the cell has been executed in the\n",
              "      current browser session. Please rerun this cell to enable.\n",
              "      </output>\n",
              "      <script src=\"/nbextensions/google.colab/files.js\"></script> "
            ]
          },
          "metadata": {}
        },
        {
          "output_type": "stream",
          "name": "stdout",
          "text": [
            "Saving X_train_sc (1).csv to X_train_sc (1) (1).csv\n",
            "Saving X_test_sc (1).csv to X_test_sc (1) (1).csv\n",
            "Saving y_train (1).csv to y_train (1) (1).csv\n",
            "Saving y_test (1).csv to y_test (1) (1).csv\n"
          ]
        }
      ]
    },
    {
      "cell_type": "code",
      "source": [
        "## Upload the cleaned dataset\n",
        "## upload the dataset\n",
        "import pandas as pd\n",
        "X_train = pd.read_csv('X_train_sc (1).csv')\n",
        "X_test = pd.read_csv('X_test_sc (1).csv')\n",
        "y_train = pd.read_csv('y_train (1).csv')\n",
        "y_test = pd.read_csv('y_test (1).csv')\n",
        "print(X_train)\n"
      ],
      "metadata": {
        "id": "OfuJ1p4UjykN",
        "colab": {
          "base_uri": "https://localhost:8080/"
        },
        "outputId": "8ffeb9f5-f05d-4e26-eaf8-20c9c968c681"
      },
      "execution_count": null,
      "outputs": [
        {
          "output_type": "stream",
          "name": "stdout",
          "text": [
            "      Unnamed: 0  MSSubClass  LotFrontage   LotArea  OverallQual  OverallCond  \\\n",
            "0              0    0.116468     0.615582  0.214140    -0.087362    -0.534765   \n",
            "1              1   -0.946286    -0.508092 -0.844471    -0.816429     2.210046   \n",
            "2              2    2.374819    -2.025052 -1.441751    -1.545496    -0.534765   \n",
            "3              3   -0.946286     0.166112  0.145052    -0.816429    -0.534765   \n",
            "4              4    0.382156    -0.789011 -0.308201    -0.816429     0.380172   \n",
            "...          ...         ...          ...       ...          ...          ...   \n",
            "1155        1155   -0.946286     1.233603  0.736203     0.641705    -0.534765   \n",
            "1156        1156   -0.946286    -0.058623  2.253359     2.099838    -0.534765   \n",
            "1157        1157    1.710598     0.000000 -1.214706     0.641705    -0.534765   \n",
            "1158        1158   -0.149221    -0.508092  0.225283    -0.816429     0.380172   \n",
            "1159        1159    0.116468     0.053745 -0.343024    -0.087362     0.380172   \n",
            "\n",
            "      YearBuilt  YearRemodAdd  MasVnrArea  ExterQual  ...  Fence_MnPrv  \\\n",
            "0      0.020058     -0.637763    1.451500  -0.687959  ...    -0.355266   \n",
            "1      0.352440      0.882552   -0.671149  -0.687959  ...    -0.355266   \n",
            "2     -1.708331      1.127764   -0.671149  -0.687959  ...    -0.355266   \n",
            "3     -0.511754     -1.422441    0.213288  -0.687959  ...    -0.355266   \n",
            "4     -2.007476     -1.716695   -0.671149  -0.687959  ...    -0.355266   \n",
            "...         ...           ...         ...        ...  ...          ...   \n",
            "1155   1.216635      1.127764    1.215650   1.062112  ...    -0.355266   \n",
            "1156   0.319202      0.097873   -0.671149   1.062112  ...    -0.355266   \n",
            "1157   0.485393      0.048831   -0.671149  -0.687959  ...    -0.355266   \n",
            "1158  -2.040714     -0.196381   -0.671149  -0.687959  ...     2.814796   \n",
            "1159   0.285964     -0.196381    0.286991  -0.687959  ...     2.814796   \n",
            "\n",
            "      MiscFeature_Shed  SaleType_New  SaleCondition_Partial  LotShape_IR2  \\\n",
            "0            -0.196204     -0.291764              -0.295229     -0.171118   \n",
            "1            -0.196204     -0.291764              -0.295229     -0.171118   \n",
            "2            -0.196204      3.427427               3.387199     -0.171118   \n",
            "3            -0.196204     -0.291764              -0.295229     -0.171118   \n",
            "4            -0.196204     -0.291764              -0.295229     -0.171118   \n",
            "...                ...           ...                    ...           ...   \n",
            "1155         -0.196204      3.427427               3.387199     -0.171118   \n",
            "1156         -0.196204     -0.291764              -0.295229     -0.171118   \n",
            "1157         -0.196204     -0.291764              -0.295229     -0.171118   \n",
            "1158         -0.196204     -0.291764              -0.295229     -0.171118   \n",
            "1159         -0.196204     -0.291764              -0.295229     -0.171118   \n",
            "\n",
            "      LandSlope_Mod  HouseStyle_SFoyer  HouseStyle_SLvl  Functional_Min1  \\\n",
            "0         -0.212238           -0.16843        -0.212238        -0.135784   \n",
            "1         -0.212238           -0.16843        -0.212238        -0.135784   \n",
            "2         -0.212238           -0.16843        -0.212238        -0.135784   \n",
            "3         -0.212238           -0.16843        -0.212238        -0.135784   \n",
            "4         -0.212238           -0.16843        -0.212238        -0.135784   \n",
            "...             ...                ...              ...              ...   \n",
            "1155      -0.212238           -0.16843        -0.212238        -0.135784   \n",
            "1156      -0.212238           -0.16843        -0.212238        -0.135784   \n",
            "1157       4.711688           -0.16843        -0.212238        -0.135784   \n",
            "1158      -0.212238           -0.16843        -0.212238        -0.135784   \n",
            "1159      -0.212238           -0.16843        -0.212238        -0.135784   \n",
            "\n",
            "      Functional_Min2  \n",
            "0            7.364652  \n",
            "1           -0.135784  \n",
            "2           -0.135784  \n",
            "3           -0.135784  \n",
            "4           -0.135784  \n",
            "...               ...  \n",
            "1155        -0.135784  \n",
            "1156        -0.135784  \n",
            "1157        -0.135784  \n",
            "1158        -0.135784  \n",
            "1159        -0.135784  \n",
            "\n",
            "[1160 rows x 91 columns]\n"
          ]
        }
      ]
    },
    {
      "cell_type": "code",
      "source": [
        "## Fit a Lasso Regression\n",
        "from sklearn.linear_model import Ridge, Lasso\n",
        "lasso = Lasso(alpha=0.1)\n",
        "lasso.fit(X_train, y_train)\n",
        "\n",
        "\n",
        "y_train_pred = lasso.predict(X_train)\n",
        "y_test_pred =  lasso.predict(X_test)\n",
        "\n",
        "### Model evaluation\n",
        "print('R2 score (train) : ',round(r2_score(y_train,y_train_pred),4))\n",
        "print('R2 score (test) : ',round(r2_score(y_test,y_test_pred),4))\n",
        "print('RMSE (train) : ', round(np.sqrt(mean_squared_error(y_train, y_train_pred)),4))\n",
        "print('RMSE (test) : ', round(np.sqrt(mean_squared_error(y_test, y_test_pred)),4))"
      ],
      "metadata": {
        "id": "xkmQz-c3j6fu",
        "colab": {
          "base_uri": "https://localhost:8080/"
        },
        "outputId": "9bbfc148-b814-455c-c436-421c1fc46173"
      },
      "execution_count": null,
      "outputs": [
        {
          "output_type": "stream",
          "name": "stdout",
          "text": [
            "R2 score (train) :  0.3853\n",
            "R2 score (test) :  0.2919\n",
            "RMSE (train) :  286.3914\n",
            "RMSE (test) :  307.2187\n"
          ]
        }
      ]
    },
    {
      "cell_type": "code",
      "source": [
        "### What is wrong with this piece of code?\n",
        "print(y_train_pred)\n",
        "print(y_train)\n",
        "print(y_train_pred[:, 1])\n",
        "print(y_train.iloc[:,1])"
      ],
      "metadata": {
        "id": "qhf_wSr9j-eU",
        "colab": {
          "base_uri": "https://localhost:8080/"
        },
        "outputId": "25d46c4e-743d-4ebf-f7c3-49f081351c00"
      },
      "execution_count": null,
      "outputs": [
        {
          "output_type": "stream",
          "name": "stdout",
          "text": [
            "[[951.30492226  11.99605433]\n",
            " [775.00397107  11.90040773]\n",
            " [444.04267693  11.62717438]\n",
            " ...\n",
            " [447.2794783   12.15272144]\n",
            " [735.49018388  11.8047289 ]\n",
            " [696.55961125  11.97156542]]\n",
            "      Unnamed: 0  SalePrice\n",
            "0            624  12.014609\n",
            "1            592  11.835009\n",
            "2             48  11.635143\n",
            "3           1070  11.813030\n",
            "4           1234  11.775290\n",
            "...          ...        ...\n",
            "1155         805  12.335696\n",
            "1156          53  12.860999\n",
            "1157         351  12.154779\n",
            "1158          79  11.608236\n",
            "1159         795  12.049419\n",
            "\n",
            "[1160 rows x 2 columns]\n",
            "[11.99605433 11.90040773 11.62717438 ... 12.15272144 11.8047289\n",
            " 11.97156542]\n",
            "0       12.014609\n",
            "1       11.835009\n",
            "2       11.635143\n",
            "3       11.813030\n",
            "4       11.775290\n",
            "          ...    \n",
            "1155    12.335696\n",
            "1156    12.860999\n",
            "1157    12.154779\n",
            "1158    11.608236\n",
            "1159    12.049419\n",
            "Name: SalePrice, Length: 1160, dtype: float64\n"
          ]
        }
      ]
    },
    {
      "cell_type": "code",
      "source": [
        "### ToDo################################### NEW CODE FROM MODULES\n",
        "### 3 points\n",
        "### How to fix the Model evaluation part\n",
        "### Model evaluation\n",
        "### Fill out the code below\n",
        "y_train = y_train.iloc[:, 1]\n",
        "y_train_pred = y_train_pred[:, 1]\n",
        "y_test = y_test.iloc[:, 1]\n",
        "y_test_pred = y_test_pred[:, 1]\n",
        "\n",
        "print(y_train_pred)\n",
        "print(y_train)\n",
        "print(y_test_pred)\n",
        "print(y_test)\n",
        "\n",
        "### Model evaluation\n",
        "print('R2 score (train) : ',round(r2_score(y_train,y_train_pred),4))\n",
        "print('R2 score (test) : ',round(r2_score(y_test,y_test_pred),4))\n",
        "print('RMSE (train) : ', round(np.sqrt(mean_squared_error(y_train, y_train_pred)),4))\n",
        "print('RMSE (test) : ', round(np.sqrt(mean_squared_error(y_test, y_test_pred)),4))"
      ],
      "metadata": {
        "colab": {
          "base_uri": "https://localhost:8080/"
        },
        "id": "zdihQSzPAmx_",
        "outputId": "a5c11455-5cd8-41ce-9d55-fd387954bf75"
      },
      "execution_count": null,
      "outputs": [
        {
          "output_type": "stream",
          "name": "stdout",
          "text": [
            "[11.99605433 11.90040773 11.62717438 ... 12.15272144 11.8047289\n",
            " 11.97156542]\n",
            "0       12.014609\n",
            "1       11.835009\n",
            "2       11.635143\n",
            "3       11.813030\n",
            "4       11.775290\n",
            "          ...    \n",
            "1155    12.335696\n",
            "1156    12.860999\n",
            "1157    12.154779\n",
            "1158    11.608236\n",
            "1159    12.049419\n",
            "Name: SalePrice, Length: 1160, dtype: float64\n",
            "[11.88848386 12.3646035  11.93481803 11.75977225 11.94132777 11.71948358\n",
            " 11.70147378 12.01704953 11.97979634 11.87472108 12.10989559 11.89950229\n",
            " 12.35256506 12.19335452 11.16796044 11.97842997 12.55249021 11.93341075\n",
            " 11.81950085 11.81672712 11.81647146 12.02346376 11.73626581 12.1340182\n",
            " 11.60527101 11.92434972 12.13254993 12.20099094 12.04075055 12.14422579\n",
            " 11.65499158 12.20437065 11.97781612 12.23211437 11.97916872 12.13444222\n",
            " 11.81588021 12.13422071 11.8941952  12.06028513 12.34062926 11.82525475\n",
            " 11.78777239 12.32735289 11.92774365 12.23385379 11.90582182 12.49903395\n",
            " 12.1520619  11.71045798 11.77573028 11.82569038 11.80709098 11.77523582\n",
            " 11.89965203 12.57401758 12.18388203 11.89692468 12.2188272  12.02152193\n",
            " 12.36712571 12.00830955 12.16721789 11.82875177 12.15464598 12.18447486\n",
            " 11.7172598  12.20002437 11.9638775  11.83134093 11.72508717 11.69346959\n",
            " 11.856591   12.00706223 11.50309293 11.94539422 11.81958851 11.9079623\n",
            " 11.8363224  12.11104604 11.90517015 12.24642339 11.86297142 12.13718561\n",
            " 11.94670975 11.98924295 12.10150523 11.92191813 11.82316257 12.53994789\n",
            " 11.81441299 12.18841923 12.14406622 11.52417401 11.96858902 11.89960595\n",
            " 12.1701173  12.41961016 12.23754449 12.4537679  12.15305987 11.91589912\n",
            " 12.28445917 11.9834036  12.31639761 11.6835515  11.83706099 11.89384608\n",
            " 11.87976566 12.14292137 12.19051415 12.30761364 12.25460432 12.12637709\n",
            " 11.83597008 12.03827112 12.4885517  12.16037768 12.06566981 11.81297137\n",
            " 12.19778234 12.01346358 12.38138106 11.93170769 11.86964677 12.07555035\n",
            " 11.61571925 11.9811867  12.13709957 11.86811369 12.23398735 12.01810858\n",
            " 12.27542582 11.81343236 12.09867219 12.08441512 11.95977397 11.97632281\n",
            " 12.19392112 12.17678916 12.14118116 11.73569231 11.99102307 12.02300286\n",
            " 11.86869982 12.16830693 12.28269467 11.81519505 11.97655255 11.93501285\n",
            " 12.22392595 11.93662351 11.81354638 11.61044514 12.0553469  11.96178237\n",
            " 12.04084221 12.36800794 12.14199103 11.22190511 11.81697113 12.13216869\n",
            " 11.93351604 11.67249819 11.96171839 11.88336051 11.95896459 12.14776421\n",
            " 12.58483936 11.84756621 11.85379687 12.47183194 12.43702567 12.02293082\n",
            " 11.99769265 11.72113704 12.10250365 12.21946436 12.12172623 12.40972351\n",
            " 11.97346203 12.33627813 11.91574867 11.78621132 12.18568327 11.80782154\n",
            " 11.74907846 11.84525781 11.687423   11.90207447 11.89361694 11.99757728\n",
            " 12.20266651 12.02256553 11.62433903 12.01772524 12.13334754 11.96015801\n",
            " 11.84522121 11.91280589 11.92462254 12.43593559 11.90608377 11.59568447\n",
            " 11.99398886 12.26608073 12.24536779 12.13300433 12.320193   11.98845707\n",
            " 11.95523145 12.00539462 12.31855176 11.97781824 11.86711973 11.91366404\n",
            " 12.18805214 11.92164125 12.365035   12.00900738 11.99861422 12.10642937\n",
            " 11.34381486 12.04075121 11.91730615 11.9803902  11.7752054  12.05449464\n",
            " 12.12669471 12.00187337 11.94576029 11.84723692 11.7155662  12.33310426\n",
            " 12.1628439  12.20047056 12.51123768 11.7392797  11.88537577 12.23140945\n",
            " 12.32068475 12.23699513 12.17636393 12.3583161  11.85828948 12.12949397\n",
            " 12.06057836 11.83989751 11.96310871 11.85121687 12.35391275 11.9885576\n",
            " 11.79803858 11.98573283 11.77298067 12.50162851 12.35412893 11.86383851\n",
            " 11.83344339 12.50389705 11.82951186 11.84352575 12.37085303 11.70838475\n",
            " 12.08754324 11.81021568 11.80293357 12.31258059 11.94646067 11.87554327\n",
            " 11.7097141  11.95153385 11.7326443  11.69563467 11.99891604 11.92946065\n",
            " 12.29503369 11.81472993 12.27237321 11.71560364 11.94570225 12.20415962\n",
            " 11.91752593 11.6112025  12.53627565 11.81943104 11.88492592 11.80341876\n",
            " 11.83941927 12.55813525 12.09260189]\n",
            "0      11.805595\n",
            "1      12.357076\n",
            "2      11.995352\n",
            "3      11.819675\n",
            "4      12.100712\n",
            "         ...    \n",
            "286    11.877569\n",
            "287    11.813030\n",
            "288    11.813030\n",
            "289    12.676076\n",
            "290    12.043554\n",
            "Name: SalePrice, Length: 291, dtype: float64\n",
            "R2 score (train) :  0.684\n",
            "R2 score (test) :  0.6925\n",
            "RMSE (train) :  0.2246\n",
            "RMSE (test) :  0.221\n"
          ]
        }
      ]
    },
    {
      "cell_type": "code",
      "source": [
        "### What if I would like to set alpha=0.00125?\n",
        "##### ToDo##############################################################\n",
        "#### 6 points\n",
        "#### fill out the code below\n",
        "### fit a new lasso model\n",
        "### fit it with X_train and y_train\n",
        "### make predictions for the training set and testing set\n",
        "### Perform mdoel evaluation using both training lables and testing labels\n",
        "### using both r2_score and rmse\n",
        "\n",
        "from sklearn.linear_model import Ridge, Lasso\n",
        "lasso = Lasso(alpha=0.00125)\n",
        "lasso.fit(X_train, y_train)\n",
        "\n",
        "y_train_pred = lasso.predict(X_train)\n",
        "y_test_pred =  lasso.predict(X_test)\n",
        "\n",
        "### Model evaluation\n",
        "print('R2 score (train) : ',round(r2_score(y_train,y_train_pred),4))\n",
        "print('R2 score (test) : ',round(r2_score(y_test,y_test_pred),4))\n",
        "print('RMSE (train) : ', round(np.sqrt(mean_squared_error(y_train, y_train_pred)),4))\n",
        "print('RMSE (test) : ', round(np.sqrt(mean_squared_error(y_test, y_test_pred)),4))\n"
      ],
      "metadata": {
        "id": "IbtfpX0Xkj1V",
        "colab": {
          "base_uri": "https://localhost:8080/"
        },
        "outputId": "b53bedcd-afb9-47bd-ef3e-39ff25b1425c"
      },
      "execution_count": null,
      "outputs": [
        {
          "output_type": "stream",
          "name": "stdout",
          "text": [
            "R2 score (train) :  0.9092\n",
            "R2 score (test) :  0.8923\n",
            "RMSE (train) :  0.1204\n",
            "RMSE (test) :  0.1308\n"
          ]
        }
      ]
    },
    {
      "cell_type": "code",
      "source": [
        "### What if I would like to set alpha=0.5?\n",
        "##### ToDo##############################################################\n",
        "#### 6 points\n",
        "### fill out the code below\n",
        "### fit a new lasso model\n",
        "### fit it with X_train and y_train\n",
        "### make predictions for the training set and testing set\n",
        "### Perform mdoel evaluation using both training lables and testing labels\n",
        "### using both r2_score and rmse\n",
        "\n",
        "from sklearn.linear_model import Ridge, Lasso\n",
        "lasso = Lasso(alpha=0.5)\n",
        "lasso.fit(X_train, y_train)\n",
        "\n",
        "y_train_pred = lasso.predict(X_train)\n",
        "y_test_pred =  lasso.predict(X_test)\n",
        "\n",
        "### Model evaluation\n",
        "print('R2 score (train) : ',round(r2_score(y_train,y_train_pred),4))\n",
        "print('R2 score (test) : ',round(r2_score(y_test,y_test_pred),4))\n",
        "print('RMSE (train) : ', round(np.sqrt(mean_squared_error(y_train, y_train_pred)),4))\n",
        "print('RMSE (test) : ', round(np.sqrt(mean_squared_error(y_test, y_test_pred)),4))\n"
      ],
      "metadata": {
        "id": "b88iTmW-lHEr",
        "colab": {
          "base_uri": "https://localhost:8080/"
        },
        "outputId": "a8b7eef4-1373-4da6-a494-e060e7751faa"
      },
      "execution_count": null,
      "outputs": [
        {
          "output_type": "stream",
          "name": "stdout",
          "text": [
            "R2 score (train) :  0.0001\n",
            "R2 score (test) :  -0.0017\n",
            "RMSE (train) :  0.3995\n",
            "RMSE (test) :  0.3988\n"
          ]
        }
      ]
    },
    {
      "cell_type": "code",
      "source": [
        "###################################################################\n",
        "### ToDO ##########################################################\n",
        "## 15 points\n",
        "### Hold-out cross-validation\n",
        "###################################################################\n",
        "### If I want to check the effect of different values of the tuning parameter\n",
        "### in the LASSO penalty on the prediction performance, write a function\n",
        "### that takes a sequence of alpha values as input and returns the result of R2\n",
        "### score and RMSE of y_train and y_test\n",
        "import numpy as np\n",
        "\n",
        "## Objectives of writing functions, reduce repetitive labours and\n",
        "## avoid copy paste error\n",
        "def ModelTrainAndEvaluaion(alphaValues, xtrain, xtest, ytrain, ytest):\n",
        "    \"\"\"\n",
        "    Parameters:\n",
        "\n",
        "    -alphaValues: a vector of different tuning parameter values\n",
        "    -xtrain: the training dataset\n",
        "    -xtest: the testing set\n",
        "    -ytrain: target var for training set\n",
        "    -ytest: target var for testing set\n",
        "\n",
        "    Output:\n",
        "    returns a dictionary that stores the r2, rmse of the training and\n",
        "    testing set respectively. Choose a dictionary data structure to\n",
        "    save the result\n",
        "    \"\"\"\n",
        "\n",
        "    ##########Define Data Structures ##################\n",
        "    #### Define data structures to store your results\n",
        "    ## first, get the number of different values\n",
        "\n",
        "    num = len(alphaValues)\n",
        "    ## define data structures\n",
        "    r2train = np.zeros(num)\n",
        "    r2test = np.zeros(num)\n",
        "    rmsetrain = np.zeros(num)\n",
        "    rmsetest = np.zeros(num)\n",
        "\n",
        "# np.zeros function defines a vector of however many zeros you want, in this case\n",
        "# it is defining the number of zeros to the num variable we created\n",
        "\n",
        "    #### Model fitting and evaluation with diffferent tuning parameters\n",
        "\n",
        "    for i in range(num):\n",
        "      model = Lasso(alpha = alphaValues[i])\n",
        "      model.fit(xtrain, ytrain)\n",
        "      y_train_pred = model.predict(xtrain)\n",
        "      y_test_pred = model.predict(xtest)\n",
        "\n",
        "      #model evaluation\n",
        "      r2train[i] = round(r2_score(y_train,y_train_pred),4)\n",
        "      r2test[i] = round(r2_score(y_train,y_train_pred),4)\n",
        "      rmsetrain[i] = round(r2_score(y_train,y_train_pred),4)\n",
        "      rmsetest[i] = round(r2_score(y_train,y_train_pred),4)\n",
        "\n",
        "    result = dict()\n",
        "    result['r2train'] = r2train\n",
        "    result['r2test'] = r2test\n",
        "    result['rmsetrain'] = rmsetrain\n",
        "    result['rmsetest'] = rmsetest\n",
        "    return result\n",
        "\n",
        "\n",
        "### Example usage of this function\n",
        "alphaValues = [0.0001, 0.00025,  0.0005, 0.00065, 0.001, 0.00125, 0.0025,0.005, 0.01, 0.1, 1]\n",
        "result = ModelTrainAndEvaluaion(alphaValues, X_train, X_test, y_train, y_test)\n",
        "print(result['r2test'])\n",
        "print(result['rmsetest'])"
      ],
      "metadata": {
        "id": "tS9cYlRqlZ2x",
        "colab": {
          "base_uri": "https://localhost:8080/"
        },
        "outputId": "94ee0232-7a14-423d-fa56-e9da0d529130"
      },
      "execution_count": null,
      "outputs": [
        {
          "output_type": "stream",
          "name": "stdout",
          "text": [
            "[9.104e-01 9.103e-01 9.099e-01 9.096e-01 9.094e-01 9.092e-01 9.077e-01\n",
            " 9.034e-01 8.931e-01 6.840e-01 1.000e-04]\n",
            "[9.104e-01 9.103e-01 9.099e-01 9.096e-01 9.094e-01 9.092e-01 9.077e-01\n",
            " 9.034e-01 8.931e-01 6.840e-01 1.000e-04]\n"
          ]
        }
      ]
    },
    {
      "cell_type": "code",
      "source": [
        "###### ToDO################################################\n",
        "##### 3 points\n",
        "\n",
        "### Model selection\n",
        "### How to choose the best tunning parameter?\n",
        "import numpy as np\n",
        "rmseValues = result['rmsetest']\n",
        "## find the minimum value of the rmse\n",
        "print(np.min(result['rmsetest']))\n",
        "\n",
        "## find the index of the minimum rmse values\n",
        "# axis = 0, refers to a row, axis = 1, refers to a column\n",
        "minInd = np.argmin(rmseValues, axis=0)\n",
        "\n",
        "## using this index and find the corresponding alpha value\n",
        "bestAlpha = alphaValues[minInd]\n",
        "print(bestAlpha)\n"
      ],
      "metadata": {
        "id": "h-mUo_ymmQ_l",
        "colab": {
          "base_uri": "https://localhost:8080/"
        },
        "outputId": "deade02b-3be7-4e0a-c82f-4c159dc54b44"
      },
      "execution_count": null,
      "outputs": [
        {
          "output_type": "stream",
          "name": "stdout",
          "text": [
            "0.0001\n",
            "1\n"
          ]
        }
      ]
    },
    {
      "cell_type": "code",
      "source": [
        "######################################################\n",
        "### ToDO #############################################\n",
        "### 10 points ########################################\n",
        "### Write the previous computations into a function\n",
        "######################################################\n",
        "## Can you change this into a function\n",
        "## with alphaValues and rmseValues as input parameters\n",
        "## return the minimum rmse value,\n",
        "##        the index of the minimum rmse value\n",
        "##      the corresponding alpha value\n",
        "def tuningParamSelection(alphaValues, rmseValues):\n",
        "    \"\"\"\n",
        "    Parameters:\n",
        "\n",
        "    -rmseValues: a list or an numpy array of rmse values\n",
        "    -alphaValues: a vector of different tuning parameter values\n",
        "\n",
        "    Output:\n",
        "    returns a dictionary that stores index of the minimum\n",
        "    rmse and the corresponding alpha value that has the min rmse\n",
        "    save the result in a dictionary and return it\n",
        "\n",
        "    \"\"\"\n",
        "# Do as HOMEWORK:\n",
        "\n",
        "    rmseValues = result['rmsetest']\n",
        "\n",
        "    ## find the minimum value of the rmse\n",
        "    print(np.min(result['rmsetest']))\n",
        "    ## find the index of the minimum rmse values\n",
        "    minInd = np.argmin(rmseValues, axis=0)\n",
        "\n",
        "    ## using this index and find the corresponding alpha value\n",
        "    bestAlpha = alphaValues[minInd]\n",
        "\n",
        "    ## save minInd and bestAlpha into a dictionary\n",
        "\n",
        "    result = dict()\n",
        "    result['minInd'] = minInd\n",
        "    result['bestAlpha'] = bestAlpha\n",
        "    return result\n",
        "\n",
        "\n",
        "\n",
        "### Example usage of this function\n",
        "    alphaValues = [0.0001, 0.00025,  0.0005, 0.00065, 0.001, 0.00125, 0.0025,0.005, 0.01, 0.1, 1]\n",
        "    result = tuningParamSelection(alphaValues, rmseValues)\n",
        "print(result)"
      ],
      "metadata": {
        "id": "kUcF2LGFm6H1",
        "colab": {
          "base_uri": "https://localhost:8080/"
        },
        "outputId": "bbbf4040-4958-4810-ac78-17a6123d7634"
      },
      "execution_count": null,
      "outputs": [
        {
          "output_type": "stream",
          "name": "stdout",
          "text": [
            "{'minInd': 10, 'bestAlpha': 1}\n"
          ]
        }
      ]
    },
    {
      "cell_type": "code",
      "source": [
        "##############################################################\n",
        "### Todo #####################################################\n",
        "### 10 points\n",
        "### K fold cross-validation\n",
        "\n",
        "##############################################################\n",
        "\n",
        "folds = KFold(n_splits = 5)\n",
        "\n",
        "params = {'alpha': [0.0001, 0.00025,  0.0005, 0.00065, 0.001, 0.00125, 0.0025,0.005, 0.01, 0.1, 1]}\n",
        "\n",
        "\n",
        "model = Lasso()\n",
        "\n",
        "# defines model: could be model=Ridge()\n",
        "\n",
        "### GridSearch and Model training\n",
        "model_cv = GridSearchCV(estimator = model,\n",
        "                              param_grid = params,\n",
        "                              scoring= 'r2',\n",
        "                              cv = folds,\n",
        "                              return_train_score=True,\n",
        "                              verbose = 1)\n",
        "\n",
        "### use model_cv to fit with X_train and y_train\n",
        "model_cv.fit(X_train,y_train)\n",
        "\n",
        "### get the best alpha\n",
        "alpha=model_cv.best_params_[\"alpha\"]\n",
        "print(\"Optimum alpha for %s is %f\" %(model, alpha))\n",
        "\n",
        "### get the best estimator from model_cv and set it as final_model\n",
        "\n",
        "final_model=model_cv.best_estimator_\n",
        "\n",
        "### use final_model to fit with X_train and y_train\n",
        "\n",
        "final_model.fit(X_train,y_train)\n",
        "\n",
        "\n",
        "## Model Prediction using X_train and X_test respectively\n",
        "\n",
        "y_train_pred=final_model.predict(X_train)\n",
        "y_test_pred=final_model.predict(X_test)\n",
        "\n",
        "# Model Evaluation\n",
        "\n",
        "print('R2 score (train) : ',round(r2_score(y_train,y_train_pred),4))\n",
        "print('R2 score (test) : ',round(r2_score(y_test,y_test_pred),4))\n",
        "print('RMSE (train) : ', round(np.sqrt(mean_squared_error(y_train, y_train_pred)),4))\n",
        "print('RMSE (test) : ', round(np.sqrt(mean_squared_error(y_test, y_test_pred)),4))\n",
        "\n",
        "## save the cross validation results into a data frame\n",
        "\n",
        "cvResults = pd.DataFrame(model_cv.cv_results_)\n",
        "cvResults.head(5)\n",
        "\n",
        "cvResults['param_alpha'] = cvResults['param_alpha'].astype('float32')\n",
        "\n",
        "print(cvResults)"
      ],
      "metadata": {
        "colab": {
          "base_uri": "https://localhost:8080/"
        },
        "id": "JYHxPWCZXwxM",
        "outputId": "08be989f-dc77-4898-b72b-3c85f9f7170e"
      },
      "execution_count": null,
      "outputs": [
        {
          "output_type": "stream",
          "name": "stdout",
          "text": [
            "Fitting 5 folds for each of 11 candidates, totalling 55 fits\n",
            "Optimum alpha for Lasso() is 0.002500\n",
            "R2 score (train) :  0.9077\n",
            "R2 score (test) :  0.8935\n",
            "RMSE (train) :  0.1214\n",
            "RMSE (test) :  0.1301\n",
            "    mean_fit_time  std_fit_time  mean_score_time  std_score_time  param_alpha  \\\n",
            "0        0.054812      0.022602         0.008966        0.002351      0.00010   \n",
            "1        0.050190      0.016264         0.010134        0.001196      0.00025   \n",
            "2        0.041695      0.010701         0.009561        0.000719      0.00050   \n",
            "3        0.034004      0.012133         0.010583        0.001894      0.00065   \n",
            "4        0.030344      0.007220         0.009587        0.000838      0.00100   \n",
            "5        0.024103      0.003157         0.011788        0.001763      0.00125   \n",
            "6        0.021453      0.001888         0.011018        0.002133      0.00250   \n",
            "7        0.023680      0.002118         0.011158        0.001400      0.00500   \n",
            "8        0.024214      0.004268         0.010781        0.001955      0.01000   \n",
            "9        0.024251      0.006775         0.013538        0.007167      0.10000   \n",
            "10       0.022575      0.002961         0.012111        0.003162      1.00000   \n",
            "\n",
            "                params  split0_test_score  split1_test_score  \\\n",
            "0    {'alpha': 0.0001}           0.908976           0.795250   \n",
            "1   {'alpha': 0.00025}           0.909249           0.799641   \n",
            "2    {'alpha': 0.0005}           0.909847           0.804573   \n",
            "3   {'alpha': 0.00065}           0.910280           0.806125   \n",
            "4     {'alpha': 0.001}           0.911046           0.807814   \n",
            "5   {'alpha': 0.00125}           0.911342           0.808274   \n",
            "6    {'alpha': 0.0025}           0.912479           0.809030   \n",
            "7     {'alpha': 0.005}           0.913034           0.807854   \n",
            "8      {'alpha': 0.01}           0.909038           0.800895   \n",
            "9       {'alpha': 0.1}           0.678505           0.673651   \n",
            "10        {'alpha': 1}          -0.003549          -0.000014   \n",
            "\n",
            "    split2_test_score  split3_test_score  ...  mean_test_score  \\\n",
            "0            0.915702           0.897414  ...         0.883326   \n",
            "1            0.916082           0.898232  ...         0.884616   \n",
            "2            0.916439           0.899179  ...         0.886146   \n",
            "3            0.916582           0.899296  ...         0.886643   \n",
            "4            0.916893           0.899265  ...         0.887262   \n",
            "5            0.916884           0.899178  ...         0.887431   \n",
            "6            0.915747           0.898226  ...         0.887537   \n",
            "7            0.912636           0.894593  ...         0.885910   \n",
            "8            0.903220           0.885292  ...         0.878492   \n",
            "9            0.699273           0.632207  ...         0.675486   \n",
            "10          -0.000505          -0.006618  ...        -0.004187   \n",
            "\n",
            "    std_test_score  rank_test_score  split0_train_score  split1_train_score  \\\n",
            "0         0.044535                8            0.906702            0.929127   \n",
            "1         0.042979                7            0.906569            0.928893   \n",
            "2         0.041267                5            0.906235            0.928151   \n",
            "3         0.040749                4            0.905942            0.927703   \n",
            "4         0.040241                3            0.905501            0.926765   \n",
            "5         0.040101                2            0.905272            0.926562   \n",
            "6         0.039776                1            0.903643            0.925067   \n",
            "7         0.039646                6            0.899275            0.920353   \n",
            "8         0.039631                9            0.888619            0.910679   \n",
            "9         0.023607               10            0.673021            0.708404   \n",
            "10        0.003848               11            0.000686            0.000050   \n",
            "\n",
            "    split2_train_score  split3_train_score  split4_train_score  \\\n",
            "0             0.907274            0.910301            0.910606   \n",
            "1             0.907121            0.910242            0.910463   \n",
            "2             0.906689            0.910059            0.910047   \n",
            "3             0.906400            0.909946            0.909777   \n",
            "4             0.905921            0.909741            0.909282   \n",
            "5             0.905679            0.909559            0.909070   \n",
            "6             0.904093            0.908162            0.907657   \n",
            "7             0.899609            0.903811            0.903347   \n",
            "8             0.889366            0.893497            0.891978   \n",
            "9             0.668138            0.688874            0.681675   \n",
            "10            0.000153            0.000316            0.000288   \n",
            "\n",
            "    mean_train_score  std_train_score  \n",
            "0           0.912802         0.008311  \n",
            "1           0.912658         0.008270  \n",
            "2           0.912236         0.008119  \n",
            "3           0.911953         0.008047  \n",
            "4           0.911442         0.007850  \n",
            "5           0.911229         0.007859  \n",
            "6           0.909724         0.007884  \n",
            "7           0.905279         0.007763  \n",
            "8           0.894828         0.008119  \n",
            "9           0.684022         0.014120  \n",
            "10          0.000298         0.000216  \n",
            "\n",
            "[11 rows x 21 columns]\n"
          ]
        }
      ]
    },
    {
      "cell_type": "code",
      "source": [
        "### Model Assumptions and Diagnostics\n",
        "#######ToDO####################################################\n",
        "## 5 points\n",
        "fig, axes = plt.subplots(1, 4, figsize=(15,3))\n",
        "\n",
        "## Check if the distribution of the residual looks like a Normal distribution\n",
        "## (bell shape)\n",
        "fig.suptitle('Assumtions of Linear Regression')\n",
        "sns.distplot(y_train-y_train_pred, ax = axes[0])\n",
        "axes[0].set_title('Distribution of Residuals')\n",
        "\n",
        "### Check the linearity assumption using the observed-vs-predicted values\n",
        "sns.scatterplot( y_train_pred, y_train  , ax = axes[1])\n",
        "axes[1].set_title('Plot of y vs y_predicted')\n",
        "\n",
        "### Check equal variances\n",
        "sns.scatterplot(X_train.index,(y_train-y_train_pred),ax = axes[2])\n",
        "axes[2].set_title('Homoscedasticity/ Variance')\n",
        "plt.tight_layout()\n",
        "\n",
        "### Check independence of errors\n",
        "sns.scatterplot(y_train_pred,(y_train-y_train_pred),ax = axes[3])\n",
        "axes[3].set_title('Independence of Errors')\n",
        "plt.ylabel(\"Residuals\")\n",
        "plt.xlabel(\"Fitted SalesPrice\")\n",
        "plt.tight_layout()\n",
        "\n",
        "### Check for overfitting\n",
        "\n",
        "fig = plt.figure(figsize=(7,3))\n",
        "\n",
        "## use plt.plot to draw cvResults['param_alpha'] as x axis\n",
        "## and use cvResults['mean_train_score'] as y axis\n",
        "\n",
        "plt.plot(cvResults['param_alpha'],cvResults['mean_train_score'])\n",
        "\n",
        "## use plt.plot to draw cvResults['param_alpha'] as x axis\n",
        "## and use cvResults['mean_test_score'] as y axis\n",
        "\n",
        "plt.plot(cvResults['param_alpha'],cvResults['mean_test_score'])\n",
        "plt.xlabel('alpha')\n",
        "plt.ylabel('r2')\n",
        "plt.title(\"r2 and alpha\")\n",
        "plt.legend(['train score', 'test score'], loc='upper left')\n",
        "plt.show()"
      ],
      "metadata": {
        "colab": {
          "base_uri": "https://localhost:8080/",
          "height": 456
        },
        "id": "ib-Olrx7P_E1",
        "outputId": "fb1273e8-dc81-4c19-83a9-8098f02eb420"
      },
      "execution_count": null,
      "outputs": [
        {
          "output_type": "display_data",
          "data": {
            "image/png": "[encoded data removed]",
            "text/plain": [
              "<Figure size 1080x216 with 4 Axes>"
            ]
          },
          "metadata": {
            "needs_background": "light"
          }
        },
        {
          "output_type": "display_data",
          "data": {
            "image/png": "[encoded data removed]",
            "text/plain": [
              "<Figure size 504x216 with 1 Axes>"
            ]
          },
          "metadata": {
            "needs_background": "light"
          }
        }
      ]
    },
    {
      "cell_type": "code",
      "source": [
        "###### Combine the K-fold cross validation and model diagnostics\n",
        "###### into a function.\n",
        "###### The input of the function should include 1. model\n",
        "###### For example, model can be Lasso() or Ridge()\n",
        "###### 2. params should be a dictionary of the candidate alpha values\n",
        "###### 3. dataset, xtrain, xtest ytrain, ytest\n",
        "###### scoring criterion should be r2\n",
        "###### return the final model selected by cross validation that has\n",
        "###### the largest r2 value\n",
        "# hint : look at k fold cross validation example in code above\n",
        "### ToDO ###############################################################\n",
        "### 15 points\n",
        "def ModelTrainAndEvaluaion(model, params, xtrain, xtest, ytrain, ytest):\n",
        "  folds = KFold(n_splits = 5)\n",
        "  model_cv = GridSearchCV(estimator = model,\n",
        "                              param_grid = params,\n",
        "                              scoring= 'r2',\n",
        "                              cv = folds,\n",
        "                              return_train_score=True,\n",
        "                              verbose = 1)\n",
        "\n",
        "### use model_cv to fit with X_train and y_train\n",
        "  model_cv.fit(X_train,y_train)\n",
        "\n",
        "### get the best alpha\n",
        "  alpha=model_cv.best_params_[\"alpha\"]\n",
        "  print(\"Optimum alpha for %s is %f\" %(model, alpha))\n",
        "\n",
        "### get the best estimator from model_cv and set it as final_model\n",
        "\n",
        "  final_model=model_cv.best_estimator_\n",
        "\n",
        "### use final_model to fit with X_train and y_train\n",
        "\n",
        "  final_model.fit(X_train,y_train)\n",
        "\n",
        "## Model Prediction using X_train and X_test respectively\n",
        "\n",
        "  y_train_pred=final_model.predict(X_train)\n",
        "  y_test_pred=final_model.predict(X_test)\n",
        "\n",
        "# Model Evaluation\n",
        "\n",
        "  print('R2 score (train) : ',round(r2_score(y_train,y_train_pred),4))\n",
        "  print('R2 score (test) : ',round(r2_score(y_test,y_test_pred),4))\n",
        "  print('RMSE (train) : ', round(np.sqrt(mean_squared_error(y_train, y_train_pred)),4))\n",
        "  print('RMSE (test) : ', round(np.sqrt(mean_squared_error(y_test, y_test_pred)),4))\n",
        "\n",
        "  return final_model\n",
        "\n",
        "## save the cross validation results into a data frame\n",
        "\n",
        "  cvResults = pd.DataFrame(model_cv.cv_results_)\n",
        "  cvResults.head(5)\n",
        "\n",
        "  cvResults['param_alpha'] = cvResults['param_alpha'].astype('float32')\n",
        "\n",
        "  print(cvResults)\n",
        "\n",
        "\n",
        "\n",
        "####  example use of this function\n",
        "params = {'alpha': [0.0001, 0.00025,  0.0005, 0.00065, 0.001, 0.00125, 0.0025,0.005, 0.01, 0.1, 1]}\n",
        "finalModel = ModelTrainAndEvaluaion(Lasso(), params=params,\n",
        "                                    xtrain=X_train, xtest=X_test, ytrain=y_train, ytest=y_test)\n"
      ],
      "metadata": {
        "id": "q_mGPrzhqC1U",
        "colab": {
          "base_uri": "https://localhost:8080/"
        },
        "outputId": "6046360d-da99-4c78-d88d-e98b4ac6cf26"
      },
      "execution_count": null,
      "outputs": [
        {
          "output_type": "stream",
          "name": "stdout",
          "text": [
            "Fitting 5 folds for each of 11 candidates, totalling 55 fits\n",
            "Optimum alpha for Lasso() is 0.002500\n",
            "R2 score (train) :  0.9077\n",
            "R2 score (test) :  0.8935\n",
            "RMSE (train) :  0.1214\n",
            "RMSE (test) :  0.1301\n"
          ]
        }
      ]
    },
    {
      "cell_type": "code",
      "source": [
        "#### Use the function ModelTrainAndEvaluaion to fit a ridge regression with the\n",
        "### following parameters params\n",
        "params = {'alpha': [0.1, 0.2, 0.3, 0.4, 0.5, 0.6, 0.7, 0.8, 0.9, 1.0, 2.0, 3.0, 4.0, 5.0, 6.0, 7.0, 8.0,\n",
        "                        9, 10, 20, 30, 40, 50, 60, 70, 80, 90, 100,200]}\n",
        "\n",
        "################################################################################\n",
        "### ToDO\n",
        "### 2 points\n",
        "### fill out the code here\n",
        "ridge = ModelTrainAndEvaluaion(Ridge(), params,\n",
        "                               X_train, X_test, y_train, y_test)\n"
      ],
      "metadata": {
        "id": "r9GEINRlqUjZ",
        "colab": {
          "base_uri": "https://localhost:8080/"
        },
        "outputId": "b503ed04-811b-4474-c528-4824b86e97c7"
      },
      "execution_count": null,
      "outputs": [
        {
          "output_type": "stream",
          "name": "stdout",
          "text": [
            "Fitting 5 folds for each of 29 candidates, totalling 145 fits\n",
            "Optimum alpha for Ridge() is 50.000000\n",
            "R2 score (train) :  0.9089\n",
            "R2 score (test) :  0.8897\n",
            "RMSE (train) :  0.1206\n",
            "RMSE (test) :  0.1323\n"
          ]
        }
      ]
    }
  ]
}