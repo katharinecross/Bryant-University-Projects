{
 "cells": [
  {
   "cell_type": "markdown",
   "id": "5f8e7ab4",
   "metadata": {},
   "source": [
    "## [Check Getting started with the Twitter API v2 for academic research](https://github.com/twitterdev/getting-started-with-the-twitter-api-v2-for-academic-research/blob/main/modules/6a-labs-code-academic-python.md)\n",
    "\n",
    "V2 is new twitter API interface. \n",
    "Twitter offers four types of developer account (Essential, Elavated, Academic and Enterprise). For Essentail account, they requires the use of V2 endpoint, not traditional V1 ednpoint.\n",
    "\n",
    "## [How to Write search queries](https://github.com/twitterdev/getting-started-with-the-twitter-api-v2-for-academic-research/blob/main/modules/5-how-to-write-search-queries.md)"
   ]
  },
  {
   "cell_type": "code",
   "execution_count": null,
   "id": "89c983d3",
   "metadata": {},
   "outputs": [],
   "source": [
    "# need to install twarc the first time\n",
    "#!pip install twarc"
   ]
  },
  {
   "cell_type": "code",
   "execution_count": null,
   "id": "940fe9a7",
   "metadata": {},
   "outputs": [],
   "source": [
    "from twarc import Twarc2, expansions\n",
    "from __future__ import print_function\n",
    "import json\n",
    "from pymongo import MongoClient\n",
    "import time\n",
    "import os\n",
    "import sys\n",
    "\n",
    "# Replace your bearer token below\n",
    "client = Twarc2(bearer_token=\"***\")\n",
    "\n",
    "# connect to local mongodb\n",
    "# assuming you have mongoDB installed locally, and you want to input tweets onto a databse called tweetsDB_v2\n",
    "MONGO_HOST= 'mongodb://localhost:27017/tweetsDB_v2'  \n",
    "mongo_client = MongoClient(MONGO_HOST)\n",
    "\n",
    "def main():\n",
    "    # Remove existing rules\n",
    "    existing_rules = client.get_stream_rules()\n",
    "    if 'data' in existing_rules and len(existing_rules['data']) > 0:\n",
    "        rule_ids = [rule['id'] for rule in existing_rules['data']]\n",
    "        client.delete_stream_rule_ids(rule_ids)\n",
    "\n",
    "    # Add new rules (keywords you want to conduct search)\n",
    "    # Replace the rules below with the ones that you want to add as discussed in module 5\n",
    "    new_rules = [\n",
    "        {\"value\": \"#climatechange OR #globalwarming lang:en\"}, #tweets that includes either hashtags and in English\n",
    "        {\"value\": \"climate change\"}   # tweets that include climate change\n",
    "    ]\n",
    "    \n",
    "    added_rules = client.add_stream_rules(rules=new_rules)\n",
    "    \n",
    "    # Connect to the filtered stream\n",
    "    for count, result in enumerate(client.stream()):\n",
    "        # The Twitter API v2 returns the Tweet information and the user, media etc.  separately\n",
    "        # so we use expansions.flatten to get all the information in a single JSON\n",
    "        tweet = expansions.flatten(result)\n",
    "        \n",
    "        # extrac full twitter object to the console\n",
    "        \n",
    "        tweet1=json.dumps(tweet)\n",
    "        \n",
    "        # covert string to json object\n",
    "        \n",
    "        tweet2=json.loads(tweet1)        \n",
    "        \n",
    "        # print the time the tweet is created on console\n",
    "        \n",
    "        print(tweet2[0]['created_at'])\n",
    "        \n",
    "                         \n",
    "        # Use tweetsDB_v2 database. If it doesn't exist, it will be created.\n",
    "        db = mongo_client.tweetsDB_v2\n",
    "        \n",
    "        #insert tweets into climate_change collection\n",
    "        #if climate_change doesn't exist, it will be created.\n",
    "        db.climate_change.insert(tweet2)\n",
    "                \n",
    "        # Replace with the desired number of Tweets\n",
    "        if count > 1000000:\n",
    "            time.sleep(60)\n",
    "\n",
    "    # Delete the rules once you have collected the desired number of Tweets\n",
    "    rule_ids = [rule['id'] for rule in added_rules['data']]\n",
    "    client.delete_stream_rule_ids(rule_ids)\n",
    "\n",
    "\n",
    "if __name__ == \"__main__\":\n",
    "    main()"
   ]
  },
  {
   "cell_type": "code",
   "execution_count": null,
   "id": "0bf94b30",
   "metadata": {},
   "outputs": [],
   "source": []
  }
 ],
 "metadata": {
  "kernelspec": {
   "display_name": "Python 3 (ipykernel)",
   "language": "python",
   "name": "python3"
  },
  "language_info": {
   "codemirror_mode": {
    "name": "ipython",
    "version": 3
   },
   "file_extension": ".py",
   "mimetype": "text/x-python",
   "name": "python",
   "nbconvert_exporter": "python",
   "pygments_lexer": "ipython3",
   "version": "3.8.3"
  }
 },
 "nbformat": 4,
 "nbformat_minor": 5
}
