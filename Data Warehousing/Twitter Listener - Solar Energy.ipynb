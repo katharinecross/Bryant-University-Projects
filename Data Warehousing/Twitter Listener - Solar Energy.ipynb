{
 "cells": [
  {
   "cell_type": "code",
   "execution_count": 1,
   "id": "43682375",
   "metadata": {},
   "outputs": [
    {
     "name": "stdout",
     "output_type": "stream",
     "text": [
      "Collecting twarc\n",
      "  Downloading twarc-2.13.0-py3-none-any.whl (60 kB)\n",
      "     ---------------------------------------- 60.1/60.1 kB 3.1 MB/s eta 0:00:00\n",
      "Collecting requests-oauthlib>=1.3\n",
      "  Downloading requests_oauthlib-1.3.1-py2.py3-none-any.whl (23 kB)\n",
      "Requirement already satisfied: tqdm>=4.62 in c:\\users\\student\\anaconda3\\lib\\site-packages (from twarc) (4.64.1)\n",
      "Collecting humanize>=3.9\n",
      "  Downloading humanize-4.6.0-py3-none-any.whl (109 kB)\n",
      "     -------------------------------------- 110.0/110.0 kB 3.2 MB/s eta 0:00:00\n",
      "Collecting click-config-file>=0.6\n",
      "  Downloading click_config_file-0.6.0-py2.py3-none-any.whl (6.0 kB)\n",
      "Requirement already satisfied: python-dateutil>=2.8 in c:\\users\\student\\anaconda3\\lib\\site-packages (from twarc) (2.8.2)\n",
      "Requirement already satisfied: click<9,>=7 in c:\\users\\student\\anaconda3\\lib\\site-packages (from twarc) (8.0.4)\n",
      "Collecting click-plugins>=1\n",
      "  Downloading click_plugins-1.1.1-py2.py3-none-any.whl (7.5 kB)\n",
      "Requirement already satisfied: colorama in c:\\users\\student\\anaconda3\\lib\\site-packages (from click<9,>=7->twarc) (0.4.5)\n",
      "Collecting configobj>=5.0.6\n",
      "  Downloading configobj-5.0.8-py2.py3-none-any.whl (36 kB)\n",
      "Requirement already satisfied: six>=1.5 in c:\\users\\student\\anaconda3\\lib\\site-packages (from python-dateutil>=2.8->twarc) (1.16.0)\n",
      "Requirement already satisfied: requests>=2.0.0 in c:\\users\\student\\anaconda3\\lib\\site-packages (from requests-oauthlib>=1.3->twarc) (2.28.1)\n",
      "Collecting oauthlib>=3.0.0\n",
      "  Downloading oauthlib-3.2.2-py3-none-any.whl (151 kB)\n",
      "     -------------------------------------- 151.7/151.7 kB 8.8 MB/s eta 0:00:00\n",
      "Requirement already satisfied: idna<4,>=2.5 in c:\\users\\student\\anaconda3\\lib\\site-packages (from requests>=2.0.0->requests-oauthlib>=1.3->twarc) (3.3)\n",
      "Requirement already satisfied: urllib3<1.27,>=1.21.1 in c:\\users\\student\\anaconda3\\lib\\site-packages (from requests>=2.0.0->requests-oauthlib>=1.3->twarc) (1.26.11)\n",
      "Requirement already satisfied: certifi>=2017.4.17 in c:\\users\\student\\anaconda3\\lib\\site-packages (from requests>=2.0.0->requests-oauthlib>=1.3->twarc) (2022.9.14)\n",
      "Requirement already satisfied: charset-normalizer<3,>=2 in c:\\users\\student\\anaconda3\\lib\\site-packages (from requests>=2.0.0->requests-oauthlib>=1.3->twarc) (2.0.4)\n",
      "Installing collected packages: oauthlib, humanize, configobj, requests-oauthlib, click-plugins, click-config-file, twarc\n",
      "Successfully installed click-config-file-0.6.0 click-plugins-1.1.1 configobj-5.0.8 humanize-4.6.0 oauthlib-3.2.2 requests-oauthlib-1.3.1 twarc-2.13.0\n"
     ]
    }
   ],
   "source": [
    "!pip install twarc"
   ]
  },
  {
   "cell_type": "code",
   "execution_count": 4,
   "id": "16ab70fd",
   "metadata": {},
   "outputs": [
    {
     "name": "stdout",
     "output_type": "stream",
     "text": [
      "Collecting pymongo\n",
      "  Downloading pymongo-4.3.3-cp39-cp39-win_amd64.whl (382 kB)\n",
      "     ------------------------------------- 382.5/382.5 kB 12.0 MB/s eta 0:00:00\n",
      "Collecting dnspython<3.0.0,>=1.16.0\n",
      "  Downloading dnspython-2.3.0-py3-none-any.whl (283 kB)\n",
      "     ------------------------------------- 283.7/283.7 kB 18.2 MB/s eta 0:00:00\n",
      "Installing collected packages: dnspython, pymongo\n",
      "Successfully installed dnspython-2.3.0 pymongo-4.3.3\n"
     ]
    }
   ],
   "source": [
    "!pip install pymongo"
   ]
  },
  {
   "cell_type": "code",
   "execution_count": 7,
   "id": "9d4acdce",
   "metadata": {},
   "outputs": [
    {
     "name": "stdout",
     "output_type": "stream",
     "text": [
      "2023-02-28T14:57:36.000Z\n"
     ]
    },
    {
     "ename": "TypeError",
     "evalue": "'Collection' object is not callable. If you meant to call the 'insert' method on a 'Collection' object it is failing because no such method exists.",
     "output_type": "error",
     "traceback": [
      "\u001b[1;31m---------------------------------------------------------------------------\u001b[0m",
      "\u001b[1;31mTypeError\u001b[0m                                 Traceback (most recent call last)",
      "\u001b[1;32m~\\AppData\\Local\\Temp\\ipykernel_35816\\1722985192.py\u001b[0m in \u001b[0;36m<module>\u001b[1;34m\u001b[0m\n\u001b[0;32m     66\u001b[0m \u001b[1;33m\u001b[0m\u001b[0m\n\u001b[0;32m     67\u001b[0m \u001b[1;32mif\u001b[0m \u001b[0m__name__\u001b[0m \u001b[1;33m==\u001b[0m \u001b[1;34m\"__main__\"\u001b[0m\u001b[1;33m:\u001b[0m\u001b[1;33m\u001b[0m\u001b[1;33m\u001b[0m\u001b[0m\n\u001b[1;32m---> 68\u001b[1;33m     \u001b[0mmain\u001b[0m\u001b[1;33m(\u001b[0m\u001b[1;33m)\u001b[0m\u001b[1;33m\u001b[0m\u001b[1;33m\u001b[0m\u001b[0m\n\u001b[0m",
      "\u001b[1;32m~\\AppData\\Local\\Temp\\ipykernel_35816\\1722985192.py\u001b[0m in \u001b[0;36mmain\u001b[1;34m()\u001b[0m\n\u001b[0;32m     55\u001b[0m         \u001b[1;31m#insert tweets into climate_change collection\u001b[0m\u001b[1;33m\u001b[0m\u001b[1;33m\u001b[0m\u001b[0m\n\u001b[0;32m     56\u001b[0m         \u001b[1;31m#if climate_change doesn't exist, it will be created.\u001b[0m\u001b[1;33m\u001b[0m\u001b[1;33m\u001b[0m\u001b[0m\n\u001b[1;32m---> 57\u001b[1;33m         \u001b[0mdb\u001b[0m\u001b[1;33m.\u001b[0m\u001b[0mclimate_change\u001b[0m\u001b[1;33m.\u001b[0m\u001b[0minsert\u001b[0m\u001b[1;33m(\u001b[0m\u001b[0mtweet2\u001b[0m\u001b[1;33m)\u001b[0m\u001b[1;33m\u001b[0m\u001b[1;33m\u001b[0m\u001b[0m\n\u001b[0m\u001b[0;32m     58\u001b[0m \u001b[1;33m\u001b[0m\u001b[0m\n\u001b[0;32m     59\u001b[0m         \u001b[1;31m# Replace with the desired number of Tweets\u001b[0m\u001b[1;33m\u001b[0m\u001b[1;33m\u001b[0m\u001b[0m\n",
      "\u001b[1;32m~\\anaconda3\\lib\\site-packages\\pymongo\\collection.py\u001b[0m in \u001b[0;36m__call__\u001b[1;34m(self, *args, **kwargs)\u001b[0m\n\u001b[0;32m   3211\u001b[0m                 \u001b[1;34m\"exists.\"\u001b[0m \u001b[1;33m%\u001b[0m \u001b[0mself\u001b[0m\u001b[1;33m.\u001b[0m\u001b[0m__name\u001b[0m\u001b[1;33m\u001b[0m\u001b[1;33m\u001b[0m\u001b[0m\n\u001b[0;32m   3212\u001b[0m             )\n\u001b[1;32m-> 3213\u001b[1;33m         raise TypeError(\n\u001b[0m\u001b[0;32m   3214\u001b[0m             \u001b[1;34m\"'Collection' object is not callable. If you meant to \"\u001b[0m\u001b[1;33m\u001b[0m\u001b[1;33m\u001b[0m\u001b[0m\n\u001b[0;32m   3215\u001b[0m             \u001b[1;34m\"call the '%s' method on a 'Collection' object it is \"\u001b[0m\u001b[1;33m\u001b[0m\u001b[1;33m\u001b[0m\u001b[0m\n",
      "\u001b[1;31mTypeError\u001b[0m: 'Collection' object is not callable. If you meant to call the 'insert' method on a 'Collection' object it is failing because no such method exists."
     ]
    }
   ],
   "source": [
    "from twarc import Twarc2, expansions\n",
    "from __future__ import print_function\n",
    "import json\n",
    "from pymongo import MongoClient\n",
    "import time\n",
    "import os\n",
    "import sys\n",
    "\n",
    "# Replace your bearer token below\n",
    "client = Twarc2(bearer_token=\"AAAAAAAAAAAAAAAAAAAAAMPMVgEAAAAARPMOg23iiV6iFggcUrCpP6iAfXc%3Dtc9b3IXwH2BPO2edlfomaCaYPJE88udPvAkI49RkqWHVysT1r9\")\n",
    "\n",
    "# connect to local mongodb\n",
    "# assuming you have mongoDB installed locally, and you want to input tweets onto a databse called tweetsDB_v2\n",
    "MONGO_HOST= 'mongodb://localhost:27017/solar_tweetsDB_v2'  \n",
    "mongo_client = MongoClient(MONGO_HOST)\n",
    "\n",
    "def main():\n",
    "    # Remove existing rules\n",
    "    existing_rules = client.get_stream_rules()\n",
    "    if 'data' in existing_rules and len(existing_rules['data']) > 0:\n",
    "        rule_ids = [rule['id'] for rule in existing_rules['data']]\n",
    "        client.delete_stream_rule_ids(rule_ids)\n",
    "\n",
    "    # Add new rules (keywords you want to conduct search)\n",
    "    # Replace the rules below with the ones that you want to add as discussed in module 5\n",
    "    new_rules = [\n",
    "        {\"value\": \"#solarenergy OR #solarpanels lang:en\"}, #tweets that includes either hashtags and in English\n",
    "        {\"value\": \"solar energy OR solar panels OR renewable energy\"}   # tweets that include climate change\n",
    "    ]\n",
    "   \n",
    "    added_rules = client.add_stream_rules(rules=new_rules)\n",
    "    \n",
    "    # Connect to the filtered stream\n",
    "    for count, result in enumerate(client.stream()):\n",
    "        # The Twitter API v2 returns the Tweet information and the user, media etc.  separately\n",
    "        # so we use expansions.flatten to get all the information in a single JSON\n",
    "        tweet = expansions.flatten(result)\n",
    "        \n",
    "        # extrac full twitter object to the console\n",
    "        \n",
    "        tweet1=json.dumps(tweet)\n",
    "        \n",
    "        # covert string to json object\n",
    "        \n",
    "        tweet2=json.loads(tweet1)        \n",
    "        \n",
    "        # print the time the tweet is created on console\n",
    "        \n",
    "        print(tweet2[0]['created_at'])\n",
    "        \n",
    "                         \n",
    "        # Use tweetsDB_v2 database. If it doesn't exist, it will be created.\n",
    "        db = mongo_client.solar_tweetsDB_v2\n",
    "        \n",
    "        #insert tweets into climate_change collection\n",
    "        #if climate_change doesn't exist, it will be created.\n",
    "        db.climate_change.insert(tweet2)\n",
    "                \n",
    "        # Replace with the desired number of Tweets\n",
    "        if count > 1000000:\n",
    "            time.sleep(60)\n",
    "\n",
    "    # Delete the rules once you have collected the desired number of Tweets\n",
    "    rule_ids = [rule['id'] for rule in added_rules['data']]\n",
    "    client.delete_stream_rule_ids(rule_ids)\n",
    "\n",
    "if __name__ == \"__main__\":\n",
    "    main()"
   ]
  },
  {
   "cell_type": "code",
   "execution_count": null,
   "id": "80060fca",
   "metadata": {},
   "outputs": [],
   "source": []
  }
 ],
 "metadata": {
  "kernelspec": {
   "display_name": "Python 3 (ipykernel)",
   "language": "python",
   "name": "python3"
  },
  "language_info": {
   "codemirror_mode": {
    "name": "ipython",
    "version": 3
   },
   "file_extension": ".py",
   "mimetype": "text/x-python",
   "name": "python",
   "nbconvert_exporter": "python",
   "pygments_lexer": "ipython3",
   "version": "3.9.13"
  }
 },
 "nbformat": 4,
 "nbformat_minor": 5
}
